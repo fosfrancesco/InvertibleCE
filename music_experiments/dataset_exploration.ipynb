{
 "cells": [
  {
   "cell_type": "code",
   "execution_count": 2,
   "metadata": {},
   "outputs": [],
   "source": [
    "from pathlib import Path\n",
    "import numpy as np\n",
    "\n",
    "import sys\n",
    "sys.path.append(\"..\")\n",
    "import ICE.utils\n",
    "\n",
    "sys.path.append(\"/share/home/francesco/concept_composers/DeepComposerClassification/\")\n",
    "sys.path.append(\"/share/home/francesco/concept_composers/\")\n",
    "\n",
    "utils = ICE.utils.img_utils()"
   ]
  },
  {
   "cell_type": "code",
   "execution_count": 7,
   "metadata": {},
   "outputs": [
    {
     "name": "stdout",
     "output_type": "stream",
     "text": [
      "midi18\n",
      "midi20\n",
      "midi27\n",
      "midi29\n"
     ]
    }
   ],
   "source": [
    "mozart_path = Path(\"/share/cp/projects/concept_composers/experiments/kim2020/npy/composer12\")\n",
    "\n",
    "for folder in mozart_path.iterdir():\n",
    "    if len(list(folder.iterdir())) != 1:\n",
    "        print(folder.name)"
   ]
  },
  {
   "cell_type": "code",
   "execution_count": 20,
   "metadata": {},
   "outputs": [],
   "source": [
    "for folder in mozart_path.iterdir():\n",
    "    for piece in folder.iterdir():\n",
    "        out_path = Path(\"/share/home/francesco/InvertibleCE/music_experiments/dataset_check\",folder.name + piece.name + \".mid\")\n",
    "        pr = np.transpose(np.load(piece), (0, 2, 1))\n",
    "        utils.pianoroll2midi(pr, out_path, samples_per_second=20)\n"
   ]
  },
  {
   "cell_type": "code",
   "execution_count": null,
   "metadata": {},
   "outputs": [],
   "source": []
  },
  {
   "cell_type": "markdown",
   "metadata": {},
   "source": [
    "# Try with different fs"
   ]
  },
  {
   "cell_type": "code",
   "execution_count": 2,
   "metadata": {},
   "outputs": [],
   "source": [
    "from data_handling.io import open_midi\n",
    "from DeepComposerClassification.generator import Generator"
   ]
  },
  {
   "cell_type": "code",
   "execution_count": 3,
   "metadata": {},
   "outputs": [],
   "source": [
    "generator = Generator()\n",
    "\n",
    "def midi2pianoroll(midi_path, out_npy_path, frame_length):\n",
    "    x = open_midi(str(midi_path))\n",
    "    x = generator.generate_segment(x, frame_length = frame_length)\n",
    "    x = np.array(x)\n",
    "    np.save(str(out_npy_path), x)"
   ]
  },
  {
   "cell_type": "code",
   "execution_count": 57,
   "metadata": {},
   "outputs": [
    {
     "name": "stdout",
     "output_type": "stream",
     "text": [
      "generating... dur: 230.00sec || len: 4600\n",
      "Shape (2, 4600, 128)\n",
      "1\n",
      "104\n"
     ]
    }
   ],
   "source": [
    "midi_path = Path(\"/share/cp/projects/concept_composers/maestro-v2.0.0/2015/MIDI-Unprocessed_R1_D1-1-8_mid--AUDIO-from_mp3_01_R1_2015_wav--3.midi\")\n",
    "npy_path = Path(\"/share/home/francesco/InvertibleCE/music_experiments/dataset_check/pianoroll_ex.npy\")\n",
    "recreated_midi_path = (\"/share/home/francesco/InvertibleCE/music_experiments/dataset_check/new_midi.mid\")\n",
    "\n",
    "midi2pianoroll(midi_path,npy_path, frame_length = 0.05)"
   ]
  },
  {
   "cell_type": "code",
   "execution_count": 8,
   "metadata": {},
   "outputs": [],
   "source": [
    "pr = np.transpose(np.load(npy_path), (0, 2, 1))\n",
    "utils.pianoroll2midi(pr, str(recreated_midi_path), samples_per_second=int(1/0.001))"
   ]
  },
  {
   "cell_type": "code",
   "execution_count": null,
   "metadata": {},
   "outputs": [],
   "source": []
  },
  {
   "cell_type": "markdown",
   "metadata": {},
   "source": [
    "# Try only with partitura"
   ]
  },
  {
   "cell_type": "code",
   "execution_count": 3,
   "metadata": {},
   "outputs": [],
   "source": [
    "import partitura\n",
    "from data_handling.io import pianoroll2midi, midi_to_3dpianoroll\n",
    "midi_path = Path(\"/share/cp/projects/concept_composers/maestro-v2.0.0/2015/MIDI-Unprocessed_R1_D1-1-8_mid--AUDIO-from_mp3_01_R1_2015_wav--3.midi\")\n",
    "npy_path = Path(\"/share/home/francesco/InvertibleCE/music_experiments/dataset_check/pianoroll_ex.npy\")\n",
    "recreated_midi_path = (\"/share/home/francesco/InvertibleCE/music_experiments/dataset_check/new_midi.mid\")"
   ]
  },
  {
   "cell_type": "code",
   "execution_count": 4,
   "metadata": {},
   "outputs": [],
   "source": [
    "def midi_to_3dpianoroll(midi_path, out_npy_path, frame_length, piano_range):\n",
    "    part = partitura.load_performance_midi(midi_path)\n",
    "    matrix1 = partitura.utils.compute_pianoroll(part,time_unit = \"sec\", time_div= int(1/frame_length), onset_only=True, piano_range=piano_range).toarray()\n",
    "    matrix1[matrix1>0] = 1\n",
    "    matrix2 = partitura.utils.compute_pianoroll(part,time_unit = \"sec\", time_div= int(1/frame_length), onset_only=False, piano_range=piano_range).toarray()\n",
    "    pr3d = np.stack([matrix1,matrix2])\n",
    "    pr3d = np.transpose(pr3d, (0,2,1))\n",
    "    np.save(str(out_npy_path), pr3d)"
   ]
  },
  {
   "cell_type": "code",
   "execution_count": 6,
   "metadata": {},
   "outputs": [
    {
     "name": "stdout",
     "output_type": "stream",
     "text": [
      "(2, 88, 4554)\n"
     ]
    }
   ],
   "source": [
    "midi_to_3dpianoroll(midi_path,npy_path, frame_length = 0.05, piano_range = True)\n",
    "pr = np.transpose(np.load(npy_path), (0, 2, 1))\n",
    "print(pr.shape)\n",
    "pianoroll2midi(pr, str(recreated_midi_path), samples_per_second=int(1/0.05))"
   ]
  },
  {
   "cell_type": "code",
   "execution_count": null,
   "metadata": {},
   "outputs": [],
   "source": []
  },
  {
   "cell_type": "code",
   "execution_count": null,
   "metadata": {},
   "outputs": [],
   "source": []
  }
 ],
 "metadata": {
  "interpreter": {
   "hash": "a6399b87897672fea007d6d880364d27da96d42c7d74b7f0db8e2dac1a8c0be2"
  },
  "kernelspec": {
   "display_name": "Python 3.9.7 ('mir_research')",
   "language": "python",
   "name": "python3"
  },
  "language_info": {
   "codemirror_mode": {
    "name": "ipython",
    "version": 3
   },
   "file_extension": ".py",
   "mimetype": "text/x-python",
   "name": "python",
   "nbconvert_exporter": "python",
   "pygments_lexer": "ipython3",
   "version": "3.9.7"
  },
  "orig_nbformat": 4
 },
 "nbformat": 4,
 "nbformat_minor": 2
}
