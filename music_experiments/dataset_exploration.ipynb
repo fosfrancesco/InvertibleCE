{
 "cells": [
  {
   "cell_type": "code",
   "execution_count": null,
   "metadata": {},
   "outputs": [],
   "source": [
    "from pathlib import Path\n",
    "import numpy as np\n",
    "\n",
    "import sys\n",
    "sys.path.append(\"..\")\n",
    "import ICE.utils\n",
    "\n",
    "sys.path.append(\"/share/home/francesco/concept_composers/DeepComposerClassification/\")\n",
    "sys.path.append(\"/share/home/francesco/concept_composers/\")\n",
    "\n",
    "utils = ICE.utils.img_utils()"
   ]
  },
  {
   "cell_type": "code",
   "execution_count": null,
   "metadata": {},
   "outputs": [],
   "source": [
    "mozart_path = Path(\"/share/cp/projects/concept_composers/experiments/kim2020/npy/composer12\")\n",
    "\n",
    "for folder in mozart_path.iterdir():\n",
    "    if len(list(folder.iterdir())) != 1:\n",
    "        print(folder.name)"
   ]
  },
  {
   "cell_type": "code",
   "execution_count": null,
   "metadata": {},
   "outputs": [],
   "source": [
    "for folder in mozart_path.iterdir():\n",
    "    for piece in folder.iterdir():\n",
    "        out_path = Path(\"/share/home/francesco/InvertibleCE/music_experiments/dataset_check\",folder.name + piece.name + \".mid\")\n",
    "        pr = np.transpose(np.load(piece), (0, 2, 1))\n",
    "        utils.pianoroll2midi(pr, out_path, samples_per_second=20)\n"
   ]
  },
  {
   "cell_type": "code",
   "execution_count": null,
   "metadata": {},
   "outputs": [],
   "source": []
  },
  {
   "cell_type": "markdown",
   "metadata": {},
   "source": [
    "# Try with different fs"
   ]
  },
  {
   "cell_type": "code",
   "execution_count": null,
   "metadata": {},
   "outputs": [],
   "source": [
    "from data_handling.io import midi_to_3dpianoroll\n",
    "from DeepComposerClassification.generator import Generator"
   ]
  },
  {
   "cell_type": "code",
   "execution_count": null,
   "metadata": {},
   "outputs": [],
   "source": [
    "generator = Generator()\n",
    "\n",
    "def midi2pianoroll(midi_path, out_npy_path, frame_length):\n",
    "    x = open_midi(str(midi_path))\n",
    "    x = generator.generate_segment(x, frame_length = frame_length)\n",
    "    x = np.array(x)\n",
    "    np.save(str(out_npy_path), x)"
   ]
  },
  {
   "cell_type": "code",
   "execution_count": null,
   "metadata": {},
   "outputs": [],
   "source": [
    "midi_path = Path(\"/share/cp/projects/concept_composers/maestro-v2.0.0/2015/MIDI-Unprocessed_R1_D1-1-8_mid--AUDIO-from_mp3_01_R1_2015_wav--3.midi\")\n",
    "npy_path = Path(\"/share/home/francesco/InvertibleCE/music_experiments/dataset_check/pianoroll_ex.npy\")\n",
    "recreated_midi_path = (\"/share/home/francesco/InvertibleCE/music_experiments/dataset_check/new_midi.mid\")\n",
    "\n",
    "midi2pianoroll(midi_path,npy_path, frame_length = 0.05)"
   ]
  },
  {
   "cell_type": "code",
   "execution_count": null,
   "metadata": {},
   "outputs": [],
   "source": [
    "pr = np.transpose(np.load(npy_path), (0, 2, 1))\n",
    "utils.pianoroll2midi(pr, str(recreated_midi_path), samples_per_second=int(1/0.001))"
   ]
  },
  {
   "cell_type": "code",
   "execution_count": null,
   "metadata": {},
   "outputs": [],
   "source": []
  },
  {
   "cell_type": "markdown",
   "metadata": {},
   "source": [
    "# Try only with partitura"
   ]
  },
  {
   "cell_type": "code",
   "execution_count": null,
   "metadata": {},
   "outputs": [],
   "source": [
    "import partitura\n",
    "from data_handling.io import pianoroll2midi, midi_to_3dpianoroll\n",
    "midi_path = Path(\"/share/cp/projects/concept_composers/maestro-v2.0.0/2015/MIDI-Unprocessed_R1_D1-1-8_mid--AUDIO-from_mp3_03_R1_2015_wav--4.midi\")\n",
    "npy_path = Path(\"/share/home/francesco/InvertibleCE/music_experiments/dataset_check/pianoroll_ex.npy\")\n",
    "recreated_midi_path = (\"/share/home/francesco/InvertibleCE/music_experiments/dataset_check/new_midi.mid\")"
   ]
  },
  {
   "cell_type": "code",
   "execution_count": null,
   "metadata": {},
   "outputs": [],
   "source": []
  },
  {
   "cell_type": "code",
   "execution_count": null,
   "metadata": {},
   "outputs": [],
   "source": [
    "# def midi_to_3dpianoroll(midi_path, out_npy_path, frame_length, piano_range):\n",
    "#     part = partitura.load_performance_midi(midi_path)\n",
    "#     matrix1 = partitura.utils.compute_pianoroll(part,time_unit = \"sec\", time_div= int(1/frame_length), onset_only=True, piano_range=piano_range).toarray()\n",
    "#     matrix1[matrix1>0] = 1\n",
    "#     matrix2 = partitura.utils.compute_pianoroll(part,time_unit = \"sec\", time_div= int(1/frame_length), onset_only=False, piano_range=piano_range).toarray()\n",
    "#     pr3d = np.stack([matrix1,matrix2])\n",
    "#     pr3d = np.transpose(pr3d, (0,2,1))\n",
    "#     np.save(str(out_npy_path), pr3d)"
   ]
  },
  {
   "cell_type": "code",
   "execution_count": null,
   "metadata": {},
   "outputs": [],
   "source": [
    "midi_to_3dpianoroll(midi_path,npy_path, frame_length = 0.05, piano_range = True)\n",
    "pr = np.transpose(np.load(npy_path), (0, 2, 1))\n",
    "print(pr.shape)\n",
    "pianoroll2midi(pr, str(recreated_midi_path), samples_per_second=int(1/0.05))"
   ]
  },
  {
   "cell_type": "code",
   "execution_count": null,
   "metadata": {},
   "outputs": [],
   "source": []
  },
  {
   "cell_type": "code",
   "execution_count": null,
   "metadata": {},
   "outputs": [],
   "source": []
  },
  {
   "cell_type": "markdown",
   "metadata": {},
   "source": [
    "# Checking liszt not imported"
   ]
  },
  {
   "cell_type": "code",
   "execution_count": 1,
   "metadata": {},
   "outputs": [],
   "source": [
    "import partitura"
   ]
  },
  {
   "cell_type": "code",
   "execution_count": 2,
   "metadata": {},
   "outputs": [],
   "source": [
    "mid = partitura.load_performance_midi(\"/share/cp/projects/concept_composers/maestro-v2.0.0/2008/MIDI-Unprocessed_03_R2_2008_01-03_ORIG_MID--AUDIO_03_R2_2008_wav--3.midi\")\n",
    "# mid = partitura.load_performance_midi(\"/share/cp/projects/concept_composers/ConceptDataset/midi/alberti_bass/track17.mid\")"
   ]
  },
  {
   "cell_type": "code",
   "execution_count": 3,
   "metadata": {},
   "outputs": [
    {
     "ename": "ValueError",
     "evalue": "column index exceeds matrix dimensions",
     "output_type": "error",
     "traceback": [
      "\u001b[0;31m---------------------------------------------------------------------------\u001b[0m",
      "\u001b[0;31mValueError\u001b[0m                                Traceback (most recent call last)",
      "\u001b[0;32m/mnt/data/tmp/francesco/ipykernel_15966/2704650662.py\u001b[0m in \u001b[0;36m<module>\u001b[0;34m\u001b[0m\n\u001b[1;32m      1\u001b[0m \u001b[0mmid\u001b[0m\u001b[0;34m.\u001b[0m\u001b[0msustain_pedal_threshold\u001b[0m \u001b[0;34m=\u001b[0m \u001b[0;36m127\u001b[0m \u001b[0;31m# don't take pedal into consideration\u001b[0m\u001b[0;34m\u001b[0m\u001b[0;34m\u001b[0m\u001b[0m\n\u001b[0;32m----> 2\u001b[0;31m partitura.utils.compute_pianoroll(\n\u001b[0m\u001b[1;32m      3\u001b[0m     \u001b[0mmid\u001b[0m\u001b[0;34m,\u001b[0m\u001b[0;34m\u001b[0m\u001b[0;34m\u001b[0m\u001b[0m\n\u001b[1;32m      4\u001b[0m     onset_only = True)\n\u001b[1;32m      5\u001b[0m \u001b[0;31m# matrix1[matrix1 > 0] = 1  # we don't want velocity here\u001b[0m\u001b[0;34m\u001b[0m\u001b[0;34m\u001b[0m\u001b[0m\n",
      "\u001b[0;32m/share/home/francesco/miniconda3/envs/mir_research/lib/python3.9/site-packages/partitura/utils/music.py\u001b[0m in \u001b[0;36mcompute_pianoroll\u001b[0;34m(note_info, time_unit, time_div, onset_only, note_separation, pitch_margin, time_margin, return_idxs, piano_range, remove_drums, remove_silence)\u001b[0m\n\u001b[1;32m    949\u001b[0m     )\n\u001b[1;32m    950\u001b[0m \u001b[0;34m\u001b[0m\u001b[0m\n\u001b[0;32m--> 951\u001b[0;31m     return _make_pianoroll(\n\u001b[0m\u001b[1;32m    952\u001b[0m         \u001b[0mnote_info\u001b[0m\u001b[0;34m=\u001b[0m\u001b[0mpr_input\u001b[0m\u001b[0;34m,\u001b[0m\u001b[0;34m\u001b[0m\u001b[0;34m\u001b[0m\u001b[0m\n\u001b[1;32m    953\u001b[0m         \u001b[0mtime_div\u001b[0m\u001b[0;34m=\u001b[0m\u001b[0mtime_div\u001b[0m\u001b[0;34m,\u001b[0m\u001b[0;34m\u001b[0m\u001b[0;34m\u001b[0m\u001b[0m\n",
      "\u001b[0;32m/share/home/francesco/miniconda3/envs/mir_research/lib/python3.9/site-packages/partitura/utils/music.py\u001b[0m in \u001b[0;36m_make_pianoroll\u001b[0;34m(note_info, onset_only, pitch_margin, time_margin, time_div, note_separation, return_idxs, piano_range, remove_silence, min_time)\u001b[0m\n\u001b[1;32m   1073\u001b[0m \u001b[0;34m\u001b[0m\u001b[0m\n\u001b[1;32m   1074\u001b[0m     \u001b[0;31m# Fill piano roll\u001b[0m\u001b[0;34m\u001b[0m\u001b[0;34m\u001b[0m\u001b[0m\n\u001b[0;32m-> 1075\u001b[0;31m     pianoroll = csc_matrix(\n\u001b[0m\u001b[1;32m   1076\u001b[0m         \u001b[0;34m(\u001b[0m\u001b[0midx_fill\u001b[0m\u001b[0;34m[\u001b[0m\u001b[0;34m:\u001b[0m\u001b[0;34m,\u001b[0m \u001b[0;36m2\u001b[0m\u001b[0;34m]\u001b[0m\u001b[0;34m,\u001b[0m \u001b[0;34m(\u001b[0m\u001b[0midx_fill\u001b[0m\u001b[0;34m[\u001b[0m\u001b[0;34m:\u001b[0m\u001b[0;34m,\u001b[0m \u001b[0;36m0\u001b[0m\u001b[0;34m]\u001b[0m\u001b[0;34m,\u001b[0m \u001b[0midx_fill\u001b[0m\u001b[0;34m[\u001b[0m\u001b[0;34m:\u001b[0m\u001b[0;34m,\u001b[0m \u001b[0;36m1\u001b[0m\u001b[0;34m]\u001b[0m\u001b[0;34m)\u001b[0m\u001b[0;34m)\u001b[0m\u001b[0;34m,\u001b[0m \u001b[0mshape\u001b[0m\u001b[0;34m=\u001b[0m\u001b[0;34m(\u001b[0m\u001b[0mM\u001b[0m\u001b[0;34m,\u001b[0m \u001b[0mN\u001b[0m\u001b[0;34m)\u001b[0m\u001b[0;34m,\u001b[0m \u001b[0mdtype\u001b[0m\u001b[0;34m=\u001b[0m\u001b[0mint\u001b[0m\u001b[0;34m\u001b[0m\u001b[0;34m\u001b[0m\u001b[0m\n\u001b[1;32m   1077\u001b[0m     )\n",
      "\u001b[0;32m/share/home/francesco/miniconda3/envs/mir_research/lib/python3.9/site-packages/scipy/sparse/compressed.py\u001b[0m in \u001b[0;36m__init__\u001b[0;34m(self, arg1, shape, dtype, copy)\u001b[0m\n\u001b[1;32m     52\u001b[0m                     \u001b[0;31m# (data, ij) format\u001b[0m\u001b[0;34m\u001b[0m\u001b[0;34m\u001b[0m\u001b[0m\n\u001b[1;32m     53\u001b[0m                     \u001b[0;32mfrom\u001b[0m \u001b[0;34m.\u001b[0m\u001b[0mcoo\u001b[0m \u001b[0;32mimport\u001b[0m \u001b[0mcoo_matrix\u001b[0m\u001b[0;34m\u001b[0m\u001b[0;34m\u001b[0m\u001b[0m\n\u001b[0;32m---> 54\u001b[0;31m                     other = self.__class__(coo_matrix(arg1, shape=shape,\n\u001b[0m\u001b[1;32m     55\u001b[0m                                                       dtype=dtype))\n\u001b[1;32m     56\u001b[0m                     \u001b[0mself\u001b[0m\u001b[0;34m.\u001b[0m\u001b[0m_set_self\u001b[0m\u001b[0;34m(\u001b[0m\u001b[0mother\u001b[0m\u001b[0;34m)\u001b[0m\u001b[0;34m\u001b[0m\u001b[0;34m\u001b[0m\u001b[0m\n",
      "\u001b[0;32m/share/home/francesco/miniconda3/envs/mir_research/lib/python3.9/site-packages/scipy/sparse/coo.py\u001b[0m in \u001b[0;36m__init__\u001b[0;34m(self, arg1, shape, dtype, copy)\u001b[0m\n\u001b[1;32m    194\u001b[0m             \u001b[0mself\u001b[0m\u001b[0;34m.\u001b[0m\u001b[0mdata\u001b[0m \u001b[0;34m=\u001b[0m \u001b[0mself\u001b[0m\u001b[0;34m.\u001b[0m\u001b[0mdata\u001b[0m\u001b[0;34m.\u001b[0m\u001b[0mastype\u001b[0m\u001b[0;34m(\u001b[0m\u001b[0mdtype\u001b[0m\u001b[0;34m,\u001b[0m \u001b[0mcopy\u001b[0m\u001b[0;34m=\u001b[0m\u001b[0;32mFalse\u001b[0m\u001b[0;34m)\u001b[0m\u001b[0;34m\u001b[0m\u001b[0;34m\u001b[0m\u001b[0m\n\u001b[1;32m    195\u001b[0m \u001b[0;34m\u001b[0m\u001b[0m\n\u001b[0;32m--> 196\u001b[0;31m         \u001b[0mself\u001b[0m\u001b[0;34m.\u001b[0m\u001b[0m_check\u001b[0m\u001b[0;34m(\u001b[0m\u001b[0;34m)\u001b[0m\u001b[0;34m\u001b[0m\u001b[0;34m\u001b[0m\u001b[0m\n\u001b[0m\u001b[1;32m    197\u001b[0m \u001b[0;34m\u001b[0m\u001b[0m\n\u001b[1;32m    198\u001b[0m     \u001b[0;32mdef\u001b[0m \u001b[0mreshape\u001b[0m\u001b[0;34m(\u001b[0m\u001b[0mself\u001b[0m\u001b[0;34m,\u001b[0m \u001b[0;34m*\u001b[0m\u001b[0margs\u001b[0m\u001b[0;34m,\u001b[0m \u001b[0;34m**\u001b[0m\u001b[0mkwargs\u001b[0m\u001b[0;34m)\u001b[0m\u001b[0;34m:\u001b[0m\u001b[0;34m\u001b[0m\u001b[0;34m\u001b[0m\u001b[0m\n",
      "\u001b[0;32m/share/home/francesco/miniconda3/envs/mir_research/lib/python3.9/site-packages/scipy/sparse/coo.py\u001b[0m in \u001b[0;36m_check\u001b[0;34m(self)\u001b[0m\n\u001b[1;32m    283\u001b[0m                 \u001b[0;32mraise\u001b[0m \u001b[0mValueError\u001b[0m\u001b[0;34m(\u001b[0m\u001b[0;34m'row index exceeds matrix dimensions'\u001b[0m\u001b[0;34m)\u001b[0m\u001b[0;34m\u001b[0m\u001b[0;34m\u001b[0m\u001b[0m\n\u001b[1;32m    284\u001b[0m             \u001b[0;32mif\u001b[0m \u001b[0mself\u001b[0m\u001b[0;34m.\u001b[0m\u001b[0mcol\u001b[0m\u001b[0;34m.\u001b[0m\u001b[0mmax\u001b[0m\u001b[0;34m(\u001b[0m\u001b[0;34m)\u001b[0m \u001b[0;34m>=\u001b[0m \u001b[0mself\u001b[0m\u001b[0;34m.\u001b[0m\u001b[0mshape\u001b[0m\u001b[0;34m[\u001b[0m\u001b[0;36m1\u001b[0m\u001b[0;34m]\u001b[0m\u001b[0;34m:\u001b[0m\u001b[0;34m\u001b[0m\u001b[0;34m\u001b[0m\u001b[0m\n\u001b[0;32m--> 285\u001b[0;31m                 \u001b[0;32mraise\u001b[0m \u001b[0mValueError\u001b[0m\u001b[0;34m(\u001b[0m\u001b[0;34m'column index exceeds matrix dimensions'\u001b[0m\u001b[0;34m)\u001b[0m\u001b[0;34m\u001b[0m\u001b[0;34m\u001b[0m\u001b[0m\n\u001b[0m\u001b[1;32m    286\u001b[0m             \u001b[0;32mif\u001b[0m \u001b[0mself\u001b[0m\u001b[0;34m.\u001b[0m\u001b[0mrow\u001b[0m\u001b[0;34m.\u001b[0m\u001b[0mmin\u001b[0m\u001b[0;34m(\u001b[0m\u001b[0;34m)\u001b[0m \u001b[0;34m<\u001b[0m \u001b[0;36m0\u001b[0m\u001b[0;34m:\u001b[0m\u001b[0;34m\u001b[0m\u001b[0;34m\u001b[0m\u001b[0m\n\u001b[1;32m    287\u001b[0m                 \u001b[0;32mraise\u001b[0m \u001b[0mValueError\u001b[0m\u001b[0;34m(\u001b[0m\u001b[0;34m'negative row index found'\u001b[0m\u001b[0;34m)\u001b[0m\u001b[0;34m\u001b[0m\u001b[0;34m\u001b[0m\u001b[0m\n",
      "\u001b[0;31mValueError\u001b[0m: column index exceeds matrix dimensions"
     ]
    }
   ],
   "source": [
    "mid.sustain_pedal_threshold = 127 # don't take pedal into consideration\n",
    "partitura.utils.compute_pianoroll(\n",
    "    mid,\n",
    "    onset_only = True)\n",
    "# matrix1[matrix1 > 0] = 1  # we don't want velocity here\n",
    "# matrix2 = partitura.utils.compute_pianoroll(\n",
    "#     mid,\n",
    "#     time_unit=\"sec\",\n",
    "#     time_div=int(1 / frame_length),\n",
    "#     onset_only=False,\n",
    "#     piano_range=piano_range,\n",
    "# ).toarray()\n",
    "# pr3d = np.stack([matrix1, matrix2])\n",
    "# pr3d = np.transpose(pr3d, (0, 2, 1))"
   ]
  },
  {
   "cell_type": "code",
   "execution_count": null,
   "metadata": {},
   "outputs": [],
   "source": [
    "# partitura.utils.compute_pianoroll(mid,time_unit = \"sec\", time_div= int(1/0.05), piano_range=True ).toarray()\n",
    "matrix1 = partitura.utils.compute_pianoroll(mid, onset_only=True).toarray()\n",
    "matrix1[matrix1>0] = 1"
   ]
  },
  {
   "cell_type": "code",
   "execution_count": null,
   "metadata": {},
   "outputs": [],
   "source": [
    "generator = Generator()\n",
    "generator.generate_segment(mid)"
   ]
  },
  {
   "cell_type": "code",
   "execution_count": null,
   "metadata": {},
   "outputs": [],
   "source": []
  },
  {
   "cell_type": "code",
   "execution_count": null,
   "metadata": {},
   "outputs": [],
   "source": [
    "import pretty_midi as pm\n",
    "from operator import attrgetter\n",
    "\n",
    "pmidi = pm.PrettyMIDI(\"/share/cp/projects/concept_composers/ConceptDataset/midi/alberti_bass/track17.mid\")\n",
    "print(len(pmidi.instruments[0].notes))\n",
    "\n",
    "# for n in pmidi.instruments[0].notes.sort(key = attrgetter('start')):\n",
    "    # print(n)\n",
    "\n",
    "counter= 0\n",
    "for n in pmidi.instruments[0].notes:\n",
    "    print(n.pitch, n.start, n.velocity)\n",
    "    counter +=1\n",
    "    if n.start is None: \n",
    "        print(\"aaa\")\n",
    "\n",
    "\n",
    "print(counter)"
   ]
  },
  {
   "cell_type": "code",
   "execution_count": null,
   "metadata": {},
   "outputs": [],
   "source": [
    "pt_out= list(mid.note_array[[\"pitch\",\"onset_sec\",\"velocity\"]])\n",
    "pm_out = [(n.pitch, n.start,n.end, n.velocity) for n in pmidi.instruments[0].notes]\n",
    "pm_out.sort(key=lambda x: x[1])\n",
    "pm_out"
   ]
  },
  {
   "cell_type": "code",
   "execution_count": null,
   "metadata": {},
   "outputs": [],
   "source": [
    "len(pt_out)\n",
    "len(pm_out)"
   ]
  },
  {
   "cell_type": "code",
   "execution_count": null,
   "metadata": {},
   "outputs": [],
   "source": [
    "for i in range(len(pm_out)-1):\n",
    "    print(pm_out[i], pt_out[i])\n"
   ]
  },
  {
   "cell_type": "code",
   "execution_count": null,
   "metadata": {},
   "outputs": [],
   "source": []
  }
 ],
 "metadata": {
  "interpreter": {
   "hash": "a6399b87897672fea007d6d880364d27da96d42c7d74b7f0db8e2dac1a8c0be2"
  },
  "kernelspec": {
   "display_name": "Python 3.9.7 ('mir_research')",
   "language": "python",
   "name": "python3"
  },
  "language_info": {
   "codemirror_mode": {
    "name": "ipython",
    "version": 3
   },
   "file_extension": ".py",
   "mimetype": "text/x-python",
   "name": "python",
   "nbconvert_exporter": "python",
   "pygments_lexer": "ipython3",
   "version": "3.9.7"
  },
  "orig_nbformat": 4
 },
 "nbformat": 4,
 "nbformat_minor": 2
}
