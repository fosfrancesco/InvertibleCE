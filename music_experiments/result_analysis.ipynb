{
 "cells": [
  {
   "cell_type": "code",
   "execution_count": 1,
   "metadata": {},
   "outputs": [],
   "source": [
    "from pathlib import Path\n",
    "import numpy as np\n",
    "import json\n",
    "import pandas as pd\n",
    "import plotly.graph_objs as go\n",
    "import plotly.tools as tls\n",
    "import plotly.express as px\n",
    "\n",
    "import sys\n",
    "sys.path.append(\"..\")\n",
    "# import ICE.utils\n",
    "\n",
    "# sys.path.append(\"/share/home/francesco/concept_composers/DeepComposerClassification/\")\n",
    "# sys.path.append(\"/share/home/francesco/concept_composers/\")\n",
    "base_path = \"../\""
   ]
  },
  {
   "cell_type": "code",
   "execution_count": 2,
   "metadata": {},
   "outputs": [],
   "source": [
    "list_of_summary = []\n",
    "\n",
    "for exp_f in Path(base_path,\"Explainers\").iterdir():\n",
    "    with open(str(Path(exp_f,\"summary.json\"))) as summary_file:\n",
    "        summary = json.load(summary_file)\n",
    "    list_of_summary.append(summary)"
   ]
  },
  {
   "cell_type": "code",
   "execution_count": 3,
   "metadata": {},
   "outputs": [
    {
     "data": {
      "text/html": [
       "<div>\n",
       "<style scoped>\n",
       "    .dataframe tbody tr th:only-of-type {\n",
       "        vertical-align: middle;\n",
       "    }\n",
       "\n",
       "    .dataframe tbody tr th {\n",
       "        vertical-align: top;\n",
       "    }\n",
       "\n",
       "    .dataframe thead th {\n",
       "        text-align: right;\n",
       "    }\n",
       "</style>\n",
       "<table border=\"1\" class=\"dataframe\">\n",
       "  <thead>\n",
       "    <tr style=\"text-align: right;\">\n",
       "      <th></th>\n",
       "      <th>title</th>\n",
       "      <th>reducer</th>\n",
       "      <th>dimension</th>\n",
       "      <th>rank</th>\n",
       "      <th>fidelity</th>\n",
       "      <th>fidelity_avg</th>\n",
       "      <th>classes</th>\n",
       "      <th>concepts_sensitivity</th>\n",
       "      <th>suggested_CAVs</th>\n",
       "      <th>reducer_conv</th>\n",
       "    </tr>\n",
       "  </thead>\n",
       "  <tbody>\n",
       "    <tr>\n",
       "      <th>0</th>\n",
       "      <td>ConcComp_layer4_1[Frédéric Chopin_Johann Sebas...</td>\n",
       "      <td>NMF</td>\n",
       "      <td>3</td>\n",
       "      <td>1</td>\n",
       "      <td>[0.9885546963770271, 0.9343425605591452]</td>\n",
       "      <td>0.961449</td>\n",
       "      <td>[Frédéric Chopin, Johann Sebastian Bach]</td>\n",
       "      <td>{'CAV0': [1.920663595199585, 6.627684116363525]}</td>\n",
       "      <td>[]</td>\n",
       "      <td>3073.963077</td>\n",
       "    </tr>\n",
       "    <tr>\n",
       "      <th>1</th>\n",
       "      <td>ConcComp_layer4_2[Frédéric Chopin_Johann Sebas...</td>\n",
       "      <td>NMF</td>\n",
       "      <td>3</td>\n",
       "      <td>2</td>\n",
       "      <td>[0.509864051983525, 0.6713791997538596]</td>\n",
       "      <td>0.590622</td>\n",
       "      <td>[Frédéric Chopin, Johann Sebastian Bach]</td>\n",
       "      <td>{'CAV0': [-0.43831944465637207, 5.451484203338...</td>\n",
       "      <td>[0]</td>\n",
       "      <td>2728.913795</td>\n",
       "    </tr>\n",
       "    <tr>\n",
       "      <th>2</th>\n",
       "      <td>ConcComp_layer4_3[Frédéric Chopin_Johann Sebas...</td>\n",
       "      <td>NMF</td>\n",
       "      <td>3</td>\n",
       "      <td>3</td>\n",
       "      <td>[0.4940374522278503, 0.6774283820300733]</td>\n",
       "      <td>0.585733</td>\n",
       "      <td>[Frédéric Chopin, Johann Sebastian Bach]</td>\n",
       "      <td>{'CAV0': [0.5814605951309204, 4.97366619110107...</td>\n",
       "      <td>[2]</td>\n",
       "      <td>2478.127721</td>\n",
       "    </tr>\n",
       "    <tr>\n",
       "      <th>3</th>\n",
       "      <td>ConcComp_layer4_6[Frédéric Chopin_Johann Sebas...</td>\n",
       "      <td>NMF</td>\n",
       "      <td>3</td>\n",
       "      <td>6</td>\n",
       "      <td>[0.07673369360811493, 0.11431724727908159]</td>\n",
       "      <td>0.095525</td>\n",
       "      <td>[Frédéric Chopin, Johann Sebastian Bach]</td>\n",
       "      <td>{'CAV0': [1.179243564605713, 4.374130725860596...</td>\n",
       "      <td>[1, 3, 4, 2]</td>\n",
       "      <td>2162.672652</td>\n",
       "    </tr>\n",
       "    <tr>\n",
       "      <th>4</th>\n",
       "      <td>ConcComp_layer4_10[Frédéric Chopin_Johann Seba...</td>\n",
       "      <td>NMF</td>\n",
       "      <td>3</td>\n",
       "      <td>10</td>\n",
       "      <td>[0.07256775592505615, 0.11567812243061713]</td>\n",
       "      <td>0.094123</td>\n",
       "      <td>[Frédéric Chopin, Johann Sebastian Bach]</td>\n",
       "      <td>{'CAV0': [0.989723801612854, 4.381486415863037...</td>\n",
       "      <td>[1, 3, 5, 8, 4, 2]</td>\n",
       "      <td>1969.344688</td>\n",
       "    </tr>\n",
       "    <tr>\n",
       "      <th>5</th>\n",
       "      <td>ConcComp_layer4_8[Frédéric Chopin_Johann Sebas...</td>\n",
       "      <td>NMF</td>\n",
       "      <td>3</td>\n",
       "      <td>8</td>\n",
       "      <td>[0.07008897188184135, 0.10915039368654827]</td>\n",
       "      <td>0.089620</td>\n",
       "      <td>[Frédéric Chopin, Johann Sebastian Bach]</td>\n",
       "      <td>{'CAV0': [1.1553460359573364, 4.12969255447387...</td>\n",
       "      <td>[3, 1, 6, 4, 2]</td>\n",
       "      <td>2055.923515</td>\n",
       "    </tr>\n",
       "    <tr>\n",
       "      <th>6</th>\n",
       "      <td>ConcComp_layer4_12[Frédéric Chopin_Johann Seba...</td>\n",
       "      <td>NMF</td>\n",
       "      <td>3</td>\n",
       "      <td>12</td>\n",
       "      <td>[0.07261599316747905, 0.11146056116020805]</td>\n",
       "      <td>0.092038</td>\n",
       "      <td>[Frédéric Chopin, Johann Sebastian Bach]</td>\n",
       "      <td>{'CAV0': [1.332062840461731, 4.206673145294189...</td>\n",
       "      <td>[3, 8, 1, 6, 7, 9, 11, 2, 4]</td>\n",
       "      <td>1929.888986</td>\n",
       "    </tr>\n",
       "    <tr>\n",
       "      <th>7</th>\n",
       "      <td>ConcComp_layer4_[3, 20, 100][Frédéric Chopin_J...</td>\n",
       "      <td>NTD</td>\n",
       "      <td>3</td>\n",
       "      <td>[3, 20, 100]</td>\n",
       "      <td>[0.5100133004405425, 0.6606176685400849]</td>\n",
       "      <td>0.585315</td>\n",
       "      <td>[Frédéric Chopin, Johann Sebastian Bach]</td>\n",
       "      <td>{'CAV0': [-0.06939629465341568, 0.086708471179...</td>\n",
       "      <td>[0]</td>\n",
       "      <td>0.314955</td>\n",
       "    </tr>\n",
       "    <tr>\n",
       "      <th>8</th>\n",
       "      <td>ConcComp_layer4_[6, 20, 100][Frédéric Chopin_J...</td>\n",
       "      <td>NTD</td>\n",
       "      <td>3</td>\n",
       "      <td>[6, 20, 100]</td>\n",
       "      <td>[0.07472277154579836, 0.11581551046799075]</td>\n",
       "      <td>0.095269</td>\n",
       "      <td>[Frédéric Chopin, Johann Sebastian Bach]</td>\n",
       "      <td>{'CAV0': [-0.40925872325897217, 1.166870832443...</td>\n",
       "      <td>[1, 0, 5, 4]</td>\n",
       "      <td>0.285664</td>\n",
       "    </tr>\n",
       "    <tr>\n",
       "      <th>9</th>\n",
       "      <td>ConcComp_layer4_[10, 20, 100][Frédéric Chopin_...</td>\n",
       "      <td>NTD</td>\n",
       "      <td>3</td>\n",
       "      <td>[10, 20, 100]</td>\n",
       "      <td>[0.06839275371462883, 0.10995828618627171]</td>\n",
       "      <td>0.089176</td>\n",
       "      <td>[Frédéric Chopin, Johann Sebastian Bach]</td>\n",
       "      <td>{'CAV0': [0.005941987037658691, 0.072180233895...</td>\n",
       "      <td>[7, 6, 4, 2, 9, 3]</td>\n",
       "      <td>0.274318</td>\n",
       "    </tr>\n",
       "    <tr>\n",
       "      <th>10</th>\n",
       "      <td>ConcComp_layer4_[3, 20, 25][Frédéric Chopin_Jo...</td>\n",
       "      <td>NTD</td>\n",
       "      <td>3</td>\n",
       "      <td>[3, 20, 25]</td>\n",
       "      <td>[0.509479087207385, 0.6646627814581374]</td>\n",
       "      <td>0.587071</td>\n",
       "      <td>[Frédéric Chopin, Johann Sebastian Bach]</td>\n",
       "      <td>{'CAV0': [-0.08300433307886124, 0.094478331506...</td>\n",
       "      <td>[0]</td>\n",
       "      <td>0.355649</td>\n",
       "    </tr>\n",
       "    <tr>\n",
       "      <th>11</th>\n",
       "      <td>ConcComp_layer4_[6, 20, 25][Frédéric Chopin_Jo...</td>\n",
       "      <td>NTD</td>\n",
       "      <td>3</td>\n",
       "      <td>[6, 20, 25]</td>\n",
       "      <td>[0.5177555190015657, 0.6610032902293934]</td>\n",
       "      <td>0.589379</td>\n",
       "      <td>[Frédéric Chopin, Johann Sebastian Bach]</td>\n",
       "      <td>{'CAV0': [-0.11348704993724823, 0.111620232462...</td>\n",
       "      <td>[0, 4, 5]</td>\n",
       "      <td>0.324831</td>\n",
       "    </tr>\n",
       "    <tr>\n",
       "      <th>12</th>\n",
       "      <td>ConcComp_layer4_[10, 20, 25][Frédéric Chopin_J...</td>\n",
       "      <td>NTD</td>\n",
       "      <td>3</td>\n",
       "      <td>[10, 20, 25]</td>\n",
       "      <td>[0.06915541086560004, 0.11820198668568074]</td>\n",
       "      <td>0.093679</td>\n",
       "      <td>[Frédéric Chopin, Johann Sebastian Bach]</td>\n",
       "      <td>{'CAV0': [0.00244826078414917, 0.0728368759155...</td>\n",
       "      <td>[4, 1, 5, 3, 2, 6, 9]</td>\n",
       "      <td>0.287425</td>\n",
       "    </tr>\n",
       "    <tr>\n",
       "      <th>13</th>\n",
       "      <td>ConcComp_layer4_[3, 30, 100][Frédéric Chopin_J...</td>\n",
       "      <td>NTD</td>\n",
       "      <td>3</td>\n",
       "      <td>[3, 30, 100]</td>\n",
       "      <td>[0.498318346615548, 0.6732190688522336]</td>\n",
       "      <td>0.585769</td>\n",
       "      <td>[Frédéric Chopin, Johann Sebastian Bach]</td>\n",
       "      <td>{'CAV0': [-0.07764916121959686, 0.083143115043...</td>\n",
       "      <td>[0]</td>\n",
       "      <td>0.323572</td>\n",
       "    </tr>\n",
       "    <tr>\n",
       "      <th>14</th>\n",
       "      <td>ConcComp_layer4_[6, 30, 100][Frédéric Chopin_J...</td>\n",
       "      <td>NTD</td>\n",
       "      <td>3</td>\n",
       "      <td>[6, 30, 100]</td>\n",
       "      <td>[0.08120326563249845, 0.11551196824452285]</td>\n",
       "      <td>0.098358</td>\n",
       "      <td>[Frédéric Chopin, Johann Sebastian Bach]</td>\n",
       "      <td>{'CAV0': [-0.04621724411845207, 0.097989045083...</td>\n",
       "      <td>[1, 4, 5, 0]</td>\n",
       "      <td>0.304378</td>\n",
       "    </tr>\n",
       "    <tr>\n",
       "      <th>15</th>\n",
       "      <td>ConcComp_layer4_[10, 30, 100][Frédéric Chopin_...</td>\n",
       "      <td>NTD</td>\n",
       "      <td>3</td>\n",
       "      <td>[10, 30, 100]</td>\n",
       "      <td>[0.06816084425583824, 0.1119507817778911]</td>\n",
       "      <td>0.090056</td>\n",
       "      <td>[Frédéric Chopin, Johann Sebastian Bach]</td>\n",
       "      <td>{'CAV0': [-0.0007998943328857422, 0.0663548707...</td>\n",
       "      <td>[6, 1, 2, 3, 7, 9, 0]</td>\n",
       "      <td>0.282037</td>\n",
       "    </tr>\n",
       "    <tr>\n",
       "      <th>16</th>\n",
       "      <td>ConcComp_layer4_[6, 39, 80][Frédéric Chopin_Jo...</td>\n",
       "      <td>NTD</td>\n",
       "      <td>3</td>\n",
       "      <td>[6, 39, 80]</td>\n",
       "      <td>[0.08101686689747649, 0.11369661104108157]</td>\n",
       "      <td>0.097357</td>\n",
       "      <td>[Frédéric Chopin, Johann Sebastian Bach]</td>\n",
       "      <td>{'CAV0': [-0.088081955909729, -0.0523630827665...</td>\n",
       "      <td>[1, 2, 5, 3]</td>\n",
       "      <td>0.278441</td>\n",
       "    </tr>\n",
       "    <tr>\n",
       "      <th>17</th>\n",
       "      <td>ConcComp_layer4_[10, 39, 80][Frédéric Chopin_J...</td>\n",
       "      <td>NTD</td>\n",
       "      <td>3</td>\n",
       "      <td>[10, 39, 80]</td>\n",
       "      <td>[0.0765847975652796, 0.11048683427492874]</td>\n",
       "      <td>0.093536</td>\n",
       "      <td>[Frédéric Chopin, Johann Sebastian Bach]</td>\n",
       "      <td>{'CAV0': [0.6652321815490723, 0.38181385397911...</td>\n",
       "      <td>[1, 6, 3, 5, 2, 9]</td>\n",
       "      <td>0.275667</td>\n",
       "    </tr>\n",
       "    <tr>\n",
       "      <th>18</th>\n",
       "      <td>ConcComp_layer4_[6, 39, 200][Frédéric Chopin_J...</td>\n",
       "      <td>NTD</td>\n",
       "      <td>3</td>\n",
       "      <td>[6, 39, 200]</td>\n",
       "      <td>[0.0826573774746619, 0.11452947270534794]</td>\n",
       "      <td>0.098593</td>\n",
       "      <td>[Frédéric Chopin, Johann Sebastian Bach]</td>\n",
       "      <td>{'CAV0': [-0.42501509189605713, 1.170701265335...</td>\n",
       "      <td>[1, 0, 5, 4]</td>\n",
       "      <td>0.303024</td>\n",
       "    </tr>\n",
       "    <tr>\n",
       "      <th>19</th>\n",
       "      <td>ConcComp_layer4_[10, 39, 200][Frédéric Chopin_...</td>\n",
       "      <td>NTD</td>\n",
       "      <td>3</td>\n",
       "      <td>[10, 39, 200]</td>\n",
       "      <td>[0.08098394800315885, 0.11537126438708285]</td>\n",
       "      <td>0.098178</td>\n",
       "      <td>[Frédéric Chopin, Johann Sebastian Bach]</td>\n",
       "      <td>{'CAV0': [-0.0436125248670578, 0.0766408443450...</td>\n",
       "      <td>[3, 1, 7, 4, 0, 9]</td>\n",
       "      <td>0.236444</td>\n",
       "    </tr>\n",
       "    <tr>\n",
       "      <th>20</th>\n",
       "      <td>ConcComp_layer4_[8, 39, 100][Frédéric Chopin_J...</td>\n",
       "      <td>NTD</td>\n",
       "      <td>3</td>\n",
       "      <td>[8, 39, 100]</td>\n",
       "      <td>[0.08253566509519251, 0.11600528523847325]</td>\n",
       "      <td>0.099270</td>\n",
       "      <td>[Frédéric Chopin, Johann Sebastian Bach]</td>\n",
       "      <td>{'CAV0': [-0.02632747031748295, 0.058978199958...</td>\n",
       "      <td>[2, 1, 4, 5, 0, 7]</td>\n",
       "      <td>0.272406</td>\n",
       "    </tr>\n",
       "    <tr>\n",
       "      <th>21</th>\n",
       "      <td>ConcComp_layer4_[10, 39, 100][Frédéric Chopin_...</td>\n",
       "      <td>NTD</td>\n",
       "      <td>3</td>\n",
       "      <td>[10, 39, 100]</td>\n",
       "      <td>[0.0718556738956037, 0.12205774666626656]</td>\n",
       "      <td>0.096957</td>\n",
       "      <td>[Frédéric Chopin, Johann Sebastian Bach]</td>\n",
       "      <td>{'CAV0': [0.013167262077331543, 0.047172307968...</td>\n",
       "      <td>[8, 4, 3, 5, 9, 7]</td>\n",
       "      <td>0.230951</td>\n",
       "    </tr>\n",
       "    <tr>\n",
       "      <th>22</th>\n",
       "      <td>ConcComp_layer4_[10, 39, 375][Frédéric Chopin_...</td>\n",
       "      <td>NTD</td>\n",
       "      <td>3</td>\n",
       "      <td>[10, 39, 375]</td>\n",
       "      <td>[0.07063741164379263, 0.12176242833957868]</td>\n",
       "      <td>0.096200</td>\n",
       "      <td>[Frédéric Chopin, Johann Sebastian Bach]</td>\n",
       "      <td>{'CAV0': [-0.024877190589904785, 0.07515132427...</td>\n",
       "      <td>[8, 4, 3, 5, 9, 0]</td>\n",
       "      <td>0.233916</td>\n",
       "    </tr>\n",
       "    <tr>\n",
       "      <th>23</th>\n",
       "      <td>ConcComp_layer4_[8, 39, 375][Frédéric Chopin_J...</td>\n",
       "      <td>NTD</td>\n",
       "      <td>3</td>\n",
       "      <td>[8, 39, 375]</td>\n",
       "      <td>[0.07331894612588989, 0.12410726698914856]</td>\n",
       "      <td>0.098713</td>\n",
       "      <td>[Frédéric Chopin, Johann Sebastian Bach]</td>\n",
       "      <td>{'CAV0': [-0.48862797021865845, 1.188830733299...</td>\n",
       "      <td>[1, 0, 3, 5, 6]</td>\n",
       "      <td>0.283976</td>\n",
       "    </tr>\n",
       "    <tr>\n",
       "      <th>24</th>\n",
       "      <td>ConcComp_layer4_[6, 39, 375][Frédéric Chopin_J...</td>\n",
       "      <td>NTD</td>\n",
       "      <td>3</td>\n",
       "      <td>[6, 39, 375]</td>\n",
       "      <td>[0.0731197061687283, 0.12215477879962759]</td>\n",
       "      <td>0.097637</td>\n",
       "      <td>[Frédéric Chopin, Johann Sebastian Bach]</td>\n",
       "      <td>{'CAV0': [-0.4648644030094147, 1.1891388893127...</td>\n",
       "      <td>[1, 0, 5, 4]</td>\n",
       "      <td>0.302189</td>\n",
       "    </tr>\n",
       "    <tr>\n",
       "      <th>25</th>\n",
       "      <td>ConcComp_layer4_[3, 39, 375][Frédéric Chopin_J...</td>\n",
       "      <td>NTD</td>\n",
       "      <td>3</td>\n",
       "      <td>[3, 39, 375]</td>\n",
       "      <td>[0.4912583226837569, 0.6760174672877299]</td>\n",
       "      <td>0.583638</td>\n",
       "      <td>[Frédéric Chopin, Johann Sebastian Bach]</td>\n",
       "      <td>{'CAV0': [-0.08520524203777313, 0.089933678507...</td>\n",
       "      <td>[0]</td>\n",
       "      <td>0.334426</td>\n",
       "    </tr>\n",
       "    <tr>\n",
       "      <th>26</th>\n",
       "      <td>ConcComp_layer4_[2, 39, 375][Frédéric Chopin_J...</td>\n",
       "      <td>NTD</td>\n",
       "      <td>3</td>\n",
       "      <td>[2, 39, 375]</td>\n",
       "      <td>[0.4958274983899605, 0.6777504803434253]</td>\n",
       "      <td>0.586789</td>\n",
       "      <td>[Frédéric Chopin, Johann Sebastian Bach]</td>\n",
       "      <td>{'CAV0': [-0.0030630826950073242, 0.0623905695...</td>\n",
       "      <td>[0]</td>\n",
       "      <td>0.373158</td>\n",
       "    </tr>\n",
       "    <tr>\n",
       "      <th>27</th>\n",
       "      <td>ConcComp_layer4_[1, 39, 375][Frédéric Chopin_J...</td>\n",
       "      <td>NTD</td>\n",
       "      <td>3</td>\n",
       "      <td>[1, 39, 375]</td>\n",
       "      <td>[0.9926560733337254, 0.9390745699765163]</td>\n",
       "      <td>0.965865</td>\n",
       "      <td>[Frédéric Chopin, Johann Sebastian Bach]</td>\n",
       "      <td>{'CAV0': [0.01520554255694151, 0.0776114016771...</td>\n",
       "      <td>[]</td>\n",
       "      <td>0.406014</td>\n",
       "    </tr>\n",
       "    <tr>\n",
       "      <th>28</th>\n",
       "      <td>ConcComp_layer4_[3, 3, 2, 25][Frédéric Chopin_...</td>\n",
       "      <td>NTD</td>\n",
       "      <td>4</td>\n",
       "      <td>[3, 3, 2, 25]</td>\n",
       "      <td>[0.5938569581904698, 0.714422771144154]</td>\n",
       "      <td>0.654140</td>\n",
       "      <td>[Frédéric Chopin, Johann Sebastian Bach]</td>\n",
       "      <td>{'CAV0': [-0.10109464824199677, 0.100696489214...</td>\n",
       "      <td>[0]</td>\n",
       "      <td>0.659893</td>\n",
       "    </tr>\n",
       "    <tr>\n",
       "      <th>29</th>\n",
       "      <td>ConcComp_layer4_[1, 3, 2, 25][Frédéric Chopin_...</td>\n",
       "      <td>NTD</td>\n",
       "      <td>4</td>\n",
       "      <td>[1, 3, 2, 25]</td>\n",
       "      <td>[0.9915196038318923, 0.9431345980680508]</td>\n",
       "      <td>0.967327</td>\n",
       "      <td>[Frédéric Chopin, Johann Sebastian Bach]</td>\n",
       "      <td>{'CAV0': [0.02176543138921261, 0.0886394530534...</td>\n",
       "      <td>[]</td>\n",
       "      <td>0.675020</td>\n",
       "    </tr>\n",
       "    <tr>\n",
       "      <th>30</th>\n",
       "      <td>ConcComp_layer4_[2, 3, 2, 25][Frédéric Chopin_...</td>\n",
       "      <td>NTD</td>\n",
       "      <td>4</td>\n",
       "      <td>[2, 3, 2, 25]</td>\n",
       "      <td>[0.6085501363511608, 0.7152783811567283]</td>\n",
       "      <td>0.661914</td>\n",
       "      <td>[Frédéric Chopin, Johann Sebastian Bach]</td>\n",
       "      <td>{'CAV0': [0.5802363157272339, 0.37129044532775...</td>\n",
       "      <td>[1]</td>\n",
       "      <td>0.654573</td>\n",
       "    </tr>\n",
       "    <tr>\n",
       "      <th>31</th>\n",
       "      <td>ConcComp_layer4_[3, 5, 3, 25][Frédéric Chopin_...</td>\n",
       "      <td>NTD</td>\n",
       "      <td>4</td>\n",
       "      <td>[3, 5, 3, 25]</td>\n",
       "      <td>[0.558766835544615, 0.7160860974470628]</td>\n",
       "      <td>0.637426</td>\n",
       "      <td>[Frédéric Chopin, Johann Sebastian Bach]</td>\n",
       "      <td>{'CAV0': [-0.14759819209575653, 0.067793533205...</td>\n",
       "      <td>[0]</td>\n",
       "      <td>0.439003</td>\n",
       "    </tr>\n",
       "    <tr>\n",
       "      <th>32</th>\n",
       "      <td>ConcComp_layer4_[3, 13, 3, 25][Frédéric Chopin...</td>\n",
       "      <td>NTD</td>\n",
       "      <td>4</td>\n",
       "      <td>[3, 13, 3, 25]</td>\n",
       "      <td>[0.5108254209952839, 0.6598020000810694]</td>\n",
       "      <td>0.585314</td>\n",
       "      <td>[Frédéric Chopin, Johann Sebastian Bach]</td>\n",
       "      <td>{'CAV0': [-0.09491483122110367, 0.083619952201...</td>\n",
       "      <td>[0]</td>\n",
       "      <td>0.345389</td>\n",
       "    </tr>\n",
       "    <tr>\n",
       "      <th>33</th>\n",
       "      <td>ConcComp_layer4_[6, 13, 3, 25][Frédéric Chopin...</td>\n",
       "      <td>NTD</td>\n",
       "      <td>4</td>\n",
       "      <td>[6, 13, 3, 25]</td>\n",
       "      <td>[0.5146315216435933, 0.657860543118176]</td>\n",
       "      <td>0.586246</td>\n",
       "      <td>[Frédéric Chopin, Johann Sebastian Bach]</td>\n",
       "      <td>{'CAV0': [-0.08814176172018051, -0.05808532238...</td>\n",
       "      <td>[3, 5, 4]</td>\n",
       "      <td>0.269988</td>\n",
       "    </tr>\n",
       "    <tr>\n",
       "      <th>34</th>\n",
       "      <td>ConcComp_layer4_[6, 2, 3, 20][Frédéric Chopin_...</td>\n",
       "      <td>NTD</td>\n",
       "      <td>4</td>\n",
       "      <td>[6, 2, 3, 20]</td>\n",
       "      <td>[0.16638793136556043, 0.1908019174707385]</td>\n",
       "      <td>0.178595</td>\n",
       "      <td>[Frédéric Chopin, Johann Sebastian Bach]</td>\n",
       "      <td>{'CAV0': [-0.09377598762512207, -0.06263613700...</td>\n",
       "      <td>[1, 4, 3, 5]</td>\n",
       "      <td>0.723879</td>\n",
       "    </tr>\n",
       "    <tr>\n",
       "      <th>35</th>\n",
       "      <td>ConcComp_layer4_[10, 2, 3, 20][Frédéric Chopin...</td>\n",
       "      <td>NTD</td>\n",
       "      <td>4</td>\n",
       "      <td>[10, 2, 3, 20]</td>\n",
       "      <td>[0.5819629096069949, 0.6002607056532479]</td>\n",
       "      <td>0.591112</td>\n",
       "      <td>[Frédéric Chopin, Johann Sebastian Bach]</td>\n",
       "      <td>{'CAV0': [-0.017600059509277344, -0.0620693005...</td>\n",
       "      <td>[1, 4, 5, 3, 2, 9, 7]</td>\n",
       "      <td>0.666248</td>\n",
       "    </tr>\n",
       "    <tr>\n",
       "      <th>36</th>\n",
       "      <td>ConcComp_layer4_[3, 2, 3, 25][Frédéric Chopin_...</td>\n",
       "      <td>NTD</td>\n",
       "      <td>4</td>\n",
       "      <td>[3, 2, 3, 25]</td>\n",
       "      <td>[0.5870257831730067, 0.7169864541639159]</td>\n",
       "      <td>0.652006</td>\n",
       "      <td>[Frédéric Chopin, Johann Sebastian Bach]</td>\n",
       "      <td>{'CAV0': [-0.10929882526397705, 0.120664641261...</td>\n",
       "      <td>[0]</td>\n",
       "      <td>0.730351</td>\n",
       "    </tr>\n",
       "    <tr>\n",
       "      <th>37</th>\n",
       "      <td>ConcComp_layer4_[6, 2, 3, 25][Frédéric Chopin_...</td>\n",
       "      <td>NTD</td>\n",
       "      <td>4</td>\n",
       "      <td>[6, 2, 3, 25]</td>\n",
       "      <td>[0.1703352122012993, 0.19668306594427815]</td>\n",
       "      <td>0.183509</td>\n",
       "      <td>[Frédéric Chopin, Johann Sebastian Bach]</td>\n",
       "      <td>{'CAV0': [-0.09609640389680862, -0.07019679248...</td>\n",
       "      <td>[1, 4, 3, 5]</td>\n",
       "      <td>0.716835</td>\n",
       "    </tr>\n",
       "    <tr>\n",
       "      <th>38</th>\n",
       "      <td>ConcComp_layer4_[10, 2, 3, 25][Frédéric Chopin...</td>\n",
       "      <td>NTD</td>\n",
       "      <td>4</td>\n",
       "      <td>[10, 2, 3, 25]</td>\n",
       "      <td>[0.370349161764541, 0.39562249618332407]</td>\n",
       "      <td>0.382986</td>\n",
       "      <td>[Frédéric Chopin, Johann Sebastian Bach]</td>\n",
       "      <td>{'CAV0': [-0.010389487259089947, 0.06929337978...</td>\n",
       "      <td>[4, 1, 7, 3, 9, 0]</td>\n",
       "      <td>0.686783</td>\n",
       "    </tr>\n",
       "    <tr>\n",
       "      <th>39</th>\n",
       "      <td>ConcComp_layer4_[10, 13, 3, 375][Frédéric Chop...</td>\n",
       "      <td>NTD</td>\n",
       "      <td>4</td>\n",
       "      <td>[10, 13, 3, 375]</td>\n",
       "      <td>[0.07750484762687607, 0.12448592783927652]</td>\n",
       "      <td>0.100995</td>\n",
       "      <td>[Frédéric Chopin, Johann Sebastian Bach]</td>\n",
       "      <td>{'CAV0': [-0.04460464045405388, 0.060585342347...</td>\n",
       "      <td>[7, 6, 4, 3, 0, 2, 9]</td>\n",
       "      <td>0.262682</td>\n",
       "    </tr>\n",
       "    <tr>\n",
       "      <th>40</th>\n",
       "      <td>ConcComp_layer4_[10, 3, 3, 375][Frédéric Chopi...</td>\n",
       "      <td>NTD</td>\n",
       "      <td>4</td>\n",
       "      <td>[10, 3, 3, 375]</td>\n",
       "      <td>[0.16709082927898014, 0.2000484099285673]</td>\n",
       "      <td>0.183570</td>\n",
       "      <td>[Frédéric Chopin, Johann Sebastian Bach]</td>\n",
       "      <td>{'CAV0': [-0.012112061493098736, 0.08543531596...</td>\n",
       "      <td>[4, 7, 3, 2, 9, 0]</td>\n",
       "      <td>0.626413</td>\n",
       "    </tr>\n",
       "    <tr>\n",
       "      <th>41</th>\n",
       "      <td>ConcComp_layer4_[8, 13, 3, 375][Frédéric Chopi...</td>\n",
       "      <td>NTD</td>\n",
       "      <td>4</td>\n",
       "      <td>[8, 13, 3, 375]</td>\n",
       "      <td>[0.08055241624384037, 0.11975704808444713]</td>\n",
       "      <td>0.100155</td>\n",
       "      <td>[Frédéric Chopin, Johann Sebastian Bach]</td>\n",
       "      <td>{'CAV0': [-0.08323788642883301, -0.06546437740...</td>\n",
       "      <td>[1, 2, 3, 5, 6]</td>\n",
       "      <td>0.274903</td>\n",
       "    </tr>\n",
       "    <tr>\n",
       "      <th>42</th>\n",
       "      <td>ConcComp_layer4_[6, 13, 3, 375][Frédéric Chopi...</td>\n",
       "      <td>NTD</td>\n",
       "      <td>4</td>\n",
       "      <td>[6, 13, 3, 375]</td>\n",
       "      <td>[0.07770293123576015, 0.11499440195121816]</td>\n",
       "      <td>0.096349</td>\n",
       "      <td>[Frédéric Chopin, Johann Sebastian Bach]</td>\n",
       "      <td>{'CAV0': [-0.09743472188711166, -0.05879104509...</td>\n",
       "      <td>[2, 1, 5, 3]</td>\n",
       "      <td>0.290805</td>\n",
       "    </tr>\n",
       "    <tr>\n",
       "      <th>43</th>\n",
       "      <td>ConcComp_layer4_[3, 13, 3, 375][Frédéric Chopi...</td>\n",
       "      <td>NTD</td>\n",
       "      <td>4</td>\n",
       "      <td>[3, 13, 3, 375]</td>\n",
       "      <td>[0.49986900064843165, 0.6696733739905463]</td>\n",
       "      <td>0.584771</td>\n",
       "      <td>[Frédéric Chopin, Johann Sebastian Bach]</td>\n",
       "      <td>{'CAV0': [-0.07979612052440643, 0.087221071124...</td>\n",
       "      <td>[0]</td>\n",
       "      <td>0.327629</td>\n",
       "    </tr>\n",
       "    <tr>\n",
       "      <th>44</th>\n",
       "      <td>ConcComp_layer4_[1, 13, 3, 375][Frédéric Chopi...</td>\n",
       "      <td>NTD</td>\n",
       "      <td>4</td>\n",
       "      <td>[1, 13, 3, 375]</td>\n",
       "      <td>[0.9896307461614703, 0.9372917294294957]</td>\n",
       "      <td>0.963461</td>\n",
       "      <td>[Frédéric Chopin, Johann Sebastian Bach]</td>\n",
       "      <td>{'CAV0': [0.0212898850440979, 0.08039792627096...</td>\n",
       "      <td>[]</td>\n",
       "      <td>0.429116</td>\n",
       "    </tr>\n",
       "    <tr>\n",
       "      <th>45</th>\n",
       "      <td>ConcComp_layer4_[2, 13, 3, 375][Frédéric Chopi...</td>\n",
       "      <td>NTD</td>\n",
       "      <td>4</td>\n",
       "      <td>[2, 13, 3, 375]</td>\n",
       "      <td>[0.5050486651864727, 0.6700874503132587]</td>\n",
       "      <td>0.587568</td>\n",
       "      <td>[Frédéric Chopin, Johann Sebastian Bach]</td>\n",
       "      <td>{'CAV0': [-0.005698502063751221, 0.06789764016...</td>\n",
       "      <td>[0]</td>\n",
       "      <td>0.369577</td>\n",
       "    </tr>\n",
       "  </tbody>\n",
       "</table>\n",
       "</div>"
      ],
      "text/plain": [
       "                                                title reducer  dimension  \\\n",
       "0   ConcComp_layer4_1[Frédéric Chopin_Johann Sebas...     NMF          3   \n",
       "1   ConcComp_layer4_2[Frédéric Chopin_Johann Sebas...     NMF          3   \n",
       "2   ConcComp_layer4_3[Frédéric Chopin_Johann Sebas...     NMF          3   \n",
       "3   ConcComp_layer4_6[Frédéric Chopin_Johann Sebas...     NMF          3   \n",
       "4   ConcComp_layer4_10[Frédéric Chopin_Johann Seba...     NMF          3   \n",
       "5   ConcComp_layer4_8[Frédéric Chopin_Johann Sebas...     NMF          3   \n",
       "6   ConcComp_layer4_12[Frédéric Chopin_Johann Seba...     NMF          3   \n",
       "7   ConcComp_layer4_[3, 20, 100][Frédéric Chopin_J...     NTD          3   \n",
       "8   ConcComp_layer4_[6, 20, 100][Frédéric Chopin_J...     NTD          3   \n",
       "9   ConcComp_layer4_[10, 20, 100][Frédéric Chopin_...     NTD          3   \n",
       "10  ConcComp_layer4_[3, 20, 25][Frédéric Chopin_Jo...     NTD          3   \n",
       "11  ConcComp_layer4_[6, 20, 25][Frédéric Chopin_Jo...     NTD          3   \n",
       "12  ConcComp_layer4_[10, 20, 25][Frédéric Chopin_J...     NTD          3   \n",
       "13  ConcComp_layer4_[3, 30, 100][Frédéric Chopin_J...     NTD          3   \n",
       "14  ConcComp_layer4_[6, 30, 100][Frédéric Chopin_J...     NTD          3   \n",
       "15  ConcComp_layer4_[10, 30, 100][Frédéric Chopin_...     NTD          3   \n",
       "16  ConcComp_layer4_[6, 39, 80][Frédéric Chopin_Jo...     NTD          3   \n",
       "17  ConcComp_layer4_[10, 39, 80][Frédéric Chopin_J...     NTD          3   \n",
       "18  ConcComp_layer4_[6, 39, 200][Frédéric Chopin_J...     NTD          3   \n",
       "19  ConcComp_layer4_[10, 39, 200][Frédéric Chopin_...     NTD          3   \n",
       "20  ConcComp_layer4_[8, 39, 100][Frédéric Chopin_J...     NTD          3   \n",
       "21  ConcComp_layer4_[10, 39, 100][Frédéric Chopin_...     NTD          3   \n",
       "22  ConcComp_layer4_[10, 39, 375][Frédéric Chopin_...     NTD          3   \n",
       "23  ConcComp_layer4_[8, 39, 375][Frédéric Chopin_J...     NTD          3   \n",
       "24  ConcComp_layer4_[6, 39, 375][Frédéric Chopin_J...     NTD          3   \n",
       "25  ConcComp_layer4_[3, 39, 375][Frédéric Chopin_J...     NTD          3   \n",
       "26  ConcComp_layer4_[2, 39, 375][Frédéric Chopin_J...     NTD          3   \n",
       "27  ConcComp_layer4_[1, 39, 375][Frédéric Chopin_J...     NTD          3   \n",
       "28  ConcComp_layer4_[3, 3, 2, 25][Frédéric Chopin_...     NTD          4   \n",
       "29  ConcComp_layer4_[1, 3, 2, 25][Frédéric Chopin_...     NTD          4   \n",
       "30  ConcComp_layer4_[2, 3, 2, 25][Frédéric Chopin_...     NTD          4   \n",
       "31  ConcComp_layer4_[3, 5, 3, 25][Frédéric Chopin_...     NTD          4   \n",
       "32  ConcComp_layer4_[3, 13, 3, 25][Frédéric Chopin...     NTD          4   \n",
       "33  ConcComp_layer4_[6, 13, 3, 25][Frédéric Chopin...     NTD          4   \n",
       "34  ConcComp_layer4_[6, 2, 3, 20][Frédéric Chopin_...     NTD          4   \n",
       "35  ConcComp_layer4_[10, 2, 3, 20][Frédéric Chopin...     NTD          4   \n",
       "36  ConcComp_layer4_[3, 2, 3, 25][Frédéric Chopin_...     NTD          4   \n",
       "37  ConcComp_layer4_[6, 2, 3, 25][Frédéric Chopin_...     NTD          4   \n",
       "38  ConcComp_layer4_[10, 2, 3, 25][Frédéric Chopin...     NTD          4   \n",
       "39  ConcComp_layer4_[10, 13, 3, 375][Frédéric Chop...     NTD          4   \n",
       "40  ConcComp_layer4_[10, 3, 3, 375][Frédéric Chopi...     NTD          4   \n",
       "41  ConcComp_layer4_[8, 13, 3, 375][Frédéric Chopi...     NTD          4   \n",
       "42  ConcComp_layer4_[6, 13, 3, 375][Frédéric Chopi...     NTD          4   \n",
       "43  ConcComp_layer4_[3, 13, 3, 375][Frédéric Chopi...     NTD          4   \n",
       "44  ConcComp_layer4_[1, 13, 3, 375][Frédéric Chopi...     NTD          4   \n",
       "45  ConcComp_layer4_[2, 13, 3, 375][Frédéric Chopi...     NTD          4   \n",
       "\n",
       "                rank                                    fidelity  \\\n",
       "0                  1    [0.9885546963770271, 0.9343425605591452]   \n",
       "1                  2     [0.509864051983525, 0.6713791997538596]   \n",
       "2                  3    [0.4940374522278503, 0.6774283820300733]   \n",
       "3                  6  [0.07673369360811493, 0.11431724727908159]   \n",
       "4                 10  [0.07256775592505615, 0.11567812243061713]   \n",
       "5                  8  [0.07008897188184135, 0.10915039368654827]   \n",
       "6                 12  [0.07261599316747905, 0.11146056116020805]   \n",
       "7       [3, 20, 100]    [0.5100133004405425, 0.6606176685400849]   \n",
       "8       [6, 20, 100]  [0.07472277154579836, 0.11581551046799075]   \n",
       "9      [10, 20, 100]  [0.06839275371462883, 0.10995828618627171]   \n",
       "10       [3, 20, 25]     [0.509479087207385, 0.6646627814581374]   \n",
       "11       [6, 20, 25]    [0.5177555190015657, 0.6610032902293934]   \n",
       "12      [10, 20, 25]  [0.06915541086560004, 0.11820198668568074]   \n",
       "13      [3, 30, 100]     [0.498318346615548, 0.6732190688522336]   \n",
       "14      [6, 30, 100]  [0.08120326563249845, 0.11551196824452285]   \n",
       "15     [10, 30, 100]   [0.06816084425583824, 0.1119507817778911]   \n",
       "16       [6, 39, 80]  [0.08101686689747649, 0.11369661104108157]   \n",
       "17      [10, 39, 80]   [0.0765847975652796, 0.11048683427492874]   \n",
       "18      [6, 39, 200]   [0.0826573774746619, 0.11452947270534794]   \n",
       "19     [10, 39, 200]  [0.08098394800315885, 0.11537126438708285]   \n",
       "20      [8, 39, 100]  [0.08253566509519251, 0.11600528523847325]   \n",
       "21     [10, 39, 100]   [0.0718556738956037, 0.12205774666626656]   \n",
       "22     [10, 39, 375]  [0.07063741164379263, 0.12176242833957868]   \n",
       "23      [8, 39, 375]  [0.07331894612588989, 0.12410726698914856]   \n",
       "24      [6, 39, 375]   [0.0731197061687283, 0.12215477879962759]   \n",
       "25      [3, 39, 375]    [0.4912583226837569, 0.6760174672877299]   \n",
       "26      [2, 39, 375]    [0.4958274983899605, 0.6777504803434253]   \n",
       "27      [1, 39, 375]    [0.9926560733337254, 0.9390745699765163]   \n",
       "28     [3, 3, 2, 25]     [0.5938569581904698, 0.714422771144154]   \n",
       "29     [1, 3, 2, 25]    [0.9915196038318923, 0.9431345980680508]   \n",
       "30     [2, 3, 2, 25]    [0.6085501363511608, 0.7152783811567283]   \n",
       "31     [3, 5, 3, 25]     [0.558766835544615, 0.7160860974470628]   \n",
       "32    [3, 13, 3, 25]    [0.5108254209952839, 0.6598020000810694]   \n",
       "33    [6, 13, 3, 25]     [0.5146315216435933, 0.657860543118176]   \n",
       "34     [6, 2, 3, 20]   [0.16638793136556043, 0.1908019174707385]   \n",
       "35    [10, 2, 3, 20]    [0.5819629096069949, 0.6002607056532479]   \n",
       "36     [3, 2, 3, 25]    [0.5870257831730067, 0.7169864541639159]   \n",
       "37     [6, 2, 3, 25]   [0.1703352122012993, 0.19668306594427815]   \n",
       "38    [10, 2, 3, 25]    [0.370349161764541, 0.39562249618332407]   \n",
       "39  [10, 13, 3, 375]  [0.07750484762687607, 0.12448592783927652]   \n",
       "40   [10, 3, 3, 375]   [0.16709082927898014, 0.2000484099285673]   \n",
       "41   [8, 13, 3, 375]  [0.08055241624384037, 0.11975704808444713]   \n",
       "42   [6, 13, 3, 375]  [0.07770293123576015, 0.11499440195121816]   \n",
       "43   [3, 13, 3, 375]   [0.49986900064843165, 0.6696733739905463]   \n",
       "44   [1, 13, 3, 375]    [0.9896307461614703, 0.9372917294294957]   \n",
       "45   [2, 13, 3, 375]    [0.5050486651864727, 0.6700874503132587]   \n",
       "\n",
       "    fidelity_avg                                   classes  \\\n",
       "0       0.961449  [Frédéric Chopin, Johann Sebastian Bach]   \n",
       "1       0.590622  [Frédéric Chopin, Johann Sebastian Bach]   \n",
       "2       0.585733  [Frédéric Chopin, Johann Sebastian Bach]   \n",
       "3       0.095525  [Frédéric Chopin, Johann Sebastian Bach]   \n",
       "4       0.094123  [Frédéric Chopin, Johann Sebastian Bach]   \n",
       "5       0.089620  [Frédéric Chopin, Johann Sebastian Bach]   \n",
       "6       0.092038  [Frédéric Chopin, Johann Sebastian Bach]   \n",
       "7       0.585315  [Frédéric Chopin, Johann Sebastian Bach]   \n",
       "8       0.095269  [Frédéric Chopin, Johann Sebastian Bach]   \n",
       "9       0.089176  [Frédéric Chopin, Johann Sebastian Bach]   \n",
       "10      0.587071  [Frédéric Chopin, Johann Sebastian Bach]   \n",
       "11      0.589379  [Frédéric Chopin, Johann Sebastian Bach]   \n",
       "12      0.093679  [Frédéric Chopin, Johann Sebastian Bach]   \n",
       "13      0.585769  [Frédéric Chopin, Johann Sebastian Bach]   \n",
       "14      0.098358  [Frédéric Chopin, Johann Sebastian Bach]   \n",
       "15      0.090056  [Frédéric Chopin, Johann Sebastian Bach]   \n",
       "16      0.097357  [Frédéric Chopin, Johann Sebastian Bach]   \n",
       "17      0.093536  [Frédéric Chopin, Johann Sebastian Bach]   \n",
       "18      0.098593  [Frédéric Chopin, Johann Sebastian Bach]   \n",
       "19      0.098178  [Frédéric Chopin, Johann Sebastian Bach]   \n",
       "20      0.099270  [Frédéric Chopin, Johann Sebastian Bach]   \n",
       "21      0.096957  [Frédéric Chopin, Johann Sebastian Bach]   \n",
       "22      0.096200  [Frédéric Chopin, Johann Sebastian Bach]   \n",
       "23      0.098713  [Frédéric Chopin, Johann Sebastian Bach]   \n",
       "24      0.097637  [Frédéric Chopin, Johann Sebastian Bach]   \n",
       "25      0.583638  [Frédéric Chopin, Johann Sebastian Bach]   \n",
       "26      0.586789  [Frédéric Chopin, Johann Sebastian Bach]   \n",
       "27      0.965865  [Frédéric Chopin, Johann Sebastian Bach]   \n",
       "28      0.654140  [Frédéric Chopin, Johann Sebastian Bach]   \n",
       "29      0.967327  [Frédéric Chopin, Johann Sebastian Bach]   \n",
       "30      0.661914  [Frédéric Chopin, Johann Sebastian Bach]   \n",
       "31      0.637426  [Frédéric Chopin, Johann Sebastian Bach]   \n",
       "32      0.585314  [Frédéric Chopin, Johann Sebastian Bach]   \n",
       "33      0.586246  [Frédéric Chopin, Johann Sebastian Bach]   \n",
       "34      0.178595  [Frédéric Chopin, Johann Sebastian Bach]   \n",
       "35      0.591112  [Frédéric Chopin, Johann Sebastian Bach]   \n",
       "36      0.652006  [Frédéric Chopin, Johann Sebastian Bach]   \n",
       "37      0.183509  [Frédéric Chopin, Johann Sebastian Bach]   \n",
       "38      0.382986  [Frédéric Chopin, Johann Sebastian Bach]   \n",
       "39      0.100995  [Frédéric Chopin, Johann Sebastian Bach]   \n",
       "40      0.183570  [Frédéric Chopin, Johann Sebastian Bach]   \n",
       "41      0.100155  [Frédéric Chopin, Johann Sebastian Bach]   \n",
       "42      0.096349  [Frédéric Chopin, Johann Sebastian Bach]   \n",
       "43      0.584771  [Frédéric Chopin, Johann Sebastian Bach]   \n",
       "44      0.963461  [Frédéric Chopin, Johann Sebastian Bach]   \n",
       "45      0.587568  [Frédéric Chopin, Johann Sebastian Bach]   \n",
       "\n",
       "                                 concepts_sensitivity  \\\n",
       "0    {'CAV0': [1.920663595199585, 6.627684116363525]}   \n",
       "1   {'CAV0': [-0.43831944465637207, 5.451484203338...   \n",
       "2   {'CAV0': [0.5814605951309204, 4.97366619110107...   \n",
       "3   {'CAV0': [1.179243564605713, 4.374130725860596...   \n",
       "4   {'CAV0': [0.989723801612854, 4.381486415863037...   \n",
       "5   {'CAV0': [1.1553460359573364, 4.12969255447387...   \n",
       "6   {'CAV0': [1.332062840461731, 4.206673145294189...   \n",
       "7   {'CAV0': [-0.06939629465341568, 0.086708471179...   \n",
       "8   {'CAV0': [-0.40925872325897217, 1.166870832443...   \n",
       "9   {'CAV0': [0.005941987037658691, 0.072180233895...   \n",
       "10  {'CAV0': [-0.08300433307886124, 0.094478331506...   \n",
       "11  {'CAV0': [-0.11348704993724823, 0.111620232462...   \n",
       "12  {'CAV0': [0.00244826078414917, 0.0728368759155...   \n",
       "13  {'CAV0': [-0.07764916121959686, 0.083143115043...   \n",
       "14  {'CAV0': [-0.04621724411845207, 0.097989045083...   \n",
       "15  {'CAV0': [-0.0007998943328857422, 0.0663548707...   \n",
       "16  {'CAV0': [-0.088081955909729, -0.0523630827665...   \n",
       "17  {'CAV0': [0.6652321815490723, 0.38181385397911...   \n",
       "18  {'CAV0': [-0.42501509189605713, 1.170701265335...   \n",
       "19  {'CAV0': [-0.0436125248670578, 0.0766408443450...   \n",
       "20  {'CAV0': [-0.02632747031748295, 0.058978199958...   \n",
       "21  {'CAV0': [0.013167262077331543, 0.047172307968...   \n",
       "22  {'CAV0': [-0.024877190589904785, 0.07515132427...   \n",
       "23  {'CAV0': [-0.48862797021865845, 1.188830733299...   \n",
       "24  {'CAV0': [-0.4648644030094147, 1.1891388893127...   \n",
       "25  {'CAV0': [-0.08520524203777313, 0.089933678507...   \n",
       "26  {'CAV0': [-0.0030630826950073242, 0.0623905695...   \n",
       "27  {'CAV0': [0.01520554255694151, 0.0776114016771...   \n",
       "28  {'CAV0': [-0.10109464824199677, 0.100696489214...   \n",
       "29  {'CAV0': [0.02176543138921261, 0.0886394530534...   \n",
       "30  {'CAV0': [0.5802363157272339, 0.37129044532775...   \n",
       "31  {'CAV0': [-0.14759819209575653, 0.067793533205...   \n",
       "32  {'CAV0': [-0.09491483122110367, 0.083619952201...   \n",
       "33  {'CAV0': [-0.08814176172018051, -0.05808532238...   \n",
       "34  {'CAV0': [-0.09377598762512207, -0.06263613700...   \n",
       "35  {'CAV0': [-0.017600059509277344, -0.0620693005...   \n",
       "36  {'CAV0': [-0.10929882526397705, 0.120664641261...   \n",
       "37  {'CAV0': [-0.09609640389680862, -0.07019679248...   \n",
       "38  {'CAV0': [-0.010389487259089947, 0.06929337978...   \n",
       "39  {'CAV0': [-0.04460464045405388, 0.060585342347...   \n",
       "40  {'CAV0': [-0.012112061493098736, 0.08543531596...   \n",
       "41  {'CAV0': [-0.08323788642883301, -0.06546437740...   \n",
       "42  {'CAV0': [-0.09743472188711166, -0.05879104509...   \n",
       "43  {'CAV0': [-0.07979612052440643, 0.087221071124...   \n",
       "44  {'CAV0': [0.0212898850440979, 0.08039792627096...   \n",
       "45  {'CAV0': [-0.005698502063751221, 0.06789764016...   \n",
       "\n",
       "                  suggested_CAVs  reducer_conv  \n",
       "0                             []   3073.963077  \n",
       "1                            [0]   2728.913795  \n",
       "2                            [2]   2478.127721  \n",
       "3                   [1, 3, 4, 2]   2162.672652  \n",
       "4             [1, 3, 5, 8, 4, 2]   1969.344688  \n",
       "5                [3, 1, 6, 4, 2]   2055.923515  \n",
       "6   [3, 8, 1, 6, 7, 9, 11, 2, 4]   1929.888986  \n",
       "7                            [0]      0.314955  \n",
       "8                   [1, 0, 5, 4]      0.285664  \n",
       "9             [7, 6, 4, 2, 9, 3]      0.274318  \n",
       "10                           [0]      0.355649  \n",
       "11                     [0, 4, 5]      0.324831  \n",
       "12         [4, 1, 5, 3, 2, 6, 9]      0.287425  \n",
       "13                           [0]      0.323572  \n",
       "14                  [1, 4, 5, 0]      0.304378  \n",
       "15         [6, 1, 2, 3, 7, 9, 0]      0.282037  \n",
       "16                  [1, 2, 5, 3]      0.278441  \n",
       "17            [1, 6, 3, 5, 2, 9]      0.275667  \n",
       "18                  [1, 0, 5, 4]      0.303024  \n",
       "19            [3, 1, 7, 4, 0, 9]      0.236444  \n",
       "20            [2, 1, 4, 5, 0, 7]      0.272406  \n",
       "21            [8, 4, 3, 5, 9, 7]      0.230951  \n",
       "22            [8, 4, 3, 5, 9, 0]      0.233916  \n",
       "23               [1, 0, 3, 5, 6]      0.283976  \n",
       "24                  [1, 0, 5, 4]      0.302189  \n",
       "25                           [0]      0.334426  \n",
       "26                           [0]      0.373158  \n",
       "27                            []      0.406014  \n",
       "28                           [0]      0.659893  \n",
       "29                            []      0.675020  \n",
       "30                           [1]      0.654573  \n",
       "31                           [0]      0.439003  \n",
       "32                           [0]      0.345389  \n",
       "33                     [3, 5, 4]      0.269988  \n",
       "34                  [1, 4, 3, 5]      0.723879  \n",
       "35         [1, 4, 5, 3, 2, 9, 7]      0.666248  \n",
       "36                           [0]      0.730351  \n",
       "37                  [1, 4, 3, 5]      0.716835  \n",
       "38            [4, 1, 7, 3, 9, 0]      0.686783  \n",
       "39         [7, 6, 4, 3, 0, 2, 9]      0.262682  \n",
       "40            [4, 7, 3, 2, 9, 0]      0.626413  \n",
       "41               [1, 2, 3, 5, 6]      0.274903  \n",
       "42                  [2, 1, 5, 3]      0.290805  \n",
       "43                           [0]      0.327629  \n",
       "44                            []      0.429116  \n",
       "45                           [0]      0.369577  "
      ]
     },
     "execution_count": 3,
     "metadata": {},
     "output_type": "execute_result"
    }
   ],
   "source": [
    "df = pd.DataFrame(list_of_summary)\n",
    "df"
   ]
  },
  {
   "cell_type": "code",
   "execution_count": 54,
   "metadata": {},
   "outputs": [],
   "source": [
    "def rank2n_cav(rank):\n",
    "    if isinstance(rank,list):\n",
    "        return rank[0]\n",
    "    else:\n",
    "        return rank\n",
    "\n",
    "def rank2size(rank):\n",
    "    if isinstance(rank,list):\n",
    "        return np.prod(rank)\n",
    "    else:\n",
    "        return rank*13*3*375\n",
    "\n",
    "def reducer_type_class(row):\n",
    "    if row.reducer == \"NMF\":\n",
    "        return \"NMF\"\n",
    "    else:\n",
    "        return f\"NTD{row.dimension}\"\n",
    "\n",
    "\n",
    "def full_dimension(row):\n",
    "    if row.reducer_type == \"NMF\":\n",
    "        return True\n",
    "    elif row.reducer_type == \"NTD3\":\n",
    "        return row[\"rank\"][1:] == [39,375]\n",
    "    elif row.reducer_type == \"NTD4\":\n",
    "        return row[\"rank\"][1:] == [13,3,375]\n",
    "    else:\n",
    "        print(row.reducer_type )\n",
    "\n",
    "\n",
    "# rank_nb\n",
    "\n",
    "df['n_cavs'] = df.apply (lambda row: rank2n_cav(row[\"rank\"]), axis=1)\n",
    "df['rank_size'] = df.apply (lambda row: rank2size(row[\"rank\"]), axis=1)\n",
    "df['rank_str'] = df.apply (lambda row: str(row[\"rank\"]), axis=1)\n",
    "df[\"reducer_type\"] = df.apply(lambda row: reducer_type_class(row), axis = 1)\n",
    "df[\"useful_cavs\"] = df.apply(lambda row: len(row.suggested_CAVs), axis = 1)\n",
    "df[\"useful_cavs_perc\"] = df[\"useful_cavs\"]/df[\"n_cavs\"]\n",
    "df[\"full_dim\"] =  df.apply(lambda row: full_dimension(row), axis = 1)"
   ]
  },
  {
   "cell_type": "markdown",
   "metadata": {},
   "source": []
  },
  {
   "cell_type": "markdown",
   "metadata": {},
   "source": [
    "### Result 1:\n",
    "Are there differences in fidelity for different reduction techniques?\n",
    "\n",
    "No"
   ]
  },
  {
   "cell_type": "code",
   "execution_count": 58,
   "metadata": {},
   "outputs": [
    {
     "data": {
      "application/vnd.plotly.v1+json": {
       "config": {
        "plotlyServerURL": "https://plot.ly"
       },
       "data": [
        {
         "alignmentgroup": "True",
         "boxpoints": "all",
         "customdata": [
          [
           "1"
          ],
          [
           "2"
          ],
          [
           "3"
          ],
          [
           "6"
          ],
          [
           "10"
          ],
          [
           "8"
          ],
          [
           "12"
          ]
         ],
         "fillcolor": "rgba(255,255,255,0)",
         "hoveron": "points",
         "hovertemplate": "reducer_type=NMF<br>n_cavs=%{x}<br>fidelity_avg=%{y}<br>rank_str=%{customdata[0]}<extra></extra>",
         "legendgroup": "NMF",
         "line": {
          "color": "rgba(255,255,255,0)"
         },
         "marker": {
          "color": "#636efa"
         },
         "name": "NMF",
         "offsetgroup": "NMF",
         "orientation": "v",
         "pointpos": 0,
         "showlegend": true,
         "type": "box",
         "x": [
          1,
          2,
          3,
          6,
          10,
          8,
          12
         ],
         "x0": " ",
         "xaxis": "x",
         "y": [
          0.9614486284680861,
          0.5906216258686923,
          0.5857329171289618,
          0.09552547044359826,
          0.09412293917783665,
          0.08961968278419481,
          0.09203827716384355
         ],
         "y0": " ",
         "yaxis": "y"
        },
        {
         "alignmentgroup": "True",
         "boxpoints": "all",
         "customdata": [
          [
           "[10, 39, 375]"
          ],
          [
           "[8, 39, 375]"
          ],
          [
           "[6, 39, 375]"
          ],
          [
           "[3, 39, 375]"
          ],
          [
           "[2, 39, 375]"
          ],
          [
           "[1, 39, 375]"
          ]
         ],
         "fillcolor": "rgba(255,255,255,0)",
         "hoveron": "points",
         "hovertemplate": "reducer_type=NTD3<br>n_cavs=%{x}<br>fidelity_avg=%{y}<br>rank_str=%{customdata[0]}<extra></extra>",
         "legendgroup": "NTD3",
         "line": {
          "color": "rgba(255,255,255,0)"
         },
         "marker": {
          "color": "#EF553B"
         },
         "name": "NTD3",
         "offsetgroup": "NTD3",
         "orientation": "v",
         "pointpos": 0,
         "showlegend": true,
         "type": "box",
         "x": [
          10,
          8,
          6,
          3,
          2,
          1
         ],
         "x0": " ",
         "xaxis": "x",
         "y": [
          0.09619991999168565,
          0.09871310655751922,
          0.09763724248417795,
          0.5836378949857435,
          0.5867889893666929,
          0.9658653216551208
         ],
         "y0": " ",
         "yaxis": "y"
        },
        {
         "alignmentgroup": "True",
         "boxpoints": "all",
         "customdata": [
          [
           "[10, 13, 3, 375]"
          ],
          [
           "[8, 13, 3, 375]"
          ],
          [
           "[6, 13, 3, 375]"
          ],
          [
           "[3, 13, 3, 375]"
          ],
          [
           "[1, 13, 3, 375]"
          ],
          [
           "[2, 13, 3, 375]"
          ]
         ],
         "fillcolor": "rgba(255,255,255,0)",
         "hoveron": "points",
         "hovertemplate": "reducer_type=NTD4<br>n_cavs=%{x}<br>fidelity_avg=%{y}<br>rank_str=%{customdata[0]}<extra></extra>",
         "legendgroup": "NTD4",
         "line": {
          "color": "rgba(255,255,255,0)"
         },
         "marker": {
          "color": "#00cc96"
         },
         "name": "NTD4",
         "offsetgroup": "NTD4",
         "orientation": "v",
         "pointpos": 0,
         "showlegend": true,
         "type": "box",
         "x": [
          10,
          8,
          6,
          3,
          1,
          2
         ],
         "x0": " ",
         "xaxis": "x",
         "y": [
          0.10099538773307629,
          0.10015473216414375,
          0.09634866659348915,
          0.584771187319489,
          0.963461237795483,
          0.5875680577498656
         ],
         "y0": " ",
         "yaxis": "y"
        }
       ],
       "layout": {
        "boxmode": "group",
        "legend": {
         "title": {
          "text": "reducer_type"
         },
         "tracegroupgap": 0
        },
        "margin": {
         "t": 60
        },
        "template": {
         "data": {
          "bar": [
           {
            "error_x": {
             "color": "#2a3f5f"
            },
            "error_y": {
             "color": "#2a3f5f"
            },
            "marker": {
             "line": {
              "color": "#E5ECF6",
              "width": 0.5
             },
             "pattern": {
              "fillmode": "overlay",
              "size": 10,
              "solidity": 0.2
             }
            },
            "type": "bar"
           }
          ],
          "barpolar": [
           {
            "marker": {
             "line": {
              "color": "#E5ECF6",
              "width": 0.5
             },
             "pattern": {
              "fillmode": "overlay",
              "size": 10,
              "solidity": 0.2
             }
            },
            "type": "barpolar"
           }
          ],
          "carpet": [
           {
            "aaxis": {
             "endlinecolor": "#2a3f5f",
             "gridcolor": "white",
             "linecolor": "white",
             "minorgridcolor": "white",
             "startlinecolor": "#2a3f5f"
            },
            "baxis": {
             "endlinecolor": "#2a3f5f",
             "gridcolor": "white",
             "linecolor": "white",
             "minorgridcolor": "white",
             "startlinecolor": "#2a3f5f"
            },
            "type": "carpet"
           }
          ],
          "choropleth": [
           {
            "colorbar": {
             "outlinewidth": 0,
             "ticks": ""
            },
            "type": "choropleth"
           }
          ],
          "contour": [
           {
            "colorbar": {
             "outlinewidth": 0,
             "ticks": ""
            },
            "colorscale": [
             [
              0,
              "#0d0887"
             ],
             [
              0.1111111111111111,
              "#46039f"
             ],
             [
              0.2222222222222222,
              "#7201a8"
             ],
             [
              0.3333333333333333,
              "#9c179e"
             ],
             [
              0.4444444444444444,
              "#bd3786"
             ],
             [
              0.5555555555555556,
              "#d8576b"
             ],
             [
              0.6666666666666666,
              "#ed7953"
             ],
             [
              0.7777777777777778,
              "#fb9f3a"
             ],
             [
              0.8888888888888888,
              "#fdca26"
             ],
             [
              1,
              "#f0f921"
             ]
            ],
            "type": "contour"
           }
          ],
          "contourcarpet": [
           {
            "colorbar": {
             "outlinewidth": 0,
             "ticks": ""
            },
            "type": "contourcarpet"
           }
          ],
          "heatmap": [
           {
            "colorbar": {
             "outlinewidth": 0,
             "ticks": ""
            },
            "colorscale": [
             [
              0,
              "#0d0887"
             ],
             [
              0.1111111111111111,
              "#46039f"
             ],
             [
              0.2222222222222222,
              "#7201a8"
             ],
             [
              0.3333333333333333,
              "#9c179e"
             ],
             [
              0.4444444444444444,
              "#bd3786"
             ],
             [
              0.5555555555555556,
              "#d8576b"
             ],
             [
              0.6666666666666666,
              "#ed7953"
             ],
             [
              0.7777777777777778,
              "#fb9f3a"
             ],
             [
              0.8888888888888888,
              "#fdca26"
             ],
             [
              1,
              "#f0f921"
             ]
            ],
            "type": "heatmap"
           }
          ],
          "heatmapgl": [
           {
            "colorbar": {
             "outlinewidth": 0,
             "ticks": ""
            },
            "colorscale": [
             [
              0,
              "#0d0887"
             ],
             [
              0.1111111111111111,
              "#46039f"
             ],
             [
              0.2222222222222222,
              "#7201a8"
             ],
             [
              0.3333333333333333,
              "#9c179e"
             ],
             [
              0.4444444444444444,
              "#bd3786"
             ],
             [
              0.5555555555555556,
              "#d8576b"
             ],
             [
              0.6666666666666666,
              "#ed7953"
             ],
             [
              0.7777777777777778,
              "#fb9f3a"
             ],
             [
              0.8888888888888888,
              "#fdca26"
             ],
             [
              1,
              "#f0f921"
             ]
            ],
            "type": "heatmapgl"
           }
          ],
          "histogram": [
           {
            "marker": {
             "pattern": {
              "fillmode": "overlay",
              "size": 10,
              "solidity": 0.2
             }
            },
            "type": "histogram"
           }
          ],
          "histogram2d": [
           {
            "colorbar": {
             "outlinewidth": 0,
             "ticks": ""
            },
            "colorscale": [
             [
              0,
              "#0d0887"
             ],
             [
              0.1111111111111111,
              "#46039f"
             ],
             [
              0.2222222222222222,
              "#7201a8"
             ],
             [
              0.3333333333333333,
              "#9c179e"
             ],
             [
              0.4444444444444444,
              "#bd3786"
             ],
             [
              0.5555555555555556,
              "#d8576b"
             ],
             [
              0.6666666666666666,
              "#ed7953"
             ],
             [
              0.7777777777777778,
              "#fb9f3a"
             ],
             [
              0.8888888888888888,
              "#fdca26"
             ],
             [
              1,
              "#f0f921"
             ]
            ],
            "type": "histogram2d"
           }
          ],
          "histogram2dcontour": [
           {
            "colorbar": {
             "outlinewidth": 0,
             "ticks": ""
            },
            "colorscale": [
             [
              0,
              "#0d0887"
             ],
             [
              0.1111111111111111,
              "#46039f"
             ],
             [
              0.2222222222222222,
              "#7201a8"
             ],
             [
              0.3333333333333333,
              "#9c179e"
             ],
             [
              0.4444444444444444,
              "#bd3786"
             ],
             [
              0.5555555555555556,
              "#d8576b"
             ],
             [
              0.6666666666666666,
              "#ed7953"
             ],
             [
              0.7777777777777778,
              "#fb9f3a"
             ],
             [
              0.8888888888888888,
              "#fdca26"
             ],
             [
              1,
              "#f0f921"
             ]
            ],
            "type": "histogram2dcontour"
           }
          ],
          "mesh3d": [
           {
            "colorbar": {
             "outlinewidth": 0,
             "ticks": ""
            },
            "type": "mesh3d"
           }
          ],
          "parcoords": [
           {
            "line": {
             "colorbar": {
              "outlinewidth": 0,
              "ticks": ""
             }
            },
            "type": "parcoords"
           }
          ],
          "pie": [
           {
            "automargin": true,
            "type": "pie"
           }
          ],
          "scatter": [
           {
            "fillpattern": {
             "fillmode": "overlay",
             "size": 10,
             "solidity": 0.2
            },
            "type": "scatter"
           }
          ],
          "scatter3d": [
           {
            "line": {
             "colorbar": {
              "outlinewidth": 0,
              "ticks": ""
             }
            },
            "marker": {
             "colorbar": {
              "outlinewidth": 0,
              "ticks": ""
             }
            },
            "type": "scatter3d"
           }
          ],
          "scattercarpet": [
           {
            "marker": {
             "colorbar": {
              "outlinewidth": 0,
              "ticks": ""
             }
            },
            "type": "scattercarpet"
           }
          ],
          "scattergeo": [
           {
            "marker": {
             "colorbar": {
              "outlinewidth": 0,
              "ticks": ""
             }
            },
            "type": "scattergeo"
           }
          ],
          "scattergl": [
           {
            "marker": {
             "colorbar": {
              "outlinewidth": 0,
              "ticks": ""
             }
            },
            "type": "scattergl"
           }
          ],
          "scattermapbox": [
           {
            "marker": {
             "colorbar": {
              "outlinewidth": 0,
              "ticks": ""
             }
            },
            "type": "scattermapbox"
           }
          ],
          "scatterpolar": [
           {
            "marker": {
             "colorbar": {
              "outlinewidth": 0,
              "ticks": ""
             }
            },
            "type": "scatterpolar"
           }
          ],
          "scatterpolargl": [
           {
            "marker": {
             "colorbar": {
              "outlinewidth": 0,
              "ticks": ""
             }
            },
            "type": "scatterpolargl"
           }
          ],
          "scatterternary": [
           {
            "marker": {
             "colorbar": {
              "outlinewidth": 0,
              "ticks": ""
             }
            },
            "type": "scatterternary"
           }
          ],
          "surface": [
           {
            "colorbar": {
             "outlinewidth": 0,
             "ticks": ""
            },
            "colorscale": [
             [
              0,
              "#0d0887"
             ],
             [
              0.1111111111111111,
              "#46039f"
             ],
             [
              0.2222222222222222,
              "#7201a8"
             ],
             [
              0.3333333333333333,
              "#9c179e"
             ],
             [
              0.4444444444444444,
              "#bd3786"
             ],
             [
              0.5555555555555556,
              "#d8576b"
             ],
             [
              0.6666666666666666,
              "#ed7953"
             ],
             [
              0.7777777777777778,
              "#fb9f3a"
             ],
             [
              0.8888888888888888,
              "#fdca26"
             ],
             [
              1,
              "#f0f921"
             ]
            ],
            "type": "surface"
           }
          ],
          "table": [
           {
            "cells": {
             "fill": {
              "color": "#EBF0F8"
             },
             "line": {
              "color": "white"
             }
            },
            "header": {
             "fill": {
              "color": "#C8D4E3"
             },
             "line": {
              "color": "white"
             }
            },
            "type": "table"
           }
          ]
         },
         "layout": {
          "annotationdefaults": {
           "arrowcolor": "#2a3f5f",
           "arrowhead": 0,
           "arrowwidth": 1
          },
          "autotypenumbers": "strict",
          "coloraxis": {
           "colorbar": {
            "outlinewidth": 0,
            "ticks": ""
           }
          },
          "colorscale": {
           "diverging": [
            [
             0,
             "#8e0152"
            ],
            [
             0.1,
             "#c51b7d"
            ],
            [
             0.2,
             "#de77ae"
            ],
            [
             0.3,
             "#f1b6da"
            ],
            [
             0.4,
             "#fde0ef"
            ],
            [
             0.5,
             "#f7f7f7"
            ],
            [
             0.6,
             "#e6f5d0"
            ],
            [
             0.7,
             "#b8e186"
            ],
            [
             0.8,
             "#7fbc41"
            ],
            [
             0.9,
             "#4d9221"
            ],
            [
             1,
             "#276419"
            ]
           ],
           "sequential": [
            [
             0,
             "#0d0887"
            ],
            [
             0.1111111111111111,
             "#46039f"
            ],
            [
             0.2222222222222222,
             "#7201a8"
            ],
            [
             0.3333333333333333,
             "#9c179e"
            ],
            [
             0.4444444444444444,
             "#bd3786"
            ],
            [
             0.5555555555555556,
             "#d8576b"
            ],
            [
             0.6666666666666666,
             "#ed7953"
            ],
            [
             0.7777777777777778,
             "#fb9f3a"
            ],
            [
             0.8888888888888888,
             "#fdca26"
            ],
            [
             1,
             "#f0f921"
            ]
           ],
           "sequentialminus": [
            [
             0,
             "#0d0887"
            ],
            [
             0.1111111111111111,
             "#46039f"
            ],
            [
             0.2222222222222222,
             "#7201a8"
            ],
            [
             0.3333333333333333,
             "#9c179e"
            ],
            [
             0.4444444444444444,
             "#bd3786"
            ],
            [
             0.5555555555555556,
             "#d8576b"
            ],
            [
             0.6666666666666666,
             "#ed7953"
            ],
            [
             0.7777777777777778,
             "#fb9f3a"
            ],
            [
             0.8888888888888888,
             "#fdca26"
            ],
            [
             1,
             "#f0f921"
            ]
           ]
          },
          "colorway": [
           "#636efa",
           "#EF553B",
           "#00cc96",
           "#ab63fa",
           "#FFA15A",
           "#19d3f3",
           "#FF6692",
           "#B6E880",
           "#FF97FF",
           "#FECB52"
          ],
          "font": {
           "color": "#2a3f5f"
          },
          "geo": {
           "bgcolor": "white",
           "lakecolor": "white",
           "landcolor": "#E5ECF6",
           "showlakes": true,
           "showland": true,
           "subunitcolor": "white"
          },
          "hoverlabel": {
           "align": "left"
          },
          "hovermode": "closest",
          "mapbox": {
           "style": "light"
          },
          "paper_bgcolor": "white",
          "plot_bgcolor": "#E5ECF6",
          "polar": {
           "angularaxis": {
            "gridcolor": "white",
            "linecolor": "white",
            "ticks": ""
           },
           "bgcolor": "#E5ECF6",
           "radialaxis": {
            "gridcolor": "white",
            "linecolor": "white",
            "ticks": ""
           }
          },
          "scene": {
           "xaxis": {
            "backgroundcolor": "#E5ECF6",
            "gridcolor": "white",
            "gridwidth": 2,
            "linecolor": "white",
            "showbackground": true,
            "ticks": "",
            "zerolinecolor": "white"
           },
           "yaxis": {
            "backgroundcolor": "#E5ECF6",
            "gridcolor": "white",
            "gridwidth": 2,
            "linecolor": "white",
            "showbackground": true,
            "ticks": "",
            "zerolinecolor": "white"
           },
           "zaxis": {
            "backgroundcolor": "#E5ECF6",
            "gridcolor": "white",
            "gridwidth": 2,
            "linecolor": "white",
            "showbackground": true,
            "ticks": "",
            "zerolinecolor": "white"
           }
          },
          "shapedefaults": {
           "line": {
            "color": "#2a3f5f"
           }
          },
          "ternary": {
           "aaxis": {
            "gridcolor": "white",
            "linecolor": "white",
            "ticks": ""
           },
           "baxis": {
            "gridcolor": "white",
            "linecolor": "white",
            "ticks": ""
           },
           "bgcolor": "#E5ECF6",
           "caxis": {
            "gridcolor": "white",
            "linecolor": "white",
            "ticks": ""
           }
          },
          "title": {
           "x": 0.05
          },
          "xaxis": {
           "automargin": true,
           "gridcolor": "white",
           "linecolor": "white",
           "ticks": "",
           "title": {
            "standoff": 15
           },
           "zerolinecolor": "white",
           "zerolinewidth": 2
          },
          "yaxis": {
           "automargin": true,
           "gridcolor": "white",
           "linecolor": "white",
           "ticks": "",
           "title": {
            "standoff": 15
           },
           "zerolinecolor": "white",
           "zerolinewidth": 2
          }
         }
        },
        "xaxis": {
         "anchor": "y",
         "domain": [
          0,
          1
         ],
         "title": {
          "text": "n_cavs"
         }
        },
        "yaxis": {
         "anchor": "x",
         "domain": [
          0,
          1
         ],
         "title": {
          "text": "fidelity_avg"
         }
        }
       }
      },
      "text/html": [
       "<div>                            <div id=\"96dce7e5-35b0-4f5d-944a-6bbe906efee5\" class=\"plotly-graph-div\" style=\"height:525px; width:100%;\"></div>            <script type=\"text/javascript\">                require([\"plotly\"], function(Plotly) {                    window.PLOTLYENV=window.PLOTLYENV || {};                                    if (document.getElementById(\"96dce7e5-35b0-4f5d-944a-6bbe906efee5\")) {                    Plotly.newPlot(                        \"96dce7e5-35b0-4f5d-944a-6bbe906efee5\",                        [{\"alignmentgroup\":\"True\",\"boxpoints\":\"all\",\"customdata\":[[\"1\"],[\"2\"],[\"3\"],[\"6\"],[\"10\"],[\"8\"],[\"12\"]],\"fillcolor\":\"rgba(255,255,255,0)\",\"hoveron\":\"points\",\"hovertemplate\":\"reducer_type=NMF<br>n_cavs=%{x}<br>fidelity_avg=%{y}<br>rank_str=%{customdata[0]}<extra></extra>\",\"legendgroup\":\"NMF\",\"line\":{\"color\":\"rgba(255,255,255,0)\"},\"marker\":{\"color\":\"#636efa\"},\"name\":\"NMF\",\"offsetgroup\":\"NMF\",\"orientation\":\"v\",\"pointpos\":0,\"showlegend\":true,\"x\":[1,2,3,6,10,8,12],\"x0\":\" \",\"xaxis\":\"x\",\"y\":[0.9614486284680861,0.5906216258686923,0.5857329171289618,0.09552547044359826,0.09412293917783665,0.08961968278419481,0.09203827716384355],\"y0\":\" \",\"yaxis\":\"y\",\"type\":\"box\"},{\"alignmentgroup\":\"True\",\"boxpoints\":\"all\",\"customdata\":[[\"[10, 39, 375]\"],[\"[8, 39, 375]\"],[\"[6, 39, 375]\"],[\"[3, 39, 375]\"],[\"[2, 39, 375]\"],[\"[1, 39, 375]\"]],\"fillcolor\":\"rgba(255,255,255,0)\",\"hoveron\":\"points\",\"hovertemplate\":\"reducer_type=NTD3<br>n_cavs=%{x}<br>fidelity_avg=%{y}<br>rank_str=%{customdata[0]}<extra></extra>\",\"legendgroup\":\"NTD3\",\"line\":{\"color\":\"rgba(255,255,255,0)\"},\"marker\":{\"color\":\"#EF553B\"},\"name\":\"NTD3\",\"offsetgroup\":\"NTD3\",\"orientation\":\"v\",\"pointpos\":0,\"showlegend\":true,\"x\":[10,8,6,3,2,1],\"x0\":\" \",\"xaxis\":\"x\",\"y\":[0.09619991999168565,0.09871310655751922,0.09763724248417795,0.5836378949857435,0.5867889893666929,0.9658653216551208],\"y0\":\" \",\"yaxis\":\"y\",\"type\":\"box\"},{\"alignmentgroup\":\"True\",\"boxpoints\":\"all\",\"customdata\":[[\"[10, 13, 3, 375]\"],[\"[8, 13, 3, 375]\"],[\"[6, 13, 3, 375]\"],[\"[3, 13, 3, 375]\"],[\"[1, 13, 3, 375]\"],[\"[2, 13, 3, 375]\"]],\"fillcolor\":\"rgba(255,255,255,0)\",\"hoveron\":\"points\",\"hovertemplate\":\"reducer_type=NTD4<br>n_cavs=%{x}<br>fidelity_avg=%{y}<br>rank_str=%{customdata[0]}<extra></extra>\",\"legendgroup\":\"NTD4\",\"line\":{\"color\":\"rgba(255,255,255,0)\"},\"marker\":{\"color\":\"#00cc96\"},\"name\":\"NTD4\",\"offsetgroup\":\"NTD4\",\"orientation\":\"v\",\"pointpos\":0,\"showlegend\":true,\"x\":[10,8,6,3,1,2],\"x0\":\" \",\"xaxis\":\"x\",\"y\":[0.10099538773307629,0.10015473216414375,0.09634866659348915,0.584771187319489,0.963461237795483,0.5875680577498656],\"y0\":\" \",\"yaxis\":\"y\",\"type\":\"box\"}],                        {\"template\":{\"data\":{\"histogram2dcontour\":[{\"type\":\"histogram2dcontour\",\"colorbar\":{\"outlinewidth\":0,\"ticks\":\"\"},\"colorscale\":[[0.0,\"#0d0887\"],[0.1111111111111111,\"#46039f\"],[0.2222222222222222,\"#7201a8\"],[0.3333333333333333,\"#9c179e\"],[0.4444444444444444,\"#bd3786\"],[0.5555555555555556,\"#d8576b\"],[0.6666666666666666,\"#ed7953\"],[0.7777777777777778,\"#fb9f3a\"],[0.8888888888888888,\"#fdca26\"],[1.0,\"#f0f921\"]]}],\"choropleth\":[{\"type\":\"choropleth\",\"colorbar\":{\"outlinewidth\":0,\"ticks\":\"\"}}],\"histogram2d\":[{\"type\":\"histogram2d\",\"colorbar\":{\"outlinewidth\":0,\"ticks\":\"\"},\"colorscale\":[[0.0,\"#0d0887\"],[0.1111111111111111,\"#46039f\"],[0.2222222222222222,\"#7201a8\"],[0.3333333333333333,\"#9c179e\"],[0.4444444444444444,\"#bd3786\"],[0.5555555555555556,\"#d8576b\"],[0.6666666666666666,\"#ed7953\"],[0.7777777777777778,\"#fb9f3a\"],[0.8888888888888888,\"#fdca26\"],[1.0,\"#f0f921\"]]}],\"heatmap\":[{\"type\":\"heatmap\",\"colorbar\":{\"outlinewidth\":0,\"ticks\":\"\"},\"colorscale\":[[0.0,\"#0d0887\"],[0.1111111111111111,\"#46039f\"],[0.2222222222222222,\"#7201a8\"],[0.3333333333333333,\"#9c179e\"],[0.4444444444444444,\"#bd3786\"],[0.5555555555555556,\"#d8576b\"],[0.6666666666666666,\"#ed7953\"],[0.7777777777777778,\"#fb9f3a\"],[0.8888888888888888,\"#fdca26\"],[1.0,\"#f0f921\"]]}],\"heatmapgl\":[{\"type\":\"heatmapgl\",\"colorbar\":{\"outlinewidth\":0,\"ticks\":\"\"},\"colorscale\":[[0.0,\"#0d0887\"],[0.1111111111111111,\"#46039f\"],[0.2222222222222222,\"#7201a8\"],[0.3333333333333333,\"#9c179e\"],[0.4444444444444444,\"#bd3786\"],[0.5555555555555556,\"#d8576b\"],[0.6666666666666666,\"#ed7953\"],[0.7777777777777778,\"#fb9f3a\"],[0.8888888888888888,\"#fdca26\"],[1.0,\"#f0f921\"]]}],\"contourcarpet\":[{\"type\":\"contourcarpet\",\"colorbar\":{\"outlinewidth\":0,\"ticks\":\"\"}}],\"contour\":[{\"type\":\"contour\",\"colorbar\":{\"outlinewidth\":0,\"ticks\":\"\"},\"colorscale\":[[0.0,\"#0d0887\"],[0.1111111111111111,\"#46039f\"],[0.2222222222222222,\"#7201a8\"],[0.3333333333333333,\"#9c179e\"],[0.4444444444444444,\"#bd3786\"],[0.5555555555555556,\"#d8576b\"],[0.6666666666666666,\"#ed7953\"],[0.7777777777777778,\"#fb9f3a\"],[0.8888888888888888,\"#fdca26\"],[1.0,\"#f0f921\"]]}],\"surface\":[{\"type\":\"surface\",\"colorbar\":{\"outlinewidth\":0,\"ticks\":\"\"},\"colorscale\":[[0.0,\"#0d0887\"],[0.1111111111111111,\"#46039f\"],[0.2222222222222222,\"#7201a8\"],[0.3333333333333333,\"#9c179e\"],[0.4444444444444444,\"#bd3786\"],[0.5555555555555556,\"#d8576b\"],[0.6666666666666666,\"#ed7953\"],[0.7777777777777778,\"#fb9f3a\"],[0.8888888888888888,\"#fdca26\"],[1.0,\"#f0f921\"]]}],\"mesh3d\":[{\"type\":\"mesh3d\",\"colorbar\":{\"outlinewidth\":0,\"ticks\":\"\"}}],\"scatter\":[{\"fillpattern\":{\"fillmode\":\"overlay\",\"size\":10,\"solidity\":0.2},\"type\":\"scatter\"}],\"parcoords\":[{\"type\":\"parcoords\",\"line\":{\"colorbar\":{\"outlinewidth\":0,\"ticks\":\"\"}}}],\"scatterpolargl\":[{\"type\":\"scatterpolargl\",\"marker\":{\"colorbar\":{\"outlinewidth\":0,\"ticks\":\"\"}}}],\"bar\":[{\"error_x\":{\"color\":\"#2a3f5f\"},\"error_y\":{\"color\":\"#2a3f5f\"},\"marker\":{\"line\":{\"color\":\"#E5ECF6\",\"width\":0.5},\"pattern\":{\"fillmode\":\"overlay\",\"size\":10,\"solidity\":0.2}},\"type\":\"bar\"}],\"scattergeo\":[{\"type\":\"scattergeo\",\"marker\":{\"colorbar\":{\"outlinewidth\":0,\"ticks\":\"\"}}}],\"scatterpolar\":[{\"type\":\"scatterpolar\",\"marker\":{\"colorbar\":{\"outlinewidth\":0,\"ticks\":\"\"}}}],\"histogram\":[{\"marker\":{\"pattern\":{\"fillmode\":\"overlay\",\"size\":10,\"solidity\":0.2}},\"type\":\"histogram\"}],\"scattergl\":[{\"type\":\"scattergl\",\"marker\":{\"colorbar\":{\"outlinewidth\":0,\"ticks\":\"\"}}}],\"scatter3d\":[{\"type\":\"scatter3d\",\"line\":{\"colorbar\":{\"outlinewidth\":0,\"ticks\":\"\"}},\"marker\":{\"colorbar\":{\"outlinewidth\":0,\"ticks\":\"\"}}}],\"scattermapbox\":[{\"type\":\"scattermapbox\",\"marker\":{\"colorbar\":{\"outlinewidth\":0,\"ticks\":\"\"}}}],\"scatterternary\":[{\"type\":\"scatterternary\",\"marker\":{\"colorbar\":{\"outlinewidth\":0,\"ticks\":\"\"}}}],\"scattercarpet\":[{\"type\":\"scattercarpet\",\"marker\":{\"colorbar\":{\"outlinewidth\":0,\"ticks\":\"\"}}}],\"carpet\":[{\"aaxis\":{\"endlinecolor\":\"#2a3f5f\",\"gridcolor\":\"white\",\"linecolor\":\"white\",\"minorgridcolor\":\"white\",\"startlinecolor\":\"#2a3f5f\"},\"baxis\":{\"endlinecolor\":\"#2a3f5f\",\"gridcolor\":\"white\",\"linecolor\":\"white\",\"minorgridcolor\":\"white\",\"startlinecolor\":\"#2a3f5f\"},\"type\":\"carpet\"}],\"table\":[{\"cells\":{\"fill\":{\"color\":\"#EBF0F8\"},\"line\":{\"color\":\"white\"}},\"header\":{\"fill\":{\"color\":\"#C8D4E3\"},\"line\":{\"color\":\"white\"}},\"type\":\"table\"}],\"barpolar\":[{\"marker\":{\"line\":{\"color\":\"#E5ECF6\",\"width\":0.5},\"pattern\":{\"fillmode\":\"overlay\",\"size\":10,\"solidity\":0.2}},\"type\":\"barpolar\"}],\"pie\":[{\"automargin\":true,\"type\":\"pie\"}]},\"layout\":{\"autotypenumbers\":\"strict\",\"colorway\":[\"#636efa\",\"#EF553B\",\"#00cc96\",\"#ab63fa\",\"#FFA15A\",\"#19d3f3\",\"#FF6692\",\"#B6E880\",\"#FF97FF\",\"#FECB52\"],\"font\":{\"color\":\"#2a3f5f\"},\"hovermode\":\"closest\",\"hoverlabel\":{\"align\":\"left\"},\"paper_bgcolor\":\"white\",\"plot_bgcolor\":\"#E5ECF6\",\"polar\":{\"bgcolor\":\"#E5ECF6\",\"angularaxis\":{\"gridcolor\":\"white\",\"linecolor\":\"white\",\"ticks\":\"\"},\"radialaxis\":{\"gridcolor\":\"white\",\"linecolor\":\"white\",\"ticks\":\"\"}},\"ternary\":{\"bgcolor\":\"#E5ECF6\",\"aaxis\":{\"gridcolor\":\"white\",\"linecolor\":\"white\",\"ticks\":\"\"},\"baxis\":{\"gridcolor\":\"white\",\"linecolor\":\"white\",\"ticks\":\"\"},\"caxis\":{\"gridcolor\":\"white\",\"linecolor\":\"white\",\"ticks\":\"\"}},\"coloraxis\":{\"colorbar\":{\"outlinewidth\":0,\"ticks\":\"\"}},\"colorscale\":{\"sequential\":[[0.0,\"#0d0887\"],[0.1111111111111111,\"#46039f\"],[0.2222222222222222,\"#7201a8\"],[0.3333333333333333,\"#9c179e\"],[0.4444444444444444,\"#bd3786\"],[0.5555555555555556,\"#d8576b\"],[0.6666666666666666,\"#ed7953\"],[0.7777777777777778,\"#fb9f3a\"],[0.8888888888888888,\"#fdca26\"],[1.0,\"#f0f921\"]],\"sequentialminus\":[[0.0,\"#0d0887\"],[0.1111111111111111,\"#46039f\"],[0.2222222222222222,\"#7201a8\"],[0.3333333333333333,\"#9c179e\"],[0.4444444444444444,\"#bd3786\"],[0.5555555555555556,\"#d8576b\"],[0.6666666666666666,\"#ed7953\"],[0.7777777777777778,\"#fb9f3a\"],[0.8888888888888888,\"#fdca26\"],[1.0,\"#f0f921\"]],\"diverging\":[[0,\"#8e0152\"],[0.1,\"#c51b7d\"],[0.2,\"#de77ae\"],[0.3,\"#f1b6da\"],[0.4,\"#fde0ef\"],[0.5,\"#f7f7f7\"],[0.6,\"#e6f5d0\"],[0.7,\"#b8e186\"],[0.8,\"#7fbc41\"],[0.9,\"#4d9221\"],[1,\"#276419\"]]},\"xaxis\":{\"gridcolor\":\"white\",\"linecolor\":\"white\",\"ticks\":\"\",\"title\":{\"standoff\":15},\"zerolinecolor\":\"white\",\"automargin\":true,\"zerolinewidth\":2},\"yaxis\":{\"gridcolor\":\"white\",\"linecolor\":\"white\",\"ticks\":\"\",\"title\":{\"standoff\":15},\"zerolinecolor\":\"white\",\"automargin\":true,\"zerolinewidth\":2},\"scene\":{\"xaxis\":{\"backgroundcolor\":\"#E5ECF6\",\"gridcolor\":\"white\",\"linecolor\":\"white\",\"showbackground\":true,\"ticks\":\"\",\"zerolinecolor\":\"white\",\"gridwidth\":2},\"yaxis\":{\"backgroundcolor\":\"#E5ECF6\",\"gridcolor\":\"white\",\"linecolor\":\"white\",\"showbackground\":true,\"ticks\":\"\",\"zerolinecolor\":\"white\",\"gridwidth\":2},\"zaxis\":{\"backgroundcolor\":\"#E5ECF6\",\"gridcolor\":\"white\",\"linecolor\":\"white\",\"showbackground\":true,\"ticks\":\"\",\"zerolinecolor\":\"white\",\"gridwidth\":2}},\"shapedefaults\":{\"line\":{\"color\":\"#2a3f5f\"}},\"annotationdefaults\":{\"arrowcolor\":\"#2a3f5f\",\"arrowhead\":0,\"arrowwidth\":1},\"geo\":{\"bgcolor\":\"white\",\"landcolor\":\"#E5ECF6\",\"subunitcolor\":\"white\",\"showland\":true,\"showlakes\":true,\"lakecolor\":\"white\"},\"title\":{\"x\":0.05},\"mapbox\":{\"style\":\"light\"}}},\"xaxis\":{\"anchor\":\"y\",\"domain\":[0.0,1.0],\"title\":{\"text\":\"n_cavs\"}},\"yaxis\":{\"anchor\":\"x\",\"domain\":[0.0,1.0],\"title\":{\"text\":\"fidelity_avg\"}},\"legend\":{\"title\":{\"text\":\"reducer_type\"},\"tracegroupgap\":0},\"margin\":{\"t\":60},\"boxmode\":\"group\"},                        {\"responsive\": true}                    ).then(function(){\n",
       "                            \n",
       "var gd = document.getElementById('96dce7e5-35b0-4f5d-944a-6bbe906efee5');\n",
       "var x = new MutationObserver(function (mutations, observer) {{\n",
       "        var display = window.getComputedStyle(gd).display;\n",
       "        if (!display || display === 'none') {{\n",
       "            console.log([gd, 'removed!']);\n",
       "            Plotly.purge(gd);\n",
       "            observer.disconnect();\n",
       "        }}\n",
       "}});\n",
       "\n",
       "// Listen for the removal of the full notebook cells\n",
       "var notebookContainer = gd.closest('#notebook-container');\n",
       "if (notebookContainer) {{\n",
       "    x.observe(notebookContainer, {childList: true});\n",
       "}}\n",
       "\n",
       "// Listen for the clearing of the current output cell\n",
       "var outputEl = gd.closest('.output');\n",
       "if (outputEl) {{\n",
       "    x.observe(outputEl, {childList: true});\n",
       "}}\n",
       "\n",
       "                        })                };                });            </script>        </div>"
      ]
     },
     "metadata": {},
     "output_type": "display_data"
    }
   ],
   "source": [
    "fdf = df[df[\"full_dim\"]]\n",
    "px.strip(fdf, x= 'n_cavs', y='fidelity_avg', color = \"reducer_type\", hover_data=['rank_str'])"
   ]
  },
  {
   "cell_type": "markdown",
   "metadata": {},
   "source": [
    "### Result 2:\n"
   ]
  },
  {
   "cell_type": "code",
   "execution_count": 44,
   "metadata": {},
   "outputs": [
    {
     "data": {
      "application/vnd.plotly.v1+json": {
       "config": {
        "plotlyServerURL": "https://plot.ly"
       },
       "data": [
        {
         "customdata": [
          [
           "1"
          ],
          [
           "2"
          ],
          [
           "3"
          ],
          [
           "6"
          ],
          [
           "10"
          ],
          [
           "8"
          ],
          [
           "12"
          ]
         ],
         "hovertemplate": "reducer_type=NMF<br>n_cavs=%{marker.color}<br>fidelity_avg=%{y}<br>rank_str=%{customdata[0]}<extra></extra>",
         "legendgroup": "NMF",
         "marker": {
          "color": [
           1,
           2,
           3,
           6,
           10,
           8,
           12
          ],
          "coloraxis": "coloraxis",
          "symbol": "circle"
         },
         "mode": "markers",
         "name": "NMF",
         "orientation": "v",
         "showlegend": true,
         "type": "scatter",
         "x": [
          1,
          2,
          3,
          6,
          10,
          8,
          12
         ],
         "xaxis": "x",
         "y": [
          0.9614486284680861,
          0.5906216258686923,
          0.5857329171289618,
          0.09552547044359826,
          0.09412293917783665,
          0.08961968278419481,
          0.09203827716384355
         ],
         "yaxis": "y"
        },
        {
         "customdata": [
          [
           "[3, 20, 100]"
          ],
          [
           "[6, 20, 100]"
          ],
          [
           "[10, 20, 100]"
          ],
          [
           "[3, 20, 25]"
          ],
          [
           "[6, 20, 25]"
          ],
          [
           "[10, 20, 25]"
          ],
          [
           "[3, 30, 100]"
          ],
          [
           "[6, 30, 100]"
          ],
          [
           "[10, 30, 100]"
          ],
          [
           "[6, 39, 80]"
          ],
          [
           "[10, 39, 80]"
          ],
          [
           "[6, 39, 200]"
          ],
          [
           "[10, 39, 200]"
          ],
          [
           "[8, 39, 100]"
          ],
          [
           "[10, 39, 100]"
          ],
          [
           "[10, 39, 375]"
          ],
          [
           "[8, 39, 375]"
          ],
          [
           "[6, 39, 375]"
          ],
          [
           "[3, 39, 375]"
          ],
          [
           "[2, 39, 375]"
          ],
          [
           "[1, 39, 375]"
          ]
         ],
         "hovertemplate": "reducer_type=NTD3<br>n_cavs=%{marker.color}<br>fidelity_avg=%{y}<br>rank_str=%{customdata[0]}<extra></extra>",
         "legendgroup": "NTD3",
         "marker": {
          "color": [
           3,
           6,
           10,
           3,
           6,
           10,
           3,
           6,
           10,
           6,
           10,
           6,
           10,
           8,
           10,
           10,
           8,
           6,
           3,
           2,
           1
          ],
          "coloraxis": "coloraxis",
          "symbol": "diamond"
         },
         "mode": "markers",
         "name": "NTD3",
         "orientation": "v",
         "showlegend": true,
         "type": "scatter",
         "x": [
          3,
          6,
          10,
          3,
          6,
          10,
          3,
          6,
          10,
          6,
          10,
          6,
          10,
          8,
          10,
          10,
          8,
          6,
          3,
          2,
          1
         ],
         "xaxis": "x",
         "y": [
          0.5853154844903137,
          0.09526914100689456,
          0.08917551995045027,
          0.5870709343327611,
          0.5893794046154796,
          0.09367869877564039,
          0.5857687077338908,
          0.09835761693851065,
          0.09005581301686466,
          0.09735673896927903,
          0.09353581592010417,
          0.09859342509000492,
          0.09817760619512085,
          0.09927047516683288,
          0.09695671028093514,
          0.09619991999168565,
          0.09871310655751922,
          0.09763724248417795,
          0.5836378949857435,
          0.5867889893666929,
          0.9658653216551208
         ],
         "yaxis": "y"
        },
        {
         "customdata": [
          [
           "[3, 3, 2, 25]"
          ],
          [
           "[1, 3, 2, 25]"
          ],
          [
           "[2, 3, 2, 25]"
          ],
          [
           "[3, 5, 3, 25]"
          ],
          [
           "[3, 13, 3, 25]"
          ],
          [
           "[6, 13, 3, 25]"
          ],
          [
           "[6, 2, 3, 20]"
          ],
          [
           "[10, 2, 3, 20]"
          ],
          [
           "[3, 2, 3, 25]"
          ],
          [
           "[6, 2, 3, 25]"
          ],
          [
           "[10, 2, 3, 25]"
          ],
          [
           "[10, 13, 3, 375]"
          ],
          [
           "[10, 3, 3, 375]"
          ],
          [
           "[8, 13, 3, 375]"
          ],
          [
           "[6, 13, 3, 375]"
          ],
          [
           "[3, 13, 3, 375]"
          ],
          [
           "[1, 13, 3, 375]"
          ],
          [
           "[2, 13, 3, 375]"
          ]
         ],
         "hovertemplate": "reducer_type=NTD4<br>n_cavs=%{marker.color}<br>fidelity_avg=%{y}<br>rank_str=%{customdata[0]}<extra></extra>",
         "legendgroup": "NTD4",
         "marker": {
          "color": [
           3,
           1,
           2,
           3,
           3,
           6,
           6,
           10,
           3,
           6,
           10,
           10,
           10,
           8,
           6,
           3,
           1,
           2
          ],
          "coloraxis": "coloraxis",
          "symbol": "square"
         },
         "mode": "markers",
         "name": "NTD4",
         "orientation": "v",
         "showlegend": true,
         "type": "scatter",
         "x": [
          3,
          1,
          2,
          3,
          3,
          6,
          6,
          10,
          3,
          6,
          10,
          10,
          10,
          8,
          6,
          3,
          1,
          2
         ],
         "xaxis": "x",
         "y": [
          0.6541398646673119,
          0.9673271009499715,
          0.6619142587539446,
          0.6374264664958389,
          0.5853137105381767,
          0.5862460323808847,
          0.17859492441814945,
          0.5911118076301214,
          0.6520061186684614,
          0.1835091390727887,
          0.3829858289739325,
          0.10099538773307629,
          0.18356961960377371,
          0.10015473216414375,
          0.09634866659348915,
          0.584771187319489,
          0.963461237795483,
          0.5875680577498656
         ],
         "yaxis": "y"
        }
       ],
       "layout": {
        "coloraxis": {
         "colorbar": {
          "title": {
           "text": "n_cavs"
          }
         },
         "colorscale": [
          [
           0,
           "#0d0887"
          ],
          [
           0.1111111111111111,
           "#46039f"
          ],
          [
           0.2222222222222222,
           "#7201a8"
          ],
          [
           0.3333333333333333,
           "#9c179e"
          ],
          [
           0.4444444444444444,
           "#bd3786"
          ],
          [
           0.5555555555555556,
           "#d8576b"
          ],
          [
           0.6666666666666666,
           "#ed7953"
          ],
          [
           0.7777777777777778,
           "#fb9f3a"
          ],
          [
           0.8888888888888888,
           "#fdca26"
          ],
          [
           1,
           "#f0f921"
          ]
         ]
        },
        "legend": {
         "title": {
          "text": "reducer_type"
         },
         "tracegroupgap": 0
        },
        "margin": {
         "t": 60
        },
        "template": {
         "data": {
          "bar": [
           {
            "error_x": {
             "color": "#2a3f5f"
            },
            "error_y": {
             "color": "#2a3f5f"
            },
            "marker": {
             "line": {
              "color": "#E5ECF6",
              "width": 0.5
             },
             "pattern": {
              "fillmode": "overlay",
              "size": 10,
              "solidity": 0.2
             }
            },
            "type": "bar"
           }
          ],
          "barpolar": [
           {
            "marker": {
             "line": {
              "color": "#E5ECF6",
              "width": 0.5
             },
             "pattern": {
              "fillmode": "overlay",
              "size": 10,
              "solidity": 0.2
             }
            },
            "type": "barpolar"
           }
          ],
          "carpet": [
           {
            "aaxis": {
             "endlinecolor": "#2a3f5f",
             "gridcolor": "white",
             "linecolor": "white",
             "minorgridcolor": "white",
             "startlinecolor": "#2a3f5f"
            },
            "baxis": {
             "endlinecolor": "#2a3f5f",
             "gridcolor": "white",
             "linecolor": "white",
             "minorgridcolor": "white",
             "startlinecolor": "#2a3f5f"
            },
            "type": "carpet"
           }
          ],
          "choropleth": [
           {
            "colorbar": {
             "outlinewidth": 0,
             "ticks": ""
            },
            "type": "choropleth"
           }
          ],
          "contour": [
           {
            "colorbar": {
             "outlinewidth": 0,
             "ticks": ""
            },
            "colorscale": [
             [
              0,
              "#0d0887"
             ],
             [
              0.1111111111111111,
              "#46039f"
             ],
             [
              0.2222222222222222,
              "#7201a8"
             ],
             [
              0.3333333333333333,
              "#9c179e"
             ],
             [
              0.4444444444444444,
              "#bd3786"
             ],
             [
              0.5555555555555556,
              "#d8576b"
             ],
             [
              0.6666666666666666,
              "#ed7953"
             ],
             [
              0.7777777777777778,
              "#fb9f3a"
             ],
             [
              0.8888888888888888,
              "#fdca26"
             ],
             [
              1,
              "#f0f921"
             ]
            ],
            "type": "contour"
           }
          ],
          "contourcarpet": [
           {
            "colorbar": {
             "outlinewidth": 0,
             "ticks": ""
            },
            "type": "contourcarpet"
           }
          ],
          "heatmap": [
           {
            "colorbar": {
             "outlinewidth": 0,
             "ticks": ""
            },
            "colorscale": [
             [
              0,
              "#0d0887"
             ],
             [
              0.1111111111111111,
              "#46039f"
             ],
             [
              0.2222222222222222,
              "#7201a8"
             ],
             [
              0.3333333333333333,
              "#9c179e"
             ],
             [
              0.4444444444444444,
              "#bd3786"
             ],
             [
              0.5555555555555556,
              "#d8576b"
             ],
             [
              0.6666666666666666,
              "#ed7953"
             ],
             [
              0.7777777777777778,
              "#fb9f3a"
             ],
             [
              0.8888888888888888,
              "#fdca26"
             ],
             [
              1,
              "#f0f921"
             ]
            ],
            "type": "heatmap"
           }
          ],
          "heatmapgl": [
           {
            "colorbar": {
             "outlinewidth": 0,
             "ticks": ""
            },
            "colorscale": [
             [
              0,
              "#0d0887"
             ],
             [
              0.1111111111111111,
              "#46039f"
             ],
             [
              0.2222222222222222,
              "#7201a8"
             ],
             [
              0.3333333333333333,
              "#9c179e"
             ],
             [
              0.4444444444444444,
              "#bd3786"
             ],
             [
              0.5555555555555556,
              "#d8576b"
             ],
             [
              0.6666666666666666,
              "#ed7953"
             ],
             [
              0.7777777777777778,
              "#fb9f3a"
             ],
             [
              0.8888888888888888,
              "#fdca26"
             ],
             [
              1,
              "#f0f921"
             ]
            ],
            "type": "heatmapgl"
           }
          ],
          "histogram": [
           {
            "marker": {
             "pattern": {
              "fillmode": "overlay",
              "size": 10,
              "solidity": 0.2
             }
            },
            "type": "histogram"
           }
          ],
          "histogram2d": [
           {
            "colorbar": {
             "outlinewidth": 0,
             "ticks": ""
            },
            "colorscale": [
             [
              0,
              "#0d0887"
             ],
             [
              0.1111111111111111,
              "#46039f"
             ],
             [
              0.2222222222222222,
              "#7201a8"
             ],
             [
              0.3333333333333333,
              "#9c179e"
             ],
             [
              0.4444444444444444,
              "#bd3786"
             ],
             [
              0.5555555555555556,
              "#d8576b"
             ],
             [
              0.6666666666666666,
              "#ed7953"
             ],
             [
              0.7777777777777778,
              "#fb9f3a"
             ],
             [
              0.8888888888888888,
              "#fdca26"
             ],
             [
              1,
              "#f0f921"
             ]
            ],
            "type": "histogram2d"
           }
          ],
          "histogram2dcontour": [
           {
            "colorbar": {
             "outlinewidth": 0,
             "ticks": ""
            },
            "colorscale": [
             [
              0,
              "#0d0887"
             ],
             [
              0.1111111111111111,
              "#46039f"
             ],
             [
              0.2222222222222222,
              "#7201a8"
             ],
             [
              0.3333333333333333,
              "#9c179e"
             ],
             [
              0.4444444444444444,
              "#bd3786"
             ],
             [
              0.5555555555555556,
              "#d8576b"
             ],
             [
              0.6666666666666666,
              "#ed7953"
             ],
             [
              0.7777777777777778,
              "#fb9f3a"
             ],
             [
              0.8888888888888888,
              "#fdca26"
             ],
             [
              1,
              "#f0f921"
             ]
            ],
            "type": "histogram2dcontour"
           }
          ],
          "mesh3d": [
           {
            "colorbar": {
             "outlinewidth": 0,
             "ticks": ""
            },
            "type": "mesh3d"
           }
          ],
          "parcoords": [
           {
            "line": {
             "colorbar": {
              "outlinewidth": 0,
              "ticks": ""
             }
            },
            "type": "parcoords"
           }
          ],
          "pie": [
           {
            "automargin": true,
            "type": "pie"
           }
          ],
          "scatter": [
           {
            "fillpattern": {
             "fillmode": "overlay",
             "size": 10,
             "solidity": 0.2
            },
            "type": "scatter"
           }
          ],
          "scatter3d": [
           {
            "line": {
             "colorbar": {
              "outlinewidth": 0,
              "ticks": ""
             }
            },
            "marker": {
             "colorbar": {
              "outlinewidth": 0,
              "ticks": ""
             }
            },
            "type": "scatter3d"
           }
          ],
          "scattercarpet": [
           {
            "marker": {
             "colorbar": {
              "outlinewidth": 0,
              "ticks": ""
             }
            },
            "type": "scattercarpet"
           }
          ],
          "scattergeo": [
           {
            "marker": {
             "colorbar": {
              "outlinewidth": 0,
              "ticks": ""
             }
            },
            "type": "scattergeo"
           }
          ],
          "scattergl": [
           {
            "marker": {
             "colorbar": {
              "outlinewidth": 0,
              "ticks": ""
             }
            },
            "type": "scattergl"
           }
          ],
          "scattermapbox": [
           {
            "marker": {
             "colorbar": {
              "outlinewidth": 0,
              "ticks": ""
             }
            },
            "type": "scattermapbox"
           }
          ],
          "scatterpolar": [
           {
            "marker": {
             "colorbar": {
              "outlinewidth": 0,
              "ticks": ""
             }
            },
            "type": "scatterpolar"
           }
          ],
          "scatterpolargl": [
           {
            "marker": {
             "colorbar": {
              "outlinewidth": 0,
              "ticks": ""
             }
            },
            "type": "scatterpolargl"
           }
          ],
          "scatterternary": [
           {
            "marker": {
             "colorbar": {
              "outlinewidth": 0,
              "ticks": ""
             }
            },
            "type": "scatterternary"
           }
          ],
          "surface": [
           {
            "colorbar": {
             "outlinewidth": 0,
             "ticks": ""
            },
            "colorscale": [
             [
              0,
              "#0d0887"
             ],
             [
              0.1111111111111111,
              "#46039f"
             ],
             [
              0.2222222222222222,
              "#7201a8"
             ],
             [
              0.3333333333333333,
              "#9c179e"
             ],
             [
              0.4444444444444444,
              "#bd3786"
             ],
             [
              0.5555555555555556,
              "#d8576b"
             ],
             [
              0.6666666666666666,
              "#ed7953"
             ],
             [
              0.7777777777777778,
              "#fb9f3a"
             ],
             [
              0.8888888888888888,
              "#fdca26"
             ],
             [
              1,
              "#f0f921"
             ]
            ],
            "type": "surface"
           }
          ],
          "table": [
           {
            "cells": {
             "fill": {
              "color": "#EBF0F8"
             },
             "line": {
              "color": "white"
             }
            },
            "header": {
             "fill": {
              "color": "#C8D4E3"
             },
             "line": {
              "color": "white"
             }
            },
            "type": "table"
           }
          ]
         },
         "layout": {
          "annotationdefaults": {
           "arrowcolor": "#2a3f5f",
           "arrowhead": 0,
           "arrowwidth": 1
          },
          "autotypenumbers": "strict",
          "coloraxis": {
           "colorbar": {
            "outlinewidth": 0,
            "ticks": ""
           }
          },
          "colorscale": {
           "diverging": [
            [
             0,
             "#8e0152"
            ],
            [
             0.1,
             "#c51b7d"
            ],
            [
             0.2,
             "#de77ae"
            ],
            [
             0.3,
             "#f1b6da"
            ],
            [
             0.4,
             "#fde0ef"
            ],
            [
             0.5,
             "#f7f7f7"
            ],
            [
             0.6,
             "#e6f5d0"
            ],
            [
             0.7,
             "#b8e186"
            ],
            [
             0.8,
             "#7fbc41"
            ],
            [
             0.9,
             "#4d9221"
            ],
            [
             1,
             "#276419"
            ]
           ],
           "sequential": [
            [
             0,
             "#0d0887"
            ],
            [
             0.1111111111111111,
             "#46039f"
            ],
            [
             0.2222222222222222,
             "#7201a8"
            ],
            [
             0.3333333333333333,
             "#9c179e"
            ],
            [
             0.4444444444444444,
             "#bd3786"
            ],
            [
             0.5555555555555556,
             "#d8576b"
            ],
            [
             0.6666666666666666,
             "#ed7953"
            ],
            [
             0.7777777777777778,
             "#fb9f3a"
            ],
            [
             0.8888888888888888,
             "#fdca26"
            ],
            [
             1,
             "#f0f921"
            ]
           ],
           "sequentialminus": [
            [
             0,
             "#0d0887"
            ],
            [
             0.1111111111111111,
             "#46039f"
            ],
            [
             0.2222222222222222,
             "#7201a8"
            ],
            [
             0.3333333333333333,
             "#9c179e"
            ],
            [
             0.4444444444444444,
             "#bd3786"
            ],
            [
             0.5555555555555556,
             "#d8576b"
            ],
            [
             0.6666666666666666,
             "#ed7953"
            ],
            [
             0.7777777777777778,
             "#fb9f3a"
            ],
            [
             0.8888888888888888,
             "#fdca26"
            ],
            [
             1,
             "#f0f921"
            ]
           ]
          },
          "colorway": [
           "#636efa",
           "#EF553B",
           "#00cc96",
           "#ab63fa",
           "#FFA15A",
           "#19d3f3",
           "#FF6692",
           "#B6E880",
           "#FF97FF",
           "#FECB52"
          ],
          "font": {
           "color": "#2a3f5f"
          },
          "geo": {
           "bgcolor": "white",
           "lakecolor": "white",
           "landcolor": "#E5ECF6",
           "showlakes": true,
           "showland": true,
           "subunitcolor": "white"
          },
          "hoverlabel": {
           "align": "left"
          },
          "hovermode": "closest",
          "mapbox": {
           "style": "light"
          },
          "paper_bgcolor": "white",
          "plot_bgcolor": "#E5ECF6",
          "polar": {
           "angularaxis": {
            "gridcolor": "white",
            "linecolor": "white",
            "ticks": ""
           },
           "bgcolor": "#E5ECF6",
           "radialaxis": {
            "gridcolor": "white",
            "linecolor": "white",
            "ticks": ""
           }
          },
          "scene": {
           "xaxis": {
            "backgroundcolor": "#E5ECF6",
            "gridcolor": "white",
            "gridwidth": 2,
            "linecolor": "white",
            "showbackground": true,
            "ticks": "",
            "zerolinecolor": "white"
           },
           "yaxis": {
            "backgroundcolor": "#E5ECF6",
            "gridcolor": "white",
            "gridwidth": 2,
            "linecolor": "white",
            "showbackground": true,
            "ticks": "",
            "zerolinecolor": "white"
           },
           "zaxis": {
            "backgroundcolor": "#E5ECF6",
            "gridcolor": "white",
            "gridwidth": 2,
            "linecolor": "white",
            "showbackground": true,
            "ticks": "",
            "zerolinecolor": "white"
           }
          },
          "shapedefaults": {
           "line": {
            "color": "#2a3f5f"
           }
          },
          "ternary": {
           "aaxis": {
            "gridcolor": "white",
            "linecolor": "white",
            "ticks": ""
           },
           "baxis": {
            "gridcolor": "white",
            "linecolor": "white",
            "ticks": ""
           },
           "bgcolor": "#E5ECF6",
           "caxis": {
            "gridcolor": "white",
            "linecolor": "white",
            "ticks": ""
           }
          },
          "title": {
           "x": 0.05
          },
          "xaxis": {
           "automargin": true,
           "gridcolor": "white",
           "linecolor": "white",
           "ticks": "",
           "title": {
            "standoff": 15
           },
           "zerolinecolor": "white",
           "zerolinewidth": 2
          },
          "yaxis": {
           "automargin": true,
           "gridcolor": "white",
           "linecolor": "white",
           "ticks": "",
           "title": {
            "standoff": 15
           },
           "zerolinecolor": "white",
           "zerolinewidth": 2
          }
         }
        },
        "xaxis": {
         "anchor": "y",
         "domain": [
          0,
          1
         ],
         "title": {
          "text": "n_cavs"
         }
        },
        "yaxis": {
         "anchor": "x",
         "domain": [
          0,
          1
         ],
         "title": {
          "text": "fidelity_avg"
         }
        }
       }
      },
      "text/html": [
       "<div>                            <div id=\"fbd6865b-6adc-42dc-8c10-3c1e2fe21dfd\" class=\"plotly-graph-div\" style=\"height:525px; width:100%;\"></div>            <script type=\"text/javascript\">                require([\"plotly\"], function(Plotly) {                    window.PLOTLYENV=window.PLOTLYENV || {};                                    if (document.getElementById(\"fbd6865b-6adc-42dc-8c10-3c1e2fe21dfd\")) {                    Plotly.newPlot(                        \"fbd6865b-6adc-42dc-8c10-3c1e2fe21dfd\",                        [{\"customdata\":[[\"1\"],[\"2\"],[\"3\"],[\"6\"],[\"10\"],[\"8\"],[\"12\"]],\"hovertemplate\":\"reducer_type=NMF<br>n_cavs=%{marker.color}<br>fidelity_avg=%{y}<br>rank_str=%{customdata[0]}<extra></extra>\",\"legendgroup\":\"NMF\",\"marker\":{\"color\":[1,2,3,6,10,8,12],\"coloraxis\":\"coloraxis\",\"symbol\":\"circle\"},\"mode\":\"markers\",\"name\":\"NMF\",\"orientation\":\"v\",\"showlegend\":true,\"x\":[1,2,3,6,10,8,12],\"xaxis\":\"x\",\"y\":[0.9614486284680861,0.5906216258686923,0.5857329171289618,0.09552547044359826,0.09412293917783665,0.08961968278419481,0.09203827716384355],\"yaxis\":\"y\",\"type\":\"scatter\"},{\"customdata\":[[\"[3, 20, 100]\"],[\"[6, 20, 100]\"],[\"[10, 20, 100]\"],[\"[3, 20, 25]\"],[\"[6, 20, 25]\"],[\"[10, 20, 25]\"],[\"[3, 30, 100]\"],[\"[6, 30, 100]\"],[\"[10, 30, 100]\"],[\"[6, 39, 80]\"],[\"[10, 39, 80]\"],[\"[6, 39, 200]\"],[\"[10, 39, 200]\"],[\"[8, 39, 100]\"],[\"[10, 39, 100]\"],[\"[10, 39, 375]\"],[\"[8, 39, 375]\"],[\"[6, 39, 375]\"],[\"[3, 39, 375]\"],[\"[2, 39, 375]\"],[\"[1, 39, 375]\"]],\"hovertemplate\":\"reducer_type=NTD3<br>n_cavs=%{marker.color}<br>fidelity_avg=%{y}<br>rank_str=%{customdata[0]}<extra></extra>\",\"legendgroup\":\"NTD3\",\"marker\":{\"color\":[3,6,10,3,6,10,3,6,10,6,10,6,10,8,10,10,8,6,3,2,1],\"coloraxis\":\"coloraxis\",\"symbol\":\"diamond\"},\"mode\":\"markers\",\"name\":\"NTD3\",\"orientation\":\"v\",\"showlegend\":true,\"x\":[3,6,10,3,6,10,3,6,10,6,10,6,10,8,10,10,8,6,3,2,1],\"xaxis\":\"x\",\"y\":[0.5853154844903137,0.09526914100689456,0.08917551995045027,0.5870709343327611,0.5893794046154796,0.09367869877564039,0.5857687077338908,0.09835761693851065,0.09005581301686466,0.09735673896927903,0.09353581592010417,0.09859342509000492,0.09817760619512085,0.09927047516683288,0.09695671028093514,0.09619991999168565,0.09871310655751922,0.09763724248417795,0.5836378949857435,0.5867889893666929,0.9658653216551208],\"yaxis\":\"y\",\"type\":\"scatter\"},{\"customdata\":[[\"[3, 3, 2, 25]\"],[\"[1, 3, 2, 25]\"],[\"[2, 3, 2, 25]\"],[\"[3, 5, 3, 25]\"],[\"[3, 13, 3, 25]\"],[\"[6, 13, 3, 25]\"],[\"[6, 2, 3, 20]\"],[\"[10, 2, 3, 20]\"],[\"[3, 2, 3, 25]\"],[\"[6, 2, 3, 25]\"],[\"[10, 2, 3, 25]\"],[\"[10, 13, 3, 375]\"],[\"[10, 3, 3, 375]\"],[\"[8, 13, 3, 375]\"],[\"[6, 13, 3, 375]\"],[\"[3, 13, 3, 375]\"],[\"[1, 13, 3, 375]\"],[\"[2, 13, 3, 375]\"]],\"hovertemplate\":\"reducer_type=NTD4<br>n_cavs=%{marker.color}<br>fidelity_avg=%{y}<br>rank_str=%{customdata[0]}<extra></extra>\",\"legendgroup\":\"NTD4\",\"marker\":{\"color\":[3,1,2,3,3,6,6,10,3,6,10,10,10,8,6,3,1,2],\"coloraxis\":\"coloraxis\",\"symbol\":\"square\"},\"mode\":\"markers\",\"name\":\"NTD4\",\"orientation\":\"v\",\"showlegend\":true,\"x\":[3,1,2,3,3,6,6,10,3,6,10,10,10,8,6,3,1,2],\"xaxis\":\"x\",\"y\":[0.6541398646673119,0.9673271009499715,0.6619142587539446,0.6374264664958389,0.5853137105381767,0.5862460323808847,0.17859492441814945,0.5911118076301214,0.6520061186684614,0.1835091390727887,0.3829858289739325,0.10099538773307629,0.18356961960377371,0.10015473216414375,0.09634866659348915,0.584771187319489,0.963461237795483,0.5875680577498656],\"yaxis\":\"y\",\"type\":\"scatter\"}],                        {\"template\":{\"data\":{\"histogram2dcontour\":[{\"type\":\"histogram2dcontour\",\"colorbar\":{\"outlinewidth\":0,\"ticks\":\"\"},\"colorscale\":[[0.0,\"#0d0887\"],[0.1111111111111111,\"#46039f\"],[0.2222222222222222,\"#7201a8\"],[0.3333333333333333,\"#9c179e\"],[0.4444444444444444,\"#bd3786\"],[0.5555555555555556,\"#d8576b\"],[0.6666666666666666,\"#ed7953\"],[0.7777777777777778,\"#fb9f3a\"],[0.8888888888888888,\"#fdca26\"],[1.0,\"#f0f921\"]]}],\"choropleth\":[{\"type\":\"choropleth\",\"colorbar\":{\"outlinewidth\":0,\"ticks\":\"\"}}],\"histogram2d\":[{\"type\":\"histogram2d\",\"colorbar\":{\"outlinewidth\":0,\"ticks\":\"\"},\"colorscale\":[[0.0,\"#0d0887\"],[0.1111111111111111,\"#46039f\"],[0.2222222222222222,\"#7201a8\"],[0.3333333333333333,\"#9c179e\"],[0.4444444444444444,\"#bd3786\"],[0.5555555555555556,\"#d8576b\"],[0.6666666666666666,\"#ed7953\"],[0.7777777777777778,\"#fb9f3a\"],[0.8888888888888888,\"#fdca26\"],[1.0,\"#f0f921\"]]}],\"heatmap\":[{\"type\":\"heatmap\",\"colorbar\":{\"outlinewidth\":0,\"ticks\":\"\"},\"colorscale\":[[0.0,\"#0d0887\"],[0.1111111111111111,\"#46039f\"],[0.2222222222222222,\"#7201a8\"],[0.3333333333333333,\"#9c179e\"],[0.4444444444444444,\"#bd3786\"],[0.5555555555555556,\"#d8576b\"],[0.6666666666666666,\"#ed7953\"],[0.7777777777777778,\"#fb9f3a\"],[0.8888888888888888,\"#fdca26\"],[1.0,\"#f0f921\"]]}],\"heatmapgl\":[{\"type\":\"heatmapgl\",\"colorbar\":{\"outlinewidth\":0,\"ticks\":\"\"},\"colorscale\":[[0.0,\"#0d0887\"],[0.1111111111111111,\"#46039f\"],[0.2222222222222222,\"#7201a8\"],[0.3333333333333333,\"#9c179e\"],[0.4444444444444444,\"#bd3786\"],[0.5555555555555556,\"#d8576b\"],[0.6666666666666666,\"#ed7953\"],[0.7777777777777778,\"#fb9f3a\"],[0.8888888888888888,\"#fdca26\"],[1.0,\"#f0f921\"]]}],\"contourcarpet\":[{\"type\":\"contourcarpet\",\"colorbar\":{\"outlinewidth\":0,\"ticks\":\"\"}}],\"contour\":[{\"type\":\"contour\",\"colorbar\":{\"outlinewidth\":0,\"ticks\":\"\"},\"colorscale\":[[0.0,\"#0d0887\"],[0.1111111111111111,\"#46039f\"],[0.2222222222222222,\"#7201a8\"],[0.3333333333333333,\"#9c179e\"],[0.4444444444444444,\"#bd3786\"],[0.5555555555555556,\"#d8576b\"],[0.6666666666666666,\"#ed7953\"],[0.7777777777777778,\"#fb9f3a\"],[0.8888888888888888,\"#fdca26\"],[1.0,\"#f0f921\"]]}],\"surface\":[{\"type\":\"surface\",\"colorbar\":{\"outlinewidth\":0,\"ticks\":\"\"},\"colorscale\":[[0.0,\"#0d0887\"],[0.1111111111111111,\"#46039f\"],[0.2222222222222222,\"#7201a8\"],[0.3333333333333333,\"#9c179e\"],[0.4444444444444444,\"#bd3786\"],[0.5555555555555556,\"#d8576b\"],[0.6666666666666666,\"#ed7953\"],[0.7777777777777778,\"#fb9f3a\"],[0.8888888888888888,\"#fdca26\"],[1.0,\"#f0f921\"]]}],\"mesh3d\":[{\"type\":\"mesh3d\",\"colorbar\":{\"outlinewidth\":0,\"ticks\":\"\"}}],\"scatter\":[{\"fillpattern\":{\"fillmode\":\"overlay\",\"size\":10,\"solidity\":0.2},\"type\":\"scatter\"}],\"parcoords\":[{\"type\":\"parcoords\",\"line\":{\"colorbar\":{\"outlinewidth\":0,\"ticks\":\"\"}}}],\"scatterpolargl\":[{\"type\":\"scatterpolargl\",\"marker\":{\"colorbar\":{\"outlinewidth\":0,\"ticks\":\"\"}}}],\"bar\":[{\"error_x\":{\"color\":\"#2a3f5f\"},\"error_y\":{\"color\":\"#2a3f5f\"},\"marker\":{\"line\":{\"color\":\"#E5ECF6\",\"width\":0.5},\"pattern\":{\"fillmode\":\"overlay\",\"size\":10,\"solidity\":0.2}},\"type\":\"bar\"}],\"scattergeo\":[{\"type\":\"scattergeo\",\"marker\":{\"colorbar\":{\"outlinewidth\":0,\"ticks\":\"\"}}}],\"scatterpolar\":[{\"type\":\"scatterpolar\",\"marker\":{\"colorbar\":{\"outlinewidth\":0,\"ticks\":\"\"}}}],\"histogram\":[{\"marker\":{\"pattern\":{\"fillmode\":\"overlay\",\"size\":10,\"solidity\":0.2}},\"type\":\"histogram\"}],\"scattergl\":[{\"type\":\"scattergl\",\"marker\":{\"colorbar\":{\"outlinewidth\":0,\"ticks\":\"\"}}}],\"scatter3d\":[{\"type\":\"scatter3d\",\"line\":{\"colorbar\":{\"outlinewidth\":0,\"ticks\":\"\"}},\"marker\":{\"colorbar\":{\"outlinewidth\":0,\"ticks\":\"\"}}}],\"scattermapbox\":[{\"type\":\"scattermapbox\",\"marker\":{\"colorbar\":{\"outlinewidth\":0,\"ticks\":\"\"}}}],\"scatterternary\":[{\"type\":\"scatterternary\",\"marker\":{\"colorbar\":{\"outlinewidth\":0,\"ticks\":\"\"}}}],\"scattercarpet\":[{\"type\":\"scattercarpet\",\"marker\":{\"colorbar\":{\"outlinewidth\":0,\"ticks\":\"\"}}}],\"carpet\":[{\"aaxis\":{\"endlinecolor\":\"#2a3f5f\",\"gridcolor\":\"white\",\"linecolor\":\"white\",\"minorgridcolor\":\"white\",\"startlinecolor\":\"#2a3f5f\"},\"baxis\":{\"endlinecolor\":\"#2a3f5f\",\"gridcolor\":\"white\",\"linecolor\":\"white\",\"minorgridcolor\":\"white\",\"startlinecolor\":\"#2a3f5f\"},\"type\":\"carpet\"}],\"table\":[{\"cells\":{\"fill\":{\"color\":\"#EBF0F8\"},\"line\":{\"color\":\"white\"}},\"header\":{\"fill\":{\"color\":\"#C8D4E3\"},\"line\":{\"color\":\"white\"}},\"type\":\"table\"}],\"barpolar\":[{\"marker\":{\"line\":{\"color\":\"#E5ECF6\",\"width\":0.5},\"pattern\":{\"fillmode\":\"overlay\",\"size\":10,\"solidity\":0.2}},\"type\":\"barpolar\"}],\"pie\":[{\"automargin\":true,\"type\":\"pie\"}]},\"layout\":{\"autotypenumbers\":\"strict\",\"colorway\":[\"#636efa\",\"#EF553B\",\"#00cc96\",\"#ab63fa\",\"#FFA15A\",\"#19d3f3\",\"#FF6692\",\"#B6E880\",\"#FF97FF\",\"#FECB52\"],\"font\":{\"color\":\"#2a3f5f\"},\"hovermode\":\"closest\",\"hoverlabel\":{\"align\":\"left\"},\"paper_bgcolor\":\"white\",\"plot_bgcolor\":\"#E5ECF6\",\"polar\":{\"bgcolor\":\"#E5ECF6\",\"angularaxis\":{\"gridcolor\":\"white\",\"linecolor\":\"white\",\"ticks\":\"\"},\"radialaxis\":{\"gridcolor\":\"white\",\"linecolor\":\"white\",\"ticks\":\"\"}},\"ternary\":{\"bgcolor\":\"#E5ECF6\",\"aaxis\":{\"gridcolor\":\"white\",\"linecolor\":\"white\",\"ticks\":\"\"},\"baxis\":{\"gridcolor\":\"white\",\"linecolor\":\"white\",\"ticks\":\"\"},\"caxis\":{\"gridcolor\":\"white\",\"linecolor\":\"white\",\"ticks\":\"\"}},\"coloraxis\":{\"colorbar\":{\"outlinewidth\":0,\"ticks\":\"\"}},\"colorscale\":{\"sequential\":[[0.0,\"#0d0887\"],[0.1111111111111111,\"#46039f\"],[0.2222222222222222,\"#7201a8\"],[0.3333333333333333,\"#9c179e\"],[0.4444444444444444,\"#bd3786\"],[0.5555555555555556,\"#d8576b\"],[0.6666666666666666,\"#ed7953\"],[0.7777777777777778,\"#fb9f3a\"],[0.8888888888888888,\"#fdca26\"],[1.0,\"#f0f921\"]],\"sequentialminus\":[[0.0,\"#0d0887\"],[0.1111111111111111,\"#46039f\"],[0.2222222222222222,\"#7201a8\"],[0.3333333333333333,\"#9c179e\"],[0.4444444444444444,\"#bd3786\"],[0.5555555555555556,\"#d8576b\"],[0.6666666666666666,\"#ed7953\"],[0.7777777777777778,\"#fb9f3a\"],[0.8888888888888888,\"#fdca26\"],[1.0,\"#f0f921\"]],\"diverging\":[[0,\"#8e0152\"],[0.1,\"#c51b7d\"],[0.2,\"#de77ae\"],[0.3,\"#f1b6da\"],[0.4,\"#fde0ef\"],[0.5,\"#f7f7f7\"],[0.6,\"#e6f5d0\"],[0.7,\"#b8e186\"],[0.8,\"#7fbc41\"],[0.9,\"#4d9221\"],[1,\"#276419\"]]},\"xaxis\":{\"gridcolor\":\"white\",\"linecolor\":\"white\",\"ticks\":\"\",\"title\":{\"standoff\":15},\"zerolinecolor\":\"white\",\"automargin\":true,\"zerolinewidth\":2},\"yaxis\":{\"gridcolor\":\"white\",\"linecolor\":\"white\",\"ticks\":\"\",\"title\":{\"standoff\":15},\"zerolinecolor\":\"white\",\"automargin\":true,\"zerolinewidth\":2},\"scene\":{\"xaxis\":{\"backgroundcolor\":\"#E5ECF6\",\"gridcolor\":\"white\",\"linecolor\":\"white\",\"showbackground\":true,\"ticks\":\"\",\"zerolinecolor\":\"white\",\"gridwidth\":2},\"yaxis\":{\"backgroundcolor\":\"#E5ECF6\",\"gridcolor\":\"white\",\"linecolor\":\"white\",\"showbackground\":true,\"ticks\":\"\",\"zerolinecolor\":\"white\",\"gridwidth\":2},\"zaxis\":{\"backgroundcolor\":\"#E5ECF6\",\"gridcolor\":\"white\",\"linecolor\":\"white\",\"showbackground\":true,\"ticks\":\"\",\"zerolinecolor\":\"white\",\"gridwidth\":2}},\"shapedefaults\":{\"line\":{\"color\":\"#2a3f5f\"}},\"annotationdefaults\":{\"arrowcolor\":\"#2a3f5f\",\"arrowhead\":0,\"arrowwidth\":1},\"geo\":{\"bgcolor\":\"white\",\"landcolor\":\"#E5ECF6\",\"subunitcolor\":\"white\",\"showland\":true,\"showlakes\":true,\"lakecolor\":\"white\"},\"title\":{\"x\":0.05},\"mapbox\":{\"style\":\"light\"}}},\"xaxis\":{\"anchor\":\"y\",\"domain\":[0.0,1.0],\"title\":{\"text\":\"n_cavs\"}},\"yaxis\":{\"anchor\":\"x\",\"domain\":[0.0,1.0],\"title\":{\"text\":\"fidelity_avg\"}},\"coloraxis\":{\"colorbar\":{\"title\":{\"text\":\"n_cavs\"}},\"colorscale\":[[0.0,\"#0d0887\"],[0.1111111111111111,\"#46039f\"],[0.2222222222222222,\"#7201a8\"],[0.3333333333333333,\"#9c179e\"],[0.4444444444444444,\"#bd3786\"],[0.5555555555555556,\"#d8576b\"],[0.6666666666666666,\"#ed7953\"],[0.7777777777777778,\"#fb9f3a\"],[0.8888888888888888,\"#fdca26\"],[1.0,\"#f0f921\"]]},\"legend\":{\"title\":{\"text\":\"reducer_type\"},\"tracegroupgap\":0},\"margin\":{\"t\":60}},                        {\"responsive\": true}                    ).then(function(){\n",
       "                            \n",
       "var gd = document.getElementById('fbd6865b-6adc-42dc-8c10-3c1e2fe21dfd');\n",
       "var x = new MutationObserver(function (mutations, observer) {{\n",
       "        var display = window.getComputedStyle(gd).display;\n",
       "        if (!display || display === 'none') {{\n",
       "            console.log([gd, 'removed!']);\n",
       "            Plotly.purge(gd);\n",
       "            observer.disconnect();\n",
       "        }}\n",
       "}});\n",
       "\n",
       "// Listen for the removal of the full notebook cells\n",
       "var notebookContainer = gd.closest('#notebook-container');\n",
       "if (notebookContainer) {{\n",
       "    x.observe(notebookContainer, {childList: true});\n",
       "}}\n",
       "\n",
       "// Listen for the clearing of the current output cell\n",
       "var outputEl = gd.closest('.output');\n",
       "if (outputEl) {{\n",
       "    x.observe(outputEl, {childList: true});\n",
       "}}\n",
       "\n",
       "                        })                };                });            </script>        </div>"
      ]
     },
     "metadata": {},
     "output_type": "display_data"
    }
   ],
   "source": [
    "px.scatter(df, x= 'n_cavs', y='fidelity_avg', color=\"n_cavs\", symbol =\"reducer_type\", hover_data=['rank_str'])"
   ]
  },
  {
   "cell_type": "code",
   "execution_count": 43,
   "metadata": {},
   "outputs": [
    {
     "data": {
      "application/vnd.plotly.v1+json": {
       "config": {
        "plotlyServerURL": "https://plot.ly"
       },
       "data": [
        {
         "customdata": [
          [
           "1"
          ],
          [
           "2"
          ],
          [
           "3"
          ],
          [
           "6"
          ],
          [
           "10"
          ],
          [
           "8"
          ],
          [
           "12"
          ]
         ],
         "hovertemplate": "reducer_type=NMF<br>useful_cavs_perc=%{x}<br>fidelity_avg=%{y}<br>rank_str=%{customdata[0]}<br>n_cavs=%{marker.color}<extra></extra>",
         "legendgroup": "NMF",
         "marker": {
          "color": [
           1,
           2,
           3,
           6,
           10,
           8,
           12
          ],
          "coloraxis": "coloraxis",
          "symbol": "circle"
         },
         "mode": "markers",
         "name": "NMF",
         "orientation": "v",
         "showlegend": true,
         "type": "scatter",
         "x": [
          0,
          0.5,
          0.3333333333333333,
          0.6666666666666666,
          0.6,
          0.625,
          0.75
         ],
         "xaxis": "x",
         "y": [
          0.9614486284680861,
          0.5906216258686923,
          0.5857329171289618,
          0.09552547044359826,
          0.09412293917783665,
          0.08961968278419481,
          0.09203827716384355
         ],
         "yaxis": "y"
        },
        {
         "customdata": [
          [
           "[3, 20, 100]"
          ],
          [
           "[6, 20, 100]"
          ],
          [
           "[10, 20, 100]"
          ],
          [
           "[3, 20, 25]"
          ],
          [
           "[6, 20, 25]"
          ],
          [
           "[10, 20, 25]"
          ],
          [
           "[3, 30, 100]"
          ],
          [
           "[6, 30, 100]"
          ],
          [
           "[10, 30, 100]"
          ],
          [
           "[6, 39, 80]"
          ],
          [
           "[10, 39, 80]"
          ],
          [
           "[6, 39, 200]"
          ],
          [
           "[10, 39, 200]"
          ],
          [
           "[8, 39, 100]"
          ],
          [
           "[10, 39, 100]"
          ],
          [
           "[10, 39, 375]"
          ],
          [
           "[8, 39, 375]"
          ],
          [
           "[6, 39, 375]"
          ],
          [
           "[3, 39, 375]"
          ],
          [
           "[2, 39, 375]"
          ],
          [
           "[1, 39, 375]"
          ]
         ],
         "hovertemplate": "reducer_type=NTD3<br>useful_cavs_perc=%{x}<br>fidelity_avg=%{y}<br>rank_str=%{customdata[0]}<br>n_cavs=%{marker.color}<extra></extra>",
         "legendgroup": "NTD3",
         "marker": {
          "color": [
           3,
           6,
           10,
           3,
           6,
           10,
           3,
           6,
           10,
           6,
           10,
           6,
           10,
           8,
           10,
           10,
           8,
           6,
           3,
           2,
           1
          ],
          "coloraxis": "coloraxis",
          "symbol": "diamond"
         },
         "mode": "markers",
         "name": "NTD3",
         "orientation": "v",
         "showlegend": true,
         "type": "scatter",
         "x": [
          0.3333333333333333,
          0.6666666666666666,
          0.6,
          0.3333333333333333,
          0.5,
          0.7,
          0.3333333333333333,
          0.6666666666666666,
          0.7,
          0.6666666666666666,
          0.6,
          0.6666666666666666,
          0.6,
          0.75,
          0.6,
          0.6,
          0.625,
          0.6666666666666666,
          0.3333333333333333,
          0.5,
          0
         ],
         "xaxis": "x",
         "y": [
          0.5853154844903137,
          0.09526914100689456,
          0.08917551995045027,
          0.5870709343327611,
          0.5893794046154796,
          0.09367869877564039,
          0.5857687077338908,
          0.09835761693851065,
          0.09005581301686466,
          0.09735673896927903,
          0.09353581592010417,
          0.09859342509000492,
          0.09817760619512085,
          0.09927047516683288,
          0.09695671028093514,
          0.09619991999168565,
          0.09871310655751922,
          0.09763724248417795,
          0.5836378949857435,
          0.5867889893666929,
          0.9658653216551208
         ],
         "yaxis": "y"
        },
        {
         "customdata": [
          [
           "[3, 3, 2, 25]"
          ],
          [
           "[1, 3, 2, 25]"
          ],
          [
           "[2, 3, 2, 25]"
          ],
          [
           "[3, 5, 3, 25]"
          ],
          [
           "[3, 13, 3, 25]"
          ],
          [
           "[6, 13, 3, 25]"
          ],
          [
           "[6, 2, 3, 20]"
          ],
          [
           "[10, 2, 3, 20]"
          ],
          [
           "[3, 2, 3, 25]"
          ],
          [
           "[6, 2, 3, 25]"
          ],
          [
           "[10, 2, 3, 25]"
          ],
          [
           "[10, 13, 3, 375]"
          ],
          [
           "[10, 3, 3, 375]"
          ],
          [
           "[8, 13, 3, 375]"
          ],
          [
           "[6, 13, 3, 375]"
          ],
          [
           "[3, 13, 3, 375]"
          ],
          [
           "[1, 13, 3, 375]"
          ],
          [
           "[2, 13, 3, 375]"
          ]
         ],
         "hovertemplate": "reducer_type=NTD4<br>useful_cavs_perc=%{x}<br>fidelity_avg=%{y}<br>rank_str=%{customdata[0]}<br>n_cavs=%{marker.color}<extra></extra>",
         "legendgroup": "NTD4",
         "marker": {
          "color": [
           3,
           1,
           2,
           3,
           3,
           6,
           6,
           10,
           3,
           6,
           10,
           10,
           10,
           8,
           6,
           3,
           1,
           2
          ],
          "coloraxis": "coloraxis",
          "symbol": "square"
         },
         "mode": "markers",
         "name": "NTD4",
         "orientation": "v",
         "showlegend": true,
         "type": "scatter",
         "x": [
          0.3333333333333333,
          0,
          0.5,
          0.3333333333333333,
          0.3333333333333333,
          0.5,
          0.6666666666666666,
          0.7,
          0.3333333333333333,
          0.6666666666666666,
          0.6,
          0.7,
          0.6,
          0.625,
          0.6666666666666666,
          0.3333333333333333,
          0,
          0.5
         ],
         "xaxis": "x",
         "y": [
          0.6541398646673119,
          0.9673271009499715,
          0.6619142587539446,
          0.6374264664958389,
          0.5853137105381767,
          0.5862460323808847,
          0.17859492441814945,
          0.5911118076301214,
          0.6520061186684614,
          0.1835091390727887,
          0.3829858289739325,
          0.10099538773307629,
          0.18356961960377371,
          0.10015473216414375,
          0.09634866659348915,
          0.584771187319489,
          0.963461237795483,
          0.5875680577498656
         ],
         "yaxis": "y"
        }
       ],
       "layout": {
        "coloraxis": {
         "colorbar": {
          "title": {
           "text": "n_cavs"
          }
         },
         "colorscale": [
          [
           0,
           "#0d0887"
          ],
          [
           0.1111111111111111,
           "#46039f"
          ],
          [
           0.2222222222222222,
           "#7201a8"
          ],
          [
           0.3333333333333333,
           "#9c179e"
          ],
          [
           0.4444444444444444,
           "#bd3786"
          ],
          [
           0.5555555555555556,
           "#d8576b"
          ],
          [
           0.6666666666666666,
           "#ed7953"
          ],
          [
           0.7777777777777778,
           "#fb9f3a"
          ],
          [
           0.8888888888888888,
           "#fdca26"
          ],
          [
           1,
           "#f0f921"
          ]
         ]
        },
        "legend": {
         "title": {
          "text": "reducer_type"
         },
         "tracegroupgap": 0
        },
        "margin": {
         "t": 60
        },
        "template": {
         "data": {
          "bar": [
           {
            "error_x": {
             "color": "#2a3f5f"
            },
            "error_y": {
             "color": "#2a3f5f"
            },
            "marker": {
             "line": {
              "color": "#E5ECF6",
              "width": 0.5
             },
             "pattern": {
              "fillmode": "overlay",
              "size": 10,
              "solidity": 0.2
             }
            },
            "type": "bar"
           }
          ],
          "barpolar": [
           {
            "marker": {
             "line": {
              "color": "#E5ECF6",
              "width": 0.5
             },
             "pattern": {
              "fillmode": "overlay",
              "size": 10,
              "solidity": 0.2
             }
            },
            "type": "barpolar"
           }
          ],
          "carpet": [
           {
            "aaxis": {
             "endlinecolor": "#2a3f5f",
             "gridcolor": "white",
             "linecolor": "white",
             "minorgridcolor": "white",
             "startlinecolor": "#2a3f5f"
            },
            "baxis": {
             "endlinecolor": "#2a3f5f",
             "gridcolor": "white",
             "linecolor": "white",
             "minorgridcolor": "white",
             "startlinecolor": "#2a3f5f"
            },
            "type": "carpet"
           }
          ],
          "choropleth": [
           {
            "colorbar": {
             "outlinewidth": 0,
             "ticks": ""
            },
            "type": "choropleth"
           }
          ],
          "contour": [
           {
            "colorbar": {
             "outlinewidth": 0,
             "ticks": ""
            },
            "colorscale": [
             [
              0,
              "#0d0887"
             ],
             [
              0.1111111111111111,
              "#46039f"
             ],
             [
              0.2222222222222222,
              "#7201a8"
             ],
             [
              0.3333333333333333,
              "#9c179e"
             ],
             [
              0.4444444444444444,
              "#bd3786"
             ],
             [
              0.5555555555555556,
              "#d8576b"
             ],
             [
              0.6666666666666666,
              "#ed7953"
             ],
             [
              0.7777777777777778,
              "#fb9f3a"
             ],
             [
              0.8888888888888888,
              "#fdca26"
             ],
             [
              1,
              "#f0f921"
             ]
            ],
            "type": "contour"
           }
          ],
          "contourcarpet": [
           {
            "colorbar": {
             "outlinewidth": 0,
             "ticks": ""
            },
            "type": "contourcarpet"
           }
          ],
          "heatmap": [
           {
            "colorbar": {
             "outlinewidth": 0,
             "ticks": ""
            },
            "colorscale": [
             [
              0,
              "#0d0887"
             ],
             [
              0.1111111111111111,
              "#46039f"
             ],
             [
              0.2222222222222222,
              "#7201a8"
             ],
             [
              0.3333333333333333,
              "#9c179e"
             ],
             [
              0.4444444444444444,
              "#bd3786"
             ],
             [
              0.5555555555555556,
              "#d8576b"
             ],
             [
              0.6666666666666666,
              "#ed7953"
             ],
             [
              0.7777777777777778,
              "#fb9f3a"
             ],
             [
              0.8888888888888888,
              "#fdca26"
             ],
             [
              1,
              "#f0f921"
             ]
            ],
            "type": "heatmap"
           }
          ],
          "heatmapgl": [
           {
            "colorbar": {
             "outlinewidth": 0,
             "ticks": ""
            },
            "colorscale": [
             [
              0,
              "#0d0887"
             ],
             [
              0.1111111111111111,
              "#46039f"
             ],
             [
              0.2222222222222222,
              "#7201a8"
             ],
             [
              0.3333333333333333,
              "#9c179e"
             ],
             [
              0.4444444444444444,
              "#bd3786"
             ],
             [
              0.5555555555555556,
              "#d8576b"
             ],
             [
              0.6666666666666666,
              "#ed7953"
             ],
             [
              0.7777777777777778,
              "#fb9f3a"
             ],
             [
              0.8888888888888888,
              "#fdca26"
             ],
             [
              1,
              "#f0f921"
             ]
            ],
            "type": "heatmapgl"
           }
          ],
          "histogram": [
           {
            "marker": {
             "pattern": {
              "fillmode": "overlay",
              "size": 10,
              "solidity": 0.2
             }
            },
            "type": "histogram"
           }
          ],
          "histogram2d": [
           {
            "colorbar": {
             "outlinewidth": 0,
             "ticks": ""
            },
            "colorscale": [
             [
              0,
              "#0d0887"
             ],
             [
              0.1111111111111111,
              "#46039f"
             ],
             [
              0.2222222222222222,
              "#7201a8"
             ],
             [
              0.3333333333333333,
              "#9c179e"
             ],
             [
              0.4444444444444444,
              "#bd3786"
             ],
             [
              0.5555555555555556,
              "#d8576b"
             ],
             [
              0.6666666666666666,
              "#ed7953"
             ],
             [
              0.7777777777777778,
              "#fb9f3a"
             ],
             [
              0.8888888888888888,
              "#fdca26"
             ],
             [
              1,
              "#f0f921"
             ]
            ],
            "type": "histogram2d"
           }
          ],
          "histogram2dcontour": [
           {
            "colorbar": {
             "outlinewidth": 0,
             "ticks": ""
            },
            "colorscale": [
             [
              0,
              "#0d0887"
             ],
             [
              0.1111111111111111,
              "#46039f"
             ],
             [
              0.2222222222222222,
              "#7201a8"
             ],
             [
              0.3333333333333333,
              "#9c179e"
             ],
             [
              0.4444444444444444,
              "#bd3786"
             ],
             [
              0.5555555555555556,
              "#d8576b"
             ],
             [
              0.6666666666666666,
              "#ed7953"
             ],
             [
              0.7777777777777778,
              "#fb9f3a"
             ],
             [
              0.8888888888888888,
              "#fdca26"
             ],
             [
              1,
              "#f0f921"
             ]
            ],
            "type": "histogram2dcontour"
           }
          ],
          "mesh3d": [
           {
            "colorbar": {
             "outlinewidth": 0,
             "ticks": ""
            },
            "type": "mesh3d"
           }
          ],
          "parcoords": [
           {
            "line": {
             "colorbar": {
              "outlinewidth": 0,
              "ticks": ""
             }
            },
            "type": "parcoords"
           }
          ],
          "pie": [
           {
            "automargin": true,
            "type": "pie"
           }
          ],
          "scatter": [
           {
            "fillpattern": {
             "fillmode": "overlay",
             "size": 10,
             "solidity": 0.2
            },
            "type": "scatter"
           }
          ],
          "scatter3d": [
           {
            "line": {
             "colorbar": {
              "outlinewidth": 0,
              "ticks": ""
             }
            },
            "marker": {
             "colorbar": {
              "outlinewidth": 0,
              "ticks": ""
             }
            },
            "type": "scatter3d"
           }
          ],
          "scattercarpet": [
           {
            "marker": {
             "colorbar": {
              "outlinewidth": 0,
              "ticks": ""
             }
            },
            "type": "scattercarpet"
           }
          ],
          "scattergeo": [
           {
            "marker": {
             "colorbar": {
              "outlinewidth": 0,
              "ticks": ""
             }
            },
            "type": "scattergeo"
           }
          ],
          "scattergl": [
           {
            "marker": {
             "colorbar": {
              "outlinewidth": 0,
              "ticks": ""
             }
            },
            "type": "scattergl"
           }
          ],
          "scattermapbox": [
           {
            "marker": {
             "colorbar": {
              "outlinewidth": 0,
              "ticks": ""
             }
            },
            "type": "scattermapbox"
           }
          ],
          "scatterpolar": [
           {
            "marker": {
             "colorbar": {
              "outlinewidth": 0,
              "ticks": ""
             }
            },
            "type": "scatterpolar"
           }
          ],
          "scatterpolargl": [
           {
            "marker": {
             "colorbar": {
              "outlinewidth": 0,
              "ticks": ""
             }
            },
            "type": "scatterpolargl"
           }
          ],
          "scatterternary": [
           {
            "marker": {
             "colorbar": {
              "outlinewidth": 0,
              "ticks": ""
             }
            },
            "type": "scatterternary"
           }
          ],
          "surface": [
           {
            "colorbar": {
             "outlinewidth": 0,
             "ticks": ""
            },
            "colorscale": [
             [
              0,
              "#0d0887"
             ],
             [
              0.1111111111111111,
              "#46039f"
             ],
             [
              0.2222222222222222,
              "#7201a8"
             ],
             [
              0.3333333333333333,
              "#9c179e"
             ],
             [
              0.4444444444444444,
              "#bd3786"
             ],
             [
              0.5555555555555556,
              "#d8576b"
             ],
             [
              0.6666666666666666,
              "#ed7953"
             ],
             [
              0.7777777777777778,
              "#fb9f3a"
             ],
             [
              0.8888888888888888,
              "#fdca26"
             ],
             [
              1,
              "#f0f921"
             ]
            ],
            "type": "surface"
           }
          ],
          "table": [
           {
            "cells": {
             "fill": {
              "color": "#EBF0F8"
             },
             "line": {
              "color": "white"
             }
            },
            "header": {
             "fill": {
              "color": "#C8D4E3"
             },
             "line": {
              "color": "white"
             }
            },
            "type": "table"
           }
          ]
         },
         "layout": {
          "annotationdefaults": {
           "arrowcolor": "#2a3f5f",
           "arrowhead": 0,
           "arrowwidth": 1
          },
          "autotypenumbers": "strict",
          "coloraxis": {
           "colorbar": {
            "outlinewidth": 0,
            "ticks": ""
           }
          },
          "colorscale": {
           "diverging": [
            [
             0,
             "#8e0152"
            ],
            [
             0.1,
             "#c51b7d"
            ],
            [
             0.2,
             "#de77ae"
            ],
            [
             0.3,
             "#f1b6da"
            ],
            [
             0.4,
             "#fde0ef"
            ],
            [
             0.5,
             "#f7f7f7"
            ],
            [
             0.6,
             "#e6f5d0"
            ],
            [
             0.7,
             "#b8e186"
            ],
            [
             0.8,
             "#7fbc41"
            ],
            [
             0.9,
             "#4d9221"
            ],
            [
             1,
             "#276419"
            ]
           ],
           "sequential": [
            [
             0,
             "#0d0887"
            ],
            [
             0.1111111111111111,
             "#46039f"
            ],
            [
             0.2222222222222222,
             "#7201a8"
            ],
            [
             0.3333333333333333,
             "#9c179e"
            ],
            [
             0.4444444444444444,
             "#bd3786"
            ],
            [
             0.5555555555555556,
             "#d8576b"
            ],
            [
             0.6666666666666666,
             "#ed7953"
            ],
            [
             0.7777777777777778,
             "#fb9f3a"
            ],
            [
             0.8888888888888888,
             "#fdca26"
            ],
            [
             1,
             "#f0f921"
            ]
           ],
           "sequentialminus": [
            [
             0,
             "#0d0887"
            ],
            [
             0.1111111111111111,
             "#46039f"
            ],
            [
             0.2222222222222222,
             "#7201a8"
            ],
            [
             0.3333333333333333,
             "#9c179e"
            ],
            [
             0.4444444444444444,
             "#bd3786"
            ],
            [
             0.5555555555555556,
             "#d8576b"
            ],
            [
             0.6666666666666666,
             "#ed7953"
            ],
            [
             0.7777777777777778,
             "#fb9f3a"
            ],
            [
             0.8888888888888888,
             "#fdca26"
            ],
            [
             1,
             "#f0f921"
            ]
           ]
          },
          "colorway": [
           "#636efa",
           "#EF553B",
           "#00cc96",
           "#ab63fa",
           "#FFA15A",
           "#19d3f3",
           "#FF6692",
           "#B6E880",
           "#FF97FF",
           "#FECB52"
          ],
          "font": {
           "color": "#2a3f5f"
          },
          "geo": {
           "bgcolor": "white",
           "lakecolor": "white",
           "landcolor": "#E5ECF6",
           "showlakes": true,
           "showland": true,
           "subunitcolor": "white"
          },
          "hoverlabel": {
           "align": "left"
          },
          "hovermode": "closest",
          "mapbox": {
           "style": "light"
          },
          "paper_bgcolor": "white",
          "plot_bgcolor": "#E5ECF6",
          "polar": {
           "angularaxis": {
            "gridcolor": "white",
            "linecolor": "white",
            "ticks": ""
           },
           "bgcolor": "#E5ECF6",
           "radialaxis": {
            "gridcolor": "white",
            "linecolor": "white",
            "ticks": ""
           }
          },
          "scene": {
           "xaxis": {
            "backgroundcolor": "#E5ECF6",
            "gridcolor": "white",
            "gridwidth": 2,
            "linecolor": "white",
            "showbackground": true,
            "ticks": "",
            "zerolinecolor": "white"
           },
           "yaxis": {
            "backgroundcolor": "#E5ECF6",
            "gridcolor": "white",
            "gridwidth": 2,
            "linecolor": "white",
            "showbackground": true,
            "ticks": "",
            "zerolinecolor": "white"
           },
           "zaxis": {
            "backgroundcolor": "#E5ECF6",
            "gridcolor": "white",
            "gridwidth": 2,
            "linecolor": "white",
            "showbackground": true,
            "ticks": "",
            "zerolinecolor": "white"
           }
          },
          "shapedefaults": {
           "line": {
            "color": "#2a3f5f"
           }
          },
          "ternary": {
           "aaxis": {
            "gridcolor": "white",
            "linecolor": "white",
            "ticks": ""
           },
           "baxis": {
            "gridcolor": "white",
            "linecolor": "white",
            "ticks": ""
           },
           "bgcolor": "#E5ECF6",
           "caxis": {
            "gridcolor": "white",
            "linecolor": "white",
            "ticks": ""
           }
          },
          "title": {
           "x": 0.05
          },
          "xaxis": {
           "automargin": true,
           "gridcolor": "white",
           "linecolor": "white",
           "ticks": "",
           "title": {
            "standoff": 15
           },
           "zerolinecolor": "white",
           "zerolinewidth": 2
          },
          "yaxis": {
           "automargin": true,
           "gridcolor": "white",
           "linecolor": "white",
           "ticks": "",
           "title": {
            "standoff": 15
           },
           "zerolinecolor": "white",
           "zerolinewidth": 2
          }
         }
        },
        "xaxis": {
         "anchor": "y",
         "domain": [
          0,
          1
         ],
         "title": {
          "text": "useful_cavs_perc"
         }
        },
        "yaxis": {
         "anchor": "x",
         "domain": [
          0,
          1
         ],
         "title": {
          "text": "fidelity_avg"
         }
        }
       }
      },
      "text/html": [
       "<div>                            <div id=\"b3e5d60a-81a7-4940-9e4e-4116e87da9c3\" class=\"plotly-graph-div\" style=\"height:525px; width:100%;\"></div>            <script type=\"text/javascript\">                require([\"plotly\"], function(Plotly) {                    window.PLOTLYENV=window.PLOTLYENV || {};                                    if (document.getElementById(\"b3e5d60a-81a7-4940-9e4e-4116e87da9c3\")) {                    Plotly.newPlot(                        \"b3e5d60a-81a7-4940-9e4e-4116e87da9c3\",                        [{\"customdata\":[[\"1\"],[\"2\"],[\"3\"],[\"6\"],[\"10\"],[\"8\"],[\"12\"]],\"hovertemplate\":\"reducer_type=NMF<br>useful_cavs_perc=%{x}<br>fidelity_avg=%{y}<br>rank_str=%{customdata[0]}<br>n_cavs=%{marker.color}<extra></extra>\",\"legendgroup\":\"NMF\",\"marker\":{\"color\":[1,2,3,6,10,8,12],\"coloraxis\":\"coloraxis\",\"symbol\":\"circle\"},\"mode\":\"markers\",\"name\":\"NMF\",\"orientation\":\"v\",\"showlegend\":true,\"x\":[0.0,0.5,0.3333333333333333,0.6666666666666666,0.6,0.625,0.75],\"xaxis\":\"x\",\"y\":[0.9614486284680861,0.5906216258686923,0.5857329171289618,0.09552547044359826,0.09412293917783665,0.08961968278419481,0.09203827716384355],\"yaxis\":\"y\",\"type\":\"scatter\"},{\"customdata\":[[\"[3, 20, 100]\"],[\"[6, 20, 100]\"],[\"[10, 20, 100]\"],[\"[3, 20, 25]\"],[\"[6, 20, 25]\"],[\"[10, 20, 25]\"],[\"[3, 30, 100]\"],[\"[6, 30, 100]\"],[\"[10, 30, 100]\"],[\"[6, 39, 80]\"],[\"[10, 39, 80]\"],[\"[6, 39, 200]\"],[\"[10, 39, 200]\"],[\"[8, 39, 100]\"],[\"[10, 39, 100]\"],[\"[10, 39, 375]\"],[\"[8, 39, 375]\"],[\"[6, 39, 375]\"],[\"[3, 39, 375]\"],[\"[2, 39, 375]\"],[\"[1, 39, 375]\"]],\"hovertemplate\":\"reducer_type=NTD3<br>useful_cavs_perc=%{x}<br>fidelity_avg=%{y}<br>rank_str=%{customdata[0]}<br>n_cavs=%{marker.color}<extra></extra>\",\"legendgroup\":\"NTD3\",\"marker\":{\"color\":[3,6,10,3,6,10,3,6,10,6,10,6,10,8,10,10,8,6,3,2,1],\"coloraxis\":\"coloraxis\",\"symbol\":\"diamond\"},\"mode\":\"markers\",\"name\":\"NTD3\",\"orientation\":\"v\",\"showlegend\":true,\"x\":[0.3333333333333333,0.6666666666666666,0.6,0.3333333333333333,0.5,0.7,0.3333333333333333,0.6666666666666666,0.7,0.6666666666666666,0.6,0.6666666666666666,0.6,0.75,0.6,0.6,0.625,0.6666666666666666,0.3333333333333333,0.5,0.0],\"xaxis\":\"x\",\"y\":[0.5853154844903137,0.09526914100689456,0.08917551995045027,0.5870709343327611,0.5893794046154796,0.09367869877564039,0.5857687077338908,0.09835761693851065,0.09005581301686466,0.09735673896927903,0.09353581592010417,0.09859342509000492,0.09817760619512085,0.09927047516683288,0.09695671028093514,0.09619991999168565,0.09871310655751922,0.09763724248417795,0.5836378949857435,0.5867889893666929,0.9658653216551208],\"yaxis\":\"y\",\"type\":\"scatter\"},{\"customdata\":[[\"[3, 3, 2, 25]\"],[\"[1, 3, 2, 25]\"],[\"[2, 3, 2, 25]\"],[\"[3, 5, 3, 25]\"],[\"[3, 13, 3, 25]\"],[\"[6, 13, 3, 25]\"],[\"[6, 2, 3, 20]\"],[\"[10, 2, 3, 20]\"],[\"[3, 2, 3, 25]\"],[\"[6, 2, 3, 25]\"],[\"[10, 2, 3, 25]\"],[\"[10, 13, 3, 375]\"],[\"[10, 3, 3, 375]\"],[\"[8, 13, 3, 375]\"],[\"[6, 13, 3, 375]\"],[\"[3, 13, 3, 375]\"],[\"[1, 13, 3, 375]\"],[\"[2, 13, 3, 375]\"]],\"hovertemplate\":\"reducer_type=NTD4<br>useful_cavs_perc=%{x}<br>fidelity_avg=%{y}<br>rank_str=%{customdata[0]}<br>n_cavs=%{marker.color}<extra></extra>\",\"legendgroup\":\"NTD4\",\"marker\":{\"color\":[3,1,2,3,3,6,6,10,3,6,10,10,10,8,6,3,1,2],\"coloraxis\":\"coloraxis\",\"symbol\":\"square\"},\"mode\":\"markers\",\"name\":\"NTD4\",\"orientation\":\"v\",\"showlegend\":true,\"x\":[0.3333333333333333,0.0,0.5,0.3333333333333333,0.3333333333333333,0.5,0.6666666666666666,0.7,0.3333333333333333,0.6666666666666666,0.6,0.7,0.6,0.625,0.6666666666666666,0.3333333333333333,0.0,0.5],\"xaxis\":\"x\",\"y\":[0.6541398646673119,0.9673271009499715,0.6619142587539446,0.6374264664958389,0.5853137105381767,0.5862460323808847,0.17859492441814945,0.5911118076301214,0.6520061186684614,0.1835091390727887,0.3829858289739325,0.10099538773307629,0.18356961960377371,0.10015473216414375,0.09634866659348915,0.584771187319489,0.963461237795483,0.5875680577498656],\"yaxis\":\"y\",\"type\":\"scatter\"}],                        {\"template\":{\"data\":{\"histogram2dcontour\":[{\"type\":\"histogram2dcontour\",\"colorbar\":{\"outlinewidth\":0,\"ticks\":\"\"},\"colorscale\":[[0.0,\"#0d0887\"],[0.1111111111111111,\"#46039f\"],[0.2222222222222222,\"#7201a8\"],[0.3333333333333333,\"#9c179e\"],[0.4444444444444444,\"#bd3786\"],[0.5555555555555556,\"#d8576b\"],[0.6666666666666666,\"#ed7953\"],[0.7777777777777778,\"#fb9f3a\"],[0.8888888888888888,\"#fdca26\"],[1.0,\"#f0f921\"]]}],\"choropleth\":[{\"type\":\"choropleth\",\"colorbar\":{\"outlinewidth\":0,\"ticks\":\"\"}}],\"histogram2d\":[{\"type\":\"histogram2d\",\"colorbar\":{\"outlinewidth\":0,\"ticks\":\"\"},\"colorscale\":[[0.0,\"#0d0887\"],[0.1111111111111111,\"#46039f\"],[0.2222222222222222,\"#7201a8\"],[0.3333333333333333,\"#9c179e\"],[0.4444444444444444,\"#bd3786\"],[0.5555555555555556,\"#d8576b\"],[0.6666666666666666,\"#ed7953\"],[0.7777777777777778,\"#fb9f3a\"],[0.8888888888888888,\"#fdca26\"],[1.0,\"#f0f921\"]]}],\"heatmap\":[{\"type\":\"heatmap\",\"colorbar\":{\"outlinewidth\":0,\"ticks\":\"\"},\"colorscale\":[[0.0,\"#0d0887\"],[0.1111111111111111,\"#46039f\"],[0.2222222222222222,\"#7201a8\"],[0.3333333333333333,\"#9c179e\"],[0.4444444444444444,\"#bd3786\"],[0.5555555555555556,\"#d8576b\"],[0.6666666666666666,\"#ed7953\"],[0.7777777777777778,\"#fb9f3a\"],[0.8888888888888888,\"#fdca26\"],[1.0,\"#f0f921\"]]}],\"heatmapgl\":[{\"type\":\"heatmapgl\",\"colorbar\":{\"outlinewidth\":0,\"ticks\":\"\"},\"colorscale\":[[0.0,\"#0d0887\"],[0.1111111111111111,\"#46039f\"],[0.2222222222222222,\"#7201a8\"],[0.3333333333333333,\"#9c179e\"],[0.4444444444444444,\"#bd3786\"],[0.5555555555555556,\"#d8576b\"],[0.6666666666666666,\"#ed7953\"],[0.7777777777777778,\"#fb9f3a\"],[0.8888888888888888,\"#fdca26\"],[1.0,\"#f0f921\"]]}],\"contourcarpet\":[{\"type\":\"contourcarpet\",\"colorbar\":{\"outlinewidth\":0,\"ticks\":\"\"}}],\"contour\":[{\"type\":\"contour\",\"colorbar\":{\"outlinewidth\":0,\"ticks\":\"\"},\"colorscale\":[[0.0,\"#0d0887\"],[0.1111111111111111,\"#46039f\"],[0.2222222222222222,\"#7201a8\"],[0.3333333333333333,\"#9c179e\"],[0.4444444444444444,\"#bd3786\"],[0.5555555555555556,\"#d8576b\"],[0.6666666666666666,\"#ed7953\"],[0.7777777777777778,\"#fb9f3a\"],[0.8888888888888888,\"#fdca26\"],[1.0,\"#f0f921\"]]}],\"surface\":[{\"type\":\"surface\",\"colorbar\":{\"outlinewidth\":0,\"ticks\":\"\"},\"colorscale\":[[0.0,\"#0d0887\"],[0.1111111111111111,\"#46039f\"],[0.2222222222222222,\"#7201a8\"],[0.3333333333333333,\"#9c179e\"],[0.4444444444444444,\"#bd3786\"],[0.5555555555555556,\"#d8576b\"],[0.6666666666666666,\"#ed7953\"],[0.7777777777777778,\"#fb9f3a\"],[0.8888888888888888,\"#fdca26\"],[1.0,\"#f0f921\"]]}],\"mesh3d\":[{\"type\":\"mesh3d\",\"colorbar\":{\"outlinewidth\":0,\"ticks\":\"\"}}],\"scatter\":[{\"fillpattern\":{\"fillmode\":\"overlay\",\"size\":10,\"solidity\":0.2},\"type\":\"scatter\"}],\"parcoords\":[{\"type\":\"parcoords\",\"line\":{\"colorbar\":{\"outlinewidth\":0,\"ticks\":\"\"}}}],\"scatterpolargl\":[{\"type\":\"scatterpolargl\",\"marker\":{\"colorbar\":{\"outlinewidth\":0,\"ticks\":\"\"}}}],\"bar\":[{\"error_x\":{\"color\":\"#2a3f5f\"},\"error_y\":{\"color\":\"#2a3f5f\"},\"marker\":{\"line\":{\"color\":\"#E5ECF6\",\"width\":0.5},\"pattern\":{\"fillmode\":\"overlay\",\"size\":10,\"solidity\":0.2}},\"type\":\"bar\"}],\"scattergeo\":[{\"type\":\"scattergeo\",\"marker\":{\"colorbar\":{\"outlinewidth\":0,\"ticks\":\"\"}}}],\"scatterpolar\":[{\"type\":\"scatterpolar\",\"marker\":{\"colorbar\":{\"outlinewidth\":0,\"ticks\":\"\"}}}],\"histogram\":[{\"marker\":{\"pattern\":{\"fillmode\":\"overlay\",\"size\":10,\"solidity\":0.2}},\"type\":\"histogram\"}],\"scattergl\":[{\"type\":\"scattergl\",\"marker\":{\"colorbar\":{\"outlinewidth\":0,\"ticks\":\"\"}}}],\"scatter3d\":[{\"type\":\"scatter3d\",\"line\":{\"colorbar\":{\"outlinewidth\":0,\"ticks\":\"\"}},\"marker\":{\"colorbar\":{\"outlinewidth\":0,\"ticks\":\"\"}}}],\"scattermapbox\":[{\"type\":\"scattermapbox\",\"marker\":{\"colorbar\":{\"outlinewidth\":0,\"ticks\":\"\"}}}],\"scatterternary\":[{\"type\":\"scatterternary\",\"marker\":{\"colorbar\":{\"outlinewidth\":0,\"ticks\":\"\"}}}],\"scattercarpet\":[{\"type\":\"scattercarpet\",\"marker\":{\"colorbar\":{\"outlinewidth\":0,\"ticks\":\"\"}}}],\"carpet\":[{\"aaxis\":{\"endlinecolor\":\"#2a3f5f\",\"gridcolor\":\"white\",\"linecolor\":\"white\",\"minorgridcolor\":\"white\",\"startlinecolor\":\"#2a3f5f\"},\"baxis\":{\"endlinecolor\":\"#2a3f5f\",\"gridcolor\":\"white\",\"linecolor\":\"white\",\"minorgridcolor\":\"white\",\"startlinecolor\":\"#2a3f5f\"},\"type\":\"carpet\"}],\"table\":[{\"cells\":{\"fill\":{\"color\":\"#EBF0F8\"},\"line\":{\"color\":\"white\"}},\"header\":{\"fill\":{\"color\":\"#C8D4E3\"},\"line\":{\"color\":\"white\"}},\"type\":\"table\"}],\"barpolar\":[{\"marker\":{\"line\":{\"color\":\"#E5ECF6\",\"width\":0.5},\"pattern\":{\"fillmode\":\"overlay\",\"size\":10,\"solidity\":0.2}},\"type\":\"barpolar\"}],\"pie\":[{\"automargin\":true,\"type\":\"pie\"}]},\"layout\":{\"autotypenumbers\":\"strict\",\"colorway\":[\"#636efa\",\"#EF553B\",\"#00cc96\",\"#ab63fa\",\"#FFA15A\",\"#19d3f3\",\"#FF6692\",\"#B6E880\",\"#FF97FF\",\"#FECB52\"],\"font\":{\"color\":\"#2a3f5f\"},\"hovermode\":\"closest\",\"hoverlabel\":{\"align\":\"left\"},\"paper_bgcolor\":\"white\",\"plot_bgcolor\":\"#E5ECF6\",\"polar\":{\"bgcolor\":\"#E5ECF6\",\"angularaxis\":{\"gridcolor\":\"white\",\"linecolor\":\"white\",\"ticks\":\"\"},\"radialaxis\":{\"gridcolor\":\"white\",\"linecolor\":\"white\",\"ticks\":\"\"}},\"ternary\":{\"bgcolor\":\"#E5ECF6\",\"aaxis\":{\"gridcolor\":\"white\",\"linecolor\":\"white\",\"ticks\":\"\"},\"baxis\":{\"gridcolor\":\"white\",\"linecolor\":\"white\",\"ticks\":\"\"},\"caxis\":{\"gridcolor\":\"white\",\"linecolor\":\"white\",\"ticks\":\"\"}},\"coloraxis\":{\"colorbar\":{\"outlinewidth\":0,\"ticks\":\"\"}},\"colorscale\":{\"sequential\":[[0.0,\"#0d0887\"],[0.1111111111111111,\"#46039f\"],[0.2222222222222222,\"#7201a8\"],[0.3333333333333333,\"#9c179e\"],[0.4444444444444444,\"#bd3786\"],[0.5555555555555556,\"#d8576b\"],[0.6666666666666666,\"#ed7953\"],[0.7777777777777778,\"#fb9f3a\"],[0.8888888888888888,\"#fdca26\"],[1.0,\"#f0f921\"]],\"sequentialminus\":[[0.0,\"#0d0887\"],[0.1111111111111111,\"#46039f\"],[0.2222222222222222,\"#7201a8\"],[0.3333333333333333,\"#9c179e\"],[0.4444444444444444,\"#bd3786\"],[0.5555555555555556,\"#d8576b\"],[0.6666666666666666,\"#ed7953\"],[0.7777777777777778,\"#fb9f3a\"],[0.8888888888888888,\"#fdca26\"],[1.0,\"#f0f921\"]],\"diverging\":[[0,\"#8e0152\"],[0.1,\"#c51b7d\"],[0.2,\"#de77ae\"],[0.3,\"#f1b6da\"],[0.4,\"#fde0ef\"],[0.5,\"#f7f7f7\"],[0.6,\"#e6f5d0\"],[0.7,\"#b8e186\"],[0.8,\"#7fbc41\"],[0.9,\"#4d9221\"],[1,\"#276419\"]]},\"xaxis\":{\"gridcolor\":\"white\",\"linecolor\":\"white\",\"ticks\":\"\",\"title\":{\"standoff\":15},\"zerolinecolor\":\"white\",\"automargin\":true,\"zerolinewidth\":2},\"yaxis\":{\"gridcolor\":\"white\",\"linecolor\":\"white\",\"ticks\":\"\",\"title\":{\"standoff\":15},\"zerolinecolor\":\"white\",\"automargin\":true,\"zerolinewidth\":2},\"scene\":{\"xaxis\":{\"backgroundcolor\":\"#E5ECF6\",\"gridcolor\":\"white\",\"linecolor\":\"white\",\"showbackground\":true,\"ticks\":\"\",\"zerolinecolor\":\"white\",\"gridwidth\":2},\"yaxis\":{\"backgroundcolor\":\"#E5ECF6\",\"gridcolor\":\"white\",\"linecolor\":\"white\",\"showbackground\":true,\"ticks\":\"\",\"zerolinecolor\":\"white\",\"gridwidth\":2},\"zaxis\":{\"backgroundcolor\":\"#E5ECF6\",\"gridcolor\":\"white\",\"linecolor\":\"white\",\"showbackground\":true,\"ticks\":\"\",\"zerolinecolor\":\"white\",\"gridwidth\":2}},\"shapedefaults\":{\"line\":{\"color\":\"#2a3f5f\"}},\"annotationdefaults\":{\"arrowcolor\":\"#2a3f5f\",\"arrowhead\":0,\"arrowwidth\":1},\"geo\":{\"bgcolor\":\"white\",\"landcolor\":\"#E5ECF6\",\"subunitcolor\":\"white\",\"showland\":true,\"showlakes\":true,\"lakecolor\":\"white\"},\"title\":{\"x\":0.05},\"mapbox\":{\"style\":\"light\"}}},\"xaxis\":{\"anchor\":\"y\",\"domain\":[0.0,1.0],\"title\":{\"text\":\"useful_cavs_perc\"}},\"yaxis\":{\"anchor\":\"x\",\"domain\":[0.0,1.0],\"title\":{\"text\":\"fidelity_avg\"}},\"coloraxis\":{\"colorbar\":{\"title\":{\"text\":\"n_cavs\"}},\"colorscale\":[[0.0,\"#0d0887\"],[0.1111111111111111,\"#46039f\"],[0.2222222222222222,\"#7201a8\"],[0.3333333333333333,\"#9c179e\"],[0.4444444444444444,\"#bd3786\"],[0.5555555555555556,\"#d8576b\"],[0.6666666666666666,\"#ed7953\"],[0.7777777777777778,\"#fb9f3a\"],[0.8888888888888888,\"#fdca26\"],[1.0,\"#f0f921\"]]},\"legend\":{\"title\":{\"text\":\"reducer_type\"},\"tracegroupgap\":0},\"margin\":{\"t\":60}},                        {\"responsive\": true}                    ).then(function(){\n",
       "                            \n",
       "var gd = document.getElementById('b3e5d60a-81a7-4940-9e4e-4116e87da9c3');\n",
       "var x = new MutationObserver(function (mutations, observer) {{\n",
       "        var display = window.getComputedStyle(gd).display;\n",
       "        if (!display || display === 'none') {{\n",
       "            console.log([gd, 'removed!']);\n",
       "            Plotly.purge(gd);\n",
       "            observer.disconnect();\n",
       "        }}\n",
       "}});\n",
       "\n",
       "// Listen for the removal of the full notebook cells\n",
       "var notebookContainer = gd.closest('#notebook-container');\n",
       "if (notebookContainer) {{\n",
       "    x.observe(notebookContainer, {childList: true});\n",
       "}}\n",
       "\n",
       "// Listen for the clearing of the current output cell\n",
       "var outputEl = gd.closest('.output');\n",
       "if (outputEl) {{\n",
       "    x.observe(outputEl, {childList: true});\n",
       "}}\n",
       "\n",
       "                        })                };                });            </script>        </div>"
      ]
     },
     "metadata": {},
     "output_type": "display_data"
    }
   ],
   "source": [
    "px.scatter(df, x= 'useful_cavs_perc', y='fidelity_avg', color=\"n_cavs\", symbol =\"reducer_type\", hover_data=['rank_str'])"
   ]
  },
  {
   "cell_type": "code",
   "execution_count": 41,
   "metadata": {},
   "outputs": [
    {
     "data": {
      "application/vnd.plotly.v1+json": {
       "config": {
        "plotlyServerURL": "https://plot.ly"
       },
       "data": [
        {
         "alignmentgroup": "True",
         "boxpoints": "all",
         "customdata": [
          [
           "1"
          ],
          [
           "2"
          ],
          [
           "3"
          ],
          [
           "6"
          ],
          [
           "10"
          ],
          [
           "8"
          ],
          [
           "12"
          ]
         ],
         "fillcolor": "rgba(255,255,255,0)",
         "hoveron": "points",
         "hovertemplate": "reducer_type=NMF<br>useful_cavs_perc=%{x}<br>fidelity_avg=%{y}<br>rank_str=%{customdata[0]}<extra></extra>",
         "legendgroup": "NMF",
         "line": {
          "color": "rgba(255,255,255,0)"
         },
         "marker": {
          "color": "#636efa"
         },
         "name": "NMF",
         "offsetgroup": "NMF",
         "orientation": "v",
         "pointpos": 0,
         "showlegend": true,
         "type": "box",
         "x": [
          0,
          0.5,
          0.3333333333333333,
          0.6666666666666666,
          0.6,
          0.625,
          0.75
         ],
         "x0": " ",
         "xaxis": "x",
         "y": [
          0.9614486284680861,
          0.5906216258686923,
          0.5857329171289618,
          0.09552547044359826,
          0.09412293917783665,
          0.08961968278419481,
          0.09203827716384355
         ],
         "y0": " ",
         "yaxis": "y"
        },
        {
         "alignmentgroup": "True",
         "boxpoints": "all",
         "customdata": [
          [
           "[3, 20, 100]"
          ],
          [
           "[6, 20, 100]"
          ],
          [
           "[10, 20, 100]"
          ],
          [
           "[3, 20, 25]"
          ],
          [
           "[6, 20, 25]"
          ],
          [
           "[10, 20, 25]"
          ],
          [
           "[3, 30, 100]"
          ],
          [
           "[6, 30, 100]"
          ],
          [
           "[10, 30, 100]"
          ],
          [
           "[6, 39, 80]"
          ],
          [
           "[10, 39, 80]"
          ],
          [
           "[6, 39, 200]"
          ],
          [
           "[10, 39, 200]"
          ],
          [
           "[8, 39, 100]"
          ],
          [
           "[10, 39, 100]"
          ],
          [
           "[10, 39, 375]"
          ],
          [
           "[8, 39, 375]"
          ],
          [
           "[6, 39, 375]"
          ],
          [
           "[3, 39, 375]"
          ],
          [
           "[2, 39, 375]"
          ],
          [
           "[1, 39, 375]"
          ]
         ],
         "fillcolor": "rgba(255,255,255,0)",
         "hoveron": "points",
         "hovertemplate": "reducer_type=NTD3<br>useful_cavs_perc=%{x}<br>fidelity_avg=%{y}<br>rank_str=%{customdata[0]}<extra></extra>",
         "legendgroup": "NTD3",
         "line": {
          "color": "rgba(255,255,255,0)"
         },
         "marker": {
          "color": "#EF553B"
         },
         "name": "NTD3",
         "offsetgroup": "NTD3",
         "orientation": "v",
         "pointpos": 0,
         "showlegend": true,
         "type": "box",
         "x": [
          0.3333333333333333,
          0.6666666666666666,
          0.6,
          0.3333333333333333,
          0.5,
          0.7,
          0.3333333333333333,
          0.6666666666666666,
          0.7,
          0.6666666666666666,
          0.6,
          0.6666666666666666,
          0.6,
          0.75,
          0.6,
          0.6,
          0.625,
          0.6666666666666666,
          0.3333333333333333,
          0.5,
          0
         ],
         "x0": " ",
         "xaxis": "x",
         "y": [
          0.5853154844903137,
          0.09526914100689456,
          0.08917551995045027,
          0.5870709343327611,
          0.5893794046154796,
          0.09367869877564039,
          0.5857687077338908,
          0.09835761693851065,
          0.09005581301686466,
          0.09735673896927903,
          0.09353581592010417,
          0.09859342509000492,
          0.09817760619512085,
          0.09927047516683288,
          0.09695671028093514,
          0.09619991999168565,
          0.09871310655751922,
          0.09763724248417795,
          0.5836378949857435,
          0.5867889893666929,
          0.9658653216551208
         ],
         "y0": " ",
         "yaxis": "y"
        },
        {
         "alignmentgroup": "True",
         "boxpoints": "all",
         "customdata": [
          [
           "[3, 3, 2, 25]"
          ],
          [
           "[1, 3, 2, 25]"
          ],
          [
           "[2, 3, 2, 25]"
          ],
          [
           "[3, 5, 3, 25]"
          ],
          [
           "[3, 13, 3, 25]"
          ],
          [
           "[6, 13, 3, 25]"
          ],
          [
           "[6, 2, 3, 20]"
          ],
          [
           "[10, 2, 3, 20]"
          ],
          [
           "[3, 2, 3, 25]"
          ],
          [
           "[6, 2, 3, 25]"
          ],
          [
           "[10, 2, 3, 25]"
          ],
          [
           "[10, 13, 3, 375]"
          ],
          [
           "[10, 3, 3, 375]"
          ],
          [
           "[8, 13, 3, 375]"
          ],
          [
           "[6, 13, 3, 375]"
          ],
          [
           "[3, 13, 3, 375]"
          ],
          [
           "[1, 13, 3, 375]"
          ],
          [
           "[2, 13, 3, 375]"
          ]
         ],
         "fillcolor": "rgba(255,255,255,0)",
         "hoveron": "points",
         "hovertemplate": "reducer_type=NTD4<br>useful_cavs_perc=%{x}<br>fidelity_avg=%{y}<br>rank_str=%{customdata[0]}<extra></extra>",
         "legendgroup": "NTD4",
         "line": {
          "color": "rgba(255,255,255,0)"
         },
         "marker": {
          "color": "#00cc96"
         },
         "name": "NTD4",
         "offsetgroup": "NTD4",
         "orientation": "v",
         "pointpos": 0,
         "showlegend": true,
         "type": "box",
         "x": [
          0.3333333333333333,
          0,
          0.5,
          0.3333333333333333,
          0.3333333333333333,
          0.5,
          0.6666666666666666,
          0.7,
          0.3333333333333333,
          0.6666666666666666,
          0.6,
          0.7,
          0.6,
          0.625,
          0.6666666666666666,
          0.3333333333333333,
          0,
          0.5
         ],
         "x0": " ",
         "xaxis": "x",
         "y": [
          0.6541398646673119,
          0.9673271009499715,
          0.6619142587539446,
          0.6374264664958389,
          0.5853137105381767,
          0.5862460323808847,
          0.17859492441814945,
          0.5911118076301214,
          0.6520061186684614,
          0.1835091390727887,
          0.3829858289739325,
          0.10099538773307629,
          0.18356961960377371,
          0.10015473216414375,
          0.09634866659348915,
          0.584771187319489,
          0.963461237795483,
          0.5875680577498656
         ],
         "y0": " ",
         "yaxis": "y"
        }
       ],
       "layout": {
        "boxmode": "group",
        "legend": {
         "title": {
          "text": "reducer_type"
         },
         "tracegroupgap": 0
        },
        "margin": {
         "t": 60
        },
        "template": {
         "data": {
          "bar": [
           {
            "error_x": {
             "color": "#2a3f5f"
            },
            "error_y": {
             "color": "#2a3f5f"
            },
            "marker": {
             "line": {
              "color": "#E5ECF6",
              "width": 0.5
             },
             "pattern": {
              "fillmode": "overlay",
              "size": 10,
              "solidity": 0.2
             }
            },
            "type": "bar"
           }
          ],
          "barpolar": [
           {
            "marker": {
             "line": {
              "color": "#E5ECF6",
              "width": 0.5
             },
             "pattern": {
              "fillmode": "overlay",
              "size": 10,
              "solidity": 0.2
             }
            },
            "type": "barpolar"
           }
          ],
          "carpet": [
           {
            "aaxis": {
             "endlinecolor": "#2a3f5f",
             "gridcolor": "white",
             "linecolor": "white",
             "minorgridcolor": "white",
             "startlinecolor": "#2a3f5f"
            },
            "baxis": {
             "endlinecolor": "#2a3f5f",
             "gridcolor": "white",
             "linecolor": "white",
             "minorgridcolor": "white",
             "startlinecolor": "#2a3f5f"
            },
            "type": "carpet"
           }
          ],
          "choropleth": [
           {
            "colorbar": {
             "outlinewidth": 0,
             "ticks": ""
            },
            "type": "choropleth"
           }
          ],
          "contour": [
           {
            "colorbar": {
             "outlinewidth": 0,
             "ticks": ""
            },
            "colorscale": [
             [
              0,
              "#0d0887"
             ],
             [
              0.1111111111111111,
              "#46039f"
             ],
             [
              0.2222222222222222,
              "#7201a8"
             ],
             [
              0.3333333333333333,
              "#9c179e"
             ],
             [
              0.4444444444444444,
              "#bd3786"
             ],
             [
              0.5555555555555556,
              "#d8576b"
             ],
             [
              0.6666666666666666,
              "#ed7953"
             ],
             [
              0.7777777777777778,
              "#fb9f3a"
             ],
             [
              0.8888888888888888,
              "#fdca26"
             ],
             [
              1,
              "#f0f921"
             ]
            ],
            "type": "contour"
           }
          ],
          "contourcarpet": [
           {
            "colorbar": {
             "outlinewidth": 0,
             "ticks": ""
            },
            "type": "contourcarpet"
           }
          ],
          "heatmap": [
           {
            "colorbar": {
             "outlinewidth": 0,
             "ticks": ""
            },
            "colorscale": [
             [
              0,
              "#0d0887"
             ],
             [
              0.1111111111111111,
              "#46039f"
             ],
             [
              0.2222222222222222,
              "#7201a8"
             ],
             [
              0.3333333333333333,
              "#9c179e"
             ],
             [
              0.4444444444444444,
              "#bd3786"
             ],
             [
              0.5555555555555556,
              "#d8576b"
             ],
             [
              0.6666666666666666,
              "#ed7953"
             ],
             [
              0.7777777777777778,
              "#fb9f3a"
             ],
             [
              0.8888888888888888,
              "#fdca26"
             ],
             [
              1,
              "#f0f921"
             ]
            ],
            "type": "heatmap"
           }
          ],
          "heatmapgl": [
           {
            "colorbar": {
             "outlinewidth": 0,
             "ticks": ""
            },
            "colorscale": [
             [
              0,
              "#0d0887"
             ],
             [
              0.1111111111111111,
              "#46039f"
             ],
             [
              0.2222222222222222,
              "#7201a8"
             ],
             [
              0.3333333333333333,
              "#9c179e"
             ],
             [
              0.4444444444444444,
              "#bd3786"
             ],
             [
              0.5555555555555556,
              "#d8576b"
             ],
             [
              0.6666666666666666,
              "#ed7953"
             ],
             [
              0.7777777777777778,
              "#fb9f3a"
             ],
             [
              0.8888888888888888,
              "#fdca26"
             ],
             [
              1,
              "#f0f921"
             ]
            ],
            "type": "heatmapgl"
           }
          ],
          "histogram": [
           {
            "marker": {
             "pattern": {
              "fillmode": "overlay",
              "size": 10,
              "solidity": 0.2
             }
            },
            "type": "histogram"
           }
          ],
          "histogram2d": [
           {
            "colorbar": {
             "outlinewidth": 0,
             "ticks": ""
            },
            "colorscale": [
             [
              0,
              "#0d0887"
             ],
             [
              0.1111111111111111,
              "#46039f"
             ],
             [
              0.2222222222222222,
              "#7201a8"
             ],
             [
              0.3333333333333333,
              "#9c179e"
             ],
             [
              0.4444444444444444,
              "#bd3786"
             ],
             [
              0.5555555555555556,
              "#d8576b"
             ],
             [
              0.6666666666666666,
              "#ed7953"
             ],
             [
              0.7777777777777778,
              "#fb9f3a"
             ],
             [
              0.8888888888888888,
              "#fdca26"
             ],
             [
              1,
              "#f0f921"
             ]
            ],
            "type": "histogram2d"
           }
          ],
          "histogram2dcontour": [
           {
            "colorbar": {
             "outlinewidth": 0,
             "ticks": ""
            },
            "colorscale": [
             [
              0,
              "#0d0887"
             ],
             [
              0.1111111111111111,
              "#46039f"
             ],
             [
              0.2222222222222222,
              "#7201a8"
             ],
             [
              0.3333333333333333,
              "#9c179e"
             ],
             [
              0.4444444444444444,
              "#bd3786"
             ],
             [
              0.5555555555555556,
              "#d8576b"
             ],
             [
              0.6666666666666666,
              "#ed7953"
             ],
             [
              0.7777777777777778,
              "#fb9f3a"
             ],
             [
              0.8888888888888888,
              "#fdca26"
             ],
             [
              1,
              "#f0f921"
             ]
            ],
            "type": "histogram2dcontour"
           }
          ],
          "mesh3d": [
           {
            "colorbar": {
             "outlinewidth": 0,
             "ticks": ""
            },
            "type": "mesh3d"
           }
          ],
          "parcoords": [
           {
            "line": {
             "colorbar": {
              "outlinewidth": 0,
              "ticks": ""
             }
            },
            "type": "parcoords"
           }
          ],
          "pie": [
           {
            "automargin": true,
            "type": "pie"
           }
          ],
          "scatter": [
           {
            "fillpattern": {
             "fillmode": "overlay",
             "size": 10,
             "solidity": 0.2
            },
            "type": "scatter"
           }
          ],
          "scatter3d": [
           {
            "line": {
             "colorbar": {
              "outlinewidth": 0,
              "ticks": ""
             }
            },
            "marker": {
             "colorbar": {
              "outlinewidth": 0,
              "ticks": ""
             }
            },
            "type": "scatter3d"
           }
          ],
          "scattercarpet": [
           {
            "marker": {
             "colorbar": {
              "outlinewidth": 0,
              "ticks": ""
             }
            },
            "type": "scattercarpet"
           }
          ],
          "scattergeo": [
           {
            "marker": {
             "colorbar": {
              "outlinewidth": 0,
              "ticks": ""
             }
            },
            "type": "scattergeo"
           }
          ],
          "scattergl": [
           {
            "marker": {
             "colorbar": {
              "outlinewidth": 0,
              "ticks": ""
             }
            },
            "type": "scattergl"
           }
          ],
          "scattermapbox": [
           {
            "marker": {
             "colorbar": {
              "outlinewidth": 0,
              "ticks": ""
             }
            },
            "type": "scattermapbox"
           }
          ],
          "scatterpolar": [
           {
            "marker": {
             "colorbar": {
              "outlinewidth": 0,
              "ticks": ""
             }
            },
            "type": "scatterpolar"
           }
          ],
          "scatterpolargl": [
           {
            "marker": {
             "colorbar": {
              "outlinewidth": 0,
              "ticks": ""
             }
            },
            "type": "scatterpolargl"
           }
          ],
          "scatterternary": [
           {
            "marker": {
             "colorbar": {
              "outlinewidth": 0,
              "ticks": ""
             }
            },
            "type": "scatterternary"
           }
          ],
          "surface": [
           {
            "colorbar": {
             "outlinewidth": 0,
             "ticks": ""
            },
            "colorscale": [
             [
              0,
              "#0d0887"
             ],
             [
              0.1111111111111111,
              "#46039f"
             ],
             [
              0.2222222222222222,
              "#7201a8"
             ],
             [
              0.3333333333333333,
              "#9c179e"
             ],
             [
              0.4444444444444444,
              "#bd3786"
             ],
             [
              0.5555555555555556,
              "#d8576b"
             ],
             [
              0.6666666666666666,
              "#ed7953"
             ],
             [
              0.7777777777777778,
              "#fb9f3a"
             ],
             [
              0.8888888888888888,
              "#fdca26"
             ],
             [
              1,
              "#f0f921"
             ]
            ],
            "type": "surface"
           }
          ],
          "table": [
           {
            "cells": {
             "fill": {
              "color": "#EBF0F8"
             },
             "line": {
              "color": "white"
             }
            },
            "header": {
             "fill": {
              "color": "#C8D4E3"
             },
             "line": {
              "color": "white"
             }
            },
            "type": "table"
           }
          ]
         },
         "layout": {
          "annotationdefaults": {
           "arrowcolor": "#2a3f5f",
           "arrowhead": 0,
           "arrowwidth": 1
          },
          "autotypenumbers": "strict",
          "coloraxis": {
           "colorbar": {
            "outlinewidth": 0,
            "ticks": ""
           }
          },
          "colorscale": {
           "diverging": [
            [
             0,
             "#8e0152"
            ],
            [
             0.1,
             "#c51b7d"
            ],
            [
             0.2,
             "#de77ae"
            ],
            [
             0.3,
             "#f1b6da"
            ],
            [
             0.4,
             "#fde0ef"
            ],
            [
             0.5,
             "#f7f7f7"
            ],
            [
             0.6,
             "#e6f5d0"
            ],
            [
             0.7,
             "#b8e186"
            ],
            [
             0.8,
             "#7fbc41"
            ],
            [
             0.9,
             "#4d9221"
            ],
            [
             1,
             "#276419"
            ]
           ],
           "sequential": [
            [
             0,
             "#0d0887"
            ],
            [
             0.1111111111111111,
             "#46039f"
            ],
            [
             0.2222222222222222,
             "#7201a8"
            ],
            [
             0.3333333333333333,
             "#9c179e"
            ],
            [
             0.4444444444444444,
             "#bd3786"
            ],
            [
             0.5555555555555556,
             "#d8576b"
            ],
            [
             0.6666666666666666,
             "#ed7953"
            ],
            [
             0.7777777777777778,
             "#fb9f3a"
            ],
            [
             0.8888888888888888,
             "#fdca26"
            ],
            [
             1,
             "#f0f921"
            ]
           ],
           "sequentialminus": [
            [
             0,
             "#0d0887"
            ],
            [
             0.1111111111111111,
             "#46039f"
            ],
            [
             0.2222222222222222,
             "#7201a8"
            ],
            [
             0.3333333333333333,
             "#9c179e"
            ],
            [
             0.4444444444444444,
             "#bd3786"
            ],
            [
             0.5555555555555556,
             "#d8576b"
            ],
            [
             0.6666666666666666,
             "#ed7953"
            ],
            [
             0.7777777777777778,
             "#fb9f3a"
            ],
            [
             0.8888888888888888,
             "#fdca26"
            ],
            [
             1,
             "#f0f921"
            ]
           ]
          },
          "colorway": [
           "#636efa",
           "#EF553B",
           "#00cc96",
           "#ab63fa",
           "#FFA15A",
           "#19d3f3",
           "#FF6692",
           "#B6E880",
           "#FF97FF",
           "#FECB52"
          ],
          "font": {
           "color": "#2a3f5f"
          },
          "geo": {
           "bgcolor": "white",
           "lakecolor": "white",
           "landcolor": "#E5ECF6",
           "showlakes": true,
           "showland": true,
           "subunitcolor": "white"
          },
          "hoverlabel": {
           "align": "left"
          },
          "hovermode": "closest",
          "mapbox": {
           "style": "light"
          },
          "paper_bgcolor": "white",
          "plot_bgcolor": "#E5ECF6",
          "polar": {
           "angularaxis": {
            "gridcolor": "white",
            "linecolor": "white",
            "ticks": ""
           },
           "bgcolor": "#E5ECF6",
           "radialaxis": {
            "gridcolor": "white",
            "linecolor": "white",
            "ticks": ""
           }
          },
          "scene": {
           "xaxis": {
            "backgroundcolor": "#E5ECF6",
            "gridcolor": "white",
            "gridwidth": 2,
            "linecolor": "white",
            "showbackground": true,
            "ticks": "",
            "zerolinecolor": "white"
           },
           "yaxis": {
            "backgroundcolor": "#E5ECF6",
            "gridcolor": "white",
            "gridwidth": 2,
            "linecolor": "white",
            "showbackground": true,
            "ticks": "",
            "zerolinecolor": "white"
           },
           "zaxis": {
            "backgroundcolor": "#E5ECF6",
            "gridcolor": "white",
            "gridwidth": 2,
            "linecolor": "white",
            "showbackground": true,
            "ticks": "",
            "zerolinecolor": "white"
           }
          },
          "shapedefaults": {
           "line": {
            "color": "#2a3f5f"
           }
          },
          "ternary": {
           "aaxis": {
            "gridcolor": "white",
            "linecolor": "white",
            "ticks": ""
           },
           "baxis": {
            "gridcolor": "white",
            "linecolor": "white",
            "ticks": ""
           },
           "bgcolor": "#E5ECF6",
           "caxis": {
            "gridcolor": "white",
            "linecolor": "white",
            "ticks": ""
           }
          },
          "title": {
           "x": 0.05
          },
          "xaxis": {
           "automargin": true,
           "gridcolor": "white",
           "linecolor": "white",
           "ticks": "",
           "title": {
            "standoff": 15
           },
           "zerolinecolor": "white",
           "zerolinewidth": 2
          },
          "yaxis": {
           "automargin": true,
           "gridcolor": "white",
           "linecolor": "white",
           "ticks": "",
           "title": {
            "standoff": 15
           },
           "zerolinecolor": "white",
           "zerolinewidth": 2
          }
         }
        },
        "xaxis": {
         "anchor": "y",
         "domain": [
          0,
          1
         ],
         "title": {
          "text": "useful_cavs_perc"
         }
        },
        "yaxis": {
         "anchor": "x",
         "domain": [
          0,
          1
         ],
         "title": {
          "text": "fidelity_avg"
         }
        }
       }
      },
      "text/html": [
       "<div>                            <div id=\"f682aedd-8e8b-496e-b658-e9ca3262e004\" class=\"plotly-graph-div\" style=\"height:525px; width:100%;\"></div>            <script type=\"text/javascript\">                require([\"plotly\"], function(Plotly) {                    window.PLOTLYENV=window.PLOTLYENV || {};                                    if (document.getElementById(\"f682aedd-8e8b-496e-b658-e9ca3262e004\")) {                    Plotly.newPlot(                        \"f682aedd-8e8b-496e-b658-e9ca3262e004\",                        [{\"alignmentgroup\":\"True\",\"boxpoints\":\"all\",\"customdata\":[[\"1\"],[\"2\"],[\"3\"],[\"6\"],[\"10\"],[\"8\"],[\"12\"]],\"fillcolor\":\"rgba(255,255,255,0)\",\"hoveron\":\"points\",\"hovertemplate\":\"reducer_type=NMF<br>useful_cavs_perc=%{x}<br>fidelity_avg=%{y}<br>rank_str=%{customdata[0]}<extra></extra>\",\"legendgroup\":\"NMF\",\"line\":{\"color\":\"rgba(255,255,255,0)\"},\"marker\":{\"color\":\"#636efa\"},\"name\":\"NMF\",\"offsetgroup\":\"NMF\",\"orientation\":\"v\",\"pointpos\":0,\"showlegend\":true,\"x\":[0.0,0.5,0.3333333333333333,0.6666666666666666,0.6,0.625,0.75],\"x0\":\" \",\"xaxis\":\"x\",\"y\":[0.9614486284680861,0.5906216258686923,0.5857329171289618,0.09552547044359826,0.09412293917783665,0.08961968278419481,0.09203827716384355],\"y0\":\" \",\"yaxis\":\"y\",\"type\":\"box\"},{\"alignmentgroup\":\"True\",\"boxpoints\":\"all\",\"customdata\":[[\"[3, 20, 100]\"],[\"[6, 20, 100]\"],[\"[10, 20, 100]\"],[\"[3, 20, 25]\"],[\"[6, 20, 25]\"],[\"[10, 20, 25]\"],[\"[3, 30, 100]\"],[\"[6, 30, 100]\"],[\"[10, 30, 100]\"],[\"[6, 39, 80]\"],[\"[10, 39, 80]\"],[\"[6, 39, 200]\"],[\"[10, 39, 200]\"],[\"[8, 39, 100]\"],[\"[10, 39, 100]\"],[\"[10, 39, 375]\"],[\"[8, 39, 375]\"],[\"[6, 39, 375]\"],[\"[3, 39, 375]\"],[\"[2, 39, 375]\"],[\"[1, 39, 375]\"]],\"fillcolor\":\"rgba(255,255,255,0)\",\"hoveron\":\"points\",\"hovertemplate\":\"reducer_type=NTD3<br>useful_cavs_perc=%{x}<br>fidelity_avg=%{y}<br>rank_str=%{customdata[0]}<extra></extra>\",\"legendgroup\":\"NTD3\",\"line\":{\"color\":\"rgba(255,255,255,0)\"},\"marker\":{\"color\":\"#EF553B\"},\"name\":\"NTD3\",\"offsetgroup\":\"NTD3\",\"orientation\":\"v\",\"pointpos\":0,\"showlegend\":true,\"x\":[0.3333333333333333,0.6666666666666666,0.6,0.3333333333333333,0.5,0.7,0.3333333333333333,0.6666666666666666,0.7,0.6666666666666666,0.6,0.6666666666666666,0.6,0.75,0.6,0.6,0.625,0.6666666666666666,0.3333333333333333,0.5,0.0],\"x0\":\" \",\"xaxis\":\"x\",\"y\":[0.5853154844903137,0.09526914100689456,0.08917551995045027,0.5870709343327611,0.5893794046154796,0.09367869877564039,0.5857687077338908,0.09835761693851065,0.09005581301686466,0.09735673896927903,0.09353581592010417,0.09859342509000492,0.09817760619512085,0.09927047516683288,0.09695671028093514,0.09619991999168565,0.09871310655751922,0.09763724248417795,0.5836378949857435,0.5867889893666929,0.9658653216551208],\"y0\":\" \",\"yaxis\":\"y\",\"type\":\"box\"},{\"alignmentgroup\":\"True\",\"boxpoints\":\"all\",\"customdata\":[[\"[3, 3, 2, 25]\"],[\"[1, 3, 2, 25]\"],[\"[2, 3, 2, 25]\"],[\"[3, 5, 3, 25]\"],[\"[3, 13, 3, 25]\"],[\"[6, 13, 3, 25]\"],[\"[6, 2, 3, 20]\"],[\"[10, 2, 3, 20]\"],[\"[3, 2, 3, 25]\"],[\"[6, 2, 3, 25]\"],[\"[10, 2, 3, 25]\"],[\"[10, 13, 3, 375]\"],[\"[10, 3, 3, 375]\"],[\"[8, 13, 3, 375]\"],[\"[6, 13, 3, 375]\"],[\"[3, 13, 3, 375]\"],[\"[1, 13, 3, 375]\"],[\"[2, 13, 3, 375]\"]],\"fillcolor\":\"rgba(255,255,255,0)\",\"hoveron\":\"points\",\"hovertemplate\":\"reducer_type=NTD4<br>useful_cavs_perc=%{x}<br>fidelity_avg=%{y}<br>rank_str=%{customdata[0]}<extra></extra>\",\"legendgroup\":\"NTD4\",\"line\":{\"color\":\"rgba(255,255,255,0)\"},\"marker\":{\"color\":\"#00cc96\"},\"name\":\"NTD4\",\"offsetgroup\":\"NTD4\",\"orientation\":\"v\",\"pointpos\":0,\"showlegend\":true,\"x\":[0.3333333333333333,0.0,0.5,0.3333333333333333,0.3333333333333333,0.5,0.6666666666666666,0.7,0.3333333333333333,0.6666666666666666,0.6,0.7,0.6,0.625,0.6666666666666666,0.3333333333333333,0.0,0.5],\"x0\":\" \",\"xaxis\":\"x\",\"y\":[0.6541398646673119,0.9673271009499715,0.6619142587539446,0.6374264664958389,0.5853137105381767,0.5862460323808847,0.17859492441814945,0.5911118076301214,0.6520061186684614,0.1835091390727887,0.3829858289739325,0.10099538773307629,0.18356961960377371,0.10015473216414375,0.09634866659348915,0.584771187319489,0.963461237795483,0.5875680577498656],\"y0\":\" \",\"yaxis\":\"y\",\"type\":\"box\"}],                        {\"template\":{\"data\":{\"histogram2dcontour\":[{\"type\":\"histogram2dcontour\",\"colorbar\":{\"outlinewidth\":0,\"ticks\":\"\"},\"colorscale\":[[0.0,\"#0d0887\"],[0.1111111111111111,\"#46039f\"],[0.2222222222222222,\"#7201a8\"],[0.3333333333333333,\"#9c179e\"],[0.4444444444444444,\"#bd3786\"],[0.5555555555555556,\"#d8576b\"],[0.6666666666666666,\"#ed7953\"],[0.7777777777777778,\"#fb9f3a\"],[0.8888888888888888,\"#fdca26\"],[1.0,\"#f0f921\"]]}],\"choropleth\":[{\"type\":\"choropleth\",\"colorbar\":{\"outlinewidth\":0,\"ticks\":\"\"}}],\"histogram2d\":[{\"type\":\"histogram2d\",\"colorbar\":{\"outlinewidth\":0,\"ticks\":\"\"},\"colorscale\":[[0.0,\"#0d0887\"],[0.1111111111111111,\"#46039f\"],[0.2222222222222222,\"#7201a8\"],[0.3333333333333333,\"#9c179e\"],[0.4444444444444444,\"#bd3786\"],[0.5555555555555556,\"#d8576b\"],[0.6666666666666666,\"#ed7953\"],[0.7777777777777778,\"#fb9f3a\"],[0.8888888888888888,\"#fdca26\"],[1.0,\"#f0f921\"]]}],\"heatmap\":[{\"type\":\"heatmap\",\"colorbar\":{\"outlinewidth\":0,\"ticks\":\"\"},\"colorscale\":[[0.0,\"#0d0887\"],[0.1111111111111111,\"#46039f\"],[0.2222222222222222,\"#7201a8\"],[0.3333333333333333,\"#9c179e\"],[0.4444444444444444,\"#bd3786\"],[0.5555555555555556,\"#d8576b\"],[0.6666666666666666,\"#ed7953\"],[0.7777777777777778,\"#fb9f3a\"],[0.8888888888888888,\"#fdca26\"],[1.0,\"#f0f921\"]]}],\"heatmapgl\":[{\"type\":\"heatmapgl\",\"colorbar\":{\"outlinewidth\":0,\"ticks\":\"\"},\"colorscale\":[[0.0,\"#0d0887\"],[0.1111111111111111,\"#46039f\"],[0.2222222222222222,\"#7201a8\"],[0.3333333333333333,\"#9c179e\"],[0.4444444444444444,\"#bd3786\"],[0.5555555555555556,\"#d8576b\"],[0.6666666666666666,\"#ed7953\"],[0.7777777777777778,\"#fb9f3a\"],[0.8888888888888888,\"#fdca26\"],[1.0,\"#f0f921\"]]}],\"contourcarpet\":[{\"type\":\"contourcarpet\",\"colorbar\":{\"outlinewidth\":0,\"ticks\":\"\"}}],\"contour\":[{\"type\":\"contour\",\"colorbar\":{\"outlinewidth\":0,\"ticks\":\"\"},\"colorscale\":[[0.0,\"#0d0887\"],[0.1111111111111111,\"#46039f\"],[0.2222222222222222,\"#7201a8\"],[0.3333333333333333,\"#9c179e\"],[0.4444444444444444,\"#bd3786\"],[0.5555555555555556,\"#d8576b\"],[0.6666666666666666,\"#ed7953\"],[0.7777777777777778,\"#fb9f3a\"],[0.8888888888888888,\"#fdca26\"],[1.0,\"#f0f921\"]]}],\"surface\":[{\"type\":\"surface\",\"colorbar\":{\"outlinewidth\":0,\"ticks\":\"\"},\"colorscale\":[[0.0,\"#0d0887\"],[0.1111111111111111,\"#46039f\"],[0.2222222222222222,\"#7201a8\"],[0.3333333333333333,\"#9c179e\"],[0.4444444444444444,\"#bd3786\"],[0.5555555555555556,\"#d8576b\"],[0.6666666666666666,\"#ed7953\"],[0.7777777777777778,\"#fb9f3a\"],[0.8888888888888888,\"#fdca26\"],[1.0,\"#f0f921\"]]}],\"mesh3d\":[{\"type\":\"mesh3d\",\"colorbar\":{\"outlinewidth\":0,\"ticks\":\"\"}}],\"scatter\":[{\"fillpattern\":{\"fillmode\":\"overlay\",\"size\":10,\"solidity\":0.2},\"type\":\"scatter\"}],\"parcoords\":[{\"type\":\"parcoords\",\"line\":{\"colorbar\":{\"outlinewidth\":0,\"ticks\":\"\"}}}],\"scatterpolargl\":[{\"type\":\"scatterpolargl\",\"marker\":{\"colorbar\":{\"outlinewidth\":0,\"ticks\":\"\"}}}],\"bar\":[{\"error_x\":{\"color\":\"#2a3f5f\"},\"error_y\":{\"color\":\"#2a3f5f\"},\"marker\":{\"line\":{\"color\":\"#E5ECF6\",\"width\":0.5},\"pattern\":{\"fillmode\":\"overlay\",\"size\":10,\"solidity\":0.2}},\"type\":\"bar\"}],\"scattergeo\":[{\"type\":\"scattergeo\",\"marker\":{\"colorbar\":{\"outlinewidth\":0,\"ticks\":\"\"}}}],\"scatterpolar\":[{\"type\":\"scatterpolar\",\"marker\":{\"colorbar\":{\"outlinewidth\":0,\"ticks\":\"\"}}}],\"histogram\":[{\"marker\":{\"pattern\":{\"fillmode\":\"overlay\",\"size\":10,\"solidity\":0.2}},\"type\":\"histogram\"}],\"scattergl\":[{\"type\":\"scattergl\",\"marker\":{\"colorbar\":{\"outlinewidth\":0,\"ticks\":\"\"}}}],\"scatter3d\":[{\"type\":\"scatter3d\",\"line\":{\"colorbar\":{\"outlinewidth\":0,\"ticks\":\"\"}},\"marker\":{\"colorbar\":{\"outlinewidth\":0,\"ticks\":\"\"}}}],\"scattermapbox\":[{\"type\":\"scattermapbox\",\"marker\":{\"colorbar\":{\"outlinewidth\":0,\"ticks\":\"\"}}}],\"scatterternary\":[{\"type\":\"scatterternary\",\"marker\":{\"colorbar\":{\"outlinewidth\":0,\"ticks\":\"\"}}}],\"scattercarpet\":[{\"type\":\"scattercarpet\",\"marker\":{\"colorbar\":{\"outlinewidth\":0,\"ticks\":\"\"}}}],\"carpet\":[{\"aaxis\":{\"endlinecolor\":\"#2a3f5f\",\"gridcolor\":\"white\",\"linecolor\":\"white\",\"minorgridcolor\":\"white\",\"startlinecolor\":\"#2a3f5f\"},\"baxis\":{\"endlinecolor\":\"#2a3f5f\",\"gridcolor\":\"white\",\"linecolor\":\"white\",\"minorgridcolor\":\"white\",\"startlinecolor\":\"#2a3f5f\"},\"type\":\"carpet\"}],\"table\":[{\"cells\":{\"fill\":{\"color\":\"#EBF0F8\"},\"line\":{\"color\":\"white\"}},\"header\":{\"fill\":{\"color\":\"#C8D4E3\"},\"line\":{\"color\":\"white\"}},\"type\":\"table\"}],\"barpolar\":[{\"marker\":{\"line\":{\"color\":\"#E5ECF6\",\"width\":0.5},\"pattern\":{\"fillmode\":\"overlay\",\"size\":10,\"solidity\":0.2}},\"type\":\"barpolar\"}],\"pie\":[{\"automargin\":true,\"type\":\"pie\"}]},\"layout\":{\"autotypenumbers\":\"strict\",\"colorway\":[\"#636efa\",\"#EF553B\",\"#00cc96\",\"#ab63fa\",\"#FFA15A\",\"#19d3f3\",\"#FF6692\",\"#B6E880\",\"#FF97FF\",\"#FECB52\"],\"font\":{\"color\":\"#2a3f5f\"},\"hovermode\":\"closest\",\"hoverlabel\":{\"align\":\"left\"},\"paper_bgcolor\":\"white\",\"plot_bgcolor\":\"#E5ECF6\",\"polar\":{\"bgcolor\":\"#E5ECF6\",\"angularaxis\":{\"gridcolor\":\"white\",\"linecolor\":\"white\",\"ticks\":\"\"},\"radialaxis\":{\"gridcolor\":\"white\",\"linecolor\":\"white\",\"ticks\":\"\"}},\"ternary\":{\"bgcolor\":\"#E5ECF6\",\"aaxis\":{\"gridcolor\":\"white\",\"linecolor\":\"white\",\"ticks\":\"\"},\"baxis\":{\"gridcolor\":\"white\",\"linecolor\":\"white\",\"ticks\":\"\"},\"caxis\":{\"gridcolor\":\"white\",\"linecolor\":\"white\",\"ticks\":\"\"}},\"coloraxis\":{\"colorbar\":{\"outlinewidth\":0,\"ticks\":\"\"}},\"colorscale\":{\"sequential\":[[0.0,\"#0d0887\"],[0.1111111111111111,\"#46039f\"],[0.2222222222222222,\"#7201a8\"],[0.3333333333333333,\"#9c179e\"],[0.4444444444444444,\"#bd3786\"],[0.5555555555555556,\"#d8576b\"],[0.6666666666666666,\"#ed7953\"],[0.7777777777777778,\"#fb9f3a\"],[0.8888888888888888,\"#fdca26\"],[1.0,\"#f0f921\"]],\"sequentialminus\":[[0.0,\"#0d0887\"],[0.1111111111111111,\"#46039f\"],[0.2222222222222222,\"#7201a8\"],[0.3333333333333333,\"#9c179e\"],[0.4444444444444444,\"#bd3786\"],[0.5555555555555556,\"#d8576b\"],[0.6666666666666666,\"#ed7953\"],[0.7777777777777778,\"#fb9f3a\"],[0.8888888888888888,\"#fdca26\"],[1.0,\"#f0f921\"]],\"diverging\":[[0,\"#8e0152\"],[0.1,\"#c51b7d\"],[0.2,\"#de77ae\"],[0.3,\"#f1b6da\"],[0.4,\"#fde0ef\"],[0.5,\"#f7f7f7\"],[0.6,\"#e6f5d0\"],[0.7,\"#b8e186\"],[0.8,\"#7fbc41\"],[0.9,\"#4d9221\"],[1,\"#276419\"]]},\"xaxis\":{\"gridcolor\":\"white\",\"linecolor\":\"white\",\"ticks\":\"\",\"title\":{\"standoff\":15},\"zerolinecolor\":\"white\",\"automargin\":true,\"zerolinewidth\":2},\"yaxis\":{\"gridcolor\":\"white\",\"linecolor\":\"white\",\"ticks\":\"\",\"title\":{\"standoff\":15},\"zerolinecolor\":\"white\",\"automargin\":true,\"zerolinewidth\":2},\"scene\":{\"xaxis\":{\"backgroundcolor\":\"#E5ECF6\",\"gridcolor\":\"white\",\"linecolor\":\"white\",\"showbackground\":true,\"ticks\":\"\",\"zerolinecolor\":\"white\",\"gridwidth\":2},\"yaxis\":{\"backgroundcolor\":\"#E5ECF6\",\"gridcolor\":\"white\",\"linecolor\":\"white\",\"showbackground\":true,\"ticks\":\"\",\"zerolinecolor\":\"white\",\"gridwidth\":2},\"zaxis\":{\"backgroundcolor\":\"#E5ECF6\",\"gridcolor\":\"white\",\"linecolor\":\"white\",\"showbackground\":true,\"ticks\":\"\",\"zerolinecolor\":\"white\",\"gridwidth\":2}},\"shapedefaults\":{\"line\":{\"color\":\"#2a3f5f\"}},\"annotationdefaults\":{\"arrowcolor\":\"#2a3f5f\",\"arrowhead\":0,\"arrowwidth\":1},\"geo\":{\"bgcolor\":\"white\",\"landcolor\":\"#E5ECF6\",\"subunitcolor\":\"white\",\"showland\":true,\"showlakes\":true,\"lakecolor\":\"white\"},\"title\":{\"x\":0.05},\"mapbox\":{\"style\":\"light\"}}},\"xaxis\":{\"anchor\":\"y\",\"domain\":[0.0,1.0],\"title\":{\"text\":\"useful_cavs_perc\"}},\"yaxis\":{\"anchor\":\"x\",\"domain\":[0.0,1.0],\"title\":{\"text\":\"fidelity_avg\"}},\"legend\":{\"title\":{\"text\":\"reducer_type\"},\"tracegroupgap\":0},\"margin\":{\"t\":60},\"boxmode\":\"group\"},                        {\"responsive\": true}                    ).then(function(){\n",
       "                            \n",
       "var gd = document.getElementById('f682aedd-8e8b-496e-b658-e9ca3262e004');\n",
       "var x = new MutationObserver(function (mutations, observer) {{\n",
       "        var display = window.getComputedStyle(gd).display;\n",
       "        if (!display || display === 'none') {{\n",
       "            console.log([gd, 'removed!']);\n",
       "            Plotly.purge(gd);\n",
       "            observer.disconnect();\n",
       "        }}\n",
       "}});\n",
       "\n",
       "// Listen for the removal of the full notebook cells\n",
       "var notebookContainer = gd.closest('#notebook-container');\n",
       "if (notebookContainer) {{\n",
       "    x.observe(notebookContainer, {childList: true});\n",
       "}}\n",
       "\n",
       "// Listen for the clearing of the current output cell\n",
       "var outputEl = gd.closest('.output');\n",
       "if (outputEl) {{\n",
       "    x.observe(outputEl, {childList: true});\n",
       "}}\n",
       "\n",
       "                        })                };                });            </script>        </div>"
      ]
     },
     "metadata": {},
     "output_type": "display_data"
    }
   ],
   "source": [
    "# ntd_df = df[df.reducer == \"NTD\"]\n",
    "\n",
    "px.strip(df, x= 'useful_cavs_perc', y='fidelity_avg', color = \"reducer_type\", hover_data=['rank_str'],  stripmode=\"group\")"
   ]
  },
  {
   "cell_type": "code",
   "execution_count": 29,
   "metadata": {},
   "outputs": [
    {
     "data": {
      "application/vnd.plotly.v1+json": {
       "config": {
        "plotlyServerURL": "https://plot.ly"
       },
       "data": [
        {
         "alignmentgroup": "True",
         "boxpoints": "all",
         "customdata": [
          [
           "1"
          ],
          [
           "2"
          ],
          [
           "3"
          ],
          [
           "6"
          ],
          [
           "10"
          ],
          [
           "8"
          ],
          [
           "12"
          ]
         ],
         "fillcolor": "rgba(255,255,255,0)",
         "hoveron": "points",
         "hovertemplate": "reducer_type=NMF<br>fidelity_avg=%{x}<br>useful_cavs_perc=%{y}<br>rank_str=%{customdata[0]}<extra></extra>",
         "legendgroup": "NMF",
         "line": {
          "color": "rgba(255,255,255,0)"
         },
         "marker": {
          "color": "#636efa"
         },
         "name": "NMF",
         "offsetgroup": "NMF",
         "orientation": "v",
         "pointpos": 0,
         "showlegend": true,
         "type": "box",
         "x": [
          0.9614486284680861,
          0.5906216258686923,
          0.5857329171289618,
          0.09552547044359826,
          0.09412293917783665,
          0.08961968278419481,
          0.09203827716384355
         ],
         "x0": " ",
         "xaxis": "x",
         "y": [
          0,
          0.5,
          0.3333333333333333,
          0.6666666666666666,
          0.6,
          0.625,
          0.75
         ],
         "y0": " ",
         "yaxis": "y"
        },
        {
         "alignmentgroup": "True",
         "boxpoints": "all",
         "customdata": [
          [
           "[3, 20, 100]"
          ],
          [
           "[6, 20, 100]"
          ],
          [
           "[10, 20, 100]"
          ],
          [
           "[3, 20, 25]"
          ],
          [
           "[6, 20, 25]"
          ],
          [
           "[10, 20, 25]"
          ],
          [
           "[3, 30, 100]"
          ],
          [
           "[6, 30, 100]"
          ],
          [
           "[10, 30, 100]"
          ],
          [
           "[6, 39, 80]"
          ],
          [
           "[10, 39, 80]"
          ],
          [
           "[6, 39, 200]"
          ],
          [
           "[10, 39, 200]"
          ],
          [
           "[8, 39, 100]"
          ],
          [
           "[10, 39, 100]"
          ],
          [
           "[10, 39, 375]"
          ],
          [
           "[8, 39, 375]"
          ],
          [
           "[6, 39, 375]"
          ],
          [
           "[3, 39, 375]"
          ],
          [
           "[2, 39, 375]"
          ],
          [
           "[1, 39, 375]"
          ]
         ],
         "fillcolor": "rgba(255,255,255,0)",
         "hoveron": "points",
         "hovertemplate": "reducer_type=NTD3<br>fidelity_avg=%{x}<br>useful_cavs_perc=%{y}<br>rank_str=%{customdata[0]}<extra></extra>",
         "legendgroup": "NTD3",
         "line": {
          "color": "rgba(255,255,255,0)"
         },
         "marker": {
          "color": "#EF553B"
         },
         "name": "NTD3",
         "offsetgroup": "NTD3",
         "orientation": "v",
         "pointpos": 0,
         "showlegend": true,
         "type": "box",
         "x": [
          0.5853154844903137,
          0.09526914100689456,
          0.08917551995045027,
          0.5870709343327611,
          0.5893794046154796,
          0.09367869877564039,
          0.5857687077338908,
          0.09835761693851065,
          0.09005581301686466,
          0.09735673896927903,
          0.09353581592010417,
          0.09859342509000492,
          0.09817760619512085,
          0.09927047516683288,
          0.09695671028093514,
          0.09619991999168565,
          0.09871310655751922,
          0.09763724248417795,
          0.5836378949857435,
          0.5867889893666929,
          0.9658653216551208
         ],
         "x0": " ",
         "xaxis": "x",
         "y": [
          0.3333333333333333,
          0.6666666666666666,
          0.6,
          0.3333333333333333,
          0.5,
          0.7,
          0.3333333333333333,
          0.6666666666666666,
          0.7,
          0.6666666666666666,
          0.6,
          0.6666666666666666,
          0.6,
          0.75,
          0.6,
          0.6,
          0.625,
          0.6666666666666666,
          0.3333333333333333,
          0.5,
          0
         ],
         "y0": " ",
         "yaxis": "y"
        },
        {
         "alignmentgroup": "True",
         "boxpoints": "all",
         "customdata": [
          [
           "[3, 3, 2, 25]"
          ],
          [
           "[1, 3, 2, 25]"
          ],
          [
           "[2, 3, 2, 25]"
          ],
          [
           "[3, 5, 3, 25]"
          ],
          [
           "[3, 13, 3, 25]"
          ],
          [
           "[6, 13, 3, 25]"
          ],
          [
           "[6, 2, 3, 20]"
          ],
          [
           "[10, 2, 3, 20]"
          ],
          [
           "[3, 2, 3, 25]"
          ],
          [
           "[6, 2, 3, 25]"
          ],
          [
           "[10, 2, 3, 25]"
          ],
          [
           "[10, 13, 3, 375]"
          ],
          [
           "[10, 3, 3, 375]"
          ],
          [
           "[8, 13, 3, 375]"
          ],
          [
           "[6, 13, 3, 375]"
          ],
          [
           "[3, 13, 3, 375]"
          ],
          [
           "[1, 13, 3, 375]"
          ],
          [
           "[2, 13, 3, 375]"
          ]
         ],
         "fillcolor": "rgba(255,255,255,0)",
         "hoveron": "points",
         "hovertemplate": "reducer_type=NTD4<br>fidelity_avg=%{x}<br>useful_cavs_perc=%{y}<br>rank_str=%{customdata[0]}<extra></extra>",
         "legendgroup": "NTD4",
         "line": {
          "color": "rgba(255,255,255,0)"
         },
         "marker": {
          "color": "#00cc96"
         },
         "name": "NTD4",
         "offsetgroup": "NTD4",
         "orientation": "v",
         "pointpos": 0,
         "showlegend": true,
         "type": "box",
         "x": [
          0.6541398646673119,
          0.9673271009499715,
          0.6619142587539446,
          0.6374264664958389,
          0.5853137105381767,
          0.5862460323808847,
          0.17859492441814945,
          0.5911118076301214,
          0.6520061186684614,
          0.1835091390727887,
          0.3829858289739325,
          0.10099538773307629,
          0.18356961960377371,
          0.10015473216414375,
          0.09634866659348915,
          0.584771187319489,
          0.963461237795483,
          0.5875680577498656
         ],
         "x0": " ",
         "xaxis": "x",
         "y": [
          0.3333333333333333,
          0,
          0.5,
          0.3333333333333333,
          0.3333333333333333,
          0.5,
          0.6666666666666666,
          0.7,
          0.3333333333333333,
          0.6666666666666666,
          0.6,
          0.7,
          0.6,
          0.625,
          0.6666666666666666,
          0.3333333333333333,
          0,
          0.5
         ],
         "y0": " ",
         "yaxis": "y"
        }
       ],
       "layout": {
        "boxmode": "group",
        "legend": {
         "title": {
          "text": "reducer_type"
         },
         "tracegroupgap": 0
        },
        "margin": {
         "t": 60
        },
        "template": {
         "data": {
          "bar": [
           {
            "error_x": {
             "color": "#2a3f5f"
            },
            "error_y": {
             "color": "#2a3f5f"
            },
            "marker": {
             "line": {
              "color": "#E5ECF6",
              "width": 0.5
             },
             "pattern": {
              "fillmode": "overlay",
              "size": 10,
              "solidity": 0.2
             }
            },
            "type": "bar"
           }
          ],
          "barpolar": [
           {
            "marker": {
             "line": {
              "color": "#E5ECF6",
              "width": 0.5
             },
             "pattern": {
              "fillmode": "overlay",
              "size": 10,
              "solidity": 0.2
             }
            },
            "type": "barpolar"
           }
          ],
          "carpet": [
           {
            "aaxis": {
             "endlinecolor": "#2a3f5f",
             "gridcolor": "white",
             "linecolor": "white",
             "minorgridcolor": "white",
             "startlinecolor": "#2a3f5f"
            },
            "baxis": {
             "endlinecolor": "#2a3f5f",
             "gridcolor": "white",
             "linecolor": "white",
             "minorgridcolor": "white",
             "startlinecolor": "#2a3f5f"
            },
            "type": "carpet"
           }
          ],
          "choropleth": [
           {
            "colorbar": {
             "outlinewidth": 0,
             "ticks": ""
            },
            "type": "choropleth"
           }
          ],
          "contour": [
           {
            "colorbar": {
             "outlinewidth": 0,
             "ticks": ""
            },
            "colorscale": [
             [
              0,
              "#0d0887"
             ],
             [
              0.1111111111111111,
              "#46039f"
             ],
             [
              0.2222222222222222,
              "#7201a8"
             ],
             [
              0.3333333333333333,
              "#9c179e"
             ],
             [
              0.4444444444444444,
              "#bd3786"
             ],
             [
              0.5555555555555556,
              "#d8576b"
             ],
             [
              0.6666666666666666,
              "#ed7953"
             ],
             [
              0.7777777777777778,
              "#fb9f3a"
             ],
             [
              0.8888888888888888,
              "#fdca26"
             ],
             [
              1,
              "#f0f921"
             ]
            ],
            "type": "contour"
           }
          ],
          "contourcarpet": [
           {
            "colorbar": {
             "outlinewidth": 0,
             "ticks": ""
            },
            "type": "contourcarpet"
           }
          ],
          "heatmap": [
           {
            "colorbar": {
             "outlinewidth": 0,
             "ticks": ""
            },
            "colorscale": [
             [
              0,
              "#0d0887"
             ],
             [
              0.1111111111111111,
              "#46039f"
             ],
             [
              0.2222222222222222,
              "#7201a8"
             ],
             [
              0.3333333333333333,
              "#9c179e"
             ],
             [
              0.4444444444444444,
              "#bd3786"
             ],
             [
              0.5555555555555556,
              "#d8576b"
             ],
             [
              0.6666666666666666,
              "#ed7953"
             ],
             [
              0.7777777777777778,
              "#fb9f3a"
             ],
             [
              0.8888888888888888,
              "#fdca26"
             ],
             [
              1,
              "#f0f921"
             ]
            ],
            "type": "heatmap"
           }
          ],
          "heatmapgl": [
           {
            "colorbar": {
             "outlinewidth": 0,
             "ticks": ""
            },
            "colorscale": [
             [
              0,
              "#0d0887"
             ],
             [
              0.1111111111111111,
              "#46039f"
             ],
             [
              0.2222222222222222,
              "#7201a8"
             ],
             [
              0.3333333333333333,
              "#9c179e"
             ],
             [
              0.4444444444444444,
              "#bd3786"
             ],
             [
              0.5555555555555556,
              "#d8576b"
             ],
             [
              0.6666666666666666,
              "#ed7953"
             ],
             [
              0.7777777777777778,
              "#fb9f3a"
             ],
             [
              0.8888888888888888,
              "#fdca26"
             ],
             [
              1,
              "#f0f921"
             ]
            ],
            "type": "heatmapgl"
           }
          ],
          "histogram": [
           {
            "marker": {
             "pattern": {
              "fillmode": "overlay",
              "size": 10,
              "solidity": 0.2
             }
            },
            "type": "histogram"
           }
          ],
          "histogram2d": [
           {
            "colorbar": {
             "outlinewidth": 0,
             "ticks": ""
            },
            "colorscale": [
             [
              0,
              "#0d0887"
             ],
             [
              0.1111111111111111,
              "#46039f"
             ],
             [
              0.2222222222222222,
              "#7201a8"
             ],
             [
              0.3333333333333333,
              "#9c179e"
             ],
             [
              0.4444444444444444,
              "#bd3786"
             ],
             [
              0.5555555555555556,
              "#d8576b"
             ],
             [
              0.6666666666666666,
              "#ed7953"
             ],
             [
              0.7777777777777778,
              "#fb9f3a"
             ],
             [
              0.8888888888888888,
              "#fdca26"
             ],
             [
              1,
              "#f0f921"
             ]
            ],
            "type": "histogram2d"
           }
          ],
          "histogram2dcontour": [
           {
            "colorbar": {
             "outlinewidth": 0,
             "ticks": ""
            },
            "colorscale": [
             [
              0,
              "#0d0887"
             ],
             [
              0.1111111111111111,
              "#46039f"
             ],
             [
              0.2222222222222222,
              "#7201a8"
             ],
             [
              0.3333333333333333,
              "#9c179e"
             ],
             [
              0.4444444444444444,
              "#bd3786"
             ],
             [
              0.5555555555555556,
              "#d8576b"
             ],
             [
              0.6666666666666666,
              "#ed7953"
             ],
             [
              0.7777777777777778,
              "#fb9f3a"
             ],
             [
              0.8888888888888888,
              "#fdca26"
             ],
             [
              1,
              "#f0f921"
             ]
            ],
            "type": "histogram2dcontour"
           }
          ],
          "mesh3d": [
           {
            "colorbar": {
             "outlinewidth": 0,
             "ticks": ""
            },
            "type": "mesh3d"
           }
          ],
          "parcoords": [
           {
            "line": {
             "colorbar": {
              "outlinewidth": 0,
              "ticks": ""
             }
            },
            "type": "parcoords"
           }
          ],
          "pie": [
           {
            "automargin": true,
            "type": "pie"
           }
          ],
          "scatter": [
           {
            "fillpattern": {
             "fillmode": "overlay",
             "size": 10,
             "solidity": 0.2
            },
            "type": "scatter"
           }
          ],
          "scatter3d": [
           {
            "line": {
             "colorbar": {
              "outlinewidth": 0,
              "ticks": ""
             }
            },
            "marker": {
             "colorbar": {
              "outlinewidth": 0,
              "ticks": ""
             }
            },
            "type": "scatter3d"
           }
          ],
          "scattercarpet": [
           {
            "marker": {
             "colorbar": {
              "outlinewidth": 0,
              "ticks": ""
             }
            },
            "type": "scattercarpet"
           }
          ],
          "scattergeo": [
           {
            "marker": {
             "colorbar": {
              "outlinewidth": 0,
              "ticks": ""
             }
            },
            "type": "scattergeo"
           }
          ],
          "scattergl": [
           {
            "marker": {
             "colorbar": {
              "outlinewidth": 0,
              "ticks": ""
             }
            },
            "type": "scattergl"
           }
          ],
          "scattermapbox": [
           {
            "marker": {
             "colorbar": {
              "outlinewidth": 0,
              "ticks": ""
             }
            },
            "type": "scattermapbox"
           }
          ],
          "scatterpolar": [
           {
            "marker": {
             "colorbar": {
              "outlinewidth": 0,
              "ticks": ""
             }
            },
            "type": "scatterpolar"
           }
          ],
          "scatterpolargl": [
           {
            "marker": {
             "colorbar": {
              "outlinewidth": 0,
              "ticks": ""
             }
            },
            "type": "scatterpolargl"
           }
          ],
          "scatterternary": [
           {
            "marker": {
             "colorbar": {
              "outlinewidth": 0,
              "ticks": ""
             }
            },
            "type": "scatterternary"
           }
          ],
          "surface": [
           {
            "colorbar": {
             "outlinewidth": 0,
             "ticks": ""
            },
            "colorscale": [
             [
              0,
              "#0d0887"
             ],
             [
              0.1111111111111111,
              "#46039f"
             ],
             [
              0.2222222222222222,
              "#7201a8"
             ],
             [
              0.3333333333333333,
              "#9c179e"
             ],
             [
              0.4444444444444444,
              "#bd3786"
             ],
             [
              0.5555555555555556,
              "#d8576b"
             ],
             [
              0.6666666666666666,
              "#ed7953"
             ],
             [
              0.7777777777777778,
              "#fb9f3a"
             ],
             [
              0.8888888888888888,
              "#fdca26"
             ],
             [
              1,
              "#f0f921"
             ]
            ],
            "type": "surface"
           }
          ],
          "table": [
           {
            "cells": {
             "fill": {
              "color": "#EBF0F8"
             },
             "line": {
              "color": "white"
             }
            },
            "header": {
             "fill": {
              "color": "#C8D4E3"
             },
             "line": {
              "color": "white"
             }
            },
            "type": "table"
           }
          ]
         },
         "layout": {
          "annotationdefaults": {
           "arrowcolor": "#2a3f5f",
           "arrowhead": 0,
           "arrowwidth": 1
          },
          "autotypenumbers": "strict",
          "coloraxis": {
           "colorbar": {
            "outlinewidth": 0,
            "ticks": ""
           }
          },
          "colorscale": {
           "diverging": [
            [
             0,
             "#8e0152"
            ],
            [
             0.1,
             "#c51b7d"
            ],
            [
             0.2,
             "#de77ae"
            ],
            [
             0.3,
             "#f1b6da"
            ],
            [
             0.4,
             "#fde0ef"
            ],
            [
             0.5,
             "#f7f7f7"
            ],
            [
             0.6,
             "#e6f5d0"
            ],
            [
             0.7,
             "#b8e186"
            ],
            [
             0.8,
             "#7fbc41"
            ],
            [
             0.9,
             "#4d9221"
            ],
            [
             1,
             "#276419"
            ]
           ],
           "sequential": [
            [
             0,
             "#0d0887"
            ],
            [
             0.1111111111111111,
             "#46039f"
            ],
            [
             0.2222222222222222,
             "#7201a8"
            ],
            [
             0.3333333333333333,
             "#9c179e"
            ],
            [
             0.4444444444444444,
             "#bd3786"
            ],
            [
             0.5555555555555556,
             "#d8576b"
            ],
            [
             0.6666666666666666,
             "#ed7953"
            ],
            [
             0.7777777777777778,
             "#fb9f3a"
            ],
            [
             0.8888888888888888,
             "#fdca26"
            ],
            [
             1,
             "#f0f921"
            ]
           ],
           "sequentialminus": [
            [
             0,
             "#0d0887"
            ],
            [
             0.1111111111111111,
             "#46039f"
            ],
            [
             0.2222222222222222,
             "#7201a8"
            ],
            [
             0.3333333333333333,
             "#9c179e"
            ],
            [
             0.4444444444444444,
             "#bd3786"
            ],
            [
             0.5555555555555556,
             "#d8576b"
            ],
            [
             0.6666666666666666,
             "#ed7953"
            ],
            [
             0.7777777777777778,
             "#fb9f3a"
            ],
            [
             0.8888888888888888,
             "#fdca26"
            ],
            [
             1,
             "#f0f921"
            ]
           ]
          },
          "colorway": [
           "#636efa",
           "#EF553B",
           "#00cc96",
           "#ab63fa",
           "#FFA15A",
           "#19d3f3",
           "#FF6692",
           "#B6E880",
           "#FF97FF",
           "#FECB52"
          ],
          "font": {
           "color": "#2a3f5f"
          },
          "geo": {
           "bgcolor": "white",
           "lakecolor": "white",
           "landcolor": "#E5ECF6",
           "showlakes": true,
           "showland": true,
           "subunitcolor": "white"
          },
          "hoverlabel": {
           "align": "left"
          },
          "hovermode": "closest",
          "mapbox": {
           "style": "light"
          },
          "paper_bgcolor": "white",
          "plot_bgcolor": "#E5ECF6",
          "polar": {
           "angularaxis": {
            "gridcolor": "white",
            "linecolor": "white",
            "ticks": ""
           },
           "bgcolor": "#E5ECF6",
           "radialaxis": {
            "gridcolor": "white",
            "linecolor": "white",
            "ticks": ""
           }
          },
          "scene": {
           "xaxis": {
            "backgroundcolor": "#E5ECF6",
            "gridcolor": "white",
            "gridwidth": 2,
            "linecolor": "white",
            "showbackground": true,
            "ticks": "",
            "zerolinecolor": "white"
           },
           "yaxis": {
            "backgroundcolor": "#E5ECF6",
            "gridcolor": "white",
            "gridwidth": 2,
            "linecolor": "white",
            "showbackground": true,
            "ticks": "",
            "zerolinecolor": "white"
           },
           "zaxis": {
            "backgroundcolor": "#E5ECF6",
            "gridcolor": "white",
            "gridwidth": 2,
            "linecolor": "white",
            "showbackground": true,
            "ticks": "",
            "zerolinecolor": "white"
           }
          },
          "shapedefaults": {
           "line": {
            "color": "#2a3f5f"
           }
          },
          "ternary": {
           "aaxis": {
            "gridcolor": "white",
            "linecolor": "white",
            "ticks": ""
           },
           "baxis": {
            "gridcolor": "white",
            "linecolor": "white",
            "ticks": ""
           },
           "bgcolor": "#E5ECF6",
           "caxis": {
            "gridcolor": "white",
            "linecolor": "white",
            "ticks": ""
           }
          },
          "title": {
           "x": 0.05
          },
          "xaxis": {
           "automargin": true,
           "gridcolor": "white",
           "linecolor": "white",
           "ticks": "",
           "title": {
            "standoff": 15
           },
           "zerolinecolor": "white",
           "zerolinewidth": 2
          },
          "yaxis": {
           "automargin": true,
           "gridcolor": "white",
           "linecolor": "white",
           "ticks": "",
           "title": {
            "standoff": 15
           },
           "zerolinecolor": "white",
           "zerolinewidth": 2
          }
         }
        },
        "xaxis": {
         "anchor": "y",
         "domain": [
          0,
          1
         ],
         "title": {
          "text": "fidelity_avg"
         }
        },
        "yaxis": {
         "anchor": "x",
         "domain": [
          0,
          1
         ],
         "title": {
          "text": "useful_cavs_perc"
         }
        }
       }
      },
      "text/html": [
       "<div>                            <div id=\"a2a6be32-25c6-4350-83cd-0570acf297e7\" class=\"plotly-graph-div\" style=\"height:525px; width:100%;\"></div>            <script type=\"text/javascript\">                require([\"plotly\"], function(Plotly) {                    window.PLOTLYENV=window.PLOTLYENV || {};                                    if (document.getElementById(\"a2a6be32-25c6-4350-83cd-0570acf297e7\")) {                    Plotly.newPlot(                        \"a2a6be32-25c6-4350-83cd-0570acf297e7\",                        [{\"alignmentgroup\":\"True\",\"boxpoints\":\"all\",\"customdata\":[[\"1\"],[\"2\"],[\"3\"],[\"6\"],[\"10\"],[\"8\"],[\"12\"]],\"fillcolor\":\"rgba(255,255,255,0)\",\"hoveron\":\"points\",\"hovertemplate\":\"reducer_type=NMF<br>fidelity_avg=%{x}<br>useful_cavs_perc=%{y}<br>rank_str=%{customdata[0]}<extra></extra>\",\"legendgroup\":\"NMF\",\"line\":{\"color\":\"rgba(255,255,255,0)\"},\"marker\":{\"color\":\"#636efa\"},\"name\":\"NMF\",\"offsetgroup\":\"NMF\",\"orientation\":\"v\",\"pointpos\":0,\"showlegend\":true,\"x\":[0.9614486284680861,0.5906216258686923,0.5857329171289618,0.09552547044359826,0.09412293917783665,0.08961968278419481,0.09203827716384355],\"x0\":\" \",\"xaxis\":\"x\",\"y\":[0.0,0.5,0.3333333333333333,0.6666666666666666,0.6,0.625,0.75],\"y0\":\" \",\"yaxis\":\"y\",\"type\":\"box\"},{\"alignmentgroup\":\"True\",\"boxpoints\":\"all\",\"customdata\":[[\"[3, 20, 100]\"],[\"[6, 20, 100]\"],[\"[10, 20, 100]\"],[\"[3, 20, 25]\"],[\"[6, 20, 25]\"],[\"[10, 20, 25]\"],[\"[3, 30, 100]\"],[\"[6, 30, 100]\"],[\"[10, 30, 100]\"],[\"[6, 39, 80]\"],[\"[10, 39, 80]\"],[\"[6, 39, 200]\"],[\"[10, 39, 200]\"],[\"[8, 39, 100]\"],[\"[10, 39, 100]\"],[\"[10, 39, 375]\"],[\"[8, 39, 375]\"],[\"[6, 39, 375]\"],[\"[3, 39, 375]\"],[\"[2, 39, 375]\"],[\"[1, 39, 375]\"]],\"fillcolor\":\"rgba(255,255,255,0)\",\"hoveron\":\"points\",\"hovertemplate\":\"reducer_type=NTD3<br>fidelity_avg=%{x}<br>useful_cavs_perc=%{y}<br>rank_str=%{customdata[0]}<extra></extra>\",\"legendgroup\":\"NTD3\",\"line\":{\"color\":\"rgba(255,255,255,0)\"},\"marker\":{\"color\":\"#EF553B\"},\"name\":\"NTD3\",\"offsetgroup\":\"NTD3\",\"orientation\":\"v\",\"pointpos\":0,\"showlegend\":true,\"x\":[0.5853154844903137,0.09526914100689456,0.08917551995045027,0.5870709343327611,0.5893794046154796,0.09367869877564039,0.5857687077338908,0.09835761693851065,0.09005581301686466,0.09735673896927903,0.09353581592010417,0.09859342509000492,0.09817760619512085,0.09927047516683288,0.09695671028093514,0.09619991999168565,0.09871310655751922,0.09763724248417795,0.5836378949857435,0.5867889893666929,0.9658653216551208],\"x0\":\" \",\"xaxis\":\"x\",\"y\":[0.3333333333333333,0.6666666666666666,0.6,0.3333333333333333,0.5,0.7,0.3333333333333333,0.6666666666666666,0.7,0.6666666666666666,0.6,0.6666666666666666,0.6,0.75,0.6,0.6,0.625,0.6666666666666666,0.3333333333333333,0.5,0.0],\"y0\":\" \",\"yaxis\":\"y\",\"type\":\"box\"},{\"alignmentgroup\":\"True\",\"boxpoints\":\"all\",\"customdata\":[[\"[3, 3, 2, 25]\"],[\"[1, 3, 2, 25]\"],[\"[2, 3, 2, 25]\"],[\"[3, 5, 3, 25]\"],[\"[3, 13, 3, 25]\"],[\"[6, 13, 3, 25]\"],[\"[6, 2, 3, 20]\"],[\"[10, 2, 3, 20]\"],[\"[3, 2, 3, 25]\"],[\"[6, 2, 3, 25]\"],[\"[10, 2, 3, 25]\"],[\"[10, 13, 3, 375]\"],[\"[10, 3, 3, 375]\"],[\"[8, 13, 3, 375]\"],[\"[6, 13, 3, 375]\"],[\"[3, 13, 3, 375]\"],[\"[1, 13, 3, 375]\"],[\"[2, 13, 3, 375]\"]],\"fillcolor\":\"rgba(255,255,255,0)\",\"hoveron\":\"points\",\"hovertemplate\":\"reducer_type=NTD4<br>fidelity_avg=%{x}<br>useful_cavs_perc=%{y}<br>rank_str=%{customdata[0]}<extra></extra>\",\"legendgroup\":\"NTD4\",\"line\":{\"color\":\"rgba(255,255,255,0)\"},\"marker\":{\"color\":\"#00cc96\"},\"name\":\"NTD4\",\"offsetgroup\":\"NTD4\",\"orientation\":\"v\",\"pointpos\":0,\"showlegend\":true,\"x\":[0.6541398646673119,0.9673271009499715,0.6619142587539446,0.6374264664958389,0.5853137105381767,0.5862460323808847,0.17859492441814945,0.5911118076301214,0.6520061186684614,0.1835091390727887,0.3829858289739325,0.10099538773307629,0.18356961960377371,0.10015473216414375,0.09634866659348915,0.584771187319489,0.963461237795483,0.5875680577498656],\"x0\":\" \",\"xaxis\":\"x\",\"y\":[0.3333333333333333,0.0,0.5,0.3333333333333333,0.3333333333333333,0.5,0.6666666666666666,0.7,0.3333333333333333,0.6666666666666666,0.6,0.7,0.6,0.625,0.6666666666666666,0.3333333333333333,0.0,0.5],\"y0\":\" \",\"yaxis\":\"y\",\"type\":\"box\"}],                        {\"template\":{\"data\":{\"histogram2dcontour\":[{\"type\":\"histogram2dcontour\",\"colorbar\":{\"outlinewidth\":0,\"ticks\":\"\"},\"colorscale\":[[0.0,\"#0d0887\"],[0.1111111111111111,\"#46039f\"],[0.2222222222222222,\"#7201a8\"],[0.3333333333333333,\"#9c179e\"],[0.4444444444444444,\"#bd3786\"],[0.5555555555555556,\"#d8576b\"],[0.6666666666666666,\"#ed7953\"],[0.7777777777777778,\"#fb9f3a\"],[0.8888888888888888,\"#fdca26\"],[1.0,\"#f0f921\"]]}],\"choropleth\":[{\"type\":\"choropleth\",\"colorbar\":{\"outlinewidth\":0,\"ticks\":\"\"}}],\"histogram2d\":[{\"type\":\"histogram2d\",\"colorbar\":{\"outlinewidth\":0,\"ticks\":\"\"},\"colorscale\":[[0.0,\"#0d0887\"],[0.1111111111111111,\"#46039f\"],[0.2222222222222222,\"#7201a8\"],[0.3333333333333333,\"#9c179e\"],[0.4444444444444444,\"#bd3786\"],[0.5555555555555556,\"#d8576b\"],[0.6666666666666666,\"#ed7953\"],[0.7777777777777778,\"#fb9f3a\"],[0.8888888888888888,\"#fdca26\"],[1.0,\"#f0f921\"]]}],\"heatmap\":[{\"type\":\"heatmap\",\"colorbar\":{\"outlinewidth\":0,\"ticks\":\"\"},\"colorscale\":[[0.0,\"#0d0887\"],[0.1111111111111111,\"#46039f\"],[0.2222222222222222,\"#7201a8\"],[0.3333333333333333,\"#9c179e\"],[0.4444444444444444,\"#bd3786\"],[0.5555555555555556,\"#d8576b\"],[0.6666666666666666,\"#ed7953\"],[0.7777777777777778,\"#fb9f3a\"],[0.8888888888888888,\"#fdca26\"],[1.0,\"#f0f921\"]]}],\"heatmapgl\":[{\"type\":\"heatmapgl\",\"colorbar\":{\"outlinewidth\":0,\"ticks\":\"\"},\"colorscale\":[[0.0,\"#0d0887\"],[0.1111111111111111,\"#46039f\"],[0.2222222222222222,\"#7201a8\"],[0.3333333333333333,\"#9c179e\"],[0.4444444444444444,\"#bd3786\"],[0.5555555555555556,\"#d8576b\"],[0.6666666666666666,\"#ed7953\"],[0.7777777777777778,\"#fb9f3a\"],[0.8888888888888888,\"#fdca26\"],[1.0,\"#f0f921\"]]}],\"contourcarpet\":[{\"type\":\"contourcarpet\",\"colorbar\":{\"outlinewidth\":0,\"ticks\":\"\"}}],\"contour\":[{\"type\":\"contour\",\"colorbar\":{\"outlinewidth\":0,\"ticks\":\"\"},\"colorscale\":[[0.0,\"#0d0887\"],[0.1111111111111111,\"#46039f\"],[0.2222222222222222,\"#7201a8\"],[0.3333333333333333,\"#9c179e\"],[0.4444444444444444,\"#bd3786\"],[0.5555555555555556,\"#d8576b\"],[0.6666666666666666,\"#ed7953\"],[0.7777777777777778,\"#fb9f3a\"],[0.8888888888888888,\"#fdca26\"],[1.0,\"#f0f921\"]]}],\"surface\":[{\"type\":\"surface\",\"colorbar\":{\"outlinewidth\":0,\"ticks\":\"\"},\"colorscale\":[[0.0,\"#0d0887\"],[0.1111111111111111,\"#46039f\"],[0.2222222222222222,\"#7201a8\"],[0.3333333333333333,\"#9c179e\"],[0.4444444444444444,\"#bd3786\"],[0.5555555555555556,\"#d8576b\"],[0.6666666666666666,\"#ed7953\"],[0.7777777777777778,\"#fb9f3a\"],[0.8888888888888888,\"#fdca26\"],[1.0,\"#f0f921\"]]}],\"mesh3d\":[{\"type\":\"mesh3d\",\"colorbar\":{\"outlinewidth\":0,\"ticks\":\"\"}}],\"scatter\":[{\"fillpattern\":{\"fillmode\":\"overlay\",\"size\":10,\"solidity\":0.2},\"type\":\"scatter\"}],\"parcoords\":[{\"type\":\"parcoords\",\"line\":{\"colorbar\":{\"outlinewidth\":0,\"ticks\":\"\"}}}],\"scatterpolargl\":[{\"type\":\"scatterpolargl\",\"marker\":{\"colorbar\":{\"outlinewidth\":0,\"ticks\":\"\"}}}],\"bar\":[{\"error_x\":{\"color\":\"#2a3f5f\"},\"error_y\":{\"color\":\"#2a3f5f\"},\"marker\":{\"line\":{\"color\":\"#E5ECF6\",\"width\":0.5},\"pattern\":{\"fillmode\":\"overlay\",\"size\":10,\"solidity\":0.2}},\"type\":\"bar\"}],\"scattergeo\":[{\"type\":\"scattergeo\",\"marker\":{\"colorbar\":{\"outlinewidth\":0,\"ticks\":\"\"}}}],\"scatterpolar\":[{\"type\":\"scatterpolar\",\"marker\":{\"colorbar\":{\"outlinewidth\":0,\"ticks\":\"\"}}}],\"histogram\":[{\"marker\":{\"pattern\":{\"fillmode\":\"overlay\",\"size\":10,\"solidity\":0.2}},\"type\":\"histogram\"}],\"scattergl\":[{\"type\":\"scattergl\",\"marker\":{\"colorbar\":{\"outlinewidth\":0,\"ticks\":\"\"}}}],\"scatter3d\":[{\"type\":\"scatter3d\",\"line\":{\"colorbar\":{\"outlinewidth\":0,\"ticks\":\"\"}},\"marker\":{\"colorbar\":{\"outlinewidth\":0,\"ticks\":\"\"}}}],\"scattermapbox\":[{\"type\":\"scattermapbox\",\"marker\":{\"colorbar\":{\"outlinewidth\":0,\"ticks\":\"\"}}}],\"scatterternary\":[{\"type\":\"scatterternary\",\"marker\":{\"colorbar\":{\"outlinewidth\":0,\"ticks\":\"\"}}}],\"scattercarpet\":[{\"type\":\"scattercarpet\",\"marker\":{\"colorbar\":{\"outlinewidth\":0,\"ticks\":\"\"}}}],\"carpet\":[{\"aaxis\":{\"endlinecolor\":\"#2a3f5f\",\"gridcolor\":\"white\",\"linecolor\":\"white\",\"minorgridcolor\":\"white\",\"startlinecolor\":\"#2a3f5f\"},\"baxis\":{\"endlinecolor\":\"#2a3f5f\",\"gridcolor\":\"white\",\"linecolor\":\"white\",\"minorgridcolor\":\"white\",\"startlinecolor\":\"#2a3f5f\"},\"type\":\"carpet\"}],\"table\":[{\"cells\":{\"fill\":{\"color\":\"#EBF0F8\"},\"line\":{\"color\":\"white\"}},\"header\":{\"fill\":{\"color\":\"#C8D4E3\"},\"line\":{\"color\":\"white\"}},\"type\":\"table\"}],\"barpolar\":[{\"marker\":{\"line\":{\"color\":\"#E5ECF6\",\"width\":0.5},\"pattern\":{\"fillmode\":\"overlay\",\"size\":10,\"solidity\":0.2}},\"type\":\"barpolar\"}],\"pie\":[{\"automargin\":true,\"type\":\"pie\"}]},\"layout\":{\"autotypenumbers\":\"strict\",\"colorway\":[\"#636efa\",\"#EF553B\",\"#00cc96\",\"#ab63fa\",\"#FFA15A\",\"#19d3f3\",\"#FF6692\",\"#B6E880\",\"#FF97FF\",\"#FECB52\"],\"font\":{\"color\":\"#2a3f5f\"},\"hovermode\":\"closest\",\"hoverlabel\":{\"align\":\"left\"},\"paper_bgcolor\":\"white\",\"plot_bgcolor\":\"#E5ECF6\",\"polar\":{\"bgcolor\":\"#E5ECF6\",\"angularaxis\":{\"gridcolor\":\"white\",\"linecolor\":\"white\",\"ticks\":\"\"},\"radialaxis\":{\"gridcolor\":\"white\",\"linecolor\":\"white\",\"ticks\":\"\"}},\"ternary\":{\"bgcolor\":\"#E5ECF6\",\"aaxis\":{\"gridcolor\":\"white\",\"linecolor\":\"white\",\"ticks\":\"\"},\"baxis\":{\"gridcolor\":\"white\",\"linecolor\":\"white\",\"ticks\":\"\"},\"caxis\":{\"gridcolor\":\"white\",\"linecolor\":\"white\",\"ticks\":\"\"}},\"coloraxis\":{\"colorbar\":{\"outlinewidth\":0,\"ticks\":\"\"}},\"colorscale\":{\"sequential\":[[0.0,\"#0d0887\"],[0.1111111111111111,\"#46039f\"],[0.2222222222222222,\"#7201a8\"],[0.3333333333333333,\"#9c179e\"],[0.4444444444444444,\"#bd3786\"],[0.5555555555555556,\"#d8576b\"],[0.6666666666666666,\"#ed7953\"],[0.7777777777777778,\"#fb9f3a\"],[0.8888888888888888,\"#fdca26\"],[1.0,\"#f0f921\"]],\"sequentialminus\":[[0.0,\"#0d0887\"],[0.1111111111111111,\"#46039f\"],[0.2222222222222222,\"#7201a8\"],[0.3333333333333333,\"#9c179e\"],[0.4444444444444444,\"#bd3786\"],[0.5555555555555556,\"#d8576b\"],[0.6666666666666666,\"#ed7953\"],[0.7777777777777778,\"#fb9f3a\"],[0.8888888888888888,\"#fdca26\"],[1.0,\"#f0f921\"]],\"diverging\":[[0,\"#8e0152\"],[0.1,\"#c51b7d\"],[0.2,\"#de77ae\"],[0.3,\"#f1b6da\"],[0.4,\"#fde0ef\"],[0.5,\"#f7f7f7\"],[0.6,\"#e6f5d0\"],[0.7,\"#b8e186\"],[0.8,\"#7fbc41\"],[0.9,\"#4d9221\"],[1,\"#276419\"]]},\"xaxis\":{\"gridcolor\":\"white\",\"linecolor\":\"white\",\"ticks\":\"\",\"title\":{\"standoff\":15},\"zerolinecolor\":\"white\",\"automargin\":true,\"zerolinewidth\":2},\"yaxis\":{\"gridcolor\":\"white\",\"linecolor\":\"white\",\"ticks\":\"\",\"title\":{\"standoff\":15},\"zerolinecolor\":\"white\",\"automargin\":true,\"zerolinewidth\":2},\"scene\":{\"xaxis\":{\"backgroundcolor\":\"#E5ECF6\",\"gridcolor\":\"white\",\"linecolor\":\"white\",\"showbackground\":true,\"ticks\":\"\",\"zerolinecolor\":\"white\",\"gridwidth\":2},\"yaxis\":{\"backgroundcolor\":\"#E5ECF6\",\"gridcolor\":\"white\",\"linecolor\":\"white\",\"showbackground\":true,\"ticks\":\"\",\"zerolinecolor\":\"white\",\"gridwidth\":2},\"zaxis\":{\"backgroundcolor\":\"#E5ECF6\",\"gridcolor\":\"white\",\"linecolor\":\"white\",\"showbackground\":true,\"ticks\":\"\",\"zerolinecolor\":\"white\",\"gridwidth\":2}},\"shapedefaults\":{\"line\":{\"color\":\"#2a3f5f\"}},\"annotationdefaults\":{\"arrowcolor\":\"#2a3f5f\",\"arrowhead\":0,\"arrowwidth\":1},\"geo\":{\"bgcolor\":\"white\",\"landcolor\":\"#E5ECF6\",\"subunitcolor\":\"white\",\"showland\":true,\"showlakes\":true,\"lakecolor\":\"white\"},\"title\":{\"x\":0.05},\"mapbox\":{\"style\":\"light\"}}},\"xaxis\":{\"anchor\":\"y\",\"domain\":[0.0,1.0],\"title\":{\"text\":\"fidelity_avg\"}},\"yaxis\":{\"anchor\":\"x\",\"domain\":[0.0,1.0],\"title\":{\"text\":\"useful_cavs_perc\"}},\"legend\":{\"title\":{\"text\":\"reducer_type\"},\"tracegroupgap\":0},\"margin\":{\"t\":60},\"boxmode\":\"group\"},                        {\"responsive\": true}                    ).then(function(){\n",
       "                            \n",
       "var gd = document.getElementById('a2a6be32-25c6-4350-83cd-0570acf297e7');\n",
       "var x = new MutationObserver(function (mutations, observer) {{\n",
       "        var display = window.getComputedStyle(gd).display;\n",
       "        if (!display || display === 'none') {{\n",
       "            console.log([gd, 'removed!']);\n",
       "            Plotly.purge(gd);\n",
       "            observer.disconnect();\n",
       "        }}\n",
       "}});\n",
       "\n",
       "// Listen for the removal of the full notebook cells\n",
       "var notebookContainer = gd.closest('#notebook-container');\n",
       "if (notebookContainer) {{\n",
       "    x.observe(notebookContainer, {childList: true});\n",
       "}}\n",
       "\n",
       "// Listen for the clearing of the current output cell\n",
       "var outputEl = gd.closest('.output');\n",
       "if (outputEl) {{\n",
       "    x.observe(outputEl, {childList: true});\n",
       "}}\n",
       "\n",
       "                        })                };                });            </script>        </div>"
      ]
     },
     "metadata": {},
     "output_type": "display_data"
    }
   ],
   "source": [
    "\n",
    "px.strip(df, x= 'fidelity_avg', y='useful_cavs_perc', color=\"reducer_type\", hover_data=['rank_str'], stripmode=\"group\")"
   ]
  },
  {
   "cell_type": "code",
   "execution_count": 44,
   "metadata": {},
   "outputs": [
    {
     "data": {
      "application/vnd.plotly.v1+json": {
       "config": {
        "plotlyServerURL": "https://plot.ly"
       },
       "data": [
        {
         "hovertemplate": "rank_str=[3, 20, 100]<br>reducer_conv=%{x}<br>fidelity_avg=%{y}<extra></extra>",
         "legendgroup": "[3, 20, 100]",
         "marker": {
          "color": "#636efa",
          "symbol": "circle"
         },
         "mode": "markers",
         "name": "[3, 20, 100]",
         "orientation": "v",
         "showlegend": true,
         "type": "scatter",
         "x": [
          0.34716227650642395
         ],
         "xaxis": "x",
         "y": [
          0.58394118243031
         ],
         "yaxis": "y"
        },
        {
         "hovertemplate": "rank_str=[6, 20, 100]<br>reducer_conv=%{x}<br>fidelity_avg=%{y}<extra></extra>",
         "legendgroup": "[6, 20, 100]",
         "marker": {
          "color": "#EF553B",
          "symbol": "circle"
         },
         "mode": "markers",
         "name": "[6, 20, 100]",
         "orientation": "v",
         "showlegend": true,
         "type": "scatter",
         "x": [
          0.2947548031806946
         ],
         "xaxis": "x",
         "y": [
          0.09665445428572216
         ],
         "yaxis": "y"
        },
        {
         "hovertemplate": "rank_str=[10, 20, 100]<br>reducer_conv=%{x}<br>fidelity_avg=%{y}<extra></extra>",
         "legendgroup": "[10, 20, 100]",
         "marker": {
          "color": "#00cc96",
          "symbol": "circle"
         },
         "mode": "markers",
         "name": "[10, 20, 100]",
         "orientation": "v",
         "showlegend": true,
         "type": "scatter",
         "x": [
          0.27095142006874084
         ],
         "xaxis": "x",
         "y": [
          0.09376070171949248
         ],
         "yaxis": "y"
        },
        {
         "hovertemplate": "rank_str=[3, 30, 100]<br>reducer_conv=%{x}<br>fidelity_avg=%{y}<extra></extra>",
         "legendgroup": "[3, 30, 100]",
         "marker": {
          "color": "#ab63fa",
          "symbol": "circle"
         },
         "mode": "markers",
         "name": "[3, 30, 100]",
         "orientation": "v",
         "showlegend": true,
         "type": "scatter",
         "x": [
          0.3168349862098694
         ],
         "xaxis": "x",
         "y": [
          0.5846094054789341
         ],
         "yaxis": "y"
        },
        {
         "hovertemplate": "rank_str=[10, 39, 375]<br>reducer_conv=%{x}<br>fidelity_avg=%{y}<extra></extra>",
         "legendgroup": "[10, 39, 375]",
         "marker": {
          "color": "#FFA15A",
          "symbol": "circle"
         },
         "mode": "markers",
         "name": "[10, 39, 375]",
         "orientation": "v",
         "showlegend": true,
         "type": "scatter",
         "x": [
          0.27814602851867676
         ],
         "xaxis": "x",
         "y": [
          0.0860443760854879
         ],
         "yaxis": "y"
        },
        {
         "hovertemplate": "rank_str=[6, 30, 100]<br>reducer_conv=%{x}<br>fidelity_avg=%{y}<extra></extra>",
         "legendgroup": "[6, 30, 100]",
         "marker": {
          "color": "#19d3f3",
          "symbol": "circle"
         },
         "mode": "markers",
         "name": "[6, 30, 100]",
         "orientation": "v",
         "showlegend": true,
         "type": "scatter",
         "x": [
          0.2917281687259674
         ],
         "xaxis": "x",
         "y": [
          0.09902413895222492
         ],
         "yaxis": "y"
        },
        {
         "hovertemplate": "rank_str=[10, 30, 100]<br>reducer_conv=%{x}<br>fidelity_avg=%{y}<extra></extra>",
         "legendgroup": "[10, 30, 100]",
         "marker": {
          "color": "#FF6692",
          "symbol": "circle"
         },
         "mode": "markers",
         "name": "[10, 30, 100]",
         "orientation": "v",
         "showlegend": true,
         "type": "scatter",
         "x": [
          0.2721397578716278
         ],
         "xaxis": "x",
         "y": [
          0.09871784661994959
         ],
         "yaxis": "y"
        },
        {
         "hovertemplate": "rank_str=[8, 39, 375]<br>reducer_conv=%{x}<br>fidelity_avg=%{y}<extra></extra>",
         "legendgroup": "[8, 39, 375]",
         "marker": {
          "color": "#B6E880",
          "symbol": "circle"
         },
         "mode": "markers",
         "name": "[8, 39, 375]",
         "orientation": "v",
         "showlegend": true,
         "type": "scatter",
         "x": [
          0.27753356099128723
         ],
         "xaxis": "x",
         "y": [
          0.09703009889645425
         ],
         "yaxis": "y"
        },
        {
         "hovertemplate": "rank_str=[3, 2, 3, 20]<br>reducer_conv=%{x}<br>fidelity_avg=%{y}<extra></extra>",
         "legendgroup": "[3, 2, 3, 20]",
         "marker": {
          "color": "#FF97FF",
          "symbol": "circle"
         },
         "mode": "markers",
         "name": "[3, 2, 3, 20]",
         "orientation": "v",
         "showlegend": true,
         "type": "scatter",
         "x": [
          0.7260661721229553
         ],
         "xaxis": "x",
         "y": [
          0.6408704804808647
         ],
         "yaxis": "y"
        },
        {
         "hovertemplate": "rank_str=[6, 2, 3, 20]<br>reducer_conv=%{x}<br>fidelity_avg=%{y}<extra></extra>",
         "legendgroup": "[6, 2, 3, 20]",
         "marker": {
          "color": "#FECB52",
          "symbol": "circle"
         },
         "mode": "markers",
         "name": "[6, 2, 3, 20]",
         "orientation": "v",
         "showlegend": true,
         "type": "scatter",
         "x": [
          0.7347173094749451
         ],
         "xaxis": "x",
         "y": [
          0.20053127073427535
         ],
         "yaxis": "y"
        },
        {
         "hovertemplate": "rank_str=[10, 2, 3, 20]<br>reducer_conv=%{x}<br>fidelity_avg=%{y}<extra></extra>",
         "legendgroup": "[10, 2, 3, 20]",
         "marker": {
          "color": "#636efa",
          "symbol": "circle"
         },
         "mode": "markers",
         "name": "[10, 2, 3, 20]",
         "orientation": "v",
         "showlegend": true,
         "type": "scatter",
         "x": [
          0.7606574892997742
         ],
         "xaxis": "x",
         "y": [
          0.19860494738766066
         ],
         "yaxis": "y"
        },
        {
         "hovertemplate": "rank_str=[3, 2, 3, 25]<br>reducer_conv=%{x}<br>fidelity_avg=%{y}<extra></extra>",
         "legendgroup": "[3, 2, 3, 25]",
         "marker": {
          "color": "#EF553B",
          "symbol": "circle"
         },
         "mode": "markers",
         "name": "[3, 2, 3, 25]",
         "orientation": "v",
         "showlegend": true,
         "type": "scatter",
         "x": [
          0.7757329344749451
         ],
         "xaxis": "x",
         "y": [
          0.1668278927072614
         ],
         "yaxis": "y"
        },
        {
         "hovertemplate": "rank_str=[6, 2, 3, 25]<br>reducer_conv=%{x}<br>fidelity_avg=%{y}<extra></extra>",
         "legendgroup": "[6, 2, 3, 25]",
         "marker": {
          "color": "#00cc96",
          "symbol": "circle"
         },
         "mode": "markers",
         "name": "[6, 2, 3, 25]",
         "orientation": "v",
         "showlegend": true,
         "type": "scatter",
         "x": [
          0.7155908942222595
         ],
         "xaxis": "x",
         "y": [
          0.17512862443368366
         ],
         "yaxis": "y"
        },
        {
         "hovertemplate": "rank_str=[10, 2, 3, 25]<br>reducer_conv=%{x}<br>fidelity_avg=%{y}<extra></extra>",
         "legendgroup": "[10, 2, 3, 25]",
         "marker": {
          "color": "#ab63fa",
          "symbol": "circle"
         },
         "mode": "markers",
         "name": "[10, 2, 3, 25]",
         "orientation": "v",
         "showlegend": true,
         "type": "scatter",
         "x": [
          0.7275364995002747
         ],
         "xaxis": "x",
         "y": [
          0.1820107129576399
         ],
         "yaxis": "y"
        },
        {
         "hovertemplate": "rank_str=[6, 39, 375]<br>reducer_conv=%{x}<br>fidelity_avg=%{y}<extra></extra>",
         "legendgroup": "[6, 39, 375]",
         "marker": {
          "color": "#FFA15A",
          "symbol": "circle"
         },
         "mode": "markers",
         "name": "[6, 39, 375]",
         "orientation": "v",
         "showlegend": true,
         "type": "scatter",
         "x": [
          0.2776632308959961
         ],
         "xaxis": "x",
         "y": [
          0.09692880455391246
         ],
         "yaxis": "y"
        },
        {
         "hovertemplate": "rank_str=[3, 39, 375]<br>reducer_conv=%{x}<br>fidelity_avg=%{y}<extra></extra>",
         "legendgroup": "[3, 39, 375]",
         "marker": {
          "color": "#19d3f3",
          "symbol": "circle"
         },
         "mode": "markers",
         "name": "[3, 39, 375]",
         "orientation": "v",
         "showlegend": true,
         "type": "scatter",
         "x": [
          0.3164854645729065
         ],
         "xaxis": "x",
         "y": [
          0.585120166996496
         ],
         "yaxis": "y"
        },
        {
         "hovertemplate": "rank_str=[3, 13, 3, 20]<br>reducer_conv=%{x}<br>fidelity_avg=%{y}<extra></extra>",
         "legendgroup": "[3, 13, 3, 20]",
         "marker": {
          "color": "#FF6692",
          "symbol": "circle"
         },
         "mode": "markers",
         "name": "[3, 13, 3, 20]",
         "orientation": "v",
         "showlegend": true,
         "type": "scatter",
         "x": [
          0.33161914348602295
         ],
         "xaxis": "x",
         "y": [
          0.5919548772191663
         ],
         "yaxis": "y"
        },
        {
         "hovertemplate": "rank_str=[6, 13, 3, 20]<br>reducer_conv=%{x}<br>fidelity_avg=%{y}<extra></extra>",
         "legendgroup": "[6, 13, 3, 20]",
         "marker": {
          "color": "#B6E880",
          "symbol": "circle"
         },
         "mode": "markers",
         "name": "[6, 13, 3, 20]",
         "orientation": "v",
         "showlegend": true,
         "type": "scatter",
         "x": [
          0.3093806505203247
         ],
         "xaxis": "x",
         "y": [
          0.5979028304626408
         ],
         "yaxis": "y"
        },
        {
         "hovertemplate": "rank_str=[3, 13, 3, 200]<br>reducer_conv=%{x}<br>fidelity_avg=%{y}<extra></extra>",
         "legendgroup": "[3, 13, 3, 200]",
         "marker": {
          "color": "#FF97FF",
          "symbol": "circle"
         },
         "mode": "markers",
         "name": "[3, 13, 3, 200]",
         "orientation": "v",
         "showlegend": true,
         "type": "scatter",
         "x": [
          0.31719717383384705
         ],
         "xaxis": "x",
         "y": [
          0.5850495245390427
         ],
         "yaxis": "y"
        },
        {
         "hovertemplate": "rank_str=[6, 13, 3, 200]<br>reducer_conv=%{x}<br>fidelity_avg=%{y}<extra></extra>",
         "legendgroup": "[6, 13, 3, 200]",
         "marker": {
          "color": "#FECB52",
          "symbol": "circle"
         },
         "mode": "markers",
         "name": "[6, 13, 3, 200]",
         "orientation": "v",
         "showlegend": true,
         "type": "scatter",
         "x": [
          0.2877291738986969
         ],
         "xaxis": "x",
         "y": [
          0.5075664313129746
         ],
         "yaxis": "y"
        },
        {
         "hovertemplate": "rank_str=[10, 13, 3, 200]<br>reducer_conv=%{x}<br>fidelity_avg=%{y}<extra></extra>",
         "legendgroup": "[10, 13, 3, 200]",
         "marker": {
          "color": "#636efa",
          "symbol": "circle"
         },
         "mode": "markers",
         "name": "[10, 13, 3, 200]",
         "orientation": "v",
         "showlegend": true,
         "type": "scatter",
         "x": [
          0.26251286268234253
         ],
         "xaxis": "x",
         "y": [
          0.08702579430640703
         ],
         "yaxis": "y"
        },
        {
         "hovertemplate": "rank_str=[8, 13, 3, 200]<br>reducer_conv=%{x}<br>fidelity_avg=%{y}<extra></extra>",
         "legendgroup": "[8, 13, 3, 200]",
         "marker": {
          "color": "#EF553B",
          "symbol": "circle"
         },
         "mode": "markers",
         "name": "[8, 13, 3, 200]",
         "orientation": "v",
         "showlegend": true,
         "type": "scatter",
         "x": [
          0.27511516213417053
         ],
         "xaxis": "x",
         "y": [
          0.09694127734073543
         ],
         "yaxis": "y"
        },
        {
         "hovertemplate": "rank_str=[3, 13, 3, 375]<br>reducer_conv=%{x}<br>fidelity_avg=%{y}<extra></extra>",
         "legendgroup": "[3, 13, 3, 375]",
         "marker": {
          "color": "#00cc96",
          "symbol": "circle"
         },
         "mode": "markers",
         "name": "[3, 13, 3, 375]",
         "orientation": "v",
         "showlegend": true,
         "type": "scatter",
         "x": [
          0.34308868646621704
         ],
         "xaxis": "x",
         "y": [
          0.5808477739190705
         ],
         "yaxis": "y"
        },
        {
         "hovertemplate": "rank_str=[6, 13, 3, 375]<br>reducer_conv=%{x}<br>fidelity_avg=%{y}<extra></extra>",
         "legendgroup": "[6, 13, 3, 375]",
         "marker": {
          "color": "#ab63fa",
          "symbol": "circle"
         },
         "mode": "markers",
         "name": "[6, 13, 3, 375]",
         "orientation": "v",
         "showlegend": true,
         "type": "scatter",
         "x": [
          0.289480984210968
         ],
         "xaxis": "x",
         "y": [
          0.09901927217048578
         ],
         "yaxis": "y"
        },
        {
         "hovertemplate": "rank_str=[10, 13, 3, 375]<br>reducer_conv=%{x}<br>fidelity_avg=%{y}<extra></extra>",
         "legendgroup": "[10, 13, 3, 375]",
         "marker": {
          "color": "#FFA15A",
          "symbol": "circle"
         },
         "mode": "markers",
         "name": "[10, 13, 3, 375]",
         "orientation": "v",
         "showlegend": true,
         "type": "scatter",
         "x": [
          0.26811668276786804
         ],
         "xaxis": "x",
         "y": [
          0.10041255413156824
         ],
         "yaxis": "y"
        },
        {
         "hovertemplate": "rank_str=[8, 13, 3, 375]<br>reducer_conv=%{x}<br>fidelity_avg=%{y}<extra></extra>",
         "legendgroup": "[8, 13, 3, 375]",
         "marker": {
          "color": "#19d3f3",
          "symbol": "circle"
         },
         "mode": "markers",
         "name": "[8, 13, 3, 375]",
         "orientation": "v",
         "showlegend": true,
         "type": "scatter",
         "x": [
          0.26863765716552734
         ],
         "xaxis": "x",
         "y": [
          0.09618223830764902
         ],
         "yaxis": "y"
        },
        {
         "hovertemplate": "rank_str=[3, 3, 2, 25]<br>reducer_conv=%{x}<br>fidelity_avg=%{y}<extra></extra>",
         "legendgroup": "[3, 3, 2, 25]",
         "marker": {
          "color": "#FF6692",
          "symbol": "circle"
         },
         "mode": "markers",
         "name": "[3, 3, 2, 25]",
         "orientation": "v",
         "showlegend": true,
         "type": "scatter",
         "x": [
          0.6930986046791077
         ],
         "xaxis": "x",
         "y": [
          0.6589548245891538
         ],
         "yaxis": "y"
        },
        {
         "hovertemplate": "rank_str=[3, 5, 3, 25]<br>reducer_conv=%{x}<br>fidelity_avg=%{y}<extra></extra>",
         "legendgroup": "[3, 5, 3, 25]",
         "marker": {
          "color": "#B6E880",
          "symbol": "circle"
         },
         "mode": "markers",
         "name": "[3, 5, 3, 25]",
         "orientation": "v",
         "showlegend": true,
         "type": "scatter",
         "x": [
          0.5075910091400146
         ],
         "xaxis": "x",
         "y": [
          0.6381737275622825
         ],
         "yaxis": "y"
        },
        {
         "hovertemplate": "rank_str=[3, 13, 3, 25]<br>reducer_conv=%{x}<br>fidelity_avg=%{y}<extra></extra>",
         "legendgroup": "[3, 13, 3, 25]",
         "marker": {
          "color": "#FF97FF",
          "symbol": "circle"
         },
         "mode": "markers",
         "name": "[3, 13, 3, 25]",
         "orientation": "v",
         "showlegend": true,
         "type": "scatter",
         "x": [
          0.32443538308143616
         ],
         "xaxis": "x",
         "y": [
          0.5901702405936582
         ],
         "yaxis": "y"
        },
        {
         "hovertemplate": "rank_str=[6, 13, 3, 25]<br>reducer_conv=%{x}<br>fidelity_avg=%{y}<extra></extra>",
         "legendgroup": "[6, 13, 3, 25]",
         "marker": {
          "color": "#FECB52",
          "symbol": "circle"
         },
         "mode": "markers",
         "name": "[6, 13, 3, 25]",
         "orientation": "v",
         "showlegend": true,
         "type": "scatter",
         "x": [
          0.29883381724357605
         ],
         "xaxis": "x",
         "y": [
          0.5896976675177199
         ],
         "yaxis": "y"
        }
       ],
       "layout": {
        "legend": {
         "title": {
          "text": "rank_str"
         },
         "tracegroupgap": 0
        },
        "margin": {
         "t": 60
        },
        "template": {
         "data": {
          "bar": [
           {
            "error_x": {
             "color": "#2a3f5f"
            },
            "error_y": {
             "color": "#2a3f5f"
            },
            "marker": {
             "line": {
              "color": "#E5ECF6",
              "width": 0.5
             },
             "pattern": {
              "fillmode": "overlay",
              "size": 10,
              "solidity": 0.2
             }
            },
            "type": "bar"
           }
          ],
          "barpolar": [
           {
            "marker": {
             "line": {
              "color": "#E5ECF6",
              "width": 0.5
             },
             "pattern": {
              "fillmode": "overlay",
              "size": 10,
              "solidity": 0.2
             }
            },
            "type": "barpolar"
           }
          ],
          "carpet": [
           {
            "aaxis": {
             "endlinecolor": "#2a3f5f",
             "gridcolor": "white",
             "linecolor": "white",
             "minorgridcolor": "white",
             "startlinecolor": "#2a3f5f"
            },
            "baxis": {
             "endlinecolor": "#2a3f5f",
             "gridcolor": "white",
             "linecolor": "white",
             "minorgridcolor": "white",
             "startlinecolor": "#2a3f5f"
            },
            "type": "carpet"
           }
          ],
          "choropleth": [
           {
            "colorbar": {
             "outlinewidth": 0,
             "ticks": ""
            },
            "type": "choropleth"
           }
          ],
          "contour": [
           {
            "colorbar": {
             "outlinewidth": 0,
             "ticks": ""
            },
            "colorscale": [
             [
              0,
              "#0d0887"
             ],
             [
              0.1111111111111111,
              "#46039f"
             ],
             [
              0.2222222222222222,
              "#7201a8"
             ],
             [
              0.3333333333333333,
              "#9c179e"
             ],
             [
              0.4444444444444444,
              "#bd3786"
             ],
             [
              0.5555555555555556,
              "#d8576b"
             ],
             [
              0.6666666666666666,
              "#ed7953"
             ],
             [
              0.7777777777777778,
              "#fb9f3a"
             ],
             [
              0.8888888888888888,
              "#fdca26"
             ],
             [
              1,
              "#f0f921"
             ]
            ],
            "type": "contour"
           }
          ],
          "contourcarpet": [
           {
            "colorbar": {
             "outlinewidth": 0,
             "ticks": ""
            },
            "type": "contourcarpet"
           }
          ],
          "heatmap": [
           {
            "colorbar": {
             "outlinewidth": 0,
             "ticks": ""
            },
            "colorscale": [
             [
              0,
              "#0d0887"
             ],
             [
              0.1111111111111111,
              "#46039f"
             ],
             [
              0.2222222222222222,
              "#7201a8"
             ],
             [
              0.3333333333333333,
              "#9c179e"
             ],
             [
              0.4444444444444444,
              "#bd3786"
             ],
             [
              0.5555555555555556,
              "#d8576b"
             ],
             [
              0.6666666666666666,
              "#ed7953"
             ],
             [
              0.7777777777777778,
              "#fb9f3a"
             ],
             [
              0.8888888888888888,
              "#fdca26"
             ],
             [
              1,
              "#f0f921"
             ]
            ],
            "type": "heatmap"
           }
          ],
          "heatmapgl": [
           {
            "colorbar": {
             "outlinewidth": 0,
             "ticks": ""
            },
            "colorscale": [
             [
              0,
              "#0d0887"
             ],
             [
              0.1111111111111111,
              "#46039f"
             ],
             [
              0.2222222222222222,
              "#7201a8"
             ],
             [
              0.3333333333333333,
              "#9c179e"
             ],
             [
              0.4444444444444444,
              "#bd3786"
             ],
             [
              0.5555555555555556,
              "#d8576b"
             ],
             [
              0.6666666666666666,
              "#ed7953"
             ],
             [
              0.7777777777777778,
              "#fb9f3a"
             ],
             [
              0.8888888888888888,
              "#fdca26"
             ],
             [
              1,
              "#f0f921"
             ]
            ],
            "type": "heatmapgl"
           }
          ],
          "histogram": [
           {
            "marker": {
             "pattern": {
              "fillmode": "overlay",
              "size": 10,
              "solidity": 0.2
             }
            },
            "type": "histogram"
           }
          ],
          "histogram2d": [
           {
            "colorbar": {
             "outlinewidth": 0,
             "ticks": ""
            },
            "colorscale": [
             [
              0,
              "#0d0887"
             ],
             [
              0.1111111111111111,
              "#46039f"
             ],
             [
              0.2222222222222222,
              "#7201a8"
             ],
             [
              0.3333333333333333,
              "#9c179e"
             ],
             [
              0.4444444444444444,
              "#bd3786"
             ],
             [
              0.5555555555555556,
              "#d8576b"
             ],
             [
              0.6666666666666666,
              "#ed7953"
             ],
             [
              0.7777777777777778,
              "#fb9f3a"
             ],
             [
              0.8888888888888888,
              "#fdca26"
             ],
             [
              1,
              "#f0f921"
             ]
            ],
            "type": "histogram2d"
           }
          ],
          "histogram2dcontour": [
           {
            "colorbar": {
             "outlinewidth": 0,
             "ticks": ""
            },
            "colorscale": [
             [
              0,
              "#0d0887"
             ],
             [
              0.1111111111111111,
              "#46039f"
             ],
             [
              0.2222222222222222,
              "#7201a8"
             ],
             [
              0.3333333333333333,
              "#9c179e"
             ],
             [
              0.4444444444444444,
              "#bd3786"
             ],
             [
              0.5555555555555556,
              "#d8576b"
             ],
             [
              0.6666666666666666,
              "#ed7953"
             ],
             [
              0.7777777777777778,
              "#fb9f3a"
             ],
             [
              0.8888888888888888,
              "#fdca26"
             ],
             [
              1,
              "#f0f921"
             ]
            ],
            "type": "histogram2dcontour"
           }
          ],
          "mesh3d": [
           {
            "colorbar": {
             "outlinewidth": 0,
             "ticks": ""
            },
            "type": "mesh3d"
           }
          ],
          "parcoords": [
           {
            "line": {
             "colorbar": {
              "outlinewidth": 0,
              "ticks": ""
             }
            },
            "type": "parcoords"
           }
          ],
          "pie": [
           {
            "automargin": true,
            "type": "pie"
           }
          ],
          "scatter": [
           {
            "fillpattern": {
             "fillmode": "overlay",
             "size": 10,
             "solidity": 0.2
            },
            "type": "scatter"
           }
          ],
          "scatter3d": [
           {
            "line": {
             "colorbar": {
              "outlinewidth": 0,
              "ticks": ""
             }
            },
            "marker": {
             "colorbar": {
              "outlinewidth": 0,
              "ticks": ""
             }
            },
            "type": "scatter3d"
           }
          ],
          "scattercarpet": [
           {
            "marker": {
             "colorbar": {
              "outlinewidth": 0,
              "ticks": ""
             }
            },
            "type": "scattercarpet"
           }
          ],
          "scattergeo": [
           {
            "marker": {
             "colorbar": {
              "outlinewidth": 0,
              "ticks": ""
             }
            },
            "type": "scattergeo"
           }
          ],
          "scattergl": [
           {
            "marker": {
             "colorbar": {
              "outlinewidth": 0,
              "ticks": ""
             }
            },
            "type": "scattergl"
           }
          ],
          "scattermapbox": [
           {
            "marker": {
             "colorbar": {
              "outlinewidth": 0,
              "ticks": ""
             }
            },
            "type": "scattermapbox"
           }
          ],
          "scatterpolar": [
           {
            "marker": {
             "colorbar": {
              "outlinewidth": 0,
              "ticks": ""
             }
            },
            "type": "scatterpolar"
           }
          ],
          "scatterpolargl": [
           {
            "marker": {
             "colorbar": {
              "outlinewidth": 0,
              "ticks": ""
             }
            },
            "type": "scatterpolargl"
           }
          ],
          "scatterternary": [
           {
            "marker": {
             "colorbar": {
              "outlinewidth": 0,
              "ticks": ""
             }
            },
            "type": "scatterternary"
           }
          ],
          "surface": [
           {
            "colorbar": {
             "outlinewidth": 0,
             "ticks": ""
            },
            "colorscale": [
             [
              0,
              "#0d0887"
             ],
             [
              0.1111111111111111,
              "#46039f"
             ],
             [
              0.2222222222222222,
              "#7201a8"
             ],
             [
              0.3333333333333333,
              "#9c179e"
             ],
             [
              0.4444444444444444,
              "#bd3786"
             ],
             [
              0.5555555555555556,
              "#d8576b"
             ],
             [
              0.6666666666666666,
              "#ed7953"
             ],
             [
              0.7777777777777778,
              "#fb9f3a"
             ],
             [
              0.8888888888888888,
              "#fdca26"
             ],
             [
              1,
              "#f0f921"
             ]
            ],
            "type": "surface"
           }
          ],
          "table": [
           {
            "cells": {
             "fill": {
              "color": "#EBF0F8"
             },
             "line": {
              "color": "white"
             }
            },
            "header": {
             "fill": {
              "color": "#C8D4E3"
             },
             "line": {
              "color": "white"
             }
            },
            "type": "table"
           }
          ]
         },
         "layout": {
          "annotationdefaults": {
           "arrowcolor": "#2a3f5f",
           "arrowhead": 0,
           "arrowwidth": 1
          },
          "autotypenumbers": "strict",
          "coloraxis": {
           "colorbar": {
            "outlinewidth": 0,
            "ticks": ""
           }
          },
          "colorscale": {
           "diverging": [
            [
             0,
             "#8e0152"
            ],
            [
             0.1,
             "#c51b7d"
            ],
            [
             0.2,
             "#de77ae"
            ],
            [
             0.3,
             "#f1b6da"
            ],
            [
             0.4,
             "#fde0ef"
            ],
            [
             0.5,
             "#f7f7f7"
            ],
            [
             0.6,
             "#e6f5d0"
            ],
            [
             0.7,
             "#b8e186"
            ],
            [
             0.8,
             "#7fbc41"
            ],
            [
             0.9,
             "#4d9221"
            ],
            [
             1,
             "#276419"
            ]
           ],
           "sequential": [
            [
             0,
             "#0d0887"
            ],
            [
             0.1111111111111111,
             "#46039f"
            ],
            [
             0.2222222222222222,
             "#7201a8"
            ],
            [
             0.3333333333333333,
             "#9c179e"
            ],
            [
             0.4444444444444444,
             "#bd3786"
            ],
            [
             0.5555555555555556,
             "#d8576b"
            ],
            [
             0.6666666666666666,
             "#ed7953"
            ],
            [
             0.7777777777777778,
             "#fb9f3a"
            ],
            [
             0.8888888888888888,
             "#fdca26"
            ],
            [
             1,
             "#f0f921"
            ]
           ],
           "sequentialminus": [
            [
             0,
             "#0d0887"
            ],
            [
             0.1111111111111111,
             "#46039f"
            ],
            [
             0.2222222222222222,
             "#7201a8"
            ],
            [
             0.3333333333333333,
             "#9c179e"
            ],
            [
             0.4444444444444444,
             "#bd3786"
            ],
            [
             0.5555555555555556,
             "#d8576b"
            ],
            [
             0.6666666666666666,
             "#ed7953"
            ],
            [
             0.7777777777777778,
             "#fb9f3a"
            ],
            [
             0.8888888888888888,
             "#fdca26"
            ],
            [
             1,
             "#f0f921"
            ]
           ]
          },
          "colorway": [
           "#636efa",
           "#EF553B",
           "#00cc96",
           "#ab63fa",
           "#FFA15A",
           "#19d3f3",
           "#FF6692",
           "#B6E880",
           "#FF97FF",
           "#FECB52"
          ],
          "font": {
           "color": "#2a3f5f"
          },
          "geo": {
           "bgcolor": "white",
           "lakecolor": "white",
           "landcolor": "#E5ECF6",
           "showlakes": true,
           "showland": true,
           "subunitcolor": "white"
          },
          "hoverlabel": {
           "align": "left"
          },
          "hovermode": "closest",
          "mapbox": {
           "style": "light"
          },
          "paper_bgcolor": "white",
          "plot_bgcolor": "#E5ECF6",
          "polar": {
           "angularaxis": {
            "gridcolor": "white",
            "linecolor": "white",
            "ticks": ""
           },
           "bgcolor": "#E5ECF6",
           "radialaxis": {
            "gridcolor": "white",
            "linecolor": "white",
            "ticks": ""
           }
          },
          "scene": {
           "xaxis": {
            "backgroundcolor": "#E5ECF6",
            "gridcolor": "white",
            "gridwidth": 2,
            "linecolor": "white",
            "showbackground": true,
            "ticks": "",
            "zerolinecolor": "white"
           },
           "yaxis": {
            "backgroundcolor": "#E5ECF6",
            "gridcolor": "white",
            "gridwidth": 2,
            "linecolor": "white",
            "showbackground": true,
            "ticks": "",
            "zerolinecolor": "white"
           },
           "zaxis": {
            "backgroundcolor": "#E5ECF6",
            "gridcolor": "white",
            "gridwidth": 2,
            "linecolor": "white",
            "showbackground": true,
            "ticks": "",
            "zerolinecolor": "white"
           }
          },
          "shapedefaults": {
           "line": {
            "color": "#2a3f5f"
           }
          },
          "ternary": {
           "aaxis": {
            "gridcolor": "white",
            "linecolor": "white",
            "ticks": ""
           },
           "baxis": {
            "gridcolor": "white",
            "linecolor": "white",
            "ticks": ""
           },
           "bgcolor": "#E5ECF6",
           "caxis": {
            "gridcolor": "white",
            "linecolor": "white",
            "ticks": ""
           }
          },
          "title": {
           "x": 0.05
          },
          "xaxis": {
           "automargin": true,
           "gridcolor": "white",
           "linecolor": "white",
           "ticks": "",
           "title": {
            "standoff": 15
           },
           "zerolinecolor": "white",
           "zerolinewidth": 2
          },
          "yaxis": {
           "automargin": true,
           "gridcolor": "white",
           "linecolor": "white",
           "ticks": "",
           "title": {
            "standoff": 15
           },
           "zerolinecolor": "white",
           "zerolinewidth": 2
          }
         }
        },
        "xaxis": {
         "anchor": "y",
         "domain": [
          0,
          1
         ],
         "title": {
          "text": "reducer_conv"
         }
        },
        "yaxis": {
         "anchor": "x",
         "domain": [
          0,
          1
         ],
         "title": {
          "text": "fidelity_avg"
         }
        }
       }
      },
      "text/html": [
       "<div>                            <div id=\"2cfb6f53-dbbd-4252-8b56-b45d5b697979\" class=\"plotly-graph-div\" style=\"height:525px; width:100%;\"></div>            <script type=\"text/javascript\">                require([\"plotly\"], function(Plotly) {                    window.PLOTLYENV=window.PLOTLYENV || {};                                    if (document.getElementById(\"2cfb6f53-dbbd-4252-8b56-b45d5b697979\")) {                    Plotly.newPlot(                        \"2cfb6f53-dbbd-4252-8b56-b45d5b697979\",                        [{\"hovertemplate\":\"rank_str=[3, 20, 100]<br>reducer_conv=%{x}<br>fidelity_avg=%{y}<extra></extra>\",\"legendgroup\":\"[3, 20, 100]\",\"marker\":{\"color\":\"#636efa\",\"symbol\":\"circle\"},\"mode\":\"markers\",\"name\":\"[3, 20, 100]\",\"orientation\":\"v\",\"showlegend\":true,\"x\":[0.34716227650642395],\"xaxis\":\"x\",\"y\":[0.58394118243031],\"yaxis\":\"y\",\"type\":\"scatter\"},{\"hovertemplate\":\"rank_str=[6, 20, 100]<br>reducer_conv=%{x}<br>fidelity_avg=%{y}<extra></extra>\",\"legendgroup\":\"[6, 20, 100]\",\"marker\":{\"color\":\"#EF553B\",\"symbol\":\"circle\"},\"mode\":\"markers\",\"name\":\"[6, 20, 100]\",\"orientation\":\"v\",\"showlegend\":true,\"x\":[0.2947548031806946],\"xaxis\":\"x\",\"y\":[0.09665445428572216],\"yaxis\":\"y\",\"type\":\"scatter\"},{\"hovertemplate\":\"rank_str=[10, 20, 100]<br>reducer_conv=%{x}<br>fidelity_avg=%{y}<extra></extra>\",\"legendgroup\":\"[10, 20, 100]\",\"marker\":{\"color\":\"#00cc96\",\"symbol\":\"circle\"},\"mode\":\"markers\",\"name\":\"[10, 20, 100]\",\"orientation\":\"v\",\"showlegend\":true,\"x\":[0.27095142006874084],\"xaxis\":\"x\",\"y\":[0.09376070171949248],\"yaxis\":\"y\",\"type\":\"scatter\"},{\"hovertemplate\":\"rank_str=[3, 30, 100]<br>reducer_conv=%{x}<br>fidelity_avg=%{y}<extra></extra>\",\"legendgroup\":\"[3, 30, 100]\",\"marker\":{\"color\":\"#ab63fa\",\"symbol\":\"circle\"},\"mode\":\"markers\",\"name\":\"[3, 30, 100]\",\"orientation\":\"v\",\"showlegend\":true,\"x\":[0.3168349862098694],\"xaxis\":\"x\",\"y\":[0.5846094054789341],\"yaxis\":\"y\",\"type\":\"scatter\"},{\"hovertemplate\":\"rank_str=[10, 39, 375]<br>reducer_conv=%{x}<br>fidelity_avg=%{y}<extra></extra>\",\"legendgroup\":\"[10, 39, 375]\",\"marker\":{\"color\":\"#FFA15A\",\"symbol\":\"circle\"},\"mode\":\"markers\",\"name\":\"[10, 39, 375]\",\"orientation\":\"v\",\"showlegend\":true,\"x\":[0.27814602851867676],\"xaxis\":\"x\",\"y\":[0.0860443760854879],\"yaxis\":\"y\",\"type\":\"scatter\"},{\"hovertemplate\":\"rank_str=[6, 30, 100]<br>reducer_conv=%{x}<br>fidelity_avg=%{y}<extra></extra>\",\"legendgroup\":\"[6, 30, 100]\",\"marker\":{\"color\":\"#19d3f3\",\"symbol\":\"circle\"},\"mode\":\"markers\",\"name\":\"[6, 30, 100]\",\"orientation\":\"v\",\"showlegend\":true,\"x\":[0.2917281687259674],\"xaxis\":\"x\",\"y\":[0.09902413895222492],\"yaxis\":\"y\",\"type\":\"scatter\"},{\"hovertemplate\":\"rank_str=[10, 30, 100]<br>reducer_conv=%{x}<br>fidelity_avg=%{y}<extra></extra>\",\"legendgroup\":\"[10, 30, 100]\",\"marker\":{\"color\":\"#FF6692\",\"symbol\":\"circle\"},\"mode\":\"markers\",\"name\":\"[10, 30, 100]\",\"orientation\":\"v\",\"showlegend\":true,\"x\":[0.2721397578716278],\"xaxis\":\"x\",\"y\":[0.09871784661994959],\"yaxis\":\"y\",\"type\":\"scatter\"},{\"hovertemplate\":\"rank_str=[8, 39, 375]<br>reducer_conv=%{x}<br>fidelity_avg=%{y}<extra></extra>\",\"legendgroup\":\"[8, 39, 375]\",\"marker\":{\"color\":\"#B6E880\",\"symbol\":\"circle\"},\"mode\":\"markers\",\"name\":\"[8, 39, 375]\",\"orientation\":\"v\",\"showlegend\":true,\"x\":[0.27753356099128723],\"xaxis\":\"x\",\"y\":[0.09703009889645425],\"yaxis\":\"y\",\"type\":\"scatter\"},{\"hovertemplate\":\"rank_str=[3, 2, 3, 20]<br>reducer_conv=%{x}<br>fidelity_avg=%{y}<extra></extra>\",\"legendgroup\":\"[3, 2, 3, 20]\",\"marker\":{\"color\":\"#FF97FF\",\"symbol\":\"circle\"},\"mode\":\"markers\",\"name\":\"[3, 2, 3, 20]\",\"orientation\":\"v\",\"showlegend\":true,\"x\":[0.7260661721229553],\"xaxis\":\"x\",\"y\":[0.6408704804808647],\"yaxis\":\"y\",\"type\":\"scatter\"},{\"hovertemplate\":\"rank_str=[6, 2, 3, 20]<br>reducer_conv=%{x}<br>fidelity_avg=%{y}<extra></extra>\",\"legendgroup\":\"[6, 2, 3, 20]\",\"marker\":{\"color\":\"#FECB52\",\"symbol\":\"circle\"},\"mode\":\"markers\",\"name\":\"[6, 2, 3, 20]\",\"orientation\":\"v\",\"showlegend\":true,\"x\":[0.7347173094749451],\"xaxis\":\"x\",\"y\":[0.20053127073427535],\"yaxis\":\"y\",\"type\":\"scatter\"},{\"hovertemplate\":\"rank_str=[10, 2, 3, 20]<br>reducer_conv=%{x}<br>fidelity_avg=%{y}<extra></extra>\",\"legendgroup\":\"[10, 2, 3, 20]\",\"marker\":{\"color\":\"#636efa\",\"symbol\":\"circle\"},\"mode\":\"markers\",\"name\":\"[10, 2, 3, 20]\",\"orientation\":\"v\",\"showlegend\":true,\"x\":[0.7606574892997742],\"xaxis\":\"x\",\"y\":[0.19860494738766066],\"yaxis\":\"y\",\"type\":\"scatter\"},{\"hovertemplate\":\"rank_str=[3, 2, 3, 25]<br>reducer_conv=%{x}<br>fidelity_avg=%{y}<extra></extra>\",\"legendgroup\":\"[3, 2, 3, 25]\",\"marker\":{\"color\":\"#EF553B\",\"symbol\":\"circle\"},\"mode\":\"markers\",\"name\":\"[3, 2, 3, 25]\",\"orientation\":\"v\",\"showlegend\":true,\"x\":[0.7757329344749451],\"xaxis\":\"x\",\"y\":[0.1668278927072614],\"yaxis\":\"y\",\"type\":\"scatter\"},{\"hovertemplate\":\"rank_str=[6, 2, 3, 25]<br>reducer_conv=%{x}<br>fidelity_avg=%{y}<extra></extra>\",\"legendgroup\":\"[6, 2, 3, 25]\",\"marker\":{\"color\":\"#00cc96\",\"symbol\":\"circle\"},\"mode\":\"markers\",\"name\":\"[6, 2, 3, 25]\",\"orientation\":\"v\",\"showlegend\":true,\"x\":[0.7155908942222595],\"xaxis\":\"x\",\"y\":[0.17512862443368366],\"yaxis\":\"y\",\"type\":\"scatter\"},{\"hovertemplate\":\"rank_str=[10, 2, 3, 25]<br>reducer_conv=%{x}<br>fidelity_avg=%{y}<extra></extra>\",\"legendgroup\":\"[10, 2, 3, 25]\",\"marker\":{\"color\":\"#ab63fa\",\"symbol\":\"circle\"},\"mode\":\"markers\",\"name\":\"[10, 2, 3, 25]\",\"orientation\":\"v\",\"showlegend\":true,\"x\":[0.7275364995002747],\"xaxis\":\"x\",\"y\":[0.1820107129576399],\"yaxis\":\"y\",\"type\":\"scatter\"},{\"hovertemplate\":\"rank_str=[6, 39, 375]<br>reducer_conv=%{x}<br>fidelity_avg=%{y}<extra></extra>\",\"legendgroup\":\"[6, 39, 375]\",\"marker\":{\"color\":\"#FFA15A\",\"symbol\":\"circle\"},\"mode\":\"markers\",\"name\":\"[6, 39, 375]\",\"orientation\":\"v\",\"showlegend\":true,\"x\":[0.2776632308959961],\"xaxis\":\"x\",\"y\":[0.09692880455391246],\"yaxis\":\"y\",\"type\":\"scatter\"},{\"hovertemplate\":\"rank_str=[3, 39, 375]<br>reducer_conv=%{x}<br>fidelity_avg=%{y}<extra></extra>\",\"legendgroup\":\"[3, 39, 375]\",\"marker\":{\"color\":\"#19d3f3\",\"symbol\":\"circle\"},\"mode\":\"markers\",\"name\":\"[3, 39, 375]\",\"orientation\":\"v\",\"showlegend\":true,\"x\":[0.3164854645729065],\"xaxis\":\"x\",\"y\":[0.585120166996496],\"yaxis\":\"y\",\"type\":\"scatter\"},{\"hovertemplate\":\"rank_str=[3, 13, 3, 20]<br>reducer_conv=%{x}<br>fidelity_avg=%{y}<extra></extra>\",\"legendgroup\":\"[3, 13, 3, 20]\",\"marker\":{\"color\":\"#FF6692\",\"symbol\":\"circle\"},\"mode\":\"markers\",\"name\":\"[3, 13, 3, 20]\",\"orientation\":\"v\",\"showlegend\":true,\"x\":[0.33161914348602295],\"xaxis\":\"x\",\"y\":[0.5919548772191663],\"yaxis\":\"y\",\"type\":\"scatter\"},{\"hovertemplate\":\"rank_str=[6, 13, 3, 20]<br>reducer_conv=%{x}<br>fidelity_avg=%{y}<extra></extra>\",\"legendgroup\":\"[6, 13, 3, 20]\",\"marker\":{\"color\":\"#B6E880\",\"symbol\":\"circle\"},\"mode\":\"markers\",\"name\":\"[6, 13, 3, 20]\",\"orientation\":\"v\",\"showlegend\":true,\"x\":[0.3093806505203247],\"xaxis\":\"x\",\"y\":[0.5979028304626408],\"yaxis\":\"y\",\"type\":\"scatter\"},{\"hovertemplate\":\"rank_str=[3, 13, 3, 200]<br>reducer_conv=%{x}<br>fidelity_avg=%{y}<extra></extra>\",\"legendgroup\":\"[3, 13, 3, 200]\",\"marker\":{\"color\":\"#FF97FF\",\"symbol\":\"circle\"},\"mode\":\"markers\",\"name\":\"[3, 13, 3, 200]\",\"orientation\":\"v\",\"showlegend\":true,\"x\":[0.31719717383384705],\"xaxis\":\"x\",\"y\":[0.5850495245390427],\"yaxis\":\"y\",\"type\":\"scatter\"},{\"hovertemplate\":\"rank_str=[6, 13, 3, 200]<br>reducer_conv=%{x}<br>fidelity_avg=%{y}<extra></extra>\",\"legendgroup\":\"[6, 13, 3, 200]\",\"marker\":{\"color\":\"#FECB52\",\"symbol\":\"circle\"},\"mode\":\"markers\",\"name\":\"[6, 13, 3, 200]\",\"orientation\":\"v\",\"showlegend\":true,\"x\":[0.2877291738986969],\"xaxis\":\"x\",\"y\":[0.5075664313129746],\"yaxis\":\"y\",\"type\":\"scatter\"},{\"hovertemplate\":\"rank_str=[10, 13, 3, 200]<br>reducer_conv=%{x}<br>fidelity_avg=%{y}<extra></extra>\",\"legendgroup\":\"[10, 13, 3, 200]\",\"marker\":{\"color\":\"#636efa\",\"symbol\":\"circle\"},\"mode\":\"markers\",\"name\":\"[10, 13, 3, 200]\",\"orientation\":\"v\",\"showlegend\":true,\"x\":[0.26251286268234253],\"xaxis\":\"x\",\"y\":[0.08702579430640703],\"yaxis\":\"y\",\"type\":\"scatter\"},{\"hovertemplate\":\"rank_str=[8, 13, 3, 200]<br>reducer_conv=%{x}<br>fidelity_avg=%{y}<extra></extra>\",\"legendgroup\":\"[8, 13, 3, 200]\",\"marker\":{\"color\":\"#EF553B\",\"symbol\":\"circle\"},\"mode\":\"markers\",\"name\":\"[8, 13, 3, 200]\",\"orientation\":\"v\",\"showlegend\":true,\"x\":[0.27511516213417053],\"xaxis\":\"x\",\"y\":[0.09694127734073543],\"yaxis\":\"y\",\"type\":\"scatter\"},{\"hovertemplate\":\"rank_str=[3, 13, 3, 375]<br>reducer_conv=%{x}<br>fidelity_avg=%{y}<extra></extra>\",\"legendgroup\":\"[3, 13, 3, 375]\",\"marker\":{\"color\":\"#00cc96\",\"symbol\":\"circle\"},\"mode\":\"markers\",\"name\":\"[3, 13, 3, 375]\",\"orientation\":\"v\",\"showlegend\":true,\"x\":[0.34308868646621704],\"xaxis\":\"x\",\"y\":[0.5808477739190705],\"yaxis\":\"y\",\"type\":\"scatter\"},{\"hovertemplate\":\"rank_str=[6, 13, 3, 375]<br>reducer_conv=%{x}<br>fidelity_avg=%{y}<extra></extra>\",\"legendgroup\":\"[6, 13, 3, 375]\",\"marker\":{\"color\":\"#ab63fa\",\"symbol\":\"circle\"},\"mode\":\"markers\",\"name\":\"[6, 13, 3, 375]\",\"orientation\":\"v\",\"showlegend\":true,\"x\":[0.289480984210968],\"xaxis\":\"x\",\"y\":[0.09901927217048578],\"yaxis\":\"y\",\"type\":\"scatter\"},{\"hovertemplate\":\"rank_str=[10, 13, 3, 375]<br>reducer_conv=%{x}<br>fidelity_avg=%{y}<extra></extra>\",\"legendgroup\":\"[10, 13, 3, 375]\",\"marker\":{\"color\":\"#FFA15A\",\"symbol\":\"circle\"},\"mode\":\"markers\",\"name\":\"[10, 13, 3, 375]\",\"orientation\":\"v\",\"showlegend\":true,\"x\":[0.26811668276786804],\"xaxis\":\"x\",\"y\":[0.10041255413156824],\"yaxis\":\"y\",\"type\":\"scatter\"},{\"hovertemplate\":\"rank_str=[8, 13, 3, 375]<br>reducer_conv=%{x}<br>fidelity_avg=%{y}<extra></extra>\",\"legendgroup\":\"[8, 13, 3, 375]\",\"marker\":{\"color\":\"#19d3f3\",\"symbol\":\"circle\"},\"mode\":\"markers\",\"name\":\"[8, 13, 3, 375]\",\"orientation\":\"v\",\"showlegend\":true,\"x\":[0.26863765716552734],\"xaxis\":\"x\",\"y\":[0.09618223830764902],\"yaxis\":\"y\",\"type\":\"scatter\"},{\"hovertemplate\":\"rank_str=[3, 3, 2, 25]<br>reducer_conv=%{x}<br>fidelity_avg=%{y}<extra></extra>\",\"legendgroup\":\"[3, 3, 2, 25]\",\"marker\":{\"color\":\"#FF6692\",\"symbol\":\"circle\"},\"mode\":\"markers\",\"name\":\"[3, 3, 2, 25]\",\"orientation\":\"v\",\"showlegend\":true,\"x\":[0.6930986046791077],\"xaxis\":\"x\",\"y\":[0.6589548245891538],\"yaxis\":\"y\",\"type\":\"scatter\"},{\"hovertemplate\":\"rank_str=[3, 5, 3, 25]<br>reducer_conv=%{x}<br>fidelity_avg=%{y}<extra></extra>\",\"legendgroup\":\"[3, 5, 3, 25]\",\"marker\":{\"color\":\"#B6E880\",\"symbol\":\"circle\"},\"mode\":\"markers\",\"name\":\"[3, 5, 3, 25]\",\"orientation\":\"v\",\"showlegend\":true,\"x\":[0.5075910091400146],\"xaxis\":\"x\",\"y\":[0.6381737275622825],\"yaxis\":\"y\",\"type\":\"scatter\"},{\"hovertemplate\":\"rank_str=[3, 13, 3, 25]<br>reducer_conv=%{x}<br>fidelity_avg=%{y}<extra></extra>\",\"legendgroup\":\"[3, 13, 3, 25]\",\"marker\":{\"color\":\"#FF97FF\",\"symbol\":\"circle\"},\"mode\":\"markers\",\"name\":\"[3, 13, 3, 25]\",\"orientation\":\"v\",\"showlegend\":true,\"x\":[0.32443538308143616],\"xaxis\":\"x\",\"y\":[0.5901702405936582],\"yaxis\":\"y\",\"type\":\"scatter\"},{\"hovertemplate\":\"rank_str=[6, 13, 3, 25]<br>reducer_conv=%{x}<br>fidelity_avg=%{y}<extra></extra>\",\"legendgroup\":\"[6, 13, 3, 25]\",\"marker\":{\"color\":\"#FECB52\",\"symbol\":\"circle\"},\"mode\":\"markers\",\"name\":\"[6, 13, 3, 25]\",\"orientation\":\"v\",\"showlegend\":true,\"x\":[0.29883381724357605],\"xaxis\":\"x\",\"y\":[0.5896976675177199],\"yaxis\":\"y\",\"type\":\"scatter\"}],                        {\"template\":{\"data\":{\"histogram2dcontour\":[{\"type\":\"histogram2dcontour\",\"colorbar\":{\"outlinewidth\":0,\"ticks\":\"\"},\"colorscale\":[[0.0,\"#0d0887\"],[0.1111111111111111,\"#46039f\"],[0.2222222222222222,\"#7201a8\"],[0.3333333333333333,\"#9c179e\"],[0.4444444444444444,\"#bd3786\"],[0.5555555555555556,\"#d8576b\"],[0.6666666666666666,\"#ed7953\"],[0.7777777777777778,\"#fb9f3a\"],[0.8888888888888888,\"#fdca26\"],[1.0,\"#f0f921\"]]}],\"choropleth\":[{\"type\":\"choropleth\",\"colorbar\":{\"outlinewidth\":0,\"ticks\":\"\"}}],\"histogram2d\":[{\"type\":\"histogram2d\",\"colorbar\":{\"outlinewidth\":0,\"ticks\":\"\"},\"colorscale\":[[0.0,\"#0d0887\"],[0.1111111111111111,\"#46039f\"],[0.2222222222222222,\"#7201a8\"],[0.3333333333333333,\"#9c179e\"],[0.4444444444444444,\"#bd3786\"],[0.5555555555555556,\"#d8576b\"],[0.6666666666666666,\"#ed7953\"],[0.7777777777777778,\"#fb9f3a\"],[0.8888888888888888,\"#fdca26\"],[1.0,\"#f0f921\"]]}],\"heatmap\":[{\"type\":\"heatmap\",\"colorbar\":{\"outlinewidth\":0,\"ticks\":\"\"},\"colorscale\":[[0.0,\"#0d0887\"],[0.1111111111111111,\"#46039f\"],[0.2222222222222222,\"#7201a8\"],[0.3333333333333333,\"#9c179e\"],[0.4444444444444444,\"#bd3786\"],[0.5555555555555556,\"#d8576b\"],[0.6666666666666666,\"#ed7953\"],[0.7777777777777778,\"#fb9f3a\"],[0.8888888888888888,\"#fdca26\"],[1.0,\"#f0f921\"]]}],\"heatmapgl\":[{\"type\":\"heatmapgl\",\"colorbar\":{\"outlinewidth\":0,\"ticks\":\"\"},\"colorscale\":[[0.0,\"#0d0887\"],[0.1111111111111111,\"#46039f\"],[0.2222222222222222,\"#7201a8\"],[0.3333333333333333,\"#9c179e\"],[0.4444444444444444,\"#bd3786\"],[0.5555555555555556,\"#d8576b\"],[0.6666666666666666,\"#ed7953\"],[0.7777777777777778,\"#fb9f3a\"],[0.8888888888888888,\"#fdca26\"],[1.0,\"#f0f921\"]]}],\"contourcarpet\":[{\"type\":\"contourcarpet\",\"colorbar\":{\"outlinewidth\":0,\"ticks\":\"\"}}],\"contour\":[{\"type\":\"contour\",\"colorbar\":{\"outlinewidth\":0,\"ticks\":\"\"},\"colorscale\":[[0.0,\"#0d0887\"],[0.1111111111111111,\"#46039f\"],[0.2222222222222222,\"#7201a8\"],[0.3333333333333333,\"#9c179e\"],[0.4444444444444444,\"#bd3786\"],[0.5555555555555556,\"#d8576b\"],[0.6666666666666666,\"#ed7953\"],[0.7777777777777778,\"#fb9f3a\"],[0.8888888888888888,\"#fdca26\"],[1.0,\"#f0f921\"]]}],\"surface\":[{\"type\":\"surface\",\"colorbar\":{\"outlinewidth\":0,\"ticks\":\"\"},\"colorscale\":[[0.0,\"#0d0887\"],[0.1111111111111111,\"#46039f\"],[0.2222222222222222,\"#7201a8\"],[0.3333333333333333,\"#9c179e\"],[0.4444444444444444,\"#bd3786\"],[0.5555555555555556,\"#d8576b\"],[0.6666666666666666,\"#ed7953\"],[0.7777777777777778,\"#fb9f3a\"],[0.8888888888888888,\"#fdca26\"],[1.0,\"#f0f921\"]]}],\"mesh3d\":[{\"type\":\"mesh3d\",\"colorbar\":{\"outlinewidth\":0,\"ticks\":\"\"}}],\"scatter\":[{\"fillpattern\":{\"fillmode\":\"overlay\",\"size\":10,\"solidity\":0.2},\"type\":\"scatter\"}],\"parcoords\":[{\"type\":\"parcoords\",\"line\":{\"colorbar\":{\"outlinewidth\":0,\"ticks\":\"\"}}}],\"scatterpolargl\":[{\"type\":\"scatterpolargl\",\"marker\":{\"colorbar\":{\"outlinewidth\":0,\"ticks\":\"\"}}}],\"bar\":[{\"error_x\":{\"color\":\"#2a3f5f\"},\"error_y\":{\"color\":\"#2a3f5f\"},\"marker\":{\"line\":{\"color\":\"#E5ECF6\",\"width\":0.5},\"pattern\":{\"fillmode\":\"overlay\",\"size\":10,\"solidity\":0.2}},\"type\":\"bar\"}],\"scattergeo\":[{\"type\":\"scattergeo\",\"marker\":{\"colorbar\":{\"outlinewidth\":0,\"ticks\":\"\"}}}],\"scatterpolar\":[{\"type\":\"scatterpolar\",\"marker\":{\"colorbar\":{\"outlinewidth\":0,\"ticks\":\"\"}}}],\"histogram\":[{\"marker\":{\"pattern\":{\"fillmode\":\"overlay\",\"size\":10,\"solidity\":0.2}},\"type\":\"histogram\"}],\"scattergl\":[{\"type\":\"scattergl\",\"marker\":{\"colorbar\":{\"outlinewidth\":0,\"ticks\":\"\"}}}],\"scatter3d\":[{\"type\":\"scatter3d\",\"line\":{\"colorbar\":{\"outlinewidth\":0,\"ticks\":\"\"}},\"marker\":{\"colorbar\":{\"outlinewidth\":0,\"ticks\":\"\"}}}],\"scattermapbox\":[{\"type\":\"scattermapbox\",\"marker\":{\"colorbar\":{\"outlinewidth\":0,\"ticks\":\"\"}}}],\"scatterternary\":[{\"type\":\"scatterternary\",\"marker\":{\"colorbar\":{\"outlinewidth\":0,\"ticks\":\"\"}}}],\"scattercarpet\":[{\"type\":\"scattercarpet\",\"marker\":{\"colorbar\":{\"outlinewidth\":0,\"ticks\":\"\"}}}],\"carpet\":[{\"aaxis\":{\"endlinecolor\":\"#2a3f5f\",\"gridcolor\":\"white\",\"linecolor\":\"white\",\"minorgridcolor\":\"white\",\"startlinecolor\":\"#2a3f5f\"},\"baxis\":{\"endlinecolor\":\"#2a3f5f\",\"gridcolor\":\"white\",\"linecolor\":\"white\",\"minorgridcolor\":\"white\",\"startlinecolor\":\"#2a3f5f\"},\"type\":\"carpet\"}],\"table\":[{\"cells\":{\"fill\":{\"color\":\"#EBF0F8\"},\"line\":{\"color\":\"white\"}},\"header\":{\"fill\":{\"color\":\"#C8D4E3\"},\"line\":{\"color\":\"white\"}},\"type\":\"table\"}],\"barpolar\":[{\"marker\":{\"line\":{\"color\":\"#E5ECF6\",\"width\":0.5},\"pattern\":{\"fillmode\":\"overlay\",\"size\":10,\"solidity\":0.2}},\"type\":\"barpolar\"}],\"pie\":[{\"automargin\":true,\"type\":\"pie\"}]},\"layout\":{\"autotypenumbers\":\"strict\",\"colorway\":[\"#636efa\",\"#EF553B\",\"#00cc96\",\"#ab63fa\",\"#FFA15A\",\"#19d3f3\",\"#FF6692\",\"#B6E880\",\"#FF97FF\",\"#FECB52\"],\"font\":{\"color\":\"#2a3f5f\"},\"hovermode\":\"closest\",\"hoverlabel\":{\"align\":\"left\"},\"paper_bgcolor\":\"white\",\"plot_bgcolor\":\"#E5ECF6\",\"polar\":{\"bgcolor\":\"#E5ECF6\",\"angularaxis\":{\"gridcolor\":\"white\",\"linecolor\":\"white\",\"ticks\":\"\"},\"radialaxis\":{\"gridcolor\":\"white\",\"linecolor\":\"white\",\"ticks\":\"\"}},\"ternary\":{\"bgcolor\":\"#E5ECF6\",\"aaxis\":{\"gridcolor\":\"white\",\"linecolor\":\"white\",\"ticks\":\"\"},\"baxis\":{\"gridcolor\":\"white\",\"linecolor\":\"white\",\"ticks\":\"\"},\"caxis\":{\"gridcolor\":\"white\",\"linecolor\":\"white\",\"ticks\":\"\"}},\"coloraxis\":{\"colorbar\":{\"outlinewidth\":0,\"ticks\":\"\"}},\"colorscale\":{\"sequential\":[[0.0,\"#0d0887\"],[0.1111111111111111,\"#46039f\"],[0.2222222222222222,\"#7201a8\"],[0.3333333333333333,\"#9c179e\"],[0.4444444444444444,\"#bd3786\"],[0.5555555555555556,\"#d8576b\"],[0.6666666666666666,\"#ed7953\"],[0.7777777777777778,\"#fb9f3a\"],[0.8888888888888888,\"#fdca26\"],[1.0,\"#f0f921\"]],\"sequentialminus\":[[0.0,\"#0d0887\"],[0.1111111111111111,\"#46039f\"],[0.2222222222222222,\"#7201a8\"],[0.3333333333333333,\"#9c179e\"],[0.4444444444444444,\"#bd3786\"],[0.5555555555555556,\"#d8576b\"],[0.6666666666666666,\"#ed7953\"],[0.7777777777777778,\"#fb9f3a\"],[0.8888888888888888,\"#fdca26\"],[1.0,\"#f0f921\"]],\"diverging\":[[0,\"#8e0152\"],[0.1,\"#c51b7d\"],[0.2,\"#de77ae\"],[0.3,\"#f1b6da\"],[0.4,\"#fde0ef\"],[0.5,\"#f7f7f7\"],[0.6,\"#e6f5d0\"],[0.7,\"#b8e186\"],[0.8,\"#7fbc41\"],[0.9,\"#4d9221\"],[1,\"#276419\"]]},\"xaxis\":{\"gridcolor\":\"white\",\"linecolor\":\"white\",\"ticks\":\"\",\"title\":{\"standoff\":15},\"zerolinecolor\":\"white\",\"automargin\":true,\"zerolinewidth\":2},\"yaxis\":{\"gridcolor\":\"white\",\"linecolor\":\"white\",\"ticks\":\"\",\"title\":{\"standoff\":15},\"zerolinecolor\":\"white\",\"automargin\":true,\"zerolinewidth\":2},\"scene\":{\"xaxis\":{\"backgroundcolor\":\"#E5ECF6\",\"gridcolor\":\"white\",\"linecolor\":\"white\",\"showbackground\":true,\"ticks\":\"\",\"zerolinecolor\":\"white\",\"gridwidth\":2},\"yaxis\":{\"backgroundcolor\":\"#E5ECF6\",\"gridcolor\":\"white\",\"linecolor\":\"white\",\"showbackground\":true,\"ticks\":\"\",\"zerolinecolor\":\"white\",\"gridwidth\":2},\"zaxis\":{\"backgroundcolor\":\"#E5ECF6\",\"gridcolor\":\"white\",\"linecolor\":\"white\",\"showbackground\":true,\"ticks\":\"\",\"zerolinecolor\":\"white\",\"gridwidth\":2}},\"shapedefaults\":{\"line\":{\"color\":\"#2a3f5f\"}},\"annotationdefaults\":{\"arrowcolor\":\"#2a3f5f\",\"arrowhead\":0,\"arrowwidth\":1},\"geo\":{\"bgcolor\":\"white\",\"landcolor\":\"#E5ECF6\",\"subunitcolor\":\"white\",\"showland\":true,\"showlakes\":true,\"lakecolor\":\"white\"},\"title\":{\"x\":0.05},\"mapbox\":{\"style\":\"light\"}}},\"xaxis\":{\"anchor\":\"y\",\"domain\":[0.0,1.0],\"title\":{\"text\":\"reducer_conv\"}},\"yaxis\":{\"anchor\":\"x\",\"domain\":[0.0,1.0],\"title\":{\"text\":\"fidelity_avg\"}},\"legend\":{\"title\":{\"text\":\"rank_str\"},\"tracegroupgap\":0},\"margin\":{\"t\":60}},                        {\"responsive\": true}                    ).then(function(){\n",
       "                            \n",
       "var gd = document.getElementById('2cfb6f53-dbbd-4252-8b56-b45d5b697979');\n",
       "var x = new MutationObserver(function (mutations, observer) {{\n",
       "        var display = window.getComputedStyle(gd).display;\n",
       "        if (!display || display === 'none') {{\n",
       "            console.log([gd, 'removed!']);\n",
       "            Plotly.purge(gd);\n",
       "            observer.disconnect();\n",
       "        }}\n",
       "}});\n",
       "\n",
       "// Listen for the removal of the full notebook cells\n",
       "var notebookContainer = gd.closest('#notebook-container');\n",
       "if (notebookContainer) {{\n",
       "    x.observe(notebookContainer, {childList: true});\n",
       "}}\n",
       "\n",
       "// Listen for the clearing of the current output cell\n",
       "var outputEl = gd.closest('.output');\n",
       "if (outputEl) {{\n",
       "    x.observe(outputEl, {childList: true});\n",
       "}}\n",
       "\n",
       "                        })                };                });            </script>        </div>"
      ]
     },
     "metadata": {},
     "output_type": "display_data"
    }
   ],
   "source": [
    "ntd_df = df[df.reducer == \"NTD\"]\n",
    "px.scatter(ntd_df, x= 'reducer_conv', y='fidelity_avg', color='rank_str')"
   ]
  },
  {
   "cell_type": "code",
   "execution_count": 45,
   "metadata": {},
   "outputs": [
    {
     "data": {
      "application/vnd.plotly.v1+json": {
       "config": {
        "plotlyServerURL": "https://plot.ly"
       },
       "data": [
        {
         "hovertemplate": "rank_str=3<br>corr_dimension=%{x}<br>fidelity_avg=%{y}<extra></extra>",
         "legendgroup": "3",
         "marker": {
          "color": "#636efa",
          "symbol": "circle"
         },
         "mode": "markers",
         "name": "3",
         "orientation": "v",
         "showlegend": true,
         "type": "scatter",
         "x": [
          "2"
         ],
         "xaxis": "x",
         "y": [
          0.5803603240460522
         ],
         "yaxis": "y"
        },
        {
         "hovertemplate": "rank_str=6<br>corr_dimension=%{x}<br>fidelity_avg=%{y}<extra></extra>",
         "legendgroup": "6",
         "marker": {
          "color": "#EF553B",
          "symbol": "circle"
         },
         "mode": "markers",
         "name": "6",
         "orientation": "v",
         "showlegend": true,
         "type": "scatter",
         "x": [
          "2"
         ],
         "xaxis": "x",
         "y": [
          0.09799152658093035
         ],
         "yaxis": "y"
        },
        {
         "hovertemplate": "rank_str=10<br>corr_dimension=%{x}<br>fidelity_avg=%{y}<extra></extra>",
         "legendgroup": "10",
         "marker": {
          "color": "#00cc96",
          "symbol": "circle"
         },
         "mode": "markers",
         "name": "10",
         "orientation": "v",
         "showlegend": true,
         "type": "scatter",
         "x": [
          "2"
         ],
         "xaxis": "x",
         "y": [
          0.09254165786844085
         ],
         "yaxis": "y"
        },
        {
         "hovertemplate": "rank_str=8<br>corr_dimension=%{x}<br>fidelity_avg=%{y}<extra></extra>",
         "legendgroup": "8",
         "marker": {
          "color": "#ab63fa",
          "symbol": "circle"
         },
         "mode": "markers",
         "name": "8",
         "orientation": "v",
         "showlegend": true,
         "type": "scatter",
         "x": [
          "2"
         ],
         "xaxis": "x",
         "y": [
          0.089265822876787
         ],
         "yaxis": "y"
        },
        {
         "hovertemplate": "rank_str=12<br>corr_dimension=%{x}<br>fidelity_avg=%{y}<extra></extra>",
         "legendgroup": "12",
         "marker": {
          "color": "#FFA15A",
          "symbol": "circle"
         },
         "mode": "markers",
         "name": "12",
         "orientation": "v",
         "showlegend": true,
         "type": "scatter",
         "x": [
          "2"
         ],
         "xaxis": "x",
         "y": [
          0.09049901277090067
         ],
         "yaxis": "y"
        },
        {
         "hovertemplate": "rank_str=[3, 20, 100]<br>corr_dimension=%{x}<br>fidelity_avg=%{y}<extra></extra>",
         "legendgroup": "[3, 20, 100]",
         "marker": {
          "color": "#19d3f3",
          "symbol": "circle"
         },
         "mode": "markers",
         "name": "[3, 20, 100]",
         "orientation": "v",
         "showlegend": true,
         "type": "scatter",
         "x": [
          "3"
         ],
         "xaxis": "x",
         "y": [
          0.58394118243031
         ],
         "yaxis": "y"
        },
        {
         "hovertemplate": "rank_str=[6, 20, 100]<br>corr_dimension=%{x}<br>fidelity_avg=%{y}<extra></extra>",
         "legendgroup": "[6, 20, 100]",
         "marker": {
          "color": "#FF6692",
          "symbol": "circle"
         },
         "mode": "markers",
         "name": "[6, 20, 100]",
         "orientation": "v",
         "showlegend": true,
         "type": "scatter",
         "x": [
          "3"
         ],
         "xaxis": "x",
         "y": [
          0.09665445428572216
         ],
         "yaxis": "y"
        },
        {
         "hovertemplate": "rank_str=[10, 20, 100]<br>corr_dimension=%{x}<br>fidelity_avg=%{y}<extra></extra>",
         "legendgroup": "[10, 20, 100]",
         "marker": {
          "color": "#B6E880",
          "symbol": "circle"
         },
         "mode": "markers",
         "name": "[10, 20, 100]",
         "orientation": "v",
         "showlegend": true,
         "type": "scatter",
         "x": [
          "3"
         ],
         "xaxis": "x",
         "y": [
          0.09376070171949248
         ],
         "yaxis": "y"
        },
        {
         "hovertemplate": "rank_str=[3, 30, 100]<br>corr_dimension=%{x}<br>fidelity_avg=%{y}<extra></extra>",
         "legendgroup": "[3, 30, 100]",
         "marker": {
          "color": "#FF97FF",
          "symbol": "circle"
         },
         "mode": "markers",
         "name": "[3, 30, 100]",
         "orientation": "v",
         "showlegend": true,
         "type": "scatter",
         "x": [
          "3"
         ],
         "xaxis": "x",
         "y": [
          0.5846094054789341
         ],
         "yaxis": "y"
        },
        {
         "hovertemplate": "rank_str=[10, 39, 375]<br>corr_dimension=%{x}<br>fidelity_avg=%{y}<extra></extra>",
         "legendgroup": "[10, 39, 375]",
         "marker": {
          "color": "#FECB52",
          "symbol": "circle"
         },
         "mode": "markers",
         "name": "[10, 39, 375]",
         "orientation": "v",
         "showlegend": true,
         "type": "scatter",
         "x": [
          "3"
         ],
         "xaxis": "x",
         "y": [
          0.0860443760854879
         ],
         "yaxis": "y"
        },
        {
         "hovertemplate": "rank_str=[6, 30, 100]<br>corr_dimension=%{x}<br>fidelity_avg=%{y}<extra></extra>",
         "legendgroup": "[6, 30, 100]",
         "marker": {
          "color": "#636efa",
          "symbol": "circle"
         },
         "mode": "markers",
         "name": "[6, 30, 100]",
         "orientation": "v",
         "showlegend": true,
         "type": "scatter",
         "x": [
          "3"
         ],
         "xaxis": "x",
         "y": [
          0.09902413895222492
         ],
         "yaxis": "y"
        },
        {
         "hovertemplate": "rank_str=[10, 30, 100]<br>corr_dimension=%{x}<br>fidelity_avg=%{y}<extra></extra>",
         "legendgroup": "[10, 30, 100]",
         "marker": {
          "color": "#EF553B",
          "symbol": "circle"
         },
         "mode": "markers",
         "name": "[10, 30, 100]",
         "orientation": "v",
         "showlegend": true,
         "type": "scatter",
         "x": [
          "3"
         ],
         "xaxis": "x",
         "y": [
          0.09871784661994959
         ],
         "yaxis": "y"
        },
        {
         "hovertemplate": "rank_str=[8, 39, 375]<br>corr_dimension=%{x}<br>fidelity_avg=%{y}<extra></extra>",
         "legendgroup": "[8, 39, 375]",
         "marker": {
          "color": "#00cc96",
          "symbol": "circle"
         },
         "mode": "markers",
         "name": "[8, 39, 375]",
         "orientation": "v",
         "showlegend": true,
         "type": "scatter",
         "x": [
          "3"
         ],
         "xaxis": "x",
         "y": [
          0.09703009889645425
         ],
         "yaxis": "y"
        },
        {
         "hovertemplate": "rank_str=[3, 2, 3, 20]<br>corr_dimension=%{x}<br>fidelity_avg=%{y}<extra></extra>",
         "legendgroup": "[3, 2, 3, 20]",
         "marker": {
          "color": "#ab63fa",
          "symbol": "circle"
         },
         "mode": "markers",
         "name": "[3, 2, 3, 20]",
         "orientation": "v",
         "showlegend": true,
         "type": "scatter",
         "x": [
          "4"
         ],
         "xaxis": "x",
         "y": [
          0.6408704804808647
         ],
         "yaxis": "y"
        },
        {
         "hovertemplate": "rank_str=[6, 2, 3, 20]<br>corr_dimension=%{x}<br>fidelity_avg=%{y}<extra></extra>",
         "legendgroup": "[6, 2, 3, 20]",
         "marker": {
          "color": "#FFA15A",
          "symbol": "circle"
         },
         "mode": "markers",
         "name": "[6, 2, 3, 20]",
         "orientation": "v",
         "showlegend": true,
         "type": "scatter",
         "x": [
          "4"
         ],
         "xaxis": "x",
         "y": [
          0.20053127073427535
         ],
         "yaxis": "y"
        },
        {
         "hovertemplate": "rank_str=[10, 2, 3, 20]<br>corr_dimension=%{x}<br>fidelity_avg=%{y}<extra></extra>",
         "legendgroup": "[10, 2, 3, 20]",
         "marker": {
          "color": "#19d3f3",
          "symbol": "circle"
         },
         "mode": "markers",
         "name": "[10, 2, 3, 20]",
         "orientation": "v",
         "showlegend": true,
         "type": "scatter",
         "x": [
          "4"
         ],
         "xaxis": "x",
         "y": [
          0.19860494738766066
         ],
         "yaxis": "y"
        },
        {
         "hovertemplate": "rank_str=[3, 2, 3, 25]<br>corr_dimension=%{x}<br>fidelity_avg=%{y}<extra></extra>",
         "legendgroup": "[3, 2, 3, 25]",
         "marker": {
          "color": "#FF6692",
          "symbol": "circle"
         },
         "mode": "markers",
         "name": "[3, 2, 3, 25]",
         "orientation": "v",
         "showlegend": true,
         "type": "scatter",
         "x": [
          "4"
         ],
         "xaxis": "x",
         "y": [
          0.1668278927072614
         ],
         "yaxis": "y"
        },
        {
         "hovertemplate": "rank_str=[6, 2, 3, 25]<br>corr_dimension=%{x}<br>fidelity_avg=%{y}<extra></extra>",
         "legendgroup": "[6, 2, 3, 25]",
         "marker": {
          "color": "#B6E880",
          "symbol": "circle"
         },
         "mode": "markers",
         "name": "[6, 2, 3, 25]",
         "orientation": "v",
         "showlegend": true,
         "type": "scatter",
         "x": [
          "4"
         ],
         "xaxis": "x",
         "y": [
          0.17512862443368366
         ],
         "yaxis": "y"
        },
        {
         "hovertemplate": "rank_str=[10, 2, 3, 25]<br>corr_dimension=%{x}<br>fidelity_avg=%{y}<extra></extra>",
         "legendgroup": "[10, 2, 3, 25]",
         "marker": {
          "color": "#FF97FF",
          "symbol": "circle"
         },
         "mode": "markers",
         "name": "[10, 2, 3, 25]",
         "orientation": "v",
         "showlegend": true,
         "type": "scatter",
         "x": [
          "4"
         ],
         "xaxis": "x",
         "y": [
          0.1820107129576399
         ],
         "yaxis": "y"
        },
        {
         "hovertemplate": "rank_str=[6, 39, 375]<br>corr_dimension=%{x}<br>fidelity_avg=%{y}<extra></extra>",
         "legendgroup": "[6, 39, 375]",
         "marker": {
          "color": "#FECB52",
          "symbol": "circle"
         },
         "mode": "markers",
         "name": "[6, 39, 375]",
         "orientation": "v",
         "showlegend": true,
         "type": "scatter",
         "x": [
          "3"
         ],
         "xaxis": "x",
         "y": [
          0.09692880455391246
         ],
         "yaxis": "y"
        },
        {
         "hovertemplate": "rank_str=[3, 39, 375]<br>corr_dimension=%{x}<br>fidelity_avg=%{y}<extra></extra>",
         "legendgroup": "[3, 39, 375]",
         "marker": {
          "color": "#636efa",
          "symbol": "circle"
         },
         "mode": "markers",
         "name": "[3, 39, 375]",
         "orientation": "v",
         "showlegend": true,
         "type": "scatter",
         "x": [
          "3"
         ],
         "xaxis": "x",
         "y": [
          0.585120166996496
         ],
         "yaxis": "y"
        },
        {
         "hovertemplate": "rank_str=[3, 13, 3, 20]<br>corr_dimension=%{x}<br>fidelity_avg=%{y}<extra></extra>",
         "legendgroup": "[3, 13, 3, 20]",
         "marker": {
          "color": "#EF553B",
          "symbol": "circle"
         },
         "mode": "markers",
         "name": "[3, 13, 3, 20]",
         "orientation": "v",
         "showlegend": true,
         "type": "scatter",
         "x": [
          "4"
         ],
         "xaxis": "x",
         "y": [
          0.5919548772191663
         ],
         "yaxis": "y"
        },
        {
         "hovertemplate": "rank_str=[6, 13, 3, 20]<br>corr_dimension=%{x}<br>fidelity_avg=%{y}<extra></extra>",
         "legendgroup": "[6, 13, 3, 20]",
         "marker": {
          "color": "#00cc96",
          "symbol": "circle"
         },
         "mode": "markers",
         "name": "[6, 13, 3, 20]",
         "orientation": "v",
         "showlegend": true,
         "type": "scatter",
         "x": [
          "4"
         ],
         "xaxis": "x",
         "y": [
          0.5979028304626408
         ],
         "yaxis": "y"
        },
        {
         "hovertemplate": "rank_str=[3, 13, 3, 200]<br>corr_dimension=%{x}<br>fidelity_avg=%{y}<extra></extra>",
         "legendgroup": "[3, 13, 3, 200]",
         "marker": {
          "color": "#ab63fa",
          "symbol": "circle"
         },
         "mode": "markers",
         "name": "[3, 13, 3, 200]",
         "orientation": "v",
         "showlegend": true,
         "type": "scatter",
         "x": [
          "4"
         ],
         "xaxis": "x",
         "y": [
          0.5850495245390427
         ],
         "yaxis": "y"
        },
        {
         "hovertemplate": "rank_str=[6, 13, 3, 200]<br>corr_dimension=%{x}<br>fidelity_avg=%{y}<extra></extra>",
         "legendgroup": "[6, 13, 3, 200]",
         "marker": {
          "color": "#FFA15A",
          "symbol": "circle"
         },
         "mode": "markers",
         "name": "[6, 13, 3, 200]",
         "orientation": "v",
         "showlegend": true,
         "type": "scatter",
         "x": [
          "4"
         ],
         "xaxis": "x",
         "y": [
          0.5075664313129746
         ],
         "yaxis": "y"
        },
        {
         "hovertemplate": "rank_str=[10, 13, 3, 200]<br>corr_dimension=%{x}<br>fidelity_avg=%{y}<extra></extra>",
         "legendgroup": "[10, 13, 3, 200]",
         "marker": {
          "color": "#19d3f3",
          "symbol": "circle"
         },
         "mode": "markers",
         "name": "[10, 13, 3, 200]",
         "orientation": "v",
         "showlegend": true,
         "type": "scatter",
         "x": [
          "4"
         ],
         "xaxis": "x",
         "y": [
          0.08702579430640703
         ],
         "yaxis": "y"
        },
        {
         "hovertemplate": "rank_str=[8, 13, 3, 200]<br>corr_dimension=%{x}<br>fidelity_avg=%{y}<extra></extra>",
         "legendgroup": "[8, 13, 3, 200]",
         "marker": {
          "color": "#FF6692",
          "symbol": "circle"
         },
         "mode": "markers",
         "name": "[8, 13, 3, 200]",
         "orientation": "v",
         "showlegend": true,
         "type": "scatter",
         "x": [
          "4"
         ],
         "xaxis": "x",
         "y": [
          0.09694127734073543
         ],
         "yaxis": "y"
        },
        {
         "hovertemplate": "rank_str=[3, 13, 3, 375]<br>corr_dimension=%{x}<br>fidelity_avg=%{y}<extra></extra>",
         "legendgroup": "[3, 13, 3, 375]",
         "marker": {
          "color": "#B6E880",
          "symbol": "circle"
         },
         "mode": "markers",
         "name": "[3, 13, 3, 375]",
         "orientation": "v",
         "showlegend": true,
         "type": "scatter",
         "x": [
          "4"
         ],
         "xaxis": "x",
         "y": [
          0.5808477739190705
         ],
         "yaxis": "y"
        },
        {
         "hovertemplate": "rank_str=[6, 13, 3, 375]<br>corr_dimension=%{x}<br>fidelity_avg=%{y}<extra></extra>",
         "legendgroup": "[6, 13, 3, 375]",
         "marker": {
          "color": "#FF97FF",
          "symbol": "circle"
         },
         "mode": "markers",
         "name": "[6, 13, 3, 375]",
         "orientation": "v",
         "showlegend": true,
         "type": "scatter",
         "x": [
          "4"
         ],
         "xaxis": "x",
         "y": [
          0.09901927217048578
         ],
         "yaxis": "y"
        },
        {
         "hovertemplate": "rank_str=[10, 13, 3, 375]<br>corr_dimension=%{x}<br>fidelity_avg=%{y}<extra></extra>",
         "legendgroup": "[10, 13, 3, 375]",
         "marker": {
          "color": "#FECB52",
          "symbol": "circle"
         },
         "mode": "markers",
         "name": "[10, 13, 3, 375]",
         "orientation": "v",
         "showlegend": true,
         "type": "scatter",
         "x": [
          "4"
         ],
         "xaxis": "x",
         "y": [
          0.10041255413156824
         ],
         "yaxis": "y"
        },
        {
         "hovertemplate": "rank_str=[8, 13, 3, 375]<br>corr_dimension=%{x}<br>fidelity_avg=%{y}<extra></extra>",
         "legendgroup": "[8, 13, 3, 375]",
         "marker": {
          "color": "#636efa",
          "symbol": "circle"
         },
         "mode": "markers",
         "name": "[8, 13, 3, 375]",
         "orientation": "v",
         "showlegend": true,
         "type": "scatter",
         "x": [
          "4"
         ],
         "xaxis": "x",
         "y": [
          0.09618223830764902
         ],
         "yaxis": "y"
        },
        {
         "hovertemplate": "rank_str=[3, 3, 2, 25]<br>corr_dimension=%{x}<br>fidelity_avg=%{y}<extra></extra>",
         "legendgroup": "[3, 3, 2, 25]",
         "marker": {
          "color": "#EF553B",
          "symbol": "circle"
         },
         "mode": "markers",
         "name": "[3, 3, 2, 25]",
         "orientation": "v",
         "showlegend": true,
         "type": "scatter",
         "x": [
          "4"
         ],
         "xaxis": "x",
         "y": [
          0.6589548245891538
         ],
         "yaxis": "y"
        },
        {
         "hovertemplate": "rank_str=[3, 5, 3, 25]<br>corr_dimension=%{x}<br>fidelity_avg=%{y}<extra></extra>",
         "legendgroup": "[3, 5, 3, 25]",
         "marker": {
          "color": "#00cc96",
          "symbol": "circle"
         },
         "mode": "markers",
         "name": "[3, 5, 3, 25]",
         "orientation": "v",
         "showlegend": true,
         "type": "scatter",
         "x": [
          "4"
         ],
         "xaxis": "x",
         "y": [
          0.6381737275622825
         ],
         "yaxis": "y"
        },
        {
         "hovertemplate": "rank_str=[3, 13, 3, 25]<br>corr_dimension=%{x}<br>fidelity_avg=%{y}<extra></extra>",
         "legendgroup": "[3, 13, 3, 25]",
         "marker": {
          "color": "#ab63fa",
          "symbol": "circle"
         },
         "mode": "markers",
         "name": "[3, 13, 3, 25]",
         "orientation": "v",
         "showlegend": true,
         "type": "scatter",
         "x": [
          "4"
         ],
         "xaxis": "x",
         "y": [
          0.5901702405936582
         ],
         "yaxis": "y"
        },
        {
         "hovertemplate": "rank_str=[6, 13, 3, 25]<br>corr_dimension=%{x}<br>fidelity_avg=%{y}<extra></extra>",
         "legendgroup": "[6, 13, 3, 25]",
         "marker": {
          "color": "#FFA15A",
          "symbol": "circle"
         },
         "mode": "markers",
         "name": "[6, 13, 3, 25]",
         "orientation": "v",
         "showlegend": true,
         "type": "scatter",
         "x": [
          "4"
         ],
         "xaxis": "x",
         "y": [
          0.5896976675177199
         ],
         "yaxis": "y"
        }
       ],
       "layout": {
        "legend": {
         "title": {
          "text": "rank_str"
         },
         "tracegroupgap": 0
        },
        "margin": {
         "t": 60
        },
        "template": {
         "data": {
          "bar": [
           {
            "error_x": {
             "color": "#2a3f5f"
            },
            "error_y": {
             "color": "#2a3f5f"
            },
            "marker": {
             "line": {
              "color": "#E5ECF6",
              "width": 0.5
             },
             "pattern": {
              "fillmode": "overlay",
              "size": 10,
              "solidity": 0.2
             }
            },
            "type": "bar"
           }
          ],
          "barpolar": [
           {
            "marker": {
             "line": {
              "color": "#E5ECF6",
              "width": 0.5
             },
             "pattern": {
              "fillmode": "overlay",
              "size": 10,
              "solidity": 0.2
             }
            },
            "type": "barpolar"
           }
          ],
          "carpet": [
           {
            "aaxis": {
             "endlinecolor": "#2a3f5f",
             "gridcolor": "white",
             "linecolor": "white",
             "minorgridcolor": "white",
             "startlinecolor": "#2a3f5f"
            },
            "baxis": {
             "endlinecolor": "#2a3f5f",
             "gridcolor": "white",
             "linecolor": "white",
             "minorgridcolor": "white",
             "startlinecolor": "#2a3f5f"
            },
            "type": "carpet"
           }
          ],
          "choropleth": [
           {
            "colorbar": {
             "outlinewidth": 0,
             "ticks": ""
            },
            "type": "choropleth"
           }
          ],
          "contour": [
           {
            "colorbar": {
             "outlinewidth": 0,
             "ticks": ""
            },
            "colorscale": [
             [
              0,
              "#0d0887"
             ],
             [
              0.1111111111111111,
              "#46039f"
             ],
             [
              0.2222222222222222,
              "#7201a8"
             ],
             [
              0.3333333333333333,
              "#9c179e"
             ],
             [
              0.4444444444444444,
              "#bd3786"
             ],
             [
              0.5555555555555556,
              "#d8576b"
             ],
             [
              0.6666666666666666,
              "#ed7953"
             ],
             [
              0.7777777777777778,
              "#fb9f3a"
             ],
             [
              0.8888888888888888,
              "#fdca26"
             ],
             [
              1,
              "#f0f921"
             ]
            ],
            "type": "contour"
           }
          ],
          "contourcarpet": [
           {
            "colorbar": {
             "outlinewidth": 0,
             "ticks": ""
            },
            "type": "contourcarpet"
           }
          ],
          "heatmap": [
           {
            "colorbar": {
             "outlinewidth": 0,
             "ticks": ""
            },
            "colorscale": [
             [
              0,
              "#0d0887"
             ],
             [
              0.1111111111111111,
              "#46039f"
             ],
             [
              0.2222222222222222,
              "#7201a8"
             ],
             [
              0.3333333333333333,
              "#9c179e"
             ],
             [
              0.4444444444444444,
              "#bd3786"
             ],
             [
              0.5555555555555556,
              "#d8576b"
             ],
             [
              0.6666666666666666,
              "#ed7953"
             ],
             [
              0.7777777777777778,
              "#fb9f3a"
             ],
             [
              0.8888888888888888,
              "#fdca26"
             ],
             [
              1,
              "#f0f921"
             ]
            ],
            "type": "heatmap"
           }
          ],
          "heatmapgl": [
           {
            "colorbar": {
             "outlinewidth": 0,
             "ticks": ""
            },
            "colorscale": [
             [
              0,
              "#0d0887"
             ],
             [
              0.1111111111111111,
              "#46039f"
             ],
             [
              0.2222222222222222,
              "#7201a8"
             ],
             [
              0.3333333333333333,
              "#9c179e"
             ],
             [
              0.4444444444444444,
              "#bd3786"
             ],
             [
              0.5555555555555556,
              "#d8576b"
             ],
             [
              0.6666666666666666,
              "#ed7953"
             ],
             [
              0.7777777777777778,
              "#fb9f3a"
             ],
             [
              0.8888888888888888,
              "#fdca26"
             ],
             [
              1,
              "#f0f921"
             ]
            ],
            "type": "heatmapgl"
           }
          ],
          "histogram": [
           {
            "marker": {
             "pattern": {
              "fillmode": "overlay",
              "size": 10,
              "solidity": 0.2
             }
            },
            "type": "histogram"
           }
          ],
          "histogram2d": [
           {
            "colorbar": {
             "outlinewidth": 0,
             "ticks": ""
            },
            "colorscale": [
             [
              0,
              "#0d0887"
             ],
             [
              0.1111111111111111,
              "#46039f"
             ],
             [
              0.2222222222222222,
              "#7201a8"
             ],
             [
              0.3333333333333333,
              "#9c179e"
             ],
             [
              0.4444444444444444,
              "#bd3786"
             ],
             [
              0.5555555555555556,
              "#d8576b"
             ],
             [
              0.6666666666666666,
              "#ed7953"
             ],
             [
              0.7777777777777778,
              "#fb9f3a"
             ],
             [
              0.8888888888888888,
              "#fdca26"
             ],
             [
              1,
              "#f0f921"
             ]
            ],
            "type": "histogram2d"
           }
          ],
          "histogram2dcontour": [
           {
            "colorbar": {
             "outlinewidth": 0,
             "ticks": ""
            },
            "colorscale": [
             [
              0,
              "#0d0887"
             ],
             [
              0.1111111111111111,
              "#46039f"
             ],
             [
              0.2222222222222222,
              "#7201a8"
             ],
             [
              0.3333333333333333,
              "#9c179e"
             ],
             [
              0.4444444444444444,
              "#bd3786"
             ],
             [
              0.5555555555555556,
              "#d8576b"
             ],
             [
              0.6666666666666666,
              "#ed7953"
             ],
             [
              0.7777777777777778,
              "#fb9f3a"
             ],
             [
              0.8888888888888888,
              "#fdca26"
             ],
             [
              1,
              "#f0f921"
             ]
            ],
            "type": "histogram2dcontour"
           }
          ],
          "mesh3d": [
           {
            "colorbar": {
             "outlinewidth": 0,
             "ticks": ""
            },
            "type": "mesh3d"
           }
          ],
          "parcoords": [
           {
            "line": {
             "colorbar": {
              "outlinewidth": 0,
              "ticks": ""
             }
            },
            "type": "parcoords"
           }
          ],
          "pie": [
           {
            "automargin": true,
            "type": "pie"
           }
          ],
          "scatter": [
           {
            "fillpattern": {
             "fillmode": "overlay",
             "size": 10,
             "solidity": 0.2
            },
            "type": "scatter"
           }
          ],
          "scatter3d": [
           {
            "line": {
             "colorbar": {
              "outlinewidth": 0,
              "ticks": ""
             }
            },
            "marker": {
             "colorbar": {
              "outlinewidth": 0,
              "ticks": ""
             }
            },
            "type": "scatter3d"
           }
          ],
          "scattercarpet": [
           {
            "marker": {
             "colorbar": {
              "outlinewidth": 0,
              "ticks": ""
             }
            },
            "type": "scattercarpet"
           }
          ],
          "scattergeo": [
           {
            "marker": {
             "colorbar": {
              "outlinewidth": 0,
              "ticks": ""
             }
            },
            "type": "scattergeo"
           }
          ],
          "scattergl": [
           {
            "marker": {
             "colorbar": {
              "outlinewidth": 0,
              "ticks": ""
             }
            },
            "type": "scattergl"
           }
          ],
          "scattermapbox": [
           {
            "marker": {
             "colorbar": {
              "outlinewidth": 0,
              "ticks": ""
             }
            },
            "type": "scattermapbox"
           }
          ],
          "scatterpolar": [
           {
            "marker": {
             "colorbar": {
              "outlinewidth": 0,
              "ticks": ""
             }
            },
            "type": "scatterpolar"
           }
          ],
          "scatterpolargl": [
           {
            "marker": {
             "colorbar": {
              "outlinewidth": 0,
              "ticks": ""
             }
            },
            "type": "scatterpolargl"
           }
          ],
          "scatterternary": [
           {
            "marker": {
             "colorbar": {
              "outlinewidth": 0,
              "ticks": ""
             }
            },
            "type": "scatterternary"
           }
          ],
          "surface": [
           {
            "colorbar": {
             "outlinewidth": 0,
             "ticks": ""
            },
            "colorscale": [
             [
              0,
              "#0d0887"
             ],
             [
              0.1111111111111111,
              "#46039f"
             ],
             [
              0.2222222222222222,
              "#7201a8"
             ],
             [
              0.3333333333333333,
              "#9c179e"
             ],
             [
              0.4444444444444444,
              "#bd3786"
             ],
             [
              0.5555555555555556,
              "#d8576b"
             ],
             [
              0.6666666666666666,
              "#ed7953"
             ],
             [
              0.7777777777777778,
              "#fb9f3a"
             ],
             [
              0.8888888888888888,
              "#fdca26"
             ],
             [
              1,
              "#f0f921"
             ]
            ],
            "type": "surface"
           }
          ],
          "table": [
           {
            "cells": {
             "fill": {
              "color": "#EBF0F8"
             },
             "line": {
              "color": "white"
             }
            },
            "header": {
             "fill": {
              "color": "#C8D4E3"
             },
             "line": {
              "color": "white"
             }
            },
            "type": "table"
           }
          ]
         },
         "layout": {
          "annotationdefaults": {
           "arrowcolor": "#2a3f5f",
           "arrowhead": 0,
           "arrowwidth": 1
          },
          "autotypenumbers": "strict",
          "coloraxis": {
           "colorbar": {
            "outlinewidth": 0,
            "ticks": ""
           }
          },
          "colorscale": {
           "diverging": [
            [
             0,
             "#8e0152"
            ],
            [
             0.1,
             "#c51b7d"
            ],
            [
             0.2,
             "#de77ae"
            ],
            [
             0.3,
             "#f1b6da"
            ],
            [
             0.4,
             "#fde0ef"
            ],
            [
             0.5,
             "#f7f7f7"
            ],
            [
             0.6,
             "#e6f5d0"
            ],
            [
             0.7,
             "#b8e186"
            ],
            [
             0.8,
             "#7fbc41"
            ],
            [
             0.9,
             "#4d9221"
            ],
            [
             1,
             "#276419"
            ]
           ],
           "sequential": [
            [
             0,
             "#0d0887"
            ],
            [
             0.1111111111111111,
             "#46039f"
            ],
            [
             0.2222222222222222,
             "#7201a8"
            ],
            [
             0.3333333333333333,
             "#9c179e"
            ],
            [
             0.4444444444444444,
             "#bd3786"
            ],
            [
             0.5555555555555556,
             "#d8576b"
            ],
            [
             0.6666666666666666,
             "#ed7953"
            ],
            [
             0.7777777777777778,
             "#fb9f3a"
            ],
            [
             0.8888888888888888,
             "#fdca26"
            ],
            [
             1,
             "#f0f921"
            ]
           ],
           "sequentialminus": [
            [
             0,
             "#0d0887"
            ],
            [
             0.1111111111111111,
             "#46039f"
            ],
            [
             0.2222222222222222,
             "#7201a8"
            ],
            [
             0.3333333333333333,
             "#9c179e"
            ],
            [
             0.4444444444444444,
             "#bd3786"
            ],
            [
             0.5555555555555556,
             "#d8576b"
            ],
            [
             0.6666666666666666,
             "#ed7953"
            ],
            [
             0.7777777777777778,
             "#fb9f3a"
            ],
            [
             0.8888888888888888,
             "#fdca26"
            ],
            [
             1,
             "#f0f921"
            ]
           ]
          },
          "colorway": [
           "#636efa",
           "#EF553B",
           "#00cc96",
           "#ab63fa",
           "#FFA15A",
           "#19d3f3",
           "#FF6692",
           "#B6E880",
           "#FF97FF",
           "#FECB52"
          ],
          "font": {
           "color": "#2a3f5f"
          },
          "geo": {
           "bgcolor": "white",
           "lakecolor": "white",
           "landcolor": "#E5ECF6",
           "showlakes": true,
           "showland": true,
           "subunitcolor": "white"
          },
          "hoverlabel": {
           "align": "left"
          },
          "hovermode": "closest",
          "mapbox": {
           "style": "light"
          },
          "paper_bgcolor": "white",
          "plot_bgcolor": "#E5ECF6",
          "polar": {
           "angularaxis": {
            "gridcolor": "white",
            "linecolor": "white",
            "ticks": ""
           },
           "bgcolor": "#E5ECF6",
           "radialaxis": {
            "gridcolor": "white",
            "linecolor": "white",
            "ticks": ""
           }
          },
          "scene": {
           "xaxis": {
            "backgroundcolor": "#E5ECF6",
            "gridcolor": "white",
            "gridwidth": 2,
            "linecolor": "white",
            "showbackground": true,
            "ticks": "",
            "zerolinecolor": "white"
           },
           "yaxis": {
            "backgroundcolor": "#E5ECF6",
            "gridcolor": "white",
            "gridwidth": 2,
            "linecolor": "white",
            "showbackground": true,
            "ticks": "",
            "zerolinecolor": "white"
           },
           "zaxis": {
            "backgroundcolor": "#E5ECF6",
            "gridcolor": "white",
            "gridwidth": 2,
            "linecolor": "white",
            "showbackground": true,
            "ticks": "",
            "zerolinecolor": "white"
           }
          },
          "shapedefaults": {
           "line": {
            "color": "#2a3f5f"
           }
          },
          "ternary": {
           "aaxis": {
            "gridcolor": "white",
            "linecolor": "white",
            "ticks": ""
           },
           "baxis": {
            "gridcolor": "white",
            "linecolor": "white",
            "ticks": ""
           },
           "bgcolor": "#E5ECF6",
           "caxis": {
            "gridcolor": "white",
            "linecolor": "white",
            "ticks": ""
           }
          },
          "title": {
           "x": 0.05
          },
          "xaxis": {
           "automargin": true,
           "gridcolor": "white",
           "linecolor": "white",
           "ticks": "",
           "title": {
            "standoff": 15
           },
           "zerolinecolor": "white",
           "zerolinewidth": 2
          },
          "yaxis": {
           "automargin": true,
           "gridcolor": "white",
           "linecolor": "white",
           "ticks": "",
           "title": {
            "standoff": 15
           },
           "zerolinecolor": "white",
           "zerolinewidth": 2
          }
         }
        },
        "xaxis": {
         "anchor": "y",
         "domain": [
          0,
          1
         ],
         "title": {
          "text": "corr_dimension"
         }
        },
        "yaxis": {
         "anchor": "x",
         "domain": [
          0,
          1
         ],
         "title": {
          "text": "fidelity_avg"
         }
        }
       }
      },
      "text/html": [
       "<div>                            <div id=\"f552a20c-904d-4606-8168-0228bba3cf11\" class=\"plotly-graph-div\" style=\"height:525px; width:100%;\"></div>            <script type=\"text/javascript\">                require([\"plotly\"], function(Plotly) {                    window.PLOTLYENV=window.PLOTLYENV || {};                                    if (document.getElementById(\"f552a20c-904d-4606-8168-0228bba3cf11\")) {                    Plotly.newPlot(                        \"f552a20c-904d-4606-8168-0228bba3cf11\",                        [{\"hovertemplate\":\"rank_str=3<br>corr_dimension=%{x}<br>fidelity_avg=%{y}<extra></extra>\",\"legendgroup\":\"3\",\"marker\":{\"color\":\"#636efa\",\"symbol\":\"circle\"},\"mode\":\"markers\",\"name\":\"3\",\"orientation\":\"v\",\"showlegend\":true,\"x\":[\"2\"],\"xaxis\":\"x\",\"y\":[0.5803603240460522],\"yaxis\":\"y\",\"type\":\"scatter\"},{\"hovertemplate\":\"rank_str=6<br>corr_dimension=%{x}<br>fidelity_avg=%{y}<extra></extra>\",\"legendgroup\":\"6\",\"marker\":{\"color\":\"#EF553B\",\"symbol\":\"circle\"},\"mode\":\"markers\",\"name\":\"6\",\"orientation\":\"v\",\"showlegend\":true,\"x\":[\"2\"],\"xaxis\":\"x\",\"y\":[0.09799152658093035],\"yaxis\":\"y\",\"type\":\"scatter\"},{\"hovertemplate\":\"rank_str=10<br>corr_dimension=%{x}<br>fidelity_avg=%{y}<extra></extra>\",\"legendgroup\":\"10\",\"marker\":{\"color\":\"#00cc96\",\"symbol\":\"circle\"},\"mode\":\"markers\",\"name\":\"10\",\"orientation\":\"v\",\"showlegend\":true,\"x\":[\"2\"],\"xaxis\":\"x\",\"y\":[0.09254165786844085],\"yaxis\":\"y\",\"type\":\"scatter\"},{\"hovertemplate\":\"rank_str=8<br>corr_dimension=%{x}<br>fidelity_avg=%{y}<extra></extra>\",\"legendgroup\":\"8\",\"marker\":{\"color\":\"#ab63fa\",\"symbol\":\"circle\"},\"mode\":\"markers\",\"name\":\"8\",\"orientation\":\"v\",\"showlegend\":true,\"x\":[\"2\"],\"xaxis\":\"x\",\"y\":[0.089265822876787],\"yaxis\":\"y\",\"type\":\"scatter\"},{\"hovertemplate\":\"rank_str=12<br>corr_dimension=%{x}<br>fidelity_avg=%{y}<extra></extra>\",\"legendgroup\":\"12\",\"marker\":{\"color\":\"#FFA15A\",\"symbol\":\"circle\"},\"mode\":\"markers\",\"name\":\"12\",\"orientation\":\"v\",\"showlegend\":true,\"x\":[\"2\"],\"xaxis\":\"x\",\"y\":[0.09049901277090067],\"yaxis\":\"y\",\"type\":\"scatter\"},{\"hovertemplate\":\"rank_str=[3, 20, 100]<br>corr_dimension=%{x}<br>fidelity_avg=%{y}<extra></extra>\",\"legendgroup\":\"[3, 20, 100]\",\"marker\":{\"color\":\"#19d3f3\",\"symbol\":\"circle\"},\"mode\":\"markers\",\"name\":\"[3, 20, 100]\",\"orientation\":\"v\",\"showlegend\":true,\"x\":[\"3\"],\"xaxis\":\"x\",\"y\":[0.58394118243031],\"yaxis\":\"y\",\"type\":\"scatter\"},{\"hovertemplate\":\"rank_str=[6, 20, 100]<br>corr_dimension=%{x}<br>fidelity_avg=%{y}<extra></extra>\",\"legendgroup\":\"[6, 20, 100]\",\"marker\":{\"color\":\"#FF6692\",\"symbol\":\"circle\"},\"mode\":\"markers\",\"name\":\"[6, 20, 100]\",\"orientation\":\"v\",\"showlegend\":true,\"x\":[\"3\"],\"xaxis\":\"x\",\"y\":[0.09665445428572216],\"yaxis\":\"y\",\"type\":\"scatter\"},{\"hovertemplate\":\"rank_str=[10, 20, 100]<br>corr_dimension=%{x}<br>fidelity_avg=%{y}<extra></extra>\",\"legendgroup\":\"[10, 20, 100]\",\"marker\":{\"color\":\"#B6E880\",\"symbol\":\"circle\"},\"mode\":\"markers\",\"name\":\"[10, 20, 100]\",\"orientation\":\"v\",\"showlegend\":true,\"x\":[\"3\"],\"xaxis\":\"x\",\"y\":[0.09376070171949248],\"yaxis\":\"y\",\"type\":\"scatter\"},{\"hovertemplate\":\"rank_str=[3, 30, 100]<br>corr_dimension=%{x}<br>fidelity_avg=%{y}<extra></extra>\",\"legendgroup\":\"[3, 30, 100]\",\"marker\":{\"color\":\"#FF97FF\",\"symbol\":\"circle\"},\"mode\":\"markers\",\"name\":\"[3, 30, 100]\",\"orientation\":\"v\",\"showlegend\":true,\"x\":[\"3\"],\"xaxis\":\"x\",\"y\":[0.5846094054789341],\"yaxis\":\"y\",\"type\":\"scatter\"},{\"hovertemplate\":\"rank_str=[10, 39, 375]<br>corr_dimension=%{x}<br>fidelity_avg=%{y}<extra></extra>\",\"legendgroup\":\"[10, 39, 375]\",\"marker\":{\"color\":\"#FECB52\",\"symbol\":\"circle\"},\"mode\":\"markers\",\"name\":\"[10, 39, 375]\",\"orientation\":\"v\",\"showlegend\":true,\"x\":[\"3\"],\"xaxis\":\"x\",\"y\":[0.0860443760854879],\"yaxis\":\"y\",\"type\":\"scatter\"},{\"hovertemplate\":\"rank_str=[6, 30, 100]<br>corr_dimension=%{x}<br>fidelity_avg=%{y}<extra></extra>\",\"legendgroup\":\"[6, 30, 100]\",\"marker\":{\"color\":\"#636efa\",\"symbol\":\"circle\"},\"mode\":\"markers\",\"name\":\"[6, 30, 100]\",\"orientation\":\"v\",\"showlegend\":true,\"x\":[\"3\"],\"xaxis\":\"x\",\"y\":[0.09902413895222492],\"yaxis\":\"y\",\"type\":\"scatter\"},{\"hovertemplate\":\"rank_str=[10, 30, 100]<br>corr_dimension=%{x}<br>fidelity_avg=%{y}<extra></extra>\",\"legendgroup\":\"[10, 30, 100]\",\"marker\":{\"color\":\"#EF553B\",\"symbol\":\"circle\"},\"mode\":\"markers\",\"name\":\"[10, 30, 100]\",\"orientation\":\"v\",\"showlegend\":true,\"x\":[\"3\"],\"xaxis\":\"x\",\"y\":[0.09871784661994959],\"yaxis\":\"y\",\"type\":\"scatter\"},{\"hovertemplate\":\"rank_str=[8, 39, 375]<br>corr_dimension=%{x}<br>fidelity_avg=%{y}<extra></extra>\",\"legendgroup\":\"[8, 39, 375]\",\"marker\":{\"color\":\"#00cc96\",\"symbol\":\"circle\"},\"mode\":\"markers\",\"name\":\"[8, 39, 375]\",\"orientation\":\"v\",\"showlegend\":true,\"x\":[\"3\"],\"xaxis\":\"x\",\"y\":[0.09703009889645425],\"yaxis\":\"y\",\"type\":\"scatter\"},{\"hovertemplate\":\"rank_str=[3, 2, 3, 20]<br>corr_dimension=%{x}<br>fidelity_avg=%{y}<extra></extra>\",\"legendgroup\":\"[3, 2, 3, 20]\",\"marker\":{\"color\":\"#ab63fa\",\"symbol\":\"circle\"},\"mode\":\"markers\",\"name\":\"[3, 2, 3, 20]\",\"orientation\":\"v\",\"showlegend\":true,\"x\":[\"4\"],\"xaxis\":\"x\",\"y\":[0.6408704804808647],\"yaxis\":\"y\",\"type\":\"scatter\"},{\"hovertemplate\":\"rank_str=[6, 2, 3, 20]<br>corr_dimension=%{x}<br>fidelity_avg=%{y}<extra></extra>\",\"legendgroup\":\"[6, 2, 3, 20]\",\"marker\":{\"color\":\"#FFA15A\",\"symbol\":\"circle\"},\"mode\":\"markers\",\"name\":\"[6, 2, 3, 20]\",\"orientation\":\"v\",\"showlegend\":true,\"x\":[\"4\"],\"xaxis\":\"x\",\"y\":[0.20053127073427535],\"yaxis\":\"y\",\"type\":\"scatter\"},{\"hovertemplate\":\"rank_str=[10, 2, 3, 20]<br>corr_dimension=%{x}<br>fidelity_avg=%{y}<extra></extra>\",\"legendgroup\":\"[10, 2, 3, 20]\",\"marker\":{\"color\":\"#19d3f3\",\"symbol\":\"circle\"},\"mode\":\"markers\",\"name\":\"[10, 2, 3, 20]\",\"orientation\":\"v\",\"showlegend\":true,\"x\":[\"4\"],\"xaxis\":\"x\",\"y\":[0.19860494738766066],\"yaxis\":\"y\",\"type\":\"scatter\"},{\"hovertemplate\":\"rank_str=[3, 2, 3, 25]<br>corr_dimension=%{x}<br>fidelity_avg=%{y}<extra></extra>\",\"legendgroup\":\"[3, 2, 3, 25]\",\"marker\":{\"color\":\"#FF6692\",\"symbol\":\"circle\"},\"mode\":\"markers\",\"name\":\"[3, 2, 3, 25]\",\"orientation\":\"v\",\"showlegend\":true,\"x\":[\"4\"],\"xaxis\":\"x\",\"y\":[0.1668278927072614],\"yaxis\":\"y\",\"type\":\"scatter\"},{\"hovertemplate\":\"rank_str=[6, 2, 3, 25]<br>corr_dimension=%{x}<br>fidelity_avg=%{y}<extra></extra>\",\"legendgroup\":\"[6, 2, 3, 25]\",\"marker\":{\"color\":\"#B6E880\",\"symbol\":\"circle\"},\"mode\":\"markers\",\"name\":\"[6, 2, 3, 25]\",\"orientation\":\"v\",\"showlegend\":true,\"x\":[\"4\"],\"xaxis\":\"x\",\"y\":[0.17512862443368366],\"yaxis\":\"y\",\"type\":\"scatter\"},{\"hovertemplate\":\"rank_str=[10, 2, 3, 25]<br>corr_dimension=%{x}<br>fidelity_avg=%{y}<extra></extra>\",\"legendgroup\":\"[10, 2, 3, 25]\",\"marker\":{\"color\":\"#FF97FF\",\"symbol\":\"circle\"},\"mode\":\"markers\",\"name\":\"[10, 2, 3, 25]\",\"orientation\":\"v\",\"showlegend\":true,\"x\":[\"4\"],\"xaxis\":\"x\",\"y\":[0.1820107129576399],\"yaxis\":\"y\",\"type\":\"scatter\"},{\"hovertemplate\":\"rank_str=[6, 39, 375]<br>corr_dimension=%{x}<br>fidelity_avg=%{y}<extra></extra>\",\"legendgroup\":\"[6, 39, 375]\",\"marker\":{\"color\":\"#FECB52\",\"symbol\":\"circle\"},\"mode\":\"markers\",\"name\":\"[6, 39, 375]\",\"orientation\":\"v\",\"showlegend\":true,\"x\":[\"3\"],\"xaxis\":\"x\",\"y\":[0.09692880455391246],\"yaxis\":\"y\",\"type\":\"scatter\"},{\"hovertemplate\":\"rank_str=[3, 39, 375]<br>corr_dimension=%{x}<br>fidelity_avg=%{y}<extra></extra>\",\"legendgroup\":\"[3, 39, 375]\",\"marker\":{\"color\":\"#636efa\",\"symbol\":\"circle\"},\"mode\":\"markers\",\"name\":\"[3, 39, 375]\",\"orientation\":\"v\",\"showlegend\":true,\"x\":[\"3\"],\"xaxis\":\"x\",\"y\":[0.585120166996496],\"yaxis\":\"y\",\"type\":\"scatter\"},{\"hovertemplate\":\"rank_str=[3, 13, 3, 20]<br>corr_dimension=%{x}<br>fidelity_avg=%{y}<extra></extra>\",\"legendgroup\":\"[3, 13, 3, 20]\",\"marker\":{\"color\":\"#EF553B\",\"symbol\":\"circle\"},\"mode\":\"markers\",\"name\":\"[3, 13, 3, 20]\",\"orientation\":\"v\",\"showlegend\":true,\"x\":[\"4\"],\"xaxis\":\"x\",\"y\":[0.5919548772191663],\"yaxis\":\"y\",\"type\":\"scatter\"},{\"hovertemplate\":\"rank_str=[6, 13, 3, 20]<br>corr_dimension=%{x}<br>fidelity_avg=%{y}<extra></extra>\",\"legendgroup\":\"[6, 13, 3, 20]\",\"marker\":{\"color\":\"#00cc96\",\"symbol\":\"circle\"},\"mode\":\"markers\",\"name\":\"[6, 13, 3, 20]\",\"orientation\":\"v\",\"showlegend\":true,\"x\":[\"4\"],\"xaxis\":\"x\",\"y\":[0.5979028304626408],\"yaxis\":\"y\",\"type\":\"scatter\"},{\"hovertemplate\":\"rank_str=[3, 13, 3, 200]<br>corr_dimension=%{x}<br>fidelity_avg=%{y}<extra></extra>\",\"legendgroup\":\"[3, 13, 3, 200]\",\"marker\":{\"color\":\"#ab63fa\",\"symbol\":\"circle\"},\"mode\":\"markers\",\"name\":\"[3, 13, 3, 200]\",\"orientation\":\"v\",\"showlegend\":true,\"x\":[\"4\"],\"xaxis\":\"x\",\"y\":[0.5850495245390427],\"yaxis\":\"y\",\"type\":\"scatter\"},{\"hovertemplate\":\"rank_str=[6, 13, 3, 200]<br>corr_dimension=%{x}<br>fidelity_avg=%{y}<extra></extra>\",\"legendgroup\":\"[6, 13, 3, 200]\",\"marker\":{\"color\":\"#FFA15A\",\"symbol\":\"circle\"},\"mode\":\"markers\",\"name\":\"[6, 13, 3, 200]\",\"orientation\":\"v\",\"showlegend\":true,\"x\":[\"4\"],\"xaxis\":\"x\",\"y\":[0.5075664313129746],\"yaxis\":\"y\",\"type\":\"scatter\"},{\"hovertemplate\":\"rank_str=[10, 13, 3, 200]<br>corr_dimension=%{x}<br>fidelity_avg=%{y}<extra></extra>\",\"legendgroup\":\"[10, 13, 3, 200]\",\"marker\":{\"color\":\"#19d3f3\",\"symbol\":\"circle\"},\"mode\":\"markers\",\"name\":\"[10, 13, 3, 200]\",\"orientation\":\"v\",\"showlegend\":true,\"x\":[\"4\"],\"xaxis\":\"x\",\"y\":[0.08702579430640703],\"yaxis\":\"y\",\"type\":\"scatter\"},{\"hovertemplate\":\"rank_str=[8, 13, 3, 200]<br>corr_dimension=%{x}<br>fidelity_avg=%{y}<extra></extra>\",\"legendgroup\":\"[8, 13, 3, 200]\",\"marker\":{\"color\":\"#FF6692\",\"symbol\":\"circle\"},\"mode\":\"markers\",\"name\":\"[8, 13, 3, 200]\",\"orientation\":\"v\",\"showlegend\":true,\"x\":[\"4\"],\"xaxis\":\"x\",\"y\":[0.09694127734073543],\"yaxis\":\"y\",\"type\":\"scatter\"},{\"hovertemplate\":\"rank_str=[3, 13, 3, 375]<br>corr_dimension=%{x}<br>fidelity_avg=%{y}<extra></extra>\",\"legendgroup\":\"[3, 13, 3, 375]\",\"marker\":{\"color\":\"#B6E880\",\"symbol\":\"circle\"},\"mode\":\"markers\",\"name\":\"[3, 13, 3, 375]\",\"orientation\":\"v\",\"showlegend\":true,\"x\":[\"4\"],\"xaxis\":\"x\",\"y\":[0.5808477739190705],\"yaxis\":\"y\",\"type\":\"scatter\"},{\"hovertemplate\":\"rank_str=[6, 13, 3, 375]<br>corr_dimension=%{x}<br>fidelity_avg=%{y}<extra></extra>\",\"legendgroup\":\"[6, 13, 3, 375]\",\"marker\":{\"color\":\"#FF97FF\",\"symbol\":\"circle\"},\"mode\":\"markers\",\"name\":\"[6, 13, 3, 375]\",\"orientation\":\"v\",\"showlegend\":true,\"x\":[\"4\"],\"xaxis\":\"x\",\"y\":[0.09901927217048578],\"yaxis\":\"y\",\"type\":\"scatter\"},{\"hovertemplate\":\"rank_str=[10, 13, 3, 375]<br>corr_dimension=%{x}<br>fidelity_avg=%{y}<extra></extra>\",\"legendgroup\":\"[10, 13, 3, 375]\",\"marker\":{\"color\":\"#FECB52\",\"symbol\":\"circle\"},\"mode\":\"markers\",\"name\":\"[10, 13, 3, 375]\",\"orientation\":\"v\",\"showlegend\":true,\"x\":[\"4\"],\"xaxis\":\"x\",\"y\":[0.10041255413156824],\"yaxis\":\"y\",\"type\":\"scatter\"},{\"hovertemplate\":\"rank_str=[8, 13, 3, 375]<br>corr_dimension=%{x}<br>fidelity_avg=%{y}<extra></extra>\",\"legendgroup\":\"[8, 13, 3, 375]\",\"marker\":{\"color\":\"#636efa\",\"symbol\":\"circle\"},\"mode\":\"markers\",\"name\":\"[8, 13, 3, 375]\",\"orientation\":\"v\",\"showlegend\":true,\"x\":[\"4\"],\"xaxis\":\"x\",\"y\":[0.09618223830764902],\"yaxis\":\"y\",\"type\":\"scatter\"},{\"hovertemplate\":\"rank_str=[3, 3, 2, 25]<br>corr_dimension=%{x}<br>fidelity_avg=%{y}<extra></extra>\",\"legendgroup\":\"[3, 3, 2, 25]\",\"marker\":{\"color\":\"#EF553B\",\"symbol\":\"circle\"},\"mode\":\"markers\",\"name\":\"[3, 3, 2, 25]\",\"orientation\":\"v\",\"showlegend\":true,\"x\":[\"4\"],\"xaxis\":\"x\",\"y\":[0.6589548245891538],\"yaxis\":\"y\",\"type\":\"scatter\"},{\"hovertemplate\":\"rank_str=[3, 5, 3, 25]<br>corr_dimension=%{x}<br>fidelity_avg=%{y}<extra></extra>\",\"legendgroup\":\"[3, 5, 3, 25]\",\"marker\":{\"color\":\"#00cc96\",\"symbol\":\"circle\"},\"mode\":\"markers\",\"name\":\"[3, 5, 3, 25]\",\"orientation\":\"v\",\"showlegend\":true,\"x\":[\"4\"],\"xaxis\":\"x\",\"y\":[0.6381737275622825],\"yaxis\":\"y\",\"type\":\"scatter\"},{\"hovertemplate\":\"rank_str=[3, 13, 3, 25]<br>corr_dimension=%{x}<br>fidelity_avg=%{y}<extra></extra>\",\"legendgroup\":\"[3, 13, 3, 25]\",\"marker\":{\"color\":\"#ab63fa\",\"symbol\":\"circle\"},\"mode\":\"markers\",\"name\":\"[3, 13, 3, 25]\",\"orientation\":\"v\",\"showlegend\":true,\"x\":[\"4\"],\"xaxis\":\"x\",\"y\":[0.5901702405936582],\"yaxis\":\"y\",\"type\":\"scatter\"},{\"hovertemplate\":\"rank_str=[6, 13, 3, 25]<br>corr_dimension=%{x}<br>fidelity_avg=%{y}<extra></extra>\",\"legendgroup\":\"[6, 13, 3, 25]\",\"marker\":{\"color\":\"#FFA15A\",\"symbol\":\"circle\"},\"mode\":\"markers\",\"name\":\"[6, 13, 3, 25]\",\"orientation\":\"v\",\"showlegend\":true,\"x\":[\"4\"],\"xaxis\":\"x\",\"y\":[0.5896976675177199],\"yaxis\":\"y\",\"type\":\"scatter\"}],                        {\"template\":{\"data\":{\"histogram2dcontour\":[{\"type\":\"histogram2dcontour\",\"colorbar\":{\"outlinewidth\":0,\"ticks\":\"\"},\"colorscale\":[[0.0,\"#0d0887\"],[0.1111111111111111,\"#46039f\"],[0.2222222222222222,\"#7201a8\"],[0.3333333333333333,\"#9c179e\"],[0.4444444444444444,\"#bd3786\"],[0.5555555555555556,\"#d8576b\"],[0.6666666666666666,\"#ed7953\"],[0.7777777777777778,\"#fb9f3a\"],[0.8888888888888888,\"#fdca26\"],[1.0,\"#f0f921\"]]}],\"choropleth\":[{\"type\":\"choropleth\",\"colorbar\":{\"outlinewidth\":0,\"ticks\":\"\"}}],\"histogram2d\":[{\"type\":\"histogram2d\",\"colorbar\":{\"outlinewidth\":0,\"ticks\":\"\"},\"colorscale\":[[0.0,\"#0d0887\"],[0.1111111111111111,\"#46039f\"],[0.2222222222222222,\"#7201a8\"],[0.3333333333333333,\"#9c179e\"],[0.4444444444444444,\"#bd3786\"],[0.5555555555555556,\"#d8576b\"],[0.6666666666666666,\"#ed7953\"],[0.7777777777777778,\"#fb9f3a\"],[0.8888888888888888,\"#fdca26\"],[1.0,\"#f0f921\"]]}],\"heatmap\":[{\"type\":\"heatmap\",\"colorbar\":{\"outlinewidth\":0,\"ticks\":\"\"},\"colorscale\":[[0.0,\"#0d0887\"],[0.1111111111111111,\"#46039f\"],[0.2222222222222222,\"#7201a8\"],[0.3333333333333333,\"#9c179e\"],[0.4444444444444444,\"#bd3786\"],[0.5555555555555556,\"#d8576b\"],[0.6666666666666666,\"#ed7953\"],[0.7777777777777778,\"#fb9f3a\"],[0.8888888888888888,\"#fdca26\"],[1.0,\"#f0f921\"]]}],\"heatmapgl\":[{\"type\":\"heatmapgl\",\"colorbar\":{\"outlinewidth\":0,\"ticks\":\"\"},\"colorscale\":[[0.0,\"#0d0887\"],[0.1111111111111111,\"#46039f\"],[0.2222222222222222,\"#7201a8\"],[0.3333333333333333,\"#9c179e\"],[0.4444444444444444,\"#bd3786\"],[0.5555555555555556,\"#d8576b\"],[0.6666666666666666,\"#ed7953\"],[0.7777777777777778,\"#fb9f3a\"],[0.8888888888888888,\"#fdca26\"],[1.0,\"#f0f921\"]]}],\"contourcarpet\":[{\"type\":\"contourcarpet\",\"colorbar\":{\"outlinewidth\":0,\"ticks\":\"\"}}],\"contour\":[{\"type\":\"contour\",\"colorbar\":{\"outlinewidth\":0,\"ticks\":\"\"},\"colorscale\":[[0.0,\"#0d0887\"],[0.1111111111111111,\"#46039f\"],[0.2222222222222222,\"#7201a8\"],[0.3333333333333333,\"#9c179e\"],[0.4444444444444444,\"#bd3786\"],[0.5555555555555556,\"#d8576b\"],[0.6666666666666666,\"#ed7953\"],[0.7777777777777778,\"#fb9f3a\"],[0.8888888888888888,\"#fdca26\"],[1.0,\"#f0f921\"]]}],\"surface\":[{\"type\":\"surface\",\"colorbar\":{\"outlinewidth\":0,\"ticks\":\"\"},\"colorscale\":[[0.0,\"#0d0887\"],[0.1111111111111111,\"#46039f\"],[0.2222222222222222,\"#7201a8\"],[0.3333333333333333,\"#9c179e\"],[0.4444444444444444,\"#bd3786\"],[0.5555555555555556,\"#d8576b\"],[0.6666666666666666,\"#ed7953\"],[0.7777777777777778,\"#fb9f3a\"],[0.8888888888888888,\"#fdca26\"],[1.0,\"#f0f921\"]]}],\"mesh3d\":[{\"type\":\"mesh3d\",\"colorbar\":{\"outlinewidth\":0,\"ticks\":\"\"}}],\"scatter\":[{\"fillpattern\":{\"fillmode\":\"overlay\",\"size\":10,\"solidity\":0.2},\"type\":\"scatter\"}],\"parcoords\":[{\"type\":\"parcoords\",\"line\":{\"colorbar\":{\"outlinewidth\":0,\"ticks\":\"\"}}}],\"scatterpolargl\":[{\"type\":\"scatterpolargl\",\"marker\":{\"colorbar\":{\"outlinewidth\":0,\"ticks\":\"\"}}}],\"bar\":[{\"error_x\":{\"color\":\"#2a3f5f\"},\"error_y\":{\"color\":\"#2a3f5f\"},\"marker\":{\"line\":{\"color\":\"#E5ECF6\",\"width\":0.5},\"pattern\":{\"fillmode\":\"overlay\",\"size\":10,\"solidity\":0.2}},\"type\":\"bar\"}],\"scattergeo\":[{\"type\":\"scattergeo\",\"marker\":{\"colorbar\":{\"outlinewidth\":0,\"ticks\":\"\"}}}],\"scatterpolar\":[{\"type\":\"scatterpolar\",\"marker\":{\"colorbar\":{\"outlinewidth\":0,\"ticks\":\"\"}}}],\"histogram\":[{\"marker\":{\"pattern\":{\"fillmode\":\"overlay\",\"size\":10,\"solidity\":0.2}},\"type\":\"histogram\"}],\"scattergl\":[{\"type\":\"scattergl\",\"marker\":{\"colorbar\":{\"outlinewidth\":0,\"ticks\":\"\"}}}],\"scatter3d\":[{\"type\":\"scatter3d\",\"line\":{\"colorbar\":{\"outlinewidth\":0,\"ticks\":\"\"}},\"marker\":{\"colorbar\":{\"outlinewidth\":0,\"ticks\":\"\"}}}],\"scattermapbox\":[{\"type\":\"scattermapbox\",\"marker\":{\"colorbar\":{\"outlinewidth\":0,\"ticks\":\"\"}}}],\"scatterternary\":[{\"type\":\"scatterternary\",\"marker\":{\"colorbar\":{\"outlinewidth\":0,\"ticks\":\"\"}}}],\"scattercarpet\":[{\"type\":\"scattercarpet\",\"marker\":{\"colorbar\":{\"outlinewidth\":0,\"ticks\":\"\"}}}],\"carpet\":[{\"aaxis\":{\"endlinecolor\":\"#2a3f5f\",\"gridcolor\":\"white\",\"linecolor\":\"white\",\"minorgridcolor\":\"white\",\"startlinecolor\":\"#2a3f5f\"},\"baxis\":{\"endlinecolor\":\"#2a3f5f\",\"gridcolor\":\"white\",\"linecolor\":\"white\",\"minorgridcolor\":\"white\",\"startlinecolor\":\"#2a3f5f\"},\"type\":\"carpet\"}],\"table\":[{\"cells\":{\"fill\":{\"color\":\"#EBF0F8\"},\"line\":{\"color\":\"white\"}},\"header\":{\"fill\":{\"color\":\"#C8D4E3\"},\"line\":{\"color\":\"white\"}},\"type\":\"table\"}],\"barpolar\":[{\"marker\":{\"line\":{\"color\":\"#E5ECF6\",\"width\":0.5},\"pattern\":{\"fillmode\":\"overlay\",\"size\":10,\"solidity\":0.2}},\"type\":\"barpolar\"}],\"pie\":[{\"automargin\":true,\"type\":\"pie\"}]},\"layout\":{\"autotypenumbers\":\"strict\",\"colorway\":[\"#636efa\",\"#EF553B\",\"#00cc96\",\"#ab63fa\",\"#FFA15A\",\"#19d3f3\",\"#FF6692\",\"#B6E880\",\"#FF97FF\",\"#FECB52\"],\"font\":{\"color\":\"#2a3f5f\"},\"hovermode\":\"closest\",\"hoverlabel\":{\"align\":\"left\"},\"paper_bgcolor\":\"white\",\"plot_bgcolor\":\"#E5ECF6\",\"polar\":{\"bgcolor\":\"#E5ECF6\",\"angularaxis\":{\"gridcolor\":\"white\",\"linecolor\":\"white\",\"ticks\":\"\"},\"radialaxis\":{\"gridcolor\":\"white\",\"linecolor\":\"white\",\"ticks\":\"\"}},\"ternary\":{\"bgcolor\":\"#E5ECF6\",\"aaxis\":{\"gridcolor\":\"white\",\"linecolor\":\"white\",\"ticks\":\"\"},\"baxis\":{\"gridcolor\":\"white\",\"linecolor\":\"white\",\"ticks\":\"\"},\"caxis\":{\"gridcolor\":\"white\",\"linecolor\":\"white\",\"ticks\":\"\"}},\"coloraxis\":{\"colorbar\":{\"outlinewidth\":0,\"ticks\":\"\"}},\"colorscale\":{\"sequential\":[[0.0,\"#0d0887\"],[0.1111111111111111,\"#46039f\"],[0.2222222222222222,\"#7201a8\"],[0.3333333333333333,\"#9c179e\"],[0.4444444444444444,\"#bd3786\"],[0.5555555555555556,\"#d8576b\"],[0.6666666666666666,\"#ed7953\"],[0.7777777777777778,\"#fb9f3a\"],[0.8888888888888888,\"#fdca26\"],[1.0,\"#f0f921\"]],\"sequentialminus\":[[0.0,\"#0d0887\"],[0.1111111111111111,\"#46039f\"],[0.2222222222222222,\"#7201a8\"],[0.3333333333333333,\"#9c179e\"],[0.4444444444444444,\"#bd3786\"],[0.5555555555555556,\"#d8576b\"],[0.6666666666666666,\"#ed7953\"],[0.7777777777777778,\"#fb9f3a\"],[0.8888888888888888,\"#fdca26\"],[1.0,\"#f0f921\"]],\"diverging\":[[0,\"#8e0152\"],[0.1,\"#c51b7d\"],[0.2,\"#de77ae\"],[0.3,\"#f1b6da\"],[0.4,\"#fde0ef\"],[0.5,\"#f7f7f7\"],[0.6,\"#e6f5d0\"],[0.7,\"#b8e186\"],[0.8,\"#7fbc41\"],[0.9,\"#4d9221\"],[1,\"#276419\"]]},\"xaxis\":{\"gridcolor\":\"white\",\"linecolor\":\"white\",\"ticks\":\"\",\"title\":{\"standoff\":15},\"zerolinecolor\":\"white\",\"automargin\":true,\"zerolinewidth\":2},\"yaxis\":{\"gridcolor\":\"white\",\"linecolor\":\"white\",\"ticks\":\"\",\"title\":{\"standoff\":15},\"zerolinecolor\":\"white\",\"automargin\":true,\"zerolinewidth\":2},\"scene\":{\"xaxis\":{\"backgroundcolor\":\"#E5ECF6\",\"gridcolor\":\"white\",\"linecolor\":\"white\",\"showbackground\":true,\"ticks\":\"\",\"zerolinecolor\":\"white\",\"gridwidth\":2},\"yaxis\":{\"backgroundcolor\":\"#E5ECF6\",\"gridcolor\":\"white\",\"linecolor\":\"white\",\"showbackground\":true,\"ticks\":\"\",\"zerolinecolor\":\"white\",\"gridwidth\":2},\"zaxis\":{\"backgroundcolor\":\"#E5ECF6\",\"gridcolor\":\"white\",\"linecolor\":\"white\",\"showbackground\":true,\"ticks\":\"\",\"zerolinecolor\":\"white\",\"gridwidth\":2}},\"shapedefaults\":{\"line\":{\"color\":\"#2a3f5f\"}},\"annotationdefaults\":{\"arrowcolor\":\"#2a3f5f\",\"arrowhead\":0,\"arrowwidth\":1},\"geo\":{\"bgcolor\":\"white\",\"landcolor\":\"#E5ECF6\",\"subunitcolor\":\"white\",\"showland\":true,\"showlakes\":true,\"lakecolor\":\"white\"},\"title\":{\"x\":0.05},\"mapbox\":{\"style\":\"light\"}}},\"xaxis\":{\"anchor\":\"y\",\"domain\":[0.0,1.0],\"title\":{\"text\":\"corr_dimension\"}},\"yaxis\":{\"anchor\":\"x\",\"domain\":[0.0,1.0],\"title\":{\"text\":\"fidelity_avg\"}},\"legend\":{\"title\":{\"text\":\"rank_str\"},\"tracegroupgap\":0},\"margin\":{\"t\":60}},                        {\"responsive\": true}                    ).then(function(){\n",
       "                            \n",
       "var gd = document.getElementById('f552a20c-904d-4606-8168-0228bba3cf11');\n",
       "var x = new MutationObserver(function (mutations, observer) {{\n",
       "        var display = window.getComputedStyle(gd).display;\n",
       "        if (!display || display === 'none') {{\n",
       "            console.log([gd, 'removed!']);\n",
       "            Plotly.purge(gd);\n",
       "            observer.disconnect();\n",
       "        }}\n",
       "}});\n",
       "\n",
       "// Listen for the removal of the full notebook cells\n",
       "var notebookContainer = gd.closest('#notebook-container');\n",
       "if (notebookContainer) {{\n",
       "    x.observe(notebookContainer, {childList: true});\n",
       "}}\n",
       "\n",
       "// Listen for the clearing of the current output cell\n",
       "var outputEl = gd.closest('.output');\n",
       "if (outputEl) {{\n",
       "    x.observe(outputEl, {childList: true});\n",
       "}}\n",
       "\n",
       "                        })                };                });            </script>        </div>"
      ]
     },
     "metadata": {},
     "output_type": "display_data"
    }
   ],
   "source": [
    "px.scatter(df, x= 'corr_dimension', y='fidelity_avg', color='rank_str')"
   ]
  },
  {
   "cell_type": "code",
   "execution_count": 48,
   "metadata": {},
   "outputs": [
    {
     "data": {
      "application/vnd.plotly.v1+json": {
       "config": {
        "plotlyServerURL": "https://plot.ly"
       },
       "data": [
        {
         "customdata": [
          [
           "3"
          ],
          [
           "6"
          ],
          [
           "10"
          ],
          [
           "8"
          ],
          [
           "12"
          ]
         ],
         "hovertemplate": "corr_dimension=2<br>rank_size=%{x}<br>fidelity_avg=%{y}<br>rank_str=%{customdata[0]}<extra></extra>",
         "legendgroup": "2",
         "marker": {
          "color": "#636efa",
          "symbol": "circle"
         },
         "mode": "markers",
         "name": "2",
         "orientation": "v",
         "showlegend": true,
         "type": "scatter",
         "x": [
          43875,
          87750,
          146250,
          117000,
          175500
         ],
         "xaxis": "x",
         "y": [
          0.5803603240460522,
          0.09799152658093035,
          0.09254165786844085,
          0.089265822876787,
          0.09049901277090067
         ],
         "yaxis": "y"
        },
        {
         "customdata": [
          [
           "[3, 20, 100]"
          ],
          [
           "[6, 20, 100]"
          ],
          [
           "[10, 20, 100]"
          ],
          [
           "[3, 30, 100]"
          ],
          [
           "[10, 39, 375]"
          ],
          [
           "[6, 30, 100]"
          ],
          [
           "[10, 30, 100]"
          ],
          [
           "[8, 39, 375]"
          ],
          [
           "[6, 39, 375]"
          ],
          [
           "[3, 39, 375]"
          ]
         ],
         "hovertemplate": "corr_dimension=3<br>rank_size=%{x}<br>fidelity_avg=%{y}<br>rank_str=%{customdata[0]}<extra></extra>",
         "legendgroup": "3",
         "marker": {
          "color": "#EF553B",
          "symbol": "circle"
         },
         "mode": "markers",
         "name": "3",
         "orientation": "v",
         "showlegend": true,
         "type": "scatter",
         "x": [
          6000,
          12000,
          20000,
          9000,
          146250,
          18000,
          30000,
          117000,
          87750,
          43875
         ],
         "xaxis": "x",
         "y": [
          0.58394118243031,
          0.09665445428572216,
          0.09376070171949248,
          0.5846094054789341,
          0.0860443760854879,
          0.09902413895222492,
          0.09871784661994959,
          0.09703009889645425,
          0.09692880455391246,
          0.585120166996496
         ],
         "yaxis": "y"
        },
        {
         "customdata": [
          [
           "[3, 2, 3, 20]"
          ],
          [
           "[6, 2, 3, 20]"
          ],
          [
           "[10, 2, 3, 20]"
          ],
          [
           "[3, 2, 3, 25]"
          ],
          [
           "[6, 2, 3, 25]"
          ],
          [
           "[10, 2, 3, 25]"
          ],
          [
           "[3, 13, 3, 20]"
          ],
          [
           "[6, 13, 3, 20]"
          ],
          [
           "[3, 13, 3, 200]"
          ],
          [
           "[6, 13, 3, 200]"
          ],
          [
           "[10, 13, 3, 200]"
          ],
          [
           "[8, 13, 3, 200]"
          ],
          [
           "[3, 13, 3, 375]"
          ],
          [
           "[6, 13, 3, 375]"
          ],
          [
           "[10, 13, 3, 375]"
          ],
          [
           "[8, 13, 3, 375]"
          ],
          [
           "[3, 3, 2, 25]"
          ],
          [
           "[3, 5, 3, 25]"
          ],
          [
           "[3, 13, 3, 25]"
          ],
          [
           "[6, 13, 3, 25]"
          ]
         ],
         "hovertemplate": "corr_dimension=4<br>rank_size=%{x}<br>fidelity_avg=%{y}<br>rank_str=%{customdata[0]}<extra></extra>",
         "legendgroup": "4",
         "marker": {
          "color": "#00cc96",
          "symbol": "circle"
         },
         "mode": "markers",
         "name": "4",
         "orientation": "v",
         "showlegend": true,
         "type": "scatter",
         "x": [
          360,
          720,
          1200,
          450,
          900,
          1500,
          2340,
          4680,
          23400,
          46800,
          78000,
          62400,
          43875,
          87750,
          146250,
          117000,
          450,
          1125,
          2925,
          5850
         ],
         "xaxis": "x",
         "y": [
          0.6408704804808647,
          0.20053127073427535,
          0.19860494738766066,
          0.1668278927072614,
          0.17512862443368366,
          0.1820107129576399,
          0.5919548772191663,
          0.5979028304626408,
          0.5850495245390427,
          0.5075664313129746,
          0.08702579430640703,
          0.09694127734073543,
          0.5808477739190705,
          0.09901927217048578,
          0.10041255413156824,
          0.09618223830764902,
          0.6589548245891538,
          0.6381737275622825,
          0.5901702405936582,
          0.5896976675177199
         ],
         "yaxis": "y"
        }
       ],
       "layout": {
        "legend": {
         "title": {
          "text": "corr_dimension"
         },
         "tracegroupgap": 0
        },
        "margin": {
         "t": 60
        },
        "template": {
         "data": {
          "bar": [
           {
            "error_x": {
             "color": "#2a3f5f"
            },
            "error_y": {
             "color": "#2a3f5f"
            },
            "marker": {
             "line": {
              "color": "#E5ECF6",
              "width": 0.5
             },
             "pattern": {
              "fillmode": "overlay",
              "size": 10,
              "solidity": 0.2
             }
            },
            "type": "bar"
           }
          ],
          "barpolar": [
           {
            "marker": {
             "line": {
              "color": "#E5ECF6",
              "width": 0.5
             },
             "pattern": {
              "fillmode": "overlay",
              "size": 10,
              "solidity": 0.2
             }
            },
            "type": "barpolar"
           }
          ],
          "carpet": [
           {
            "aaxis": {
             "endlinecolor": "#2a3f5f",
             "gridcolor": "white",
             "linecolor": "white",
             "minorgridcolor": "white",
             "startlinecolor": "#2a3f5f"
            },
            "baxis": {
             "endlinecolor": "#2a3f5f",
             "gridcolor": "white",
             "linecolor": "white",
             "minorgridcolor": "white",
             "startlinecolor": "#2a3f5f"
            },
            "type": "carpet"
           }
          ],
          "choropleth": [
           {
            "colorbar": {
             "outlinewidth": 0,
             "ticks": ""
            },
            "type": "choropleth"
           }
          ],
          "contour": [
           {
            "colorbar": {
             "outlinewidth": 0,
             "ticks": ""
            },
            "colorscale": [
             [
              0,
              "#0d0887"
             ],
             [
              0.1111111111111111,
              "#46039f"
             ],
             [
              0.2222222222222222,
              "#7201a8"
             ],
             [
              0.3333333333333333,
              "#9c179e"
             ],
             [
              0.4444444444444444,
              "#bd3786"
             ],
             [
              0.5555555555555556,
              "#d8576b"
             ],
             [
              0.6666666666666666,
              "#ed7953"
             ],
             [
              0.7777777777777778,
              "#fb9f3a"
             ],
             [
              0.8888888888888888,
              "#fdca26"
             ],
             [
              1,
              "#f0f921"
             ]
            ],
            "type": "contour"
           }
          ],
          "contourcarpet": [
           {
            "colorbar": {
             "outlinewidth": 0,
             "ticks": ""
            },
            "type": "contourcarpet"
           }
          ],
          "heatmap": [
           {
            "colorbar": {
             "outlinewidth": 0,
             "ticks": ""
            },
            "colorscale": [
             [
              0,
              "#0d0887"
             ],
             [
              0.1111111111111111,
              "#46039f"
             ],
             [
              0.2222222222222222,
              "#7201a8"
             ],
             [
              0.3333333333333333,
              "#9c179e"
             ],
             [
              0.4444444444444444,
              "#bd3786"
             ],
             [
              0.5555555555555556,
              "#d8576b"
             ],
             [
              0.6666666666666666,
              "#ed7953"
             ],
             [
              0.7777777777777778,
              "#fb9f3a"
             ],
             [
              0.8888888888888888,
              "#fdca26"
             ],
             [
              1,
              "#f0f921"
             ]
            ],
            "type": "heatmap"
           }
          ],
          "heatmapgl": [
           {
            "colorbar": {
             "outlinewidth": 0,
             "ticks": ""
            },
            "colorscale": [
             [
              0,
              "#0d0887"
             ],
             [
              0.1111111111111111,
              "#46039f"
             ],
             [
              0.2222222222222222,
              "#7201a8"
             ],
             [
              0.3333333333333333,
              "#9c179e"
             ],
             [
              0.4444444444444444,
              "#bd3786"
             ],
             [
              0.5555555555555556,
              "#d8576b"
             ],
             [
              0.6666666666666666,
              "#ed7953"
             ],
             [
              0.7777777777777778,
              "#fb9f3a"
             ],
             [
              0.8888888888888888,
              "#fdca26"
             ],
             [
              1,
              "#f0f921"
             ]
            ],
            "type": "heatmapgl"
           }
          ],
          "histogram": [
           {
            "marker": {
             "pattern": {
              "fillmode": "overlay",
              "size": 10,
              "solidity": 0.2
             }
            },
            "type": "histogram"
           }
          ],
          "histogram2d": [
           {
            "colorbar": {
             "outlinewidth": 0,
             "ticks": ""
            },
            "colorscale": [
             [
              0,
              "#0d0887"
             ],
             [
              0.1111111111111111,
              "#46039f"
             ],
             [
              0.2222222222222222,
              "#7201a8"
             ],
             [
              0.3333333333333333,
              "#9c179e"
             ],
             [
              0.4444444444444444,
              "#bd3786"
             ],
             [
              0.5555555555555556,
              "#d8576b"
             ],
             [
              0.6666666666666666,
              "#ed7953"
             ],
             [
              0.7777777777777778,
              "#fb9f3a"
             ],
             [
              0.8888888888888888,
              "#fdca26"
             ],
             [
              1,
              "#f0f921"
             ]
            ],
            "type": "histogram2d"
           }
          ],
          "histogram2dcontour": [
           {
            "colorbar": {
             "outlinewidth": 0,
             "ticks": ""
            },
            "colorscale": [
             [
              0,
              "#0d0887"
             ],
             [
              0.1111111111111111,
              "#46039f"
             ],
             [
              0.2222222222222222,
              "#7201a8"
             ],
             [
              0.3333333333333333,
              "#9c179e"
             ],
             [
              0.4444444444444444,
              "#bd3786"
             ],
             [
              0.5555555555555556,
              "#d8576b"
             ],
             [
              0.6666666666666666,
              "#ed7953"
             ],
             [
              0.7777777777777778,
              "#fb9f3a"
             ],
             [
              0.8888888888888888,
              "#fdca26"
             ],
             [
              1,
              "#f0f921"
             ]
            ],
            "type": "histogram2dcontour"
           }
          ],
          "mesh3d": [
           {
            "colorbar": {
             "outlinewidth": 0,
             "ticks": ""
            },
            "type": "mesh3d"
           }
          ],
          "parcoords": [
           {
            "line": {
             "colorbar": {
              "outlinewidth": 0,
              "ticks": ""
             }
            },
            "type": "parcoords"
           }
          ],
          "pie": [
           {
            "automargin": true,
            "type": "pie"
           }
          ],
          "scatter": [
           {
            "fillpattern": {
             "fillmode": "overlay",
             "size": 10,
             "solidity": 0.2
            },
            "type": "scatter"
           }
          ],
          "scatter3d": [
           {
            "line": {
             "colorbar": {
              "outlinewidth": 0,
              "ticks": ""
             }
            },
            "marker": {
             "colorbar": {
              "outlinewidth": 0,
              "ticks": ""
             }
            },
            "type": "scatter3d"
           }
          ],
          "scattercarpet": [
           {
            "marker": {
             "colorbar": {
              "outlinewidth": 0,
              "ticks": ""
             }
            },
            "type": "scattercarpet"
           }
          ],
          "scattergeo": [
           {
            "marker": {
             "colorbar": {
              "outlinewidth": 0,
              "ticks": ""
             }
            },
            "type": "scattergeo"
           }
          ],
          "scattergl": [
           {
            "marker": {
             "colorbar": {
              "outlinewidth": 0,
              "ticks": ""
             }
            },
            "type": "scattergl"
           }
          ],
          "scattermapbox": [
           {
            "marker": {
             "colorbar": {
              "outlinewidth": 0,
              "ticks": ""
             }
            },
            "type": "scattermapbox"
           }
          ],
          "scatterpolar": [
           {
            "marker": {
             "colorbar": {
              "outlinewidth": 0,
              "ticks": ""
             }
            },
            "type": "scatterpolar"
           }
          ],
          "scatterpolargl": [
           {
            "marker": {
             "colorbar": {
              "outlinewidth": 0,
              "ticks": ""
             }
            },
            "type": "scatterpolargl"
           }
          ],
          "scatterternary": [
           {
            "marker": {
             "colorbar": {
              "outlinewidth": 0,
              "ticks": ""
             }
            },
            "type": "scatterternary"
           }
          ],
          "surface": [
           {
            "colorbar": {
             "outlinewidth": 0,
             "ticks": ""
            },
            "colorscale": [
             [
              0,
              "#0d0887"
             ],
             [
              0.1111111111111111,
              "#46039f"
             ],
             [
              0.2222222222222222,
              "#7201a8"
             ],
             [
              0.3333333333333333,
              "#9c179e"
             ],
             [
              0.4444444444444444,
              "#bd3786"
             ],
             [
              0.5555555555555556,
              "#d8576b"
             ],
             [
              0.6666666666666666,
              "#ed7953"
             ],
             [
              0.7777777777777778,
              "#fb9f3a"
             ],
             [
              0.8888888888888888,
              "#fdca26"
             ],
             [
              1,
              "#f0f921"
             ]
            ],
            "type": "surface"
           }
          ],
          "table": [
           {
            "cells": {
             "fill": {
              "color": "#EBF0F8"
             },
             "line": {
              "color": "white"
             }
            },
            "header": {
             "fill": {
              "color": "#C8D4E3"
             },
             "line": {
              "color": "white"
             }
            },
            "type": "table"
           }
          ]
         },
         "layout": {
          "annotationdefaults": {
           "arrowcolor": "#2a3f5f",
           "arrowhead": 0,
           "arrowwidth": 1
          },
          "autotypenumbers": "strict",
          "coloraxis": {
           "colorbar": {
            "outlinewidth": 0,
            "ticks": ""
           }
          },
          "colorscale": {
           "diverging": [
            [
             0,
             "#8e0152"
            ],
            [
             0.1,
             "#c51b7d"
            ],
            [
             0.2,
             "#de77ae"
            ],
            [
             0.3,
             "#f1b6da"
            ],
            [
             0.4,
             "#fde0ef"
            ],
            [
             0.5,
             "#f7f7f7"
            ],
            [
             0.6,
             "#e6f5d0"
            ],
            [
             0.7,
             "#b8e186"
            ],
            [
             0.8,
             "#7fbc41"
            ],
            [
             0.9,
             "#4d9221"
            ],
            [
             1,
             "#276419"
            ]
           ],
           "sequential": [
            [
             0,
             "#0d0887"
            ],
            [
             0.1111111111111111,
             "#46039f"
            ],
            [
             0.2222222222222222,
             "#7201a8"
            ],
            [
             0.3333333333333333,
             "#9c179e"
            ],
            [
             0.4444444444444444,
             "#bd3786"
            ],
            [
             0.5555555555555556,
             "#d8576b"
            ],
            [
             0.6666666666666666,
             "#ed7953"
            ],
            [
             0.7777777777777778,
             "#fb9f3a"
            ],
            [
             0.8888888888888888,
             "#fdca26"
            ],
            [
             1,
             "#f0f921"
            ]
           ],
           "sequentialminus": [
            [
             0,
             "#0d0887"
            ],
            [
             0.1111111111111111,
             "#46039f"
            ],
            [
             0.2222222222222222,
             "#7201a8"
            ],
            [
             0.3333333333333333,
             "#9c179e"
            ],
            [
             0.4444444444444444,
             "#bd3786"
            ],
            [
             0.5555555555555556,
             "#d8576b"
            ],
            [
             0.6666666666666666,
             "#ed7953"
            ],
            [
             0.7777777777777778,
             "#fb9f3a"
            ],
            [
             0.8888888888888888,
             "#fdca26"
            ],
            [
             1,
             "#f0f921"
            ]
           ]
          },
          "colorway": [
           "#636efa",
           "#EF553B",
           "#00cc96",
           "#ab63fa",
           "#FFA15A",
           "#19d3f3",
           "#FF6692",
           "#B6E880",
           "#FF97FF",
           "#FECB52"
          ],
          "font": {
           "color": "#2a3f5f"
          },
          "geo": {
           "bgcolor": "white",
           "lakecolor": "white",
           "landcolor": "#E5ECF6",
           "showlakes": true,
           "showland": true,
           "subunitcolor": "white"
          },
          "hoverlabel": {
           "align": "left"
          },
          "hovermode": "closest",
          "mapbox": {
           "style": "light"
          },
          "paper_bgcolor": "white",
          "plot_bgcolor": "#E5ECF6",
          "polar": {
           "angularaxis": {
            "gridcolor": "white",
            "linecolor": "white",
            "ticks": ""
           },
           "bgcolor": "#E5ECF6",
           "radialaxis": {
            "gridcolor": "white",
            "linecolor": "white",
            "ticks": ""
           }
          },
          "scene": {
           "xaxis": {
            "backgroundcolor": "#E5ECF6",
            "gridcolor": "white",
            "gridwidth": 2,
            "linecolor": "white",
            "showbackground": true,
            "ticks": "",
            "zerolinecolor": "white"
           },
           "yaxis": {
            "backgroundcolor": "#E5ECF6",
            "gridcolor": "white",
            "gridwidth": 2,
            "linecolor": "white",
            "showbackground": true,
            "ticks": "",
            "zerolinecolor": "white"
           },
           "zaxis": {
            "backgroundcolor": "#E5ECF6",
            "gridcolor": "white",
            "gridwidth": 2,
            "linecolor": "white",
            "showbackground": true,
            "ticks": "",
            "zerolinecolor": "white"
           }
          },
          "shapedefaults": {
           "line": {
            "color": "#2a3f5f"
           }
          },
          "ternary": {
           "aaxis": {
            "gridcolor": "white",
            "linecolor": "white",
            "ticks": ""
           },
           "baxis": {
            "gridcolor": "white",
            "linecolor": "white",
            "ticks": ""
           },
           "bgcolor": "#E5ECF6",
           "caxis": {
            "gridcolor": "white",
            "linecolor": "white",
            "ticks": ""
           }
          },
          "title": {
           "x": 0.05
          },
          "xaxis": {
           "automargin": true,
           "gridcolor": "white",
           "linecolor": "white",
           "ticks": "",
           "title": {
            "standoff": 15
           },
           "zerolinecolor": "white",
           "zerolinewidth": 2
          },
          "yaxis": {
           "automargin": true,
           "gridcolor": "white",
           "linecolor": "white",
           "ticks": "",
           "title": {
            "standoff": 15
           },
           "zerolinecolor": "white",
           "zerolinewidth": 2
          }
         }
        },
        "xaxis": {
         "anchor": "y",
         "domain": [
          0,
          1
         ],
         "title": {
          "text": "rank_size"
         }
        },
        "yaxis": {
         "anchor": "x",
         "domain": [
          0,
          1
         ],
         "title": {
          "text": "fidelity_avg"
         }
        }
       }
      },
      "text/html": [
       "<div>                            <div id=\"03f0cf46-2945-489b-b5fe-dfb67dd81b5d\" class=\"plotly-graph-div\" style=\"height:525px; width:100%;\"></div>            <script type=\"text/javascript\">                require([\"plotly\"], function(Plotly) {                    window.PLOTLYENV=window.PLOTLYENV || {};                                    if (document.getElementById(\"03f0cf46-2945-489b-b5fe-dfb67dd81b5d\")) {                    Plotly.newPlot(                        \"03f0cf46-2945-489b-b5fe-dfb67dd81b5d\",                        [{\"customdata\":[[\"3\"],[\"6\"],[\"10\"],[\"8\"],[\"12\"]],\"hovertemplate\":\"corr_dimension=2<br>rank_size=%{x}<br>fidelity_avg=%{y}<br>rank_str=%{customdata[0]}<extra></extra>\",\"legendgroup\":\"2\",\"marker\":{\"color\":\"#636efa\",\"symbol\":\"circle\"},\"mode\":\"markers\",\"name\":\"2\",\"orientation\":\"v\",\"showlegend\":true,\"x\":[43875,87750,146250,117000,175500],\"xaxis\":\"x\",\"y\":[0.5803603240460522,0.09799152658093035,0.09254165786844085,0.089265822876787,0.09049901277090067],\"yaxis\":\"y\",\"type\":\"scatter\"},{\"customdata\":[[\"[3, 20, 100]\"],[\"[6, 20, 100]\"],[\"[10, 20, 100]\"],[\"[3, 30, 100]\"],[\"[10, 39, 375]\"],[\"[6, 30, 100]\"],[\"[10, 30, 100]\"],[\"[8, 39, 375]\"],[\"[6, 39, 375]\"],[\"[3, 39, 375]\"]],\"hovertemplate\":\"corr_dimension=3<br>rank_size=%{x}<br>fidelity_avg=%{y}<br>rank_str=%{customdata[0]}<extra></extra>\",\"legendgroup\":\"3\",\"marker\":{\"color\":\"#EF553B\",\"symbol\":\"circle\"},\"mode\":\"markers\",\"name\":\"3\",\"orientation\":\"v\",\"showlegend\":true,\"x\":[6000,12000,20000,9000,146250,18000,30000,117000,87750,43875],\"xaxis\":\"x\",\"y\":[0.58394118243031,0.09665445428572216,0.09376070171949248,0.5846094054789341,0.0860443760854879,0.09902413895222492,0.09871784661994959,0.09703009889645425,0.09692880455391246,0.585120166996496],\"yaxis\":\"y\",\"type\":\"scatter\"},{\"customdata\":[[\"[3, 2, 3, 20]\"],[\"[6, 2, 3, 20]\"],[\"[10, 2, 3, 20]\"],[\"[3, 2, 3, 25]\"],[\"[6, 2, 3, 25]\"],[\"[10, 2, 3, 25]\"],[\"[3, 13, 3, 20]\"],[\"[6, 13, 3, 20]\"],[\"[3, 13, 3, 200]\"],[\"[6, 13, 3, 200]\"],[\"[10, 13, 3, 200]\"],[\"[8, 13, 3, 200]\"],[\"[3, 13, 3, 375]\"],[\"[6, 13, 3, 375]\"],[\"[10, 13, 3, 375]\"],[\"[8, 13, 3, 375]\"],[\"[3, 3, 2, 25]\"],[\"[3, 5, 3, 25]\"],[\"[3, 13, 3, 25]\"],[\"[6, 13, 3, 25]\"]],\"hovertemplate\":\"corr_dimension=4<br>rank_size=%{x}<br>fidelity_avg=%{y}<br>rank_str=%{customdata[0]}<extra></extra>\",\"legendgroup\":\"4\",\"marker\":{\"color\":\"#00cc96\",\"symbol\":\"circle\"},\"mode\":\"markers\",\"name\":\"4\",\"orientation\":\"v\",\"showlegend\":true,\"x\":[360,720,1200,450,900,1500,2340,4680,23400,46800,78000,62400,43875,87750,146250,117000,450,1125,2925,5850],\"xaxis\":\"x\",\"y\":[0.6408704804808647,0.20053127073427535,0.19860494738766066,0.1668278927072614,0.17512862443368366,0.1820107129576399,0.5919548772191663,0.5979028304626408,0.5850495245390427,0.5075664313129746,0.08702579430640703,0.09694127734073543,0.5808477739190705,0.09901927217048578,0.10041255413156824,0.09618223830764902,0.6589548245891538,0.6381737275622825,0.5901702405936582,0.5896976675177199],\"yaxis\":\"y\",\"type\":\"scatter\"}],                        {\"template\":{\"data\":{\"histogram2dcontour\":[{\"type\":\"histogram2dcontour\",\"colorbar\":{\"outlinewidth\":0,\"ticks\":\"\"},\"colorscale\":[[0.0,\"#0d0887\"],[0.1111111111111111,\"#46039f\"],[0.2222222222222222,\"#7201a8\"],[0.3333333333333333,\"#9c179e\"],[0.4444444444444444,\"#bd3786\"],[0.5555555555555556,\"#d8576b\"],[0.6666666666666666,\"#ed7953\"],[0.7777777777777778,\"#fb9f3a\"],[0.8888888888888888,\"#fdca26\"],[1.0,\"#f0f921\"]]}],\"choropleth\":[{\"type\":\"choropleth\",\"colorbar\":{\"outlinewidth\":0,\"ticks\":\"\"}}],\"histogram2d\":[{\"type\":\"histogram2d\",\"colorbar\":{\"outlinewidth\":0,\"ticks\":\"\"},\"colorscale\":[[0.0,\"#0d0887\"],[0.1111111111111111,\"#46039f\"],[0.2222222222222222,\"#7201a8\"],[0.3333333333333333,\"#9c179e\"],[0.4444444444444444,\"#bd3786\"],[0.5555555555555556,\"#d8576b\"],[0.6666666666666666,\"#ed7953\"],[0.7777777777777778,\"#fb9f3a\"],[0.8888888888888888,\"#fdca26\"],[1.0,\"#f0f921\"]]}],\"heatmap\":[{\"type\":\"heatmap\",\"colorbar\":{\"outlinewidth\":0,\"ticks\":\"\"},\"colorscale\":[[0.0,\"#0d0887\"],[0.1111111111111111,\"#46039f\"],[0.2222222222222222,\"#7201a8\"],[0.3333333333333333,\"#9c179e\"],[0.4444444444444444,\"#bd3786\"],[0.5555555555555556,\"#d8576b\"],[0.6666666666666666,\"#ed7953\"],[0.7777777777777778,\"#fb9f3a\"],[0.8888888888888888,\"#fdca26\"],[1.0,\"#f0f921\"]]}],\"heatmapgl\":[{\"type\":\"heatmapgl\",\"colorbar\":{\"outlinewidth\":0,\"ticks\":\"\"},\"colorscale\":[[0.0,\"#0d0887\"],[0.1111111111111111,\"#46039f\"],[0.2222222222222222,\"#7201a8\"],[0.3333333333333333,\"#9c179e\"],[0.4444444444444444,\"#bd3786\"],[0.5555555555555556,\"#d8576b\"],[0.6666666666666666,\"#ed7953\"],[0.7777777777777778,\"#fb9f3a\"],[0.8888888888888888,\"#fdca26\"],[1.0,\"#f0f921\"]]}],\"contourcarpet\":[{\"type\":\"contourcarpet\",\"colorbar\":{\"outlinewidth\":0,\"ticks\":\"\"}}],\"contour\":[{\"type\":\"contour\",\"colorbar\":{\"outlinewidth\":0,\"ticks\":\"\"},\"colorscale\":[[0.0,\"#0d0887\"],[0.1111111111111111,\"#46039f\"],[0.2222222222222222,\"#7201a8\"],[0.3333333333333333,\"#9c179e\"],[0.4444444444444444,\"#bd3786\"],[0.5555555555555556,\"#d8576b\"],[0.6666666666666666,\"#ed7953\"],[0.7777777777777778,\"#fb9f3a\"],[0.8888888888888888,\"#fdca26\"],[1.0,\"#f0f921\"]]}],\"surface\":[{\"type\":\"surface\",\"colorbar\":{\"outlinewidth\":0,\"ticks\":\"\"},\"colorscale\":[[0.0,\"#0d0887\"],[0.1111111111111111,\"#46039f\"],[0.2222222222222222,\"#7201a8\"],[0.3333333333333333,\"#9c179e\"],[0.4444444444444444,\"#bd3786\"],[0.5555555555555556,\"#d8576b\"],[0.6666666666666666,\"#ed7953\"],[0.7777777777777778,\"#fb9f3a\"],[0.8888888888888888,\"#fdca26\"],[1.0,\"#f0f921\"]]}],\"mesh3d\":[{\"type\":\"mesh3d\",\"colorbar\":{\"outlinewidth\":0,\"ticks\":\"\"}}],\"scatter\":[{\"fillpattern\":{\"fillmode\":\"overlay\",\"size\":10,\"solidity\":0.2},\"type\":\"scatter\"}],\"parcoords\":[{\"type\":\"parcoords\",\"line\":{\"colorbar\":{\"outlinewidth\":0,\"ticks\":\"\"}}}],\"scatterpolargl\":[{\"type\":\"scatterpolargl\",\"marker\":{\"colorbar\":{\"outlinewidth\":0,\"ticks\":\"\"}}}],\"bar\":[{\"error_x\":{\"color\":\"#2a3f5f\"},\"error_y\":{\"color\":\"#2a3f5f\"},\"marker\":{\"line\":{\"color\":\"#E5ECF6\",\"width\":0.5},\"pattern\":{\"fillmode\":\"overlay\",\"size\":10,\"solidity\":0.2}},\"type\":\"bar\"}],\"scattergeo\":[{\"type\":\"scattergeo\",\"marker\":{\"colorbar\":{\"outlinewidth\":0,\"ticks\":\"\"}}}],\"scatterpolar\":[{\"type\":\"scatterpolar\",\"marker\":{\"colorbar\":{\"outlinewidth\":0,\"ticks\":\"\"}}}],\"histogram\":[{\"marker\":{\"pattern\":{\"fillmode\":\"overlay\",\"size\":10,\"solidity\":0.2}},\"type\":\"histogram\"}],\"scattergl\":[{\"type\":\"scattergl\",\"marker\":{\"colorbar\":{\"outlinewidth\":0,\"ticks\":\"\"}}}],\"scatter3d\":[{\"type\":\"scatter3d\",\"line\":{\"colorbar\":{\"outlinewidth\":0,\"ticks\":\"\"}},\"marker\":{\"colorbar\":{\"outlinewidth\":0,\"ticks\":\"\"}}}],\"scattermapbox\":[{\"type\":\"scattermapbox\",\"marker\":{\"colorbar\":{\"outlinewidth\":0,\"ticks\":\"\"}}}],\"scatterternary\":[{\"type\":\"scatterternary\",\"marker\":{\"colorbar\":{\"outlinewidth\":0,\"ticks\":\"\"}}}],\"scattercarpet\":[{\"type\":\"scattercarpet\",\"marker\":{\"colorbar\":{\"outlinewidth\":0,\"ticks\":\"\"}}}],\"carpet\":[{\"aaxis\":{\"endlinecolor\":\"#2a3f5f\",\"gridcolor\":\"white\",\"linecolor\":\"white\",\"minorgridcolor\":\"white\",\"startlinecolor\":\"#2a3f5f\"},\"baxis\":{\"endlinecolor\":\"#2a3f5f\",\"gridcolor\":\"white\",\"linecolor\":\"white\",\"minorgridcolor\":\"white\",\"startlinecolor\":\"#2a3f5f\"},\"type\":\"carpet\"}],\"table\":[{\"cells\":{\"fill\":{\"color\":\"#EBF0F8\"},\"line\":{\"color\":\"white\"}},\"header\":{\"fill\":{\"color\":\"#C8D4E3\"},\"line\":{\"color\":\"white\"}},\"type\":\"table\"}],\"barpolar\":[{\"marker\":{\"line\":{\"color\":\"#E5ECF6\",\"width\":0.5},\"pattern\":{\"fillmode\":\"overlay\",\"size\":10,\"solidity\":0.2}},\"type\":\"barpolar\"}],\"pie\":[{\"automargin\":true,\"type\":\"pie\"}]},\"layout\":{\"autotypenumbers\":\"strict\",\"colorway\":[\"#636efa\",\"#EF553B\",\"#00cc96\",\"#ab63fa\",\"#FFA15A\",\"#19d3f3\",\"#FF6692\",\"#B6E880\",\"#FF97FF\",\"#FECB52\"],\"font\":{\"color\":\"#2a3f5f\"},\"hovermode\":\"closest\",\"hoverlabel\":{\"align\":\"left\"},\"paper_bgcolor\":\"white\",\"plot_bgcolor\":\"#E5ECF6\",\"polar\":{\"bgcolor\":\"#E5ECF6\",\"angularaxis\":{\"gridcolor\":\"white\",\"linecolor\":\"white\",\"ticks\":\"\"},\"radialaxis\":{\"gridcolor\":\"white\",\"linecolor\":\"white\",\"ticks\":\"\"}},\"ternary\":{\"bgcolor\":\"#E5ECF6\",\"aaxis\":{\"gridcolor\":\"white\",\"linecolor\":\"white\",\"ticks\":\"\"},\"baxis\":{\"gridcolor\":\"white\",\"linecolor\":\"white\",\"ticks\":\"\"},\"caxis\":{\"gridcolor\":\"white\",\"linecolor\":\"white\",\"ticks\":\"\"}},\"coloraxis\":{\"colorbar\":{\"outlinewidth\":0,\"ticks\":\"\"}},\"colorscale\":{\"sequential\":[[0.0,\"#0d0887\"],[0.1111111111111111,\"#46039f\"],[0.2222222222222222,\"#7201a8\"],[0.3333333333333333,\"#9c179e\"],[0.4444444444444444,\"#bd3786\"],[0.5555555555555556,\"#d8576b\"],[0.6666666666666666,\"#ed7953\"],[0.7777777777777778,\"#fb9f3a\"],[0.8888888888888888,\"#fdca26\"],[1.0,\"#f0f921\"]],\"sequentialminus\":[[0.0,\"#0d0887\"],[0.1111111111111111,\"#46039f\"],[0.2222222222222222,\"#7201a8\"],[0.3333333333333333,\"#9c179e\"],[0.4444444444444444,\"#bd3786\"],[0.5555555555555556,\"#d8576b\"],[0.6666666666666666,\"#ed7953\"],[0.7777777777777778,\"#fb9f3a\"],[0.8888888888888888,\"#fdca26\"],[1.0,\"#f0f921\"]],\"diverging\":[[0,\"#8e0152\"],[0.1,\"#c51b7d\"],[0.2,\"#de77ae\"],[0.3,\"#f1b6da\"],[0.4,\"#fde0ef\"],[0.5,\"#f7f7f7\"],[0.6,\"#e6f5d0\"],[0.7,\"#b8e186\"],[0.8,\"#7fbc41\"],[0.9,\"#4d9221\"],[1,\"#276419\"]]},\"xaxis\":{\"gridcolor\":\"white\",\"linecolor\":\"white\",\"ticks\":\"\",\"title\":{\"standoff\":15},\"zerolinecolor\":\"white\",\"automargin\":true,\"zerolinewidth\":2},\"yaxis\":{\"gridcolor\":\"white\",\"linecolor\":\"white\",\"ticks\":\"\",\"title\":{\"standoff\":15},\"zerolinecolor\":\"white\",\"automargin\":true,\"zerolinewidth\":2},\"scene\":{\"xaxis\":{\"backgroundcolor\":\"#E5ECF6\",\"gridcolor\":\"white\",\"linecolor\":\"white\",\"showbackground\":true,\"ticks\":\"\",\"zerolinecolor\":\"white\",\"gridwidth\":2},\"yaxis\":{\"backgroundcolor\":\"#E5ECF6\",\"gridcolor\":\"white\",\"linecolor\":\"white\",\"showbackground\":true,\"ticks\":\"\",\"zerolinecolor\":\"white\",\"gridwidth\":2},\"zaxis\":{\"backgroundcolor\":\"#E5ECF6\",\"gridcolor\":\"white\",\"linecolor\":\"white\",\"showbackground\":true,\"ticks\":\"\",\"zerolinecolor\":\"white\",\"gridwidth\":2}},\"shapedefaults\":{\"line\":{\"color\":\"#2a3f5f\"}},\"annotationdefaults\":{\"arrowcolor\":\"#2a3f5f\",\"arrowhead\":0,\"arrowwidth\":1},\"geo\":{\"bgcolor\":\"white\",\"landcolor\":\"#E5ECF6\",\"subunitcolor\":\"white\",\"showland\":true,\"showlakes\":true,\"lakecolor\":\"white\"},\"title\":{\"x\":0.05},\"mapbox\":{\"style\":\"light\"}}},\"xaxis\":{\"anchor\":\"y\",\"domain\":[0.0,1.0],\"title\":{\"text\":\"rank_size\"}},\"yaxis\":{\"anchor\":\"x\",\"domain\":[0.0,1.0],\"title\":{\"text\":\"fidelity_avg\"}},\"legend\":{\"title\":{\"text\":\"corr_dimension\"},\"tracegroupgap\":0},\"margin\":{\"t\":60}},                        {\"responsive\": true}                    ).then(function(){\n",
       "                            \n",
       "var gd = document.getElementById('03f0cf46-2945-489b-b5fe-dfb67dd81b5d');\n",
       "var x = new MutationObserver(function (mutations, observer) {{\n",
       "        var display = window.getComputedStyle(gd).display;\n",
       "        if (!display || display === 'none') {{\n",
       "            console.log([gd, 'removed!']);\n",
       "            Plotly.purge(gd);\n",
       "            observer.disconnect();\n",
       "        }}\n",
       "}});\n",
       "\n",
       "// Listen for the removal of the full notebook cells\n",
       "var notebookContainer = gd.closest('#notebook-container');\n",
       "if (notebookContainer) {{\n",
       "    x.observe(notebookContainer, {childList: true});\n",
       "}}\n",
       "\n",
       "// Listen for the clearing of the current output cell\n",
       "var outputEl = gd.closest('.output');\n",
       "if (outputEl) {{\n",
       "    x.observe(outputEl, {childList: true});\n",
       "}}\n",
       "\n",
       "                        })                };                });            </script>        </div>"
      ]
     },
     "metadata": {},
     "output_type": "display_data"
    }
   ],
   "source": [
    "px.scatter(df, x= 'rank_size', y='fidelity_avg', color='corr_dimension', hover_data=['rank_str'])"
   ]
  },
  {
   "cell_type": "code",
   "execution_count": 56,
   "metadata": {},
   "outputs": [
    {
     "data": {
      "application/vnd.plotly.v1+json": {
       "config": {
        "plotlyServerURL": "https://plot.ly"
       },
       "data": [
        {
         "customdata": [
          [
           "3"
          ],
          [
           "6"
          ],
          [
           "10"
          ],
          [
           "8"
          ],
          [
           "12"
          ]
         ],
         "hovertemplate": "corr_dimension=2<br>n_cavs=%{x}<br>useful_cavs_perc=%{y}<br>rank_str=%{customdata[0]}<extra></extra>",
         "legendgroup": "2",
         "marker": {
          "color": "#636efa",
          "symbol": "circle"
         },
         "mode": "markers",
         "name": "2",
         "orientation": "v",
         "showlegend": true,
         "type": "scatter",
         "x": [
          3,
          6,
          10,
          8,
          12
         ],
         "xaxis": "x",
         "y": [
          0.3333333333333333,
          0.6666666666666666,
          0.7,
          0.625,
          0.6666666666666666
         ],
         "yaxis": "y"
        },
        {
         "customdata": [
          [
           "[3, 20, 100]"
          ],
          [
           "[6, 20, 100]"
          ],
          [
           "[10, 20, 100]"
          ],
          [
           "[3, 30, 100]"
          ],
          [
           "[10, 39, 375]"
          ],
          [
           "[6, 30, 100]"
          ],
          [
           "[10, 30, 100]"
          ],
          [
           "[8, 39, 375]"
          ],
          [
           "[6, 39, 375]"
          ],
          [
           "[3, 39, 375]"
          ]
         ],
         "hovertemplate": "corr_dimension=3<br>n_cavs=%{x}<br>useful_cavs_perc=%{y}<br>rank_str=%{customdata[0]}<extra></extra>",
         "legendgroup": "3",
         "marker": {
          "color": "#EF553B",
          "symbol": "circle"
         },
         "mode": "markers",
         "name": "3",
         "orientation": "v",
         "showlegend": true,
         "type": "scatter",
         "x": [
          3,
          6,
          10,
          3,
          10,
          6,
          10,
          8,
          6,
          3
         ],
         "xaxis": "x",
         "y": [
          0.3333333333333333,
          0.6666666666666666,
          0.7,
          0.3333333333333333,
          0.6,
          0.8333333333333334,
          0.8,
          0.625,
          0.6666666666666666,
          0.3333333333333333
         ],
         "yaxis": "y"
        },
        {
         "customdata": [
          [
           "[3, 2, 3, 20]"
          ],
          [
           "[6, 2, 3, 20]"
          ],
          [
           "[10, 2, 3, 20]"
          ],
          [
           "[3, 2, 3, 25]"
          ],
          [
           "[6, 2, 3, 25]"
          ],
          [
           "[10, 2, 3, 25]"
          ],
          [
           "[3, 13, 3, 20]"
          ],
          [
           "[6, 13, 3, 20]"
          ],
          [
           "[3, 13, 3, 200]"
          ],
          [
           "[6, 13, 3, 200]"
          ],
          [
           "[10, 13, 3, 200]"
          ],
          [
           "[8, 13, 3, 200]"
          ],
          [
           "[3, 13, 3, 375]"
          ],
          [
           "[6, 13, 3, 375]"
          ],
          [
           "[10, 13, 3, 375]"
          ],
          [
           "[8, 13, 3, 375]"
          ],
          [
           "[3, 3, 2, 25]"
          ],
          [
           "[3, 5, 3, 25]"
          ],
          [
           "[3, 13, 3, 25]"
          ],
          [
           "[6, 13, 3, 25]"
          ]
         ],
         "hovertemplate": "corr_dimension=4<br>n_cavs=%{x}<br>useful_cavs_perc=%{y}<br>rank_str=%{customdata[0]}<extra></extra>",
         "legendgroup": "4",
         "marker": {
          "color": "#00cc96",
          "symbol": "circle"
         },
         "mode": "markers",
         "name": "4",
         "orientation": "v",
         "showlegend": true,
         "type": "scatter",
         "x": [
          3,
          6,
          10,
          3,
          6,
          10,
          3,
          6,
          3,
          6,
          10,
          8,
          3,
          6,
          10,
          8,
          3,
          3,
          3,
          6
         ],
         "xaxis": "x",
         "y": [
          0.3333333333333333,
          0.6666666666666666,
          0.7,
          1,
          0.6666666666666666,
          0.7,
          0.3333333333333333,
          0.5,
          0.3333333333333333,
          0.6666666666666666,
          0.7,
          0.75,
          0.3333333333333333,
          0.6666666666666666,
          0.7,
          0.625,
          0.3333333333333333,
          0.3333333333333333,
          0.3333333333333333,
          0.5
         ],
         "yaxis": "y"
        }
       ],
       "layout": {
        "legend": {
         "title": {
          "text": "corr_dimension"
         },
         "tracegroupgap": 0
        },
        "margin": {
         "t": 60
        },
        "template": {
         "data": {
          "bar": [
           {
            "error_x": {
             "color": "#2a3f5f"
            },
            "error_y": {
             "color": "#2a3f5f"
            },
            "marker": {
             "line": {
              "color": "#E5ECF6",
              "width": 0.5
             },
             "pattern": {
              "fillmode": "overlay",
              "size": 10,
              "solidity": 0.2
             }
            },
            "type": "bar"
           }
          ],
          "barpolar": [
           {
            "marker": {
             "line": {
              "color": "#E5ECF6",
              "width": 0.5
             },
             "pattern": {
              "fillmode": "overlay",
              "size": 10,
              "solidity": 0.2
             }
            },
            "type": "barpolar"
           }
          ],
          "carpet": [
           {
            "aaxis": {
             "endlinecolor": "#2a3f5f",
             "gridcolor": "white",
             "linecolor": "white",
             "minorgridcolor": "white",
             "startlinecolor": "#2a3f5f"
            },
            "baxis": {
             "endlinecolor": "#2a3f5f",
             "gridcolor": "white",
             "linecolor": "white",
             "minorgridcolor": "white",
             "startlinecolor": "#2a3f5f"
            },
            "type": "carpet"
           }
          ],
          "choropleth": [
           {
            "colorbar": {
             "outlinewidth": 0,
             "ticks": ""
            },
            "type": "choropleth"
           }
          ],
          "contour": [
           {
            "colorbar": {
             "outlinewidth": 0,
             "ticks": ""
            },
            "colorscale": [
             [
              0,
              "#0d0887"
             ],
             [
              0.1111111111111111,
              "#46039f"
             ],
             [
              0.2222222222222222,
              "#7201a8"
             ],
             [
              0.3333333333333333,
              "#9c179e"
             ],
             [
              0.4444444444444444,
              "#bd3786"
             ],
             [
              0.5555555555555556,
              "#d8576b"
             ],
             [
              0.6666666666666666,
              "#ed7953"
             ],
             [
              0.7777777777777778,
              "#fb9f3a"
             ],
             [
              0.8888888888888888,
              "#fdca26"
             ],
             [
              1,
              "#f0f921"
             ]
            ],
            "type": "contour"
           }
          ],
          "contourcarpet": [
           {
            "colorbar": {
             "outlinewidth": 0,
             "ticks": ""
            },
            "type": "contourcarpet"
           }
          ],
          "heatmap": [
           {
            "colorbar": {
             "outlinewidth": 0,
             "ticks": ""
            },
            "colorscale": [
             [
              0,
              "#0d0887"
             ],
             [
              0.1111111111111111,
              "#46039f"
             ],
             [
              0.2222222222222222,
              "#7201a8"
             ],
             [
              0.3333333333333333,
              "#9c179e"
             ],
             [
              0.4444444444444444,
              "#bd3786"
             ],
             [
              0.5555555555555556,
              "#d8576b"
             ],
             [
              0.6666666666666666,
              "#ed7953"
             ],
             [
              0.7777777777777778,
              "#fb9f3a"
             ],
             [
              0.8888888888888888,
              "#fdca26"
             ],
             [
              1,
              "#f0f921"
             ]
            ],
            "type": "heatmap"
           }
          ],
          "heatmapgl": [
           {
            "colorbar": {
             "outlinewidth": 0,
             "ticks": ""
            },
            "colorscale": [
             [
              0,
              "#0d0887"
             ],
             [
              0.1111111111111111,
              "#46039f"
             ],
             [
              0.2222222222222222,
              "#7201a8"
             ],
             [
              0.3333333333333333,
              "#9c179e"
             ],
             [
              0.4444444444444444,
              "#bd3786"
             ],
             [
              0.5555555555555556,
              "#d8576b"
             ],
             [
              0.6666666666666666,
              "#ed7953"
             ],
             [
              0.7777777777777778,
              "#fb9f3a"
             ],
             [
              0.8888888888888888,
              "#fdca26"
             ],
             [
              1,
              "#f0f921"
             ]
            ],
            "type": "heatmapgl"
           }
          ],
          "histogram": [
           {
            "marker": {
             "pattern": {
              "fillmode": "overlay",
              "size": 10,
              "solidity": 0.2
             }
            },
            "type": "histogram"
           }
          ],
          "histogram2d": [
           {
            "colorbar": {
             "outlinewidth": 0,
             "ticks": ""
            },
            "colorscale": [
             [
              0,
              "#0d0887"
             ],
             [
              0.1111111111111111,
              "#46039f"
             ],
             [
              0.2222222222222222,
              "#7201a8"
             ],
             [
              0.3333333333333333,
              "#9c179e"
             ],
             [
              0.4444444444444444,
              "#bd3786"
             ],
             [
              0.5555555555555556,
              "#d8576b"
             ],
             [
              0.6666666666666666,
              "#ed7953"
             ],
             [
              0.7777777777777778,
              "#fb9f3a"
             ],
             [
              0.8888888888888888,
              "#fdca26"
             ],
             [
              1,
              "#f0f921"
             ]
            ],
            "type": "histogram2d"
           }
          ],
          "histogram2dcontour": [
           {
            "colorbar": {
             "outlinewidth": 0,
             "ticks": ""
            },
            "colorscale": [
             [
              0,
              "#0d0887"
             ],
             [
              0.1111111111111111,
              "#46039f"
             ],
             [
              0.2222222222222222,
              "#7201a8"
             ],
             [
              0.3333333333333333,
              "#9c179e"
             ],
             [
              0.4444444444444444,
              "#bd3786"
             ],
             [
              0.5555555555555556,
              "#d8576b"
             ],
             [
              0.6666666666666666,
              "#ed7953"
             ],
             [
              0.7777777777777778,
              "#fb9f3a"
             ],
             [
              0.8888888888888888,
              "#fdca26"
             ],
             [
              1,
              "#f0f921"
             ]
            ],
            "type": "histogram2dcontour"
           }
          ],
          "mesh3d": [
           {
            "colorbar": {
             "outlinewidth": 0,
             "ticks": ""
            },
            "type": "mesh3d"
           }
          ],
          "parcoords": [
           {
            "line": {
             "colorbar": {
              "outlinewidth": 0,
              "ticks": ""
             }
            },
            "type": "parcoords"
           }
          ],
          "pie": [
           {
            "automargin": true,
            "type": "pie"
           }
          ],
          "scatter": [
           {
            "fillpattern": {
             "fillmode": "overlay",
             "size": 10,
             "solidity": 0.2
            },
            "type": "scatter"
           }
          ],
          "scatter3d": [
           {
            "line": {
             "colorbar": {
              "outlinewidth": 0,
              "ticks": ""
             }
            },
            "marker": {
             "colorbar": {
              "outlinewidth": 0,
              "ticks": ""
             }
            },
            "type": "scatter3d"
           }
          ],
          "scattercarpet": [
           {
            "marker": {
             "colorbar": {
              "outlinewidth": 0,
              "ticks": ""
             }
            },
            "type": "scattercarpet"
           }
          ],
          "scattergeo": [
           {
            "marker": {
             "colorbar": {
              "outlinewidth": 0,
              "ticks": ""
             }
            },
            "type": "scattergeo"
           }
          ],
          "scattergl": [
           {
            "marker": {
             "colorbar": {
              "outlinewidth": 0,
              "ticks": ""
             }
            },
            "type": "scattergl"
           }
          ],
          "scattermapbox": [
           {
            "marker": {
             "colorbar": {
              "outlinewidth": 0,
              "ticks": ""
             }
            },
            "type": "scattermapbox"
           }
          ],
          "scatterpolar": [
           {
            "marker": {
             "colorbar": {
              "outlinewidth": 0,
              "ticks": ""
             }
            },
            "type": "scatterpolar"
           }
          ],
          "scatterpolargl": [
           {
            "marker": {
             "colorbar": {
              "outlinewidth": 0,
              "ticks": ""
             }
            },
            "type": "scatterpolargl"
           }
          ],
          "scatterternary": [
           {
            "marker": {
             "colorbar": {
              "outlinewidth": 0,
              "ticks": ""
             }
            },
            "type": "scatterternary"
           }
          ],
          "surface": [
           {
            "colorbar": {
             "outlinewidth": 0,
             "ticks": ""
            },
            "colorscale": [
             [
              0,
              "#0d0887"
             ],
             [
              0.1111111111111111,
              "#46039f"
             ],
             [
              0.2222222222222222,
              "#7201a8"
             ],
             [
              0.3333333333333333,
              "#9c179e"
             ],
             [
              0.4444444444444444,
              "#bd3786"
             ],
             [
              0.5555555555555556,
              "#d8576b"
             ],
             [
              0.6666666666666666,
              "#ed7953"
             ],
             [
              0.7777777777777778,
              "#fb9f3a"
             ],
             [
              0.8888888888888888,
              "#fdca26"
             ],
             [
              1,
              "#f0f921"
             ]
            ],
            "type": "surface"
           }
          ],
          "table": [
           {
            "cells": {
             "fill": {
              "color": "#EBF0F8"
             },
             "line": {
              "color": "white"
             }
            },
            "header": {
             "fill": {
              "color": "#C8D4E3"
             },
             "line": {
              "color": "white"
             }
            },
            "type": "table"
           }
          ]
         },
         "layout": {
          "annotationdefaults": {
           "arrowcolor": "#2a3f5f",
           "arrowhead": 0,
           "arrowwidth": 1
          },
          "autotypenumbers": "strict",
          "coloraxis": {
           "colorbar": {
            "outlinewidth": 0,
            "ticks": ""
           }
          },
          "colorscale": {
           "diverging": [
            [
             0,
             "#8e0152"
            ],
            [
             0.1,
             "#c51b7d"
            ],
            [
             0.2,
             "#de77ae"
            ],
            [
             0.3,
             "#f1b6da"
            ],
            [
             0.4,
             "#fde0ef"
            ],
            [
             0.5,
             "#f7f7f7"
            ],
            [
             0.6,
             "#e6f5d0"
            ],
            [
             0.7,
             "#b8e186"
            ],
            [
             0.8,
             "#7fbc41"
            ],
            [
             0.9,
             "#4d9221"
            ],
            [
             1,
             "#276419"
            ]
           ],
           "sequential": [
            [
             0,
             "#0d0887"
            ],
            [
             0.1111111111111111,
             "#46039f"
            ],
            [
             0.2222222222222222,
             "#7201a8"
            ],
            [
             0.3333333333333333,
             "#9c179e"
            ],
            [
             0.4444444444444444,
             "#bd3786"
            ],
            [
             0.5555555555555556,
             "#d8576b"
            ],
            [
             0.6666666666666666,
             "#ed7953"
            ],
            [
             0.7777777777777778,
             "#fb9f3a"
            ],
            [
             0.8888888888888888,
             "#fdca26"
            ],
            [
             1,
             "#f0f921"
            ]
           ],
           "sequentialminus": [
            [
             0,
             "#0d0887"
            ],
            [
             0.1111111111111111,
             "#46039f"
            ],
            [
             0.2222222222222222,
             "#7201a8"
            ],
            [
             0.3333333333333333,
             "#9c179e"
            ],
            [
             0.4444444444444444,
             "#bd3786"
            ],
            [
             0.5555555555555556,
             "#d8576b"
            ],
            [
             0.6666666666666666,
             "#ed7953"
            ],
            [
             0.7777777777777778,
             "#fb9f3a"
            ],
            [
             0.8888888888888888,
             "#fdca26"
            ],
            [
             1,
             "#f0f921"
            ]
           ]
          },
          "colorway": [
           "#636efa",
           "#EF553B",
           "#00cc96",
           "#ab63fa",
           "#FFA15A",
           "#19d3f3",
           "#FF6692",
           "#B6E880",
           "#FF97FF",
           "#FECB52"
          ],
          "font": {
           "color": "#2a3f5f"
          },
          "geo": {
           "bgcolor": "white",
           "lakecolor": "white",
           "landcolor": "#E5ECF6",
           "showlakes": true,
           "showland": true,
           "subunitcolor": "white"
          },
          "hoverlabel": {
           "align": "left"
          },
          "hovermode": "closest",
          "mapbox": {
           "style": "light"
          },
          "paper_bgcolor": "white",
          "plot_bgcolor": "#E5ECF6",
          "polar": {
           "angularaxis": {
            "gridcolor": "white",
            "linecolor": "white",
            "ticks": ""
           },
           "bgcolor": "#E5ECF6",
           "radialaxis": {
            "gridcolor": "white",
            "linecolor": "white",
            "ticks": ""
           }
          },
          "scene": {
           "xaxis": {
            "backgroundcolor": "#E5ECF6",
            "gridcolor": "white",
            "gridwidth": 2,
            "linecolor": "white",
            "showbackground": true,
            "ticks": "",
            "zerolinecolor": "white"
           },
           "yaxis": {
            "backgroundcolor": "#E5ECF6",
            "gridcolor": "white",
            "gridwidth": 2,
            "linecolor": "white",
            "showbackground": true,
            "ticks": "",
            "zerolinecolor": "white"
           },
           "zaxis": {
            "backgroundcolor": "#E5ECF6",
            "gridcolor": "white",
            "gridwidth": 2,
            "linecolor": "white",
            "showbackground": true,
            "ticks": "",
            "zerolinecolor": "white"
           }
          },
          "shapedefaults": {
           "line": {
            "color": "#2a3f5f"
           }
          },
          "ternary": {
           "aaxis": {
            "gridcolor": "white",
            "linecolor": "white",
            "ticks": ""
           },
           "baxis": {
            "gridcolor": "white",
            "linecolor": "white",
            "ticks": ""
           },
           "bgcolor": "#E5ECF6",
           "caxis": {
            "gridcolor": "white",
            "linecolor": "white",
            "ticks": ""
           }
          },
          "title": {
           "x": 0.05
          },
          "xaxis": {
           "automargin": true,
           "gridcolor": "white",
           "linecolor": "white",
           "ticks": "",
           "title": {
            "standoff": 15
           },
           "zerolinecolor": "white",
           "zerolinewidth": 2
          },
          "yaxis": {
           "automargin": true,
           "gridcolor": "white",
           "linecolor": "white",
           "ticks": "",
           "title": {
            "standoff": 15
           },
           "zerolinecolor": "white",
           "zerolinewidth": 2
          }
         }
        },
        "xaxis": {
         "anchor": "y",
         "domain": [
          0,
          1
         ],
         "title": {
          "text": "n_cavs"
         }
        },
        "yaxis": {
         "anchor": "x",
         "domain": [
          0,
          1
         ],
         "title": {
          "text": "useful_cavs_perc"
         }
        }
       }
      },
      "text/html": [
       "<div>                            <div id=\"99d12923-2456-46af-a769-b2fef631988e\" class=\"plotly-graph-div\" style=\"height:525px; width:100%;\"></div>            <script type=\"text/javascript\">                require([\"plotly\"], function(Plotly) {                    window.PLOTLYENV=window.PLOTLYENV || {};                                    if (document.getElementById(\"99d12923-2456-46af-a769-b2fef631988e\")) {                    Plotly.newPlot(                        \"99d12923-2456-46af-a769-b2fef631988e\",                        [{\"customdata\":[[\"3\"],[\"6\"],[\"10\"],[\"8\"],[\"12\"]],\"hovertemplate\":\"corr_dimension=2<br>n_cavs=%{x}<br>useful_cavs_perc=%{y}<br>rank_str=%{customdata[0]}<extra></extra>\",\"legendgroup\":\"2\",\"marker\":{\"color\":\"#636efa\",\"symbol\":\"circle\"},\"mode\":\"markers\",\"name\":\"2\",\"orientation\":\"v\",\"showlegend\":true,\"x\":[3,6,10,8,12],\"xaxis\":\"x\",\"y\":[0.3333333333333333,0.6666666666666666,0.7,0.625,0.6666666666666666],\"yaxis\":\"y\",\"type\":\"scatter\"},{\"customdata\":[[\"[3, 20, 100]\"],[\"[6, 20, 100]\"],[\"[10, 20, 100]\"],[\"[3, 30, 100]\"],[\"[10, 39, 375]\"],[\"[6, 30, 100]\"],[\"[10, 30, 100]\"],[\"[8, 39, 375]\"],[\"[6, 39, 375]\"],[\"[3, 39, 375]\"]],\"hovertemplate\":\"corr_dimension=3<br>n_cavs=%{x}<br>useful_cavs_perc=%{y}<br>rank_str=%{customdata[0]}<extra></extra>\",\"legendgroup\":\"3\",\"marker\":{\"color\":\"#EF553B\",\"symbol\":\"circle\"},\"mode\":\"markers\",\"name\":\"3\",\"orientation\":\"v\",\"showlegend\":true,\"x\":[3,6,10,3,10,6,10,8,6,3],\"xaxis\":\"x\",\"y\":[0.3333333333333333,0.6666666666666666,0.7,0.3333333333333333,0.6,0.8333333333333334,0.8,0.625,0.6666666666666666,0.3333333333333333],\"yaxis\":\"y\",\"type\":\"scatter\"},{\"customdata\":[[\"[3, 2, 3, 20]\"],[\"[6, 2, 3, 20]\"],[\"[10, 2, 3, 20]\"],[\"[3, 2, 3, 25]\"],[\"[6, 2, 3, 25]\"],[\"[10, 2, 3, 25]\"],[\"[3, 13, 3, 20]\"],[\"[6, 13, 3, 20]\"],[\"[3, 13, 3, 200]\"],[\"[6, 13, 3, 200]\"],[\"[10, 13, 3, 200]\"],[\"[8, 13, 3, 200]\"],[\"[3, 13, 3, 375]\"],[\"[6, 13, 3, 375]\"],[\"[10, 13, 3, 375]\"],[\"[8, 13, 3, 375]\"],[\"[3, 3, 2, 25]\"],[\"[3, 5, 3, 25]\"],[\"[3, 13, 3, 25]\"],[\"[6, 13, 3, 25]\"]],\"hovertemplate\":\"corr_dimension=4<br>n_cavs=%{x}<br>useful_cavs_perc=%{y}<br>rank_str=%{customdata[0]}<extra></extra>\",\"legendgroup\":\"4\",\"marker\":{\"color\":\"#00cc96\",\"symbol\":\"circle\"},\"mode\":\"markers\",\"name\":\"4\",\"orientation\":\"v\",\"showlegend\":true,\"x\":[3,6,10,3,6,10,3,6,3,6,10,8,3,6,10,8,3,3,3,6],\"xaxis\":\"x\",\"y\":[0.3333333333333333,0.6666666666666666,0.7,1.0,0.6666666666666666,0.7,0.3333333333333333,0.5,0.3333333333333333,0.6666666666666666,0.7,0.75,0.3333333333333333,0.6666666666666666,0.7,0.625,0.3333333333333333,0.3333333333333333,0.3333333333333333,0.5],\"yaxis\":\"y\",\"type\":\"scatter\"}],                        {\"template\":{\"data\":{\"histogram2dcontour\":[{\"type\":\"histogram2dcontour\",\"colorbar\":{\"outlinewidth\":0,\"ticks\":\"\"},\"colorscale\":[[0.0,\"#0d0887\"],[0.1111111111111111,\"#46039f\"],[0.2222222222222222,\"#7201a8\"],[0.3333333333333333,\"#9c179e\"],[0.4444444444444444,\"#bd3786\"],[0.5555555555555556,\"#d8576b\"],[0.6666666666666666,\"#ed7953\"],[0.7777777777777778,\"#fb9f3a\"],[0.8888888888888888,\"#fdca26\"],[1.0,\"#f0f921\"]]}],\"choropleth\":[{\"type\":\"choropleth\",\"colorbar\":{\"outlinewidth\":0,\"ticks\":\"\"}}],\"histogram2d\":[{\"type\":\"histogram2d\",\"colorbar\":{\"outlinewidth\":0,\"ticks\":\"\"},\"colorscale\":[[0.0,\"#0d0887\"],[0.1111111111111111,\"#46039f\"],[0.2222222222222222,\"#7201a8\"],[0.3333333333333333,\"#9c179e\"],[0.4444444444444444,\"#bd3786\"],[0.5555555555555556,\"#d8576b\"],[0.6666666666666666,\"#ed7953\"],[0.7777777777777778,\"#fb9f3a\"],[0.8888888888888888,\"#fdca26\"],[1.0,\"#f0f921\"]]}],\"heatmap\":[{\"type\":\"heatmap\",\"colorbar\":{\"outlinewidth\":0,\"ticks\":\"\"},\"colorscale\":[[0.0,\"#0d0887\"],[0.1111111111111111,\"#46039f\"],[0.2222222222222222,\"#7201a8\"],[0.3333333333333333,\"#9c179e\"],[0.4444444444444444,\"#bd3786\"],[0.5555555555555556,\"#d8576b\"],[0.6666666666666666,\"#ed7953\"],[0.7777777777777778,\"#fb9f3a\"],[0.8888888888888888,\"#fdca26\"],[1.0,\"#f0f921\"]]}],\"heatmapgl\":[{\"type\":\"heatmapgl\",\"colorbar\":{\"outlinewidth\":0,\"ticks\":\"\"},\"colorscale\":[[0.0,\"#0d0887\"],[0.1111111111111111,\"#46039f\"],[0.2222222222222222,\"#7201a8\"],[0.3333333333333333,\"#9c179e\"],[0.4444444444444444,\"#bd3786\"],[0.5555555555555556,\"#d8576b\"],[0.6666666666666666,\"#ed7953\"],[0.7777777777777778,\"#fb9f3a\"],[0.8888888888888888,\"#fdca26\"],[1.0,\"#f0f921\"]]}],\"contourcarpet\":[{\"type\":\"contourcarpet\",\"colorbar\":{\"outlinewidth\":0,\"ticks\":\"\"}}],\"contour\":[{\"type\":\"contour\",\"colorbar\":{\"outlinewidth\":0,\"ticks\":\"\"},\"colorscale\":[[0.0,\"#0d0887\"],[0.1111111111111111,\"#46039f\"],[0.2222222222222222,\"#7201a8\"],[0.3333333333333333,\"#9c179e\"],[0.4444444444444444,\"#bd3786\"],[0.5555555555555556,\"#d8576b\"],[0.6666666666666666,\"#ed7953\"],[0.7777777777777778,\"#fb9f3a\"],[0.8888888888888888,\"#fdca26\"],[1.0,\"#f0f921\"]]}],\"surface\":[{\"type\":\"surface\",\"colorbar\":{\"outlinewidth\":0,\"ticks\":\"\"},\"colorscale\":[[0.0,\"#0d0887\"],[0.1111111111111111,\"#46039f\"],[0.2222222222222222,\"#7201a8\"],[0.3333333333333333,\"#9c179e\"],[0.4444444444444444,\"#bd3786\"],[0.5555555555555556,\"#d8576b\"],[0.6666666666666666,\"#ed7953\"],[0.7777777777777778,\"#fb9f3a\"],[0.8888888888888888,\"#fdca26\"],[1.0,\"#f0f921\"]]}],\"mesh3d\":[{\"type\":\"mesh3d\",\"colorbar\":{\"outlinewidth\":0,\"ticks\":\"\"}}],\"scatter\":[{\"fillpattern\":{\"fillmode\":\"overlay\",\"size\":10,\"solidity\":0.2},\"type\":\"scatter\"}],\"parcoords\":[{\"type\":\"parcoords\",\"line\":{\"colorbar\":{\"outlinewidth\":0,\"ticks\":\"\"}}}],\"scatterpolargl\":[{\"type\":\"scatterpolargl\",\"marker\":{\"colorbar\":{\"outlinewidth\":0,\"ticks\":\"\"}}}],\"bar\":[{\"error_x\":{\"color\":\"#2a3f5f\"},\"error_y\":{\"color\":\"#2a3f5f\"},\"marker\":{\"line\":{\"color\":\"#E5ECF6\",\"width\":0.5},\"pattern\":{\"fillmode\":\"overlay\",\"size\":10,\"solidity\":0.2}},\"type\":\"bar\"}],\"scattergeo\":[{\"type\":\"scattergeo\",\"marker\":{\"colorbar\":{\"outlinewidth\":0,\"ticks\":\"\"}}}],\"scatterpolar\":[{\"type\":\"scatterpolar\",\"marker\":{\"colorbar\":{\"outlinewidth\":0,\"ticks\":\"\"}}}],\"histogram\":[{\"marker\":{\"pattern\":{\"fillmode\":\"overlay\",\"size\":10,\"solidity\":0.2}},\"type\":\"histogram\"}],\"scattergl\":[{\"type\":\"scattergl\",\"marker\":{\"colorbar\":{\"outlinewidth\":0,\"ticks\":\"\"}}}],\"scatter3d\":[{\"type\":\"scatter3d\",\"line\":{\"colorbar\":{\"outlinewidth\":0,\"ticks\":\"\"}},\"marker\":{\"colorbar\":{\"outlinewidth\":0,\"ticks\":\"\"}}}],\"scattermapbox\":[{\"type\":\"scattermapbox\",\"marker\":{\"colorbar\":{\"outlinewidth\":0,\"ticks\":\"\"}}}],\"scatterternary\":[{\"type\":\"scatterternary\",\"marker\":{\"colorbar\":{\"outlinewidth\":0,\"ticks\":\"\"}}}],\"scattercarpet\":[{\"type\":\"scattercarpet\",\"marker\":{\"colorbar\":{\"outlinewidth\":0,\"ticks\":\"\"}}}],\"carpet\":[{\"aaxis\":{\"endlinecolor\":\"#2a3f5f\",\"gridcolor\":\"white\",\"linecolor\":\"white\",\"minorgridcolor\":\"white\",\"startlinecolor\":\"#2a3f5f\"},\"baxis\":{\"endlinecolor\":\"#2a3f5f\",\"gridcolor\":\"white\",\"linecolor\":\"white\",\"minorgridcolor\":\"white\",\"startlinecolor\":\"#2a3f5f\"},\"type\":\"carpet\"}],\"table\":[{\"cells\":{\"fill\":{\"color\":\"#EBF0F8\"},\"line\":{\"color\":\"white\"}},\"header\":{\"fill\":{\"color\":\"#C8D4E3\"},\"line\":{\"color\":\"white\"}},\"type\":\"table\"}],\"barpolar\":[{\"marker\":{\"line\":{\"color\":\"#E5ECF6\",\"width\":0.5},\"pattern\":{\"fillmode\":\"overlay\",\"size\":10,\"solidity\":0.2}},\"type\":\"barpolar\"}],\"pie\":[{\"automargin\":true,\"type\":\"pie\"}]},\"layout\":{\"autotypenumbers\":\"strict\",\"colorway\":[\"#636efa\",\"#EF553B\",\"#00cc96\",\"#ab63fa\",\"#FFA15A\",\"#19d3f3\",\"#FF6692\",\"#B6E880\",\"#FF97FF\",\"#FECB52\"],\"font\":{\"color\":\"#2a3f5f\"},\"hovermode\":\"closest\",\"hoverlabel\":{\"align\":\"left\"},\"paper_bgcolor\":\"white\",\"plot_bgcolor\":\"#E5ECF6\",\"polar\":{\"bgcolor\":\"#E5ECF6\",\"angularaxis\":{\"gridcolor\":\"white\",\"linecolor\":\"white\",\"ticks\":\"\"},\"radialaxis\":{\"gridcolor\":\"white\",\"linecolor\":\"white\",\"ticks\":\"\"}},\"ternary\":{\"bgcolor\":\"#E5ECF6\",\"aaxis\":{\"gridcolor\":\"white\",\"linecolor\":\"white\",\"ticks\":\"\"},\"baxis\":{\"gridcolor\":\"white\",\"linecolor\":\"white\",\"ticks\":\"\"},\"caxis\":{\"gridcolor\":\"white\",\"linecolor\":\"white\",\"ticks\":\"\"}},\"coloraxis\":{\"colorbar\":{\"outlinewidth\":0,\"ticks\":\"\"}},\"colorscale\":{\"sequential\":[[0.0,\"#0d0887\"],[0.1111111111111111,\"#46039f\"],[0.2222222222222222,\"#7201a8\"],[0.3333333333333333,\"#9c179e\"],[0.4444444444444444,\"#bd3786\"],[0.5555555555555556,\"#d8576b\"],[0.6666666666666666,\"#ed7953\"],[0.7777777777777778,\"#fb9f3a\"],[0.8888888888888888,\"#fdca26\"],[1.0,\"#f0f921\"]],\"sequentialminus\":[[0.0,\"#0d0887\"],[0.1111111111111111,\"#46039f\"],[0.2222222222222222,\"#7201a8\"],[0.3333333333333333,\"#9c179e\"],[0.4444444444444444,\"#bd3786\"],[0.5555555555555556,\"#d8576b\"],[0.6666666666666666,\"#ed7953\"],[0.7777777777777778,\"#fb9f3a\"],[0.8888888888888888,\"#fdca26\"],[1.0,\"#f0f921\"]],\"diverging\":[[0,\"#8e0152\"],[0.1,\"#c51b7d\"],[0.2,\"#de77ae\"],[0.3,\"#f1b6da\"],[0.4,\"#fde0ef\"],[0.5,\"#f7f7f7\"],[0.6,\"#e6f5d0\"],[0.7,\"#b8e186\"],[0.8,\"#7fbc41\"],[0.9,\"#4d9221\"],[1,\"#276419\"]]},\"xaxis\":{\"gridcolor\":\"white\",\"linecolor\":\"white\",\"ticks\":\"\",\"title\":{\"standoff\":15},\"zerolinecolor\":\"white\",\"automargin\":true,\"zerolinewidth\":2},\"yaxis\":{\"gridcolor\":\"white\",\"linecolor\":\"white\",\"ticks\":\"\",\"title\":{\"standoff\":15},\"zerolinecolor\":\"white\",\"automargin\":true,\"zerolinewidth\":2},\"scene\":{\"xaxis\":{\"backgroundcolor\":\"#E5ECF6\",\"gridcolor\":\"white\",\"linecolor\":\"white\",\"showbackground\":true,\"ticks\":\"\",\"zerolinecolor\":\"white\",\"gridwidth\":2},\"yaxis\":{\"backgroundcolor\":\"#E5ECF6\",\"gridcolor\":\"white\",\"linecolor\":\"white\",\"showbackground\":true,\"ticks\":\"\",\"zerolinecolor\":\"white\",\"gridwidth\":2},\"zaxis\":{\"backgroundcolor\":\"#E5ECF6\",\"gridcolor\":\"white\",\"linecolor\":\"white\",\"showbackground\":true,\"ticks\":\"\",\"zerolinecolor\":\"white\",\"gridwidth\":2}},\"shapedefaults\":{\"line\":{\"color\":\"#2a3f5f\"}},\"annotationdefaults\":{\"arrowcolor\":\"#2a3f5f\",\"arrowhead\":0,\"arrowwidth\":1},\"geo\":{\"bgcolor\":\"white\",\"landcolor\":\"#E5ECF6\",\"subunitcolor\":\"white\",\"showland\":true,\"showlakes\":true,\"lakecolor\":\"white\"},\"title\":{\"x\":0.05},\"mapbox\":{\"style\":\"light\"}}},\"xaxis\":{\"anchor\":\"y\",\"domain\":[0.0,1.0],\"title\":{\"text\":\"n_cavs\"}},\"yaxis\":{\"anchor\":\"x\",\"domain\":[0.0,1.0],\"title\":{\"text\":\"useful_cavs_perc\"}},\"legend\":{\"title\":{\"text\":\"corr_dimension\"},\"tracegroupgap\":0},\"margin\":{\"t\":60}},                        {\"responsive\": true}                    ).then(function(){\n",
       "                            \n",
       "var gd = document.getElementById('99d12923-2456-46af-a769-b2fef631988e');\n",
       "var x = new MutationObserver(function (mutations, observer) {{\n",
       "        var display = window.getComputedStyle(gd).display;\n",
       "        if (!display || display === 'none') {{\n",
       "            console.log([gd, 'removed!']);\n",
       "            Plotly.purge(gd);\n",
       "            observer.disconnect();\n",
       "        }}\n",
       "}});\n",
       "\n",
       "// Listen for the removal of the full notebook cells\n",
       "var notebookContainer = gd.closest('#notebook-container');\n",
       "if (notebookContainer) {{\n",
       "    x.observe(notebookContainer, {childList: true});\n",
       "}}\n",
       "\n",
       "// Listen for the clearing of the current output cell\n",
       "var outputEl = gd.closest('.output');\n",
       "if (outputEl) {{\n",
       "    x.observe(outputEl, {childList: true});\n",
       "}}\n",
       "\n",
       "                        })                };                });            </script>        </div>"
      ]
     },
     "metadata": {},
     "output_type": "display_data"
    }
   ],
   "source": [
    "px.scatter(df, x= 'n_cavs', y='useful_cavs_perc', color='corr_dimension', hover_data=['rank_str'])"
   ]
  },
  {
   "cell_type": "code",
   "execution_count": null,
   "metadata": {},
   "outputs": [],
   "source": []
  },
  {
   "cell_type": "code",
   "execution_count": null,
   "metadata": {},
   "outputs": [],
   "source": []
  },
  {
   "cell_type": "code",
   "execution_count": null,
   "metadata": {},
   "outputs": [],
   "source": []
  },
  {
   "cell_type": "code",
   "execution_count": null,
   "metadata": {},
   "outputs": [],
   "source": []
  }
 ],
 "metadata": {
  "interpreter": {
   "hash": "a6399b87897672fea007d6d880364d27da96d42c7d74b7f0db8e2dac1a8c0be2"
  },
  "kernelspec": {
   "display_name": "Python 3.9.7 ('mir_research')",
   "language": "python",
   "name": "python3"
  },
  "language_info": {
   "codemirror_mode": {
    "name": "ipython",
    "version": 3
   },
   "file_extension": ".py",
   "mimetype": "text/x-python",
   "name": "python",
   "nbconvert_exporter": "python",
   "pygments_lexer": "ipython3",
   "version": "3.9.7"
  },
  "orig_nbformat": 4
 },
 "nbformat": 4,
 "nbformat_minor": 2
}
