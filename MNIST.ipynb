{
 "cells": [
  {
   "cell_type": "code",
   "execution_count": 1,
   "metadata": {},
   "outputs": [],
   "source": [
    "import torch\n",
    "import torch.nn as nn\n",
    "import torch.nn.functional as F\n",
    "import torch.optim as optim\n",
    "from torchvision import datasets, transforms\n",
    "import matplotlib.pyplot as plt\n",
    "import os\n",
    "import torchvision\n",
    "import numpy as np\n",
    "\n",
    "from torchsummary import summary\n",
    "import shutil\n",
    "\n",
    "seed = 0\n",
    "torch.manual_seed(seed)\n",
    "torch.cuda.manual_seed(seed)\n",
    "np.random.seed(seed)\n",
    "torch.backends.cudnn.deterministic = True"
   ]
  },
  {
   "cell_type": "markdown",
   "metadata": {},
   "source": [
    "Let's build a simple MNIST model, with only 6 layers. Global Average Pooling (GAP) and dense layers are used at last for consistent weights."
   ]
  },
  {
   "cell_type": "code",
   "execution_count": 2,
   "metadata": {},
   "outputs": [
    {
     "name": "stdout",
     "output_type": "stream",
     "text": [
      "----------------------------------------------------------------\n",
      "        Layer (type)               Output Shape         Param #\n",
      "================================================================\n",
      "            Conv2d-1           [-1, 16, 28, 28]             160\n",
      "              ReLU-2           [-1, 16, 28, 28]               0\n",
      "            Conv2d-3           [-1, 16, 28, 28]           2,320\n",
      "              ReLU-4           [-1, 16, 28, 28]               0\n",
      "            Conv2d-5           [-1, 32, 14, 14]           4,640\n",
      "              ReLU-6           [-1, 32, 14, 14]               0\n",
      "            Conv2d-7           [-1, 32, 14, 14]           9,248\n",
      "              ReLU-8           [-1, 32, 14, 14]               0\n",
      "            Conv2d-9             [-1, 64, 7, 7]          18,496\n",
      "             ReLU-10             [-1, 64, 7, 7]               0\n",
      "           Conv2d-11             [-1, 64, 7, 7]          36,928\n",
      "             ReLU-12             [-1, 64, 7, 7]               0\n",
      "AdaptiveAvgPool2d-13             [-1, 64, 1, 1]               0\n",
      "           Linear-14                   [-1, 10]             650\n",
      "================================================================\n",
      "Total params: 72,442\n",
      "Trainable params: 72,442\n",
      "Non-trainable params: 0\n",
      "----------------------------------------------------------------\n",
      "Input size (MB): 0.00\n",
      "Forward/backward pass size (MB): 0.67\n",
      "Params size (MB): 0.28\n",
      "Estimated Total Size (MB): 0.95\n",
      "----------------------------------------------------------------\n"
     ]
    }
   ],
   "source": [
    "log_batch = 10\n",
    "unit_num = 16\n",
    "\n",
    "def _make_layer(in_shape, out_shape, unit_num):\n",
    "    return nn.Sequential(\n",
    "        nn.Conv2d(in_shape, unit_num, 3, 1, 1),\n",
    "        nn.ReLU(inplace=True),\n",
    "        nn.Conv2d(unit_num, out_shape, 3, 1, 1),\n",
    "        nn.ReLU(inplace=True),\n",
    "    )\n",
    "    \n",
    "\n",
    "class Net(nn.Module):\n",
    "    def __init__(self):\n",
    "        super(Net, self).__init__()\n",
    "        #self.conv11 = nn.Conv2d(1, unit_num, 3, 1, 1)\n",
    "        #self.conv12 = nn.Conv2d(unit_num, unit_num, 3, 1, 1)\n",
    "        #self.conv21 = nn.Conv2d(unit_num, unit_num*2, 3, 1, 1)\n",
    "        #self.conv22 = nn.Conv2d(unit_num*2, unit_num*2, 3, 1, 1)\n",
    "        #self.conv31 = nn.Conv2d(unit_num*2, unit_num*4, 3, 1, 1)\n",
    "        #self.conv32 = nn.Conv2d(unit_num*4, unit_num*4, 3, 1, 1)\n",
    "        # why the model is like this? Any specific meaning?\n",
    "        self.layer1 = _make_layer(1,unit_num,unit_num)\n",
    "        self.layer2 = _make_layer(unit_num,unit_num*2,unit_num*2)\n",
    "        self.layer3 = _make_layer(unit_num*2,unit_num*4,unit_num*4)\n",
    "        self.gap = nn.AdaptiveAvgPool2d((1,1))\n",
    "        self.fc = nn.Linear(unit_num*4, 10)\n",
    "\n",
    "    def forward(self, x):\n",
    "        x = self.layer1(x)\n",
    "        x = F.max_pool2d(x, 2)\n",
    "        \n",
    "        x = self.layer2(x)\n",
    "        x = F.max_pool2d(x, 2)\n",
    "        \n",
    "        x = self.layer3(x)\n",
    "        x = self.gap(x)\n",
    "        \n",
    "        x = torch.flatten(x, 1)\n",
    "        x = self.fc(x)\n",
    "        #output = F.softmax(x, dim=1)\n",
    "        #x = F.log_softmax(x, dim=1)\n",
    "        return x\n",
    "\n",
    "\n",
    "\n",
    "use_cuda = torch.cuda.is_available()\n",
    "model = Net()\n",
    "if use_cuda:\n",
    "    model = model.cuda()\n",
    "summary(model,(1,28,28))"
   ]
  },
  {
   "cell_type": "code",
   "execution_count": null,
   "metadata": {},
   "outputs": [],
   "source": []
  },
  {
   "cell_type": "markdown",
   "metadata": {},
   "source": [
    "Dataset are stored in '/dataset'. If you want to change this, remember to change the root for ClassesLoader."
   ]
  },
  {
   "cell_type": "code",
   "execution_count": 3,
   "metadata": {},
   "outputs": [],
   "source": [
    "batch_size = 32\n",
    "\n",
    "transform = transforms.Compose([transforms.ToTensor()])\n",
    "data_train = datasets.MNIST(root = \"./dataset\",\n",
    "                            transform=transform,\n",
    "                            train = True,\n",
    "                            download = True)\n",
    "\n",
    "data_test = datasets.MNIST(root=\"./dataset\",\n",
    "                           transform = transform,\n",
    "                           train = False)\n",
    "data_loader_train = torch.utils.data.DataLoader(dataset=data_train,\n",
    "                                                batch_size = batch_size,\n",
    "                                                shuffle = True,\n",
    "                                                 num_workers=0)\n",
    "\n",
    "data_loader_test = torch.utils.data.DataLoader(dataset=data_test,\n",
    "                                               batch_size = batch_size,\n",
    "                                               shuffle = True,\n",
    "                                                num_workers=0)"
   ]
  },
  {
   "cell_type": "code",
   "execution_count": 4,
   "metadata": {},
   "outputs": [],
   "source": [
    "import time"
   ]
  },
  {
   "cell_type": "markdown",
   "metadata": {},
   "source": [
    "We do not want a perfect MNIST classifier. Around 97% accuracy is enough for the explanations."
   ]
  },
  {
   "cell_type": "code",
   "execution_count": 5,
   "metadata": {},
   "outputs": [
    {
     "name": "stdout",
     "output_type": "stream",
     "text": [
      "Epoch 0/10\n",
      "----------\n",
      "op usage= 0.6179559643632918\n",
      "sf usage= 0.29436830742140324\n",
      "Loss is:1.77334208, Train Accuracy is:68.64%, Test Accuracy is:85.22%\n",
      "Epoch 1/10\n",
      "----------\n",
      "op usage= 0.6254225294610825\n",
      "sf usage= 0.28944884763980216\n",
      "Loss is:1.60472530, Train Accuracy is:85.67%, Test Accuracy is:87.01%\n",
      "Epoch 2/10\n",
      "----------\n",
      "op usage= 0.6189923537703241\n",
      "sf usage= 0.2923669665706146\n",
      "Loss is:1.58852770, Train Accuracy is:87.24%, Test Accuracy is:88.05%\n",
      "Epoch 3/10\n",
      "----------\n",
      "op usage= 0.6200068141546449\n",
      "sf usage= 0.2933161624488904\n",
      "Loss is:1.57937312, Train Accuracy is:88.12%, Test Accuracy is:89.06%\n",
      "Epoch 4/10\n",
      "----------\n",
      "op usage= 0.6201520292007352\n",
      "sf usage= 0.29316302971338276\n",
      "Loss is:1.57132102, Train Accuracy is:88.93%, Test Accuracy is:89.58%\n",
      "Epoch 5/10\n",
      "----------\n",
      "op usage= 0.6194180013319139\n",
      "sf usage= 0.2938466559806551\n",
      "Loss is:1.56717256, Train Accuracy is:89.31%, Test Accuracy is:89.92%\n",
      "Epoch 6/10\n",
      "----------\n",
      "op usage= 0.6204371482112523\n",
      "sf usage= 0.29221809909658364\n",
      "Loss is:1.51712771, Train Accuracy is:94.37%, Test Accuracy is:98.29%\n",
      "Epoch 7/10\n",
      "----------\n",
      "op usage= 0.6283229328695443\n",
      "sf usage= 0.28577228214334144\n",
      "Loss is:1.47902874, Train Accuracy is:98.22%, Test Accuracy is:98.22%\n",
      "Epoch 8/10\n",
      "----------\n",
      "op usage= 0.6319646515275384\n",
      "sf usage= 0.28316443122951407\n",
      "Loss is:1.47713595, Train Accuracy is:98.43%, Test Accuracy is:98.82%\n",
      "Epoch 9/10\n",
      "----------\n",
      "op usage= 0.6818737681035955\n",
      "sf usage= 0.24589333452490467\n",
      "Loss is:1.47605870, Train Accuracy is:98.49%, Test Accuracy is:98.44%\n"
     ]
    }
   ],
   "source": [
    "objective = torch.nn.CrossEntropyLoss()\n",
    "optimizer = torch.optim.Adam(model.parameters())\n",
    "n_epochs = 10\n",
    "\n",
    "torch.set_num_threads(6)\n",
    "\n",
    "for epoch in range(n_epochs):\n",
    "    running_loss = 0.0\n",
    "    running_correct = 0\n",
    "    print(\"Epoch {}/{}\".format(epoch, n_epochs))\n",
    "    print(\"-\"*10)\n",
    "    \n",
    "    all_start = time.time()\n",
    "    op_total = 0\n",
    "    sf_total = 0\n",
    "    for data in data_loader_train:\n",
    "        \n",
    "        X_train, y_train = data\n",
    "        if use_cuda:\n",
    "            X_train, y_train = X_train.cuda(), y_train.cuda()\n",
    "        \n",
    "        sf_start = time.time()\n",
    "        outputs = F.softmax(model(X_train), dim=1)\n",
    "        _, pred = torch.max(outputs.data, 1)\n",
    "        sf_total += time.time() - sf_start\n",
    "        \n",
    "        \n",
    "        optimizer.zero_grad()\n",
    "        loss = objective(outputs, y_train)\n",
    "        op_start = time.time()\n",
    "        loss.backward()\n",
    "        optimizer.step()\n",
    "        op_total += time.time() - op_start\n",
    "        \n",
    "        running_loss += loss.item()\n",
    "        running_correct += torch.sum(pred == y_train.data).item()\n",
    "        \n",
    "    print('op usage=', op_total/(time.time()-all_start))\n",
    "    print('sf usage=', sf_total/(time.time()-all_start))\n",
    "    \n",
    "    testing_correct = 0\n",
    "    \n",
    "    for data in data_loader_test:\n",
    "        X_test, y_test = data\n",
    "        if use_cuda:\n",
    "            X_test, y_test = X_test.cuda(), y_test.cuda()\n",
    "        outputs = model(X_test)\n",
    "        _, pred = torch.max(outputs.data, 1)\n",
    "        testing_correct += torch.sum(pred == y_test.data).item()\n",
    "    \n",
    "    print(\"Loss is:{:.8f}, Train Accuracy is:{:.2f}%, Test Accuracy is:{:.2f}%\".format(running_loss*batch_size/len(data_train),\n",
    "                                                                                      100*running_correct/len(data_train),\n",
    "                                                                                      100*testing_correct/len(data_test)))"
   ]
  },
  {
   "cell_type": "code",
   "execution_count": null,
   "metadata": {},
   "outputs": [],
   "source": []
  },
  {
   "cell_type": "markdown",
   "metadata": {},
   "source": [
    "Now, for the Explanations.\n",
    "1. wrap the model.\n",
    "2. create a classesLoader.\n",
    "3. set layers, model target and classes target.\n",
    "4. create Explainer, train the model and generate explanations.\n",
    "\n",
    "Here we choose [1,2,4,8] as target classes"
   ]
  },
  {
   "cell_type": "code",
   "execution_count": 44,
   "metadata": {},
   "outputs": [
    {
     "name": "stderr",
     "output_type": "stream",
     "text": [
      "0it [00:00, ?it/s]"
     ]
    },
    {
     "name": "stdout",
     "output_type": "stream",
     "text": [
      "Training reducer:\n",
      "Loading data\n"
     ]
    },
    {
     "name": "stderr",
     "output_type": "stream",
     "text": [
      "4it [00:08,  2.05s/it]\n"
     ]
    },
    {
     "name": "stdout",
     "output_type": "stream",
     "text": [
      "Loading complete, with size of (24393, 7, 7, 64)\n",
      "Training will take around a minute, please wait for a while...\n",
      "reducer trained, spent 44.616947889328 s\n"
     ]
    },
    {
     "name": "stderr",
     "output_type": "stream",
     "text": [
      "0it [00:00, ?it/s]"
     ]
    },
    {
     "name": "stdout",
     "output_type": "stream",
     "text": [
      "fidelity: [0.35694665 0.35127392 0.09310371 0.15824892]\n",
      "loading data\n"
     ]
    },
    {
     "name": "stderr",
     "output_type": "stream",
     "text": [
      "4it [00:07,  1.96s/it]\n",
      "  0%|          | 0/15 [00:00<?, ?it/s]"
     ]
    },
    {
     "name": "stdout",
     "output_type": "stream",
     "text": [
      "estimating weight:\n"
     ]
    },
    {
     "name": "stderr",
     "output_type": "stream",
     "text": [
      "100%|██████████| 15/15 [03:41<00:00, 14.74s/it]\n",
      "0it [00:00, ?it/s]"
     ]
    },
    {
     "name": "stdout",
     "output_type": "stream",
     "text": [
      "generating features:\n",
      "[0, 1, 2, 3, 4, 5, 6, 7, 8, 9, 10, 11, 12, 13, 14]\n",
      "loading training data\n"
     ]
    },
    {
     "name": "stderr",
     "output_type": "stream",
     "text": [
      "4it [00:09,  2.32s/it]\n",
      "100%|██████████| 15/15 [00:01<00:00, 10.56it/s]\n",
      "0it [00:00, ?it/s]"
     ]
    },
    {
     "name": "stdout",
     "output_type": "stream",
     "text": [
      "Generate explanations with fullset condition\n"
     ]
    },
    {
     "name": "stderr",
     "output_type": "stream",
     "text": [
      "0it [00:00, ?it/s]\n"
     ]
    },
    {
     "ename": "InvocationException",
     "evalue": "Program terminated with status: 1. stderr follows: Warning: No such file or directory while opening /Users/xinyaoniu/Documents/InvertibleCE\\Explainers\\MNIST_layer3_15_[1, 2, 4, 8]\\feature_imgs\\7.jpg\nError: No or improper image file=\"/Users/xinyaoniu/Documents/InvertibleCE\\Explainers\\MNIST_layer3_15_[1, 2, 4, 8]\\feature_imgs\\7.jpg\"\nin label of node 15\nWarning: No such file or directory while opening /Users/xinyaoniu/Documents/InvertibleCE\\Explainers\\MNIST_layer3_15_[1, 2, 4, 8]\\feature_imgs\\12.jpg\nError: No or improper image file=\"/Users/xinyaoniu/Documents/InvertibleCE\\Explainers\\MNIST_layer3_15_[1, 2, 4, 8]\\feature_imgs\\12.jpg\"\nin label of node 14\nWarning: No such file or directory while opening /Users/xinyaoniu/Documents/InvertibleCE\\Explainers\\MNIST_layer3_15_[1, 2, 4, 8]\\feature_imgs\\4.jpg\nError: No or improper image file=\"/Users/xinyaoniu/Documents/InvertibleCE\\Explainers\\MNIST_layer3_15_[1, 2, 4, 8]\\feature_imgs\\4.jpg\"\nin label of node 13\nWarning: No such file or directory while opening /Users/xinyaoniu/Documents/InvertibleCE\\Explainers\\MNIST_layer3_15_[1, 2, 4, 8]\\feature_imgs\\10.jpg\nError: No or improper image file=\"/Users/xinyaoniu/Documents/InvertibleCE\\Explainers\\MNIST_layer3_15_[1, 2, 4, 8]\\feature_imgs\\10.jpg\"\nin label of node 12\nWarning: No such file or directory while opening /Users/xinyaoniu/Documents/InvertibleCE\\Explainers\\MNIST_layer3_15_[1, 2, 4, 8]\\feature_imgs\\5.jpg\nError: No or improper image file=\"/Users/xinyaoniu/Documents/InvertibleCE\\Explainers\\MNIST_layer3_15_[1, 2, 4, 8]\\feature_imgs\\5.jpg\"\nin label of node 11\nWarning: No such file or directory while opening /Users/xinyaoniu/Documents/InvertibleCE\\Explainers\\MNIST_layer3_15_[1, 2, 4, 8]\\feature_imgs\\2.jpg\nError: No or improper image file=\"/Users/xinyaoniu/Documents/InvertibleCE\\Explainers\\MNIST_layer3_15_[1, 2, 4, 8]\\feature_imgs\\2.jpg\"\nin label of node 10\nWarning: No such file or directory while opening /Users/xinyaoniu/Documents/InvertibleCE\\Explainers\\MNIST_layer3_15_[1, 2, 4, 8]\\feature_imgs\\11.jpg\nError: No or improper image file=\"/Users/xinyaoniu/Documents/InvertibleCE\\Explainers\\MNIST_layer3_15_[1, 2, 4, 8]\\feature_imgs\\11.jpg\"\nin label of node 9\nWarning: No such file or directory while opening /Users/xinyaoniu/Documents/InvertibleCE\\Explainers\\MNIST_layer3_15_[1, 2, 4, 8]\\feature_imgs\\14.jpg\nError: No or improper image file=\"/Users/xinyaoniu/Documents/InvertibleCE\\Explainers\\MNIST_layer3_15_[1, 2, 4, 8]\\feature_imgs\\14.jpg\"\nin label of node 8\nWarning: No such file or directory while opening /Users/xinyaoniu/Documents/InvertibleCE\\Explainers\\MNIST_layer3_15_[1, 2, 4, 8]\\feature_imgs\\9.jpg\nError: No or improper image file=\"/Users/xinyaoniu/Documents/InvertibleCE\\Explainers\\MNIST_layer3_15_[1, 2, 4, 8]\\feature_imgs\\9.jpg\"\nin label of node 7\nWarning: No such file or directory while opening /Users/xinyaoniu/Documents/InvertibleCE\\Explainers\\MNIST_layer3_15_[1, 2, 4, 8]\\feature_imgs\\3.jpg\nError: No or improper image file=\"/Users/xinyaoniu/Documents/InvertibleCE\\Explainers\\MNIST_layer3_15_[1, 2, 4, 8]\\feature_imgs\\3.jpg\"\nin label of node 6\nWarning: No such file or directory while opening /Users/xinyaoniu/Documents/InvertibleCE\\Explainers\\MNIST_layer3_15_[1, 2, 4, 8]\\feature_imgs\\6.jpg\nError: No or improper image file=\"/Users/xinyaoniu/Documents/InvertibleCE\\Explainers\\MNIST_layer3_15_[1, 2, 4, 8]\\feature_imgs\\6.jpg\"\nin label of node 5\nWarning: No such file or directory while opening /Users/xinyaoniu/Documents/InvertibleCE\\Explainers\\MNIST_layer3_15_[1, 2, 4, 8]\\feature_imgs\\1.jpg\nError: No or improper image file=\"/Users/xinyaoniu/Documents/InvertibleCE\\Explainers\\MNIST_layer3_15_[1, 2, 4, 8]\\feature_imgs\\1.jpg\"\nin label of node 4\nWarning: No such file or directory while opening /Users/xinyaoniu/Documents/InvertibleCE\\Explainers\\MNIST_layer3_15_[1, 2, 4, 8]\\feature_imgs\\13.jpg\nError: No or improper image file=\"/Users/xinyaoniu/Documents/InvertibleCE\\Explainers\\MNIST_layer3_15_[1, 2, 4, 8]\\feature_imgs\\13.jpg\"\nin label of node 3\nWarning: No such file or directory while opening /Users/xinyaoniu/Documents/InvertibleCE\\Explainers\\MNIST_layer3_15_[1, 2, 4, 8]\\feature_imgs\\8.jpg\nError: No or improper image file=\"/Users/xinyaoniu/Documents/InvertibleCE\\Explainers\\MNIST_layer3_15_[1, 2, 4, 8]\\feature_imgs\\8.jpg\"\nin label of node 2\nWarning: No such file or directory while opening /Users/xinyaoniu/Documents/InvertibleCE\\Explainers\\MNIST_layer3_15_[1, 2, 4, 8]\\feature_imgs\\0.jpg\nError: No or improper image file=\"/Users/xinyaoniu/Documents/InvertibleCE\\Explainers\\MNIST_layer3_15_[1, 2, 4, 8]\\feature_imgs\\0.jpg\"\nin label of node 1\n",
     "output_type": "error",
     "traceback": [
      "\u001b[0;31m---------------------------------------------------------------------------\u001b[0m",
      "\u001b[0;31mInvocationException\u001b[0m                       Traceback (most recent call last)",
      "\u001b[0;32m<ipython-input-44-3a47c7569dab>\u001b[0m in \u001b[0;36m<module>\u001b[0;34m\u001b[0m\n\u001b[1;32m     46\u001b[0m     \u001b[0mExp\u001b[0m\u001b[0;34m.\u001b[0m\u001b[0msave_features\u001b[0m\u001b[0;34m(\u001b[0m\u001b[0;34m)\u001b[0m\u001b[0;34m\u001b[0m\u001b[0;34m\u001b[0m\u001b[0m\n\u001b[1;32m     47\u001b[0m \u001b[0;34m\u001b[0m\u001b[0m\n\u001b[0;32m---> 48\u001b[0;31m     \u001b[0mExp\u001b[0m\u001b[0;34m.\u001b[0m\u001b[0mgenerate_image_LR_file\u001b[0m\u001b[0;34m(\u001b[0m\u001b[0mclasses\u001b[0m\u001b[0;34m)\u001b[0m\u001b[0;34m\u001b[0m\u001b[0;34m\u001b[0m\u001b[0m\n\u001b[0m\u001b[1;32m     49\u001b[0m \u001b[0;34m\u001b[0m\u001b[0m\n\u001b[1;32m     50\u001b[0m     \u001b[0mExp\u001b[0m\u001b[0;34m.\u001b[0m\u001b[0msave\u001b[0m\u001b[0;34m(\u001b[0m\u001b[0;34m)\u001b[0m\u001b[0;34m\u001b[0m\u001b[0;34m\u001b[0m\u001b[0m\n",
      "\u001b[0;32m~/Documents/InvertibleCE/Explainer.py\u001b[0m in \u001b[0;36mgenerate_image_LR_file\u001b[0;34m(self, classesLoader)\u001b[0m\n\u001b[1;32m    364\u001b[0m             \u001b[0mgraph\u001b[0m \u001b[0;34m=\u001b[0m \u001b[0mpydotplus\u001b[0m\u001b[0;34m.\u001b[0m\u001b[0mgraph_from_dot_data\u001b[0m\u001b[0;34m(\u001b[0m\u001b[0mLR_graph\u001b[0m\u001b[0;34m(\u001b[0m\u001b[0mwlist\u001b[0m\u001b[0;34m,\u001b[0m\u001b[0mNo\u001b[0m\u001b[0;34m)\u001b[0m\u001b[0;34m)\u001b[0m\u001b[0;34m\u001b[0m\u001b[0;34m\u001b[0m\u001b[0m\n\u001b[1;32m    365\u001b[0m             \u001b[0;32mif\u001b[0m \u001b[0;32mnot\u001b[0m \u001b[0mos\u001b[0m\u001b[0;34m.\u001b[0m\u001b[0mpath\u001b[0m\u001b[0;34m.\u001b[0m\u001b[0mexists\u001b[0m\u001b[0;34m(\u001b[0m\u001b[0;34m\"./Explainers/\"\u001b[0m\u001b[0;34m+\u001b[0m\u001b[0mtitle\u001b[0m\u001b[0;34m+\u001b[0m\u001b[0;34m\"/GE/{}.jpg\"\u001b[0m\u001b[0;34m.\u001b[0m\u001b[0mformat\u001b[0m\u001b[0;34m(\u001b[0m\u001b[0mNo\u001b[0m\u001b[0;34m)\u001b[0m\u001b[0;34m)\u001b[0m\u001b[0;34m:\u001b[0m\u001b[0;34m\u001b[0m\u001b[0;34m\u001b[0m\u001b[0m\n\u001b[0;32m--> 366\u001b[0;31m                 \u001b[0mgraph\u001b[0m\u001b[0;34m.\u001b[0m\u001b[0mwrite_jpg\u001b[0m\u001b[0;34m(\u001b[0m\u001b[0;34m\"./Explainers/\"\u001b[0m\u001b[0;34m+\u001b[0m\u001b[0mtitle\u001b[0m\u001b[0;34m+\u001b[0m\u001b[0;34m\"/GE/{}.jpg\"\u001b[0m\u001b[0;34m.\u001b[0m\u001b[0mformat\u001b[0m\u001b[0;34m(\u001b[0m\u001b[0mNo\u001b[0m\u001b[0;34m)\u001b[0m\u001b[0;34m)\u001b[0m\u001b[0;34m\u001b[0m\u001b[0;34m\u001b[0m\u001b[0m\n\u001b[0m\u001b[1;32m    367\u001b[0m \u001b[0;34m\u001b[0m\u001b[0m\n\u001b[1;32m    368\u001b[0m \u001b[0;34m\u001b[0m\u001b[0m\n",
      "\u001b[0;32m~/.local/lib/python3.7/site-packages/pydotplus/graphviz.py\u001b[0m in \u001b[0;36m<lambda>\u001b[0;34m(path, f, prog)\u001b[0m\n\u001b[1;32m   1808\u001b[0m                 \u001b[0;32mlambda\u001b[0m \u001b[0mpath\u001b[0m\u001b[0;34m,\u001b[0m\u001b[0;34m\u001b[0m\u001b[0;34m\u001b[0m\u001b[0m\n\u001b[1;32m   1809\u001b[0m                 \u001b[0mf\u001b[0m\u001b[0;34m=\u001b[0m\u001b[0mfrmt\u001b[0m\u001b[0;34m,\u001b[0m\u001b[0;34m\u001b[0m\u001b[0;34m\u001b[0m\u001b[0m\n\u001b[0;32m-> 1810\u001b[0;31m                 \u001b[0mprog\u001b[0m\u001b[0;34m=\u001b[0m\u001b[0mself\u001b[0m\u001b[0;34m.\u001b[0m\u001b[0mprog\u001b[0m\u001b[0;34m:\u001b[0m \u001b[0mself\u001b[0m\u001b[0;34m.\u001b[0m\u001b[0mwrite\u001b[0m\u001b[0;34m(\u001b[0m\u001b[0mpath\u001b[0m\u001b[0;34m,\u001b[0m \u001b[0mformat\u001b[0m\u001b[0;34m=\u001b[0m\u001b[0mf\u001b[0m\u001b[0;34m,\u001b[0m \u001b[0mprog\u001b[0m\u001b[0;34m=\u001b[0m\u001b[0mprog\u001b[0m\u001b[0;34m)\u001b[0m\u001b[0;34m\u001b[0m\u001b[0;34m\u001b[0m\u001b[0m\n\u001b[0m\u001b[1;32m   1811\u001b[0m             )\n\u001b[1;32m   1812\u001b[0m \u001b[0;34m\u001b[0m\u001b[0m\n",
      "\u001b[0;32m~/.local/lib/python3.7/site-packages/pydotplus/graphviz.py\u001b[0m in \u001b[0;36mwrite\u001b[0;34m(self, path, prog, format)\u001b[0m\n\u001b[1;32m   1916\u001b[0m \u001b[0;34m\u001b[0m\u001b[0m\n\u001b[1;32m   1917\u001b[0m             \u001b[0;32melse\u001b[0m\u001b[0;34m:\u001b[0m\u001b[0;34m\u001b[0m\u001b[0;34m\u001b[0m\u001b[0m\n\u001b[0;32m-> 1918\u001b[0;31m                 \u001b[0mfobj\u001b[0m\u001b[0;34m.\u001b[0m\u001b[0mwrite\u001b[0m\u001b[0;34m(\u001b[0m\u001b[0mself\u001b[0m\u001b[0;34m.\u001b[0m\u001b[0mcreate\u001b[0m\u001b[0;34m(\u001b[0m\u001b[0mprog\u001b[0m\u001b[0;34m,\u001b[0m \u001b[0mformat\u001b[0m\u001b[0;34m)\u001b[0m\u001b[0;34m)\u001b[0m\u001b[0;34m\u001b[0m\u001b[0;34m\u001b[0m\u001b[0m\n\u001b[0m\u001b[1;32m   1919\u001b[0m         \u001b[0;32mfinally\u001b[0m\u001b[0;34m:\u001b[0m\u001b[0;34m\u001b[0m\u001b[0;34m\u001b[0m\u001b[0m\n\u001b[1;32m   1920\u001b[0m             \u001b[0;32mif\u001b[0m \u001b[0mclose\u001b[0m\u001b[0;34m:\u001b[0m\u001b[0;34m\u001b[0m\u001b[0;34m\u001b[0m\u001b[0m\n",
      "\u001b[0;32m~/.local/lib/python3.7/site-packages/pydotplus/graphviz.py\u001b[0m in \u001b[0;36mcreate\u001b[0;34m(self, prog, format)\u001b[0m\n\u001b[1;32m   2030\u001b[0m             raise InvocationException(\n\u001b[1;32m   2031\u001b[0m                 'Program terminated with status: %d. stderr follows: %s' % (\n\u001b[0;32m-> 2032\u001b[0;31m                     status, stderr_output))\n\u001b[0m\u001b[1;32m   2033\u001b[0m         \u001b[0;32melif\u001b[0m \u001b[0mstderr_output\u001b[0m\u001b[0;34m:\u001b[0m\u001b[0;34m\u001b[0m\u001b[0;34m\u001b[0m\u001b[0m\n\u001b[1;32m   2034\u001b[0m             \u001b[0mprint\u001b[0m\u001b[0;34m(\u001b[0m\u001b[0mstderr_output\u001b[0m\u001b[0;34m)\u001b[0m\u001b[0;34m\u001b[0m\u001b[0;34m\u001b[0m\u001b[0m\n",
      "\u001b[0;31mInvocationException\u001b[0m: Program terminated with status: 1. stderr follows: Warning: No such file or directory while opening /Users/xinyaoniu/Documents/InvertibleCE\\Explainers\\MNIST_layer3_15_[1, 2, 4, 8]\\feature_imgs\\7.jpg\nError: No or improper image file=\"/Users/xinyaoniu/Documents/InvertibleCE\\Explainers\\MNIST_layer3_15_[1, 2, 4, 8]\\feature_imgs\\7.jpg\"\nin label of node 15\nWarning: No such file or directory while opening /Users/xinyaoniu/Documents/InvertibleCE\\Explainers\\MNIST_layer3_15_[1, 2, 4, 8]\\feature_imgs\\12.jpg\nError: No or improper image file=\"/Users/xinyaoniu/Documents/InvertibleCE\\Explainers\\MNIST_layer3_15_[1, 2, 4, 8]\\feature_imgs\\12.jpg\"\nin label of node 14\nWarning: No such file or directory while opening /Users/xinyaoniu/Documents/InvertibleCE\\Explainers\\MNIST_layer3_15_[1, 2, 4, 8]\\feature_imgs\\4.jpg\nError: No or improper image file=\"/Users/xinyaoniu/Documents/InvertibleCE\\Explainers\\MNIST_layer3_15_[1, 2, 4, 8]\\feature_imgs\\4.jpg\"\nin label of node 13\nWarning: No such file or directory while opening /Users/xinyaoniu/Documents/InvertibleCE\\Explainers\\MNIST_layer3_15_[1, 2, 4, 8]\\feature_imgs\\10.jpg\nError: No or improper image file=\"/Users/xinyaoniu/Documents/InvertibleCE\\Explainers\\MNIST_layer3_15_[1, 2, 4, 8]\\feature_imgs\\10.jpg\"\nin label of node 12\nWarning: No such file or directory while opening /Users/xinyaoniu/Documents/InvertibleCE\\Explainers\\MNIST_layer3_15_[1, 2, 4, 8]\\feature_imgs\\5.jpg\nError: No or improper image file=\"/Users/xinyaoniu/Documents/InvertibleCE\\Explainers\\MNIST_layer3_15_[1, 2, 4, 8]\\feature_imgs\\5.jpg\"\nin label of node 11\nWarning: No such file or directory while opening /Users/xinyaoniu/Documents/InvertibleCE\\Explainers\\MNIST_layer3_15_[1, 2, 4, 8]\\feature_imgs\\2.jpg\nError: No or improper image file=\"/Users/xinyaoniu/Documents/InvertibleCE\\Explainers\\MNIST_layer3_15_[1, 2, 4, 8]\\feature_imgs\\2.jpg\"\nin label of node 10\nWarning: No such file or directory while opening /Users/xinyaoniu/Documents/InvertibleCE\\Explainers\\MNIST_layer3_15_[1, 2, 4, 8]\\feature_imgs\\11.jpg\nError: No or improper image file=\"/Users/xinyaoniu/Documents/InvertibleCE\\Explainers\\MNIST_layer3_15_[1, 2, 4, 8]\\feature_imgs\\11.jpg\"\nin label of node 9\nWarning: No such file or directory while opening /Users/xinyaoniu/Documents/InvertibleCE\\Explainers\\MNIST_layer3_15_[1, 2, 4, 8]\\feature_imgs\\14.jpg\nError: No or improper image file=\"/Users/xinyaoniu/Documents/InvertibleCE\\Explainers\\MNIST_layer3_15_[1, 2, 4, 8]\\feature_imgs\\14.jpg\"\nin label of node 8\nWarning: No such file or directory while opening /Users/xinyaoniu/Documents/InvertibleCE\\Explainers\\MNIST_layer3_15_[1, 2, 4, 8]\\feature_imgs\\9.jpg\nError: No or improper image file=\"/Users/xinyaoniu/Documents/InvertibleCE\\Explainers\\MNIST_layer3_15_[1, 2, 4, 8]\\feature_imgs\\9.jpg\"\nin label of node 7\nWarning: No such file or directory while opening /Users/xinyaoniu/Documents/InvertibleCE\\Explainers\\MNIST_layer3_15_[1, 2, 4, 8]\\feature_imgs\\3.jpg\nError: No or improper image file=\"/Users/xinyaoniu/Documents/InvertibleCE\\Explainers\\MNIST_layer3_15_[1, 2, 4, 8]\\feature_imgs\\3.jpg\"\nin label of node 6\nWarning: No such file or directory while opening /Users/xinyaoniu/Documents/InvertibleCE\\Explainers\\MNIST_layer3_15_[1, 2, 4, 8]\\feature_imgs\\6.jpg\nError: No or improper image file=\"/Users/xinyaoniu/Documents/InvertibleCE\\Explainers\\MNIST_layer3_15_[1, 2, 4, 8]\\feature_imgs\\6.jpg\"\nin label of node 5\nWarning: No such file or directory while opening /Users/xinyaoniu/Documents/InvertibleCE\\Explainers\\MNIST_layer3_15_[1, 2, 4, 8]\\feature_imgs\\1.jpg\nError: No or improper image file=\"/Users/xinyaoniu/Documents/InvertibleCE\\Explainers\\MNIST_layer3_15_[1, 2, 4, 8]\\feature_imgs\\1.jpg\"\nin label of node 4\nWarning: No such file or directory while opening /Users/xinyaoniu/Documents/InvertibleCE\\Explainers\\MNIST_layer3_15_[1, 2, 4, 8]\\feature_imgs\\13.jpg\nError: No or improper image file=\"/Users/xinyaoniu/Documents/InvertibleCE\\Explainers\\MNIST_layer3_15_[1, 2, 4, 8]\\feature_imgs\\13.jpg\"\nin label of node 3\nWarning: No such file or directory while opening /Users/xinyaoniu/Documents/InvertibleCE\\Explainers\\MNIST_layer3_15_[1, 2, 4, 8]\\feature_imgs\\8.jpg\nError: No or improper image file=\"/Users/xinyaoniu/Documents/InvertibleCE\\Explainers\\MNIST_layer3_15_[1, 2, 4, 8]\\feature_imgs\\8.jpg\"\nin label of node 2\nWarning: No such file or directory while opening /Users/xinyaoniu/Documents/InvertibleCE\\Explainers\\MNIST_layer3_15_[1, 2, 4, 8]\\feature_imgs\\0.jpg\nError: No or improper image file=\"/Users/xinyaoniu/Documents/InvertibleCE\\Explainers\\MNIST_layer3_15_[1, 2, 4, 8]\\feature_imgs\\0.jpg\"\nin label of node 1\n"
     ]
    }
   ],
   "source": [
    "from Explainer import *\n",
    "import Explainer\n",
    "import utils\n",
    "import ClassesLoader\n",
    "import ModelWrapper\n",
    "\n",
    "\n",
    "m1 = ModelWrapper.PytorchModelWrapper(model,input_size = [1,28,28])\n",
    "\n",
    "classes = ClassesLoader.MNISTLoader(root = './dataset')\n",
    "\n",
    "layers = [\"layer3\"]\n",
    "\n",
    "classesNos = [1,2,4,8]\n",
    "m1.target = (\"fc\",classesNos)\n",
    "classes.targetNos = classesNos\n",
    "n_components = 15\n",
    "\n",
    "for layer_name in layers:\n",
    "    \n",
    "    title = \"MNIST_\" + layer_name + \"_{}_{}\".format(n_components,classesNos)\n",
    "    # trying to clean the directory before training\n",
    "    try:\n",
    "        shutil.rmtree('./Explainers/'+title)\n",
    "    except:\n",
    "        pass\n",
    "    \n",
    "    Exp = Explainer.Explainer(title = title,\n",
    "                    layer_name = layer_name,\n",
    "                    classesNos = classesNos,\n",
    "                    utils = utils.utils(img_size = (28,28,1)),\n",
    "                    #best_n = True,\n",
    "                    \n",
    "                    n_components= n_components\n",
    "\n",
    "                    #min_step=5\n",
    "                   )\n",
    "    \n",
    "    try:\n",
    "        Exp.train_model(m1,classes)\n",
    "    except:\n",
    "        Exp.reducer = None\n",
    "        Exp.train_model(m1,classes)\n",
    "    \n",
    "    Exp.generate_features(m1,classes)\n",
    "    \n",
    "    Exp.save_features()\n",
    "    \n",
    "    Exp.generate_image_LR_file(classes)\n",
    "    \n",
    "    Exp.save()"
   ]
  },
  {
   "cell_type": "code",
   "execution_count": null,
   "metadata": {},
   "outputs": [],
   "source": []
  },
  {
   "cell_type": "markdown",
   "metadata": {},
   "source": [
    "Global Explanations for 1,2,4,8"
   ]
  },
  {
   "cell_type": "code",
   "execution_count": 41,
   "metadata": {},
   "outputs": [
    {
     "data": {
      "text/html": [
       "<table><tr><td><img src='Explainers/MNIST_layer3_15_[1, 2, 4, 8]/GE/1.jpg'></td><td><img src='Explainers/MNIST_layer3_15_[1, 2, 4, 8]/GE/2.jpg'></td><td><img src='Explainers/MNIST_layer3_15_[1, 2, 4, 8]/GE/4.jpg'></td><td><img src='Explainers/MNIST_layer3_15_[1, 2, 4, 8]/GE/8.jpg'></td></tr></table>"
      ],
      "text/plain": [
       "<IPython.core.display.HTML object>"
      ]
     },
     "metadata": {},
     "output_type": "display_data"
    }
   ],
   "source": [
    "from IPython.display import HTML, display\n",
    "display(HTML(\"\".join([\"<table><tr>\",\n",
    "                      \"<td><img src='Explainers/MNIST_layer3_15_[1, 2, 4, 8]/GE/1.jpg'></td>\",\n",
    "                      \"<td><img src='Explainers/MNIST_layer3_15_[1, 2, 4, 8]/GE/2.jpg'></td>\",\n",
    "                      \"<td><img src='Explainers/MNIST_layer3_15_[1, 2, 4, 8]/GE/4.jpg'></td>\",\n",
    "                      \"<td><img src='Explainers/MNIST_layer3_15_[1, 2, 4, 8]/GE/8.jpg'></td>\",\n",
    "                      \"</tr></table>\"])))"
   ]
  },
  {
   "cell_type": "code",
   "execution_count": null,
   "metadata": {},
   "outputs": [],
   "source": []
  },
  {
   "cell_type": "markdown",
   "metadata": {},
   "source": [
    "Local explanations for a '1'"
   ]
  },
  {
   "cell_type": "code",
   "execution_count": 43,
   "metadata": {},
   "outputs": [
    {
     "data": {
      "image/png": "[encoded data removed]",
      "text/plain": [
       "<Figure size 360x360 with 1 Axes>"
      ]
     },
     "metadata": {
      "needs_background": "light"
     },
     "output_type": "display_data"
    },
    {
     "ename": "InvocationException",
     "evalue": "Program terminated with status: 1. stderr follows: Warning: No such file or directory while opening /Users/xinyaoniu/Documents/InvertibleCE\\Explainers\\MNIST_layer3_15_[1, 2, 4, 8]\\explanations\\1\\feature_0.jpg\nError: No or improper image file=\"/Users/xinyaoniu/Documents/InvertibleCE\\Explainers\\MNIST_layer3_15_[1, 2, 4, 8]\\explanations\\1\\feature_0.jpg\"\nWarning: No such file or directory while opening /Users/xinyaoniu/Documents/InvertibleCE\\Explainers\\MNIST_layer3_15_[1, 2, 4, 8]\\feature_imgs\\0.jpg\nError: No or improper image file=\"/Users/xinyaoniu/Documents/InvertibleCE\\Explainers\\MNIST_layer3_15_[1, 2, 4, 8]\\feature_imgs\\0.jpg\"\nWarning: No such file or directory while opening /Users/xinyaoniu/Documents/InvertibleCE\\Explainers\\MNIST_layer3_15_[1, 2, 4, 8]\\explanations\\1\\feature_8.jpg\nError: No or improper image file=\"/Users/xinyaoniu/Documents/InvertibleCE\\Explainers\\MNIST_layer3_15_[1, 2, 4, 8]\\explanations\\1\\feature_8.jpg\"\nWarning: No such file or directory while opening /Users/xinyaoniu/Documents/InvertibleCE\\Explainers\\MNIST_layer3_15_[1, 2, 4, 8]\\feature_imgs\\8.jpg\nError: No or improper image file=\"/Users/xinyaoniu/Documents/InvertibleCE\\Explainers\\MNIST_layer3_15_[1, 2, 4, 8]\\feature_imgs\\8.jpg\"\nWarning: No such file or directory while opening /Users/xinyaoniu/Documents/InvertibleCE\\Explainers\\MNIST_layer3_15_[1, 2, 4, 8]\\explanations\\1\\feature_13.jpg\nError: No or improper image file=\"/Users/xinyaoniu/Documents/InvertibleCE\\Explainers\\MNIST_layer3_15_[1, 2, 4, 8]\\explanations\\1\\feature_13.jpg\"\nWarning: No such file or directory while opening /Users/xinyaoniu/Documents/InvertibleCE\\Explainers\\MNIST_layer3_15_[1, 2, 4, 8]\\feature_imgs\\13.jpg\nError: No or improper image file=\"/Users/xinyaoniu/Documents/InvertibleCE\\Explainers\\MNIST_layer3_15_[1, 2, 4, 8]\\feature_imgs\\13.jpg\"\nWarning: No such file or directory while opening /Users/xinyaoniu/Documents/InvertibleCE\\Explainers\\MNIST_layer3_15_[1, 2, 4, 8]\\explanations\\1\\feature_1.jpg\nError: No or improper image file=\"/Users/xinyaoniu/Documents/InvertibleCE\\Explainers\\MNIST_layer3_15_[1, 2, 4, 8]\\explanations\\1\\feature_1.jpg\"\nWarning: No such file or directory while opening /Users/xinyaoniu/Documents/InvertibleCE\\Explainers\\MNIST_layer3_15_[1, 2, 4, 8]\\feature_imgs\\1.jpg\nError: No or improper image file=\"/Users/xinyaoniu/Documents/InvertibleCE\\Explainers\\MNIST_layer3_15_[1, 2, 4, 8]\\feature_imgs\\1.jpg\"\nWarning: No such file or directory while opening /Users/xinyaoniu/Documents/InvertibleCE\\Explainers\\MNIST_layer3_15_[1, 2, 4, 8]\\explanations\\1\\feature_6.jpg\nError: No or improper image file=\"/Users/xinyaoniu/Documents/InvertibleCE\\Explainers\\MNIST_layer3_15_[1, 2, 4, 8]\\explanations\\1\\feature_6.jpg\"\nWarning: No such file or directory while opening /Users/xinyaoniu/Documents/InvertibleCE\\Explainers\\MNIST_layer3_15_[1, 2, 4, 8]\\feature_imgs\\6.jpg\nError: No or improper image file=\"/Users/xinyaoniu/Documents/InvertibleCE\\Explainers\\MNIST_layer3_15_[1, 2, 4, 8]\\feature_imgs\\6.jpg\"\nWarning: No such file or directory while opening /Users/xinyaoniu/Documents/InvertibleCE\\Explainers\\MNIST_layer3_15_[1, 2, 4, 8]\\explanations\\1\\feature_3.jpg\nError: No or improper image file=\"/Users/xinyaoniu/Documents/InvertibleCE\\Explainers\\MNIST_layer3_15_[1, 2, 4, 8]\\explanations\\1\\feature_3.jpg\"\nWarning: No such file or directory while opening /Users/xinyaoniu/Documents/InvertibleCE\\Explainers\\MNIST_layer3_15_[1, 2, 4, 8]\\feature_imgs\\3.jpg\nError: No or improper image file=\"/Users/xinyaoniu/Documents/InvertibleCE\\Explainers\\MNIST_layer3_15_[1, 2, 4, 8]\\feature_imgs\\3.jpg\"\nWarning: No such file or directory while opening /Users/xinyaoniu/Documents/InvertibleCE\\Explainers\\MNIST_layer3_15_[1, 2, 4, 8]\\explanations\\1\\feature_9.jpg\nError: No or improper image file=\"/Users/xinyaoniu/Documents/InvertibleCE\\Explainers\\MNIST_layer3_15_[1, 2, 4, 8]\\explanations\\1\\feature_9.jpg\"\nWarning: No such file or directory while opening /Users/xinyaoniu/Documents/InvertibleCE\\Explainers\\MNIST_layer3_15_[1, 2, 4, 8]\\feature_imgs\\9.jpg\nError: No or improper image file=\"/Users/xinyaoniu/Documents/InvertibleCE\\Explainers\\MNIST_layer3_15_[1, 2, 4, 8]\\feature_imgs\\9.jpg\"\nWarning: No such file or directory while opening /Users/xinyaoniu/Documents/InvertibleCE\\Explainers\\MNIST_layer3_15_[1, 2, 4, 8]\\explanations\\1\\feature_14.jpg\nError: No or improper image file=\"/Users/xinyaoniu/Documents/InvertibleCE\\Explainers\\MNIST_layer3_15_[1, 2, 4, 8]\\explanations\\1\\feature_14.jpg\"\nWarning: No such file or directory while opening /Users/xinyaoniu/Documents/InvertibleCE\\Explainers\\MNIST_layer3_15_[1, 2, 4, 8]\\feature_imgs\\14.jpg\nError: No or improper image file=\"/Users/xinyaoniu/Documents/InvertibleCE\\Explainers\\MNIST_layer3_15_[1, 2, 4, 8]\\feature_imgs\\14.jpg\"\nWarning: No such file or directory while opening /Users/xinyaoniu/Documents/InvertibleCE\\Explainers\\MNIST_layer3_15_[1, 2, 4, 8]\\explanations\\1\\feature_11.jpg\nError: No or improper image file=\"/Users/xinyaoniu/Documents/InvertibleCE\\Explainers\\MNIST_layer3_15_[1, 2, 4, 8]\\explanations\\1\\feature_11.jpg\"\nWarning: No such file or directory while opening /Users/xinyaoniu/Documents/InvertibleCE\\Explainers\\MNIST_layer3_15_[1, 2, 4, 8]\\feature_imgs\\11.jpg\nError: No or improper image file=\"/Users/xinyaoniu/Documents/InvertibleCE\\Explainers\\MNIST_layer3_15_[1, 2, 4, 8]\\feature_imgs\\11.jpg\"\nWarning: No such file or directory while opening /Users/xinyaoniu/Documents/InvertibleCE\\Explainers\\MNIST_layer3_15_[1, 2, 4, 8]\\explanations\\1\\feature_2.jpg\nError: No or improper image file=\"/Users/xinyaoniu/Documents/InvertibleCE\\Explainers\\MNIST_layer3_15_[1, 2, 4, 8]\\explanations\\1\\feature_2.jpg\"\nWarning: No such file or directory while opening /Users/xinyaoniu/Documents/InvertibleCE\\Explainers\\MNIST_layer3_15_[1, 2, 4, 8]\\feature_imgs\\2.jpg\nError: No or improper image file=\"/Users/xinyaoniu/Documents/InvertibleCE\\Explainers\\MNIST_layer3_15_[1, 2, 4, 8]\\feature_imgs\\2.jpg\"\nWarning: No such file or directory while opening /Users/xinyaoniu/Documents/InvertibleCE\\Explainers\\MNIST_layer3_15_[1, 2, 4, 8]\\explanations\\1\\feature_5.jpg\nError: No or improper image file=\"/Users/xinyaoniu/Documents/InvertibleCE\\Explainers\\MNIST_layer3_15_[1, 2, 4, 8]\\explanations\\1\\feature_5.jpg\"\nWarning: No such file or directory while opening /Users/xinyaoniu/Documents/InvertibleCE\\Explainers\\MNIST_layer3_15_[1, 2, 4, 8]\\feature_imgs\\5.jpg\nError: No or improper image file=\"/Users/xinyaoniu/Documents/InvertibleCE\\Explainers\\MNIST_layer3_15_[1, 2, 4, 8]\\feature_imgs\\5.jpg\"\nWarning: No such file or directory while opening /Users/xinyaoniu/Documents/InvertibleCE\\Explainers\\MNIST_layer3_15_[1, 2, 4, 8]\\explanations\\1\\feature_10.jpg\nError: No or improper image file=\"/Users/xinyaoniu/Documents/InvertibleCE\\Explainers\\MNIST_layer3_15_[1, 2, 4, 8]\\explanations\\1\\feature_10.jpg\"\nWarning: No such file or directory while opening /Users/xinyaoniu/Documents/InvertibleCE\\Explainers\\MNIST_layer3_15_[1, 2, 4, 8]\\feature_imgs\\10.jpg\nError: No or improper image file=\"/Users/xinyaoniu/Documents/InvertibleCE\\Explainers\\MNIST_layer3_15_[1, 2, 4, 8]\\feature_imgs\\10.jpg\"\nWarning: No such file or directory while opening /Users/xinyaoniu/Documents/InvertibleCE\\Explainers\\MNIST_layer3_15_[1, 2, 4, 8]\\explanations\\1\\feature_4.jpg\nError: No or improper image file=\"/Users/xinyaoniu/Documents/InvertibleCE\\Explainers\\MNIST_layer3_15_[1, 2, 4, 8]\\explanations\\1\\feature_4.jpg\"\nWarning: No such file or directory while opening /Users/xinyaoniu/Documents/InvertibleCE\\Explainers\\MNIST_layer3_15_[1, 2, 4, 8]\\feature_imgs\\4.jpg\nError: No or improper image file=\"/Users/xinyaoniu/Documents/InvertibleCE\\Explainers\\MNIST_layer3_15_[1, 2, 4, 8]\\feature_imgs\\4.jpg\"\nWarning: No such file or directory while opening /Users/xinyaoniu/Documents/InvertibleCE\\Explainers\\MNIST_layer3_15_[1, 2, 4, 8]\\explanations\\1\\feature_12.jpg\nError: No or improper image file=\"/Users/xinyaoniu/Documents/InvertibleCE\\Explainers\\MNIST_layer3_15_[1, 2, 4, 8]\\explanations\\1\\feature_12.jpg\"\nWarning: No such file or directory while opening /Users/xinyaoniu/Documents/InvertibleCE\\Explainers\\MNIST_layer3_15_[1, 2, 4, 8]\\feature_imgs\\12.jpg\nError: No or improper image file=\"/Users/xinyaoniu/Documents/InvertibleCE\\Explainers\\MNIST_layer3_15_[1, 2, 4, 8]\\feature_imgs\\12.jpg\"\nWarning: No such file or directory while opening /Users/xinyaoniu/Documents/InvertibleCE\\Explainers\\MNIST_layer3_15_[1, 2, 4, 8]\\explanations\\1\\feature_7.jpg\nError: No or improper image file=\"/Users/xinyaoniu/Documents/InvertibleCE\\Explainers\\MNIST_layer3_15_[1, 2, 4, 8]\\explanations\\1\\feature_7.jpg\"\nWarning: No such file or directory while opening /Users/xinyaoniu/Documents/InvertibleCE\\Explainers\\MNIST_layer3_15_[1, 2, 4, 8]\\feature_imgs\\7.jpg\nError: No or improper image file=\"/Users/xinyaoniu/Documents/InvertibleCE\\Explainers\\MNIST_layer3_15_[1, 2, 4, 8]\\feature_imgs\\7.jpg\"\nin label of node 1\n",
     "output_type": "error",
     "traceback": [
      "\u001b[0;31m---------------------------------------------------------------------------\u001b[0m",
      "\u001b[0;31mInvocationException\u001b[0m                       Traceback (most recent call last)",
      "\u001b[0;32m<ipython-input-43-8e531916b2d0>\u001b[0m in \u001b[0;36m<module>\u001b[0;34m\u001b[0m\n\u001b[1;32m      3\u001b[0m \u001b[0mutils\u001b[0m\u001b[0;34m.\u001b[0m\u001b[0mutils\u001b[0m\u001b[0;34m(\u001b[0m\u001b[0mimg_size\u001b[0m \u001b[0;34m=\u001b[0m \u001b[0;34m(\u001b[0m\u001b[0;36m28\u001b[0m\u001b[0;34m,\u001b[0m\u001b[0;36m28\u001b[0m\u001b[0;34m,\u001b[0m\u001b[0;36m1\u001b[0m\u001b[0;34m)\u001b[0m\u001b[0;34m)\u001b[0m\u001b[0;34m.\u001b[0m\u001b[0mshow_img\u001b[0m\u001b[0;34m(\u001b[0m\u001b[0;34m[\u001b[0m\u001b[0mx\u001b[0m\u001b[0;34m]\u001b[0m\u001b[0;34m)\u001b[0m\u001b[0;34m\u001b[0m\u001b[0;34m\u001b[0m\u001b[0m\n\u001b[1;32m      4\u001b[0m \u001b[0;34m\u001b[0m\u001b[0m\n\u001b[0;32m----> 5\u001b[0;31m \u001b[0mExp\u001b[0m\u001b[0;34m.\u001b[0m\u001b[0mlocal_explanations\u001b[0m\u001b[0;34m(\u001b[0m\u001b[0mx\u001b[0m\u001b[0;34m,\u001b[0m\u001b[0mm1\u001b[0m\u001b[0;34m,\u001b[0m\u001b[0mclasses\u001b[0m\u001b[0;34m)\u001b[0m\u001b[0;34m\u001b[0m\u001b[0;34m\u001b[0m\u001b[0m\n\u001b[0m",
      "\u001b[0;32m~/Documents/InvertibleCE/Explainer.py\u001b[0m in \u001b[0;36mlocal_explanations\u001b[0;34m(self, x, model, classesLoader, target_classes, background, name, with_total, display_value)\u001b[0m\n\u001b[1;32m    488\u001b[0m \u001b[0;34m\u001b[0m\u001b[0m\n\u001b[1;32m    489\u001b[0m             \u001b[0mgraph\u001b[0m \u001b[0;34m=\u001b[0m \u001b[0mpydotplus\u001b[0m\u001b[0;34m.\u001b[0m\u001b[0mgraph_from_dot_data\u001b[0m\u001b[0;34m(\u001b[0m\u001b[0mresstr\u001b[0m\u001b[0;34m)\u001b[0m\u001b[0;34m\u001b[0m\u001b[0;34m\u001b[0m\u001b[0m\n\u001b[0;32m--> 490\u001b[0;31m             \u001b[0mgraph\u001b[0m\u001b[0;34m.\u001b[0m\u001b[0mwrite_jpg\u001b[0m\u001b[0;34m(\u001b[0m\u001b[0mspath\u001b[0m\u001b[0;34m+\u001b[0m\u001b[0;34m\"explanation_{}.jpg\"\u001b[0m\u001b[0;34m.\u001b[0m\u001b[0mformat\u001b[0m\u001b[0;34m(\u001b[0m\u001b[0mcidx\u001b[0m\u001b[0;34m)\u001b[0m\u001b[0;34m)\u001b[0m\u001b[0;34m\u001b[0m\u001b[0;34m\u001b[0m\u001b[0m\n\u001b[0m\u001b[1;32m    491\u001b[0m             \u001b[0mgraph\u001b[0m\u001b[0;34m.\u001b[0m\u001b[0mwrite_jpg\u001b[0m\u001b[0;34m(\u001b[0m\u001b[0mafpath\u001b[0m\u001b[0;34m+\u001b[0m\u001b[0;34m\"{}_{}.jpg\"\u001b[0m\u001b[0;34m.\u001b[0m\u001b[0mformat\u001b[0m\u001b[0;34m(\u001b[0m\u001b[0mname\u001b[0m\u001b[0;34m,\u001b[0m\u001b[0mcidx\u001b[0m\u001b[0;34m)\u001b[0m\u001b[0;34m)\u001b[0m\u001b[0;34m\u001b[0m\u001b[0;34m\u001b[0m\u001b[0m\n",
      "\u001b[0;32m~/.local/lib/python3.7/site-packages/pydotplus/graphviz.py\u001b[0m in \u001b[0;36m<lambda>\u001b[0;34m(path, f, prog)\u001b[0m\n\u001b[1;32m   1808\u001b[0m                 \u001b[0;32mlambda\u001b[0m \u001b[0mpath\u001b[0m\u001b[0;34m,\u001b[0m\u001b[0;34m\u001b[0m\u001b[0;34m\u001b[0m\u001b[0m\n\u001b[1;32m   1809\u001b[0m                 \u001b[0mf\u001b[0m\u001b[0;34m=\u001b[0m\u001b[0mfrmt\u001b[0m\u001b[0;34m,\u001b[0m\u001b[0;34m\u001b[0m\u001b[0;34m\u001b[0m\u001b[0m\n\u001b[0;32m-> 1810\u001b[0;31m                 \u001b[0mprog\u001b[0m\u001b[0;34m=\u001b[0m\u001b[0mself\u001b[0m\u001b[0;34m.\u001b[0m\u001b[0mprog\u001b[0m\u001b[0;34m:\u001b[0m \u001b[0mself\u001b[0m\u001b[0;34m.\u001b[0m\u001b[0mwrite\u001b[0m\u001b[0;34m(\u001b[0m\u001b[0mpath\u001b[0m\u001b[0;34m,\u001b[0m \u001b[0mformat\u001b[0m\u001b[0;34m=\u001b[0m\u001b[0mf\u001b[0m\u001b[0;34m,\u001b[0m \u001b[0mprog\u001b[0m\u001b[0;34m=\u001b[0m\u001b[0mprog\u001b[0m\u001b[0;34m)\u001b[0m\u001b[0;34m\u001b[0m\u001b[0;34m\u001b[0m\u001b[0m\n\u001b[0m\u001b[1;32m   1811\u001b[0m             )\n\u001b[1;32m   1812\u001b[0m \u001b[0;34m\u001b[0m\u001b[0m\n",
      "\u001b[0;32m~/.local/lib/python3.7/site-packages/pydotplus/graphviz.py\u001b[0m in \u001b[0;36mwrite\u001b[0;34m(self, path, prog, format)\u001b[0m\n\u001b[1;32m   1916\u001b[0m \u001b[0;34m\u001b[0m\u001b[0m\n\u001b[1;32m   1917\u001b[0m             \u001b[0;32melse\u001b[0m\u001b[0;34m:\u001b[0m\u001b[0;34m\u001b[0m\u001b[0;34m\u001b[0m\u001b[0m\n\u001b[0;32m-> 1918\u001b[0;31m                 \u001b[0mfobj\u001b[0m\u001b[0;34m.\u001b[0m\u001b[0mwrite\u001b[0m\u001b[0;34m(\u001b[0m\u001b[0mself\u001b[0m\u001b[0;34m.\u001b[0m\u001b[0mcreate\u001b[0m\u001b[0;34m(\u001b[0m\u001b[0mprog\u001b[0m\u001b[0;34m,\u001b[0m \u001b[0mformat\u001b[0m\u001b[0;34m)\u001b[0m\u001b[0;34m)\u001b[0m\u001b[0;34m\u001b[0m\u001b[0;34m\u001b[0m\u001b[0m\n\u001b[0m\u001b[1;32m   1919\u001b[0m         \u001b[0;32mfinally\u001b[0m\u001b[0;34m:\u001b[0m\u001b[0;34m\u001b[0m\u001b[0;34m\u001b[0m\u001b[0m\n\u001b[1;32m   1920\u001b[0m             \u001b[0;32mif\u001b[0m \u001b[0mclose\u001b[0m\u001b[0;34m:\u001b[0m\u001b[0;34m\u001b[0m\u001b[0;34m\u001b[0m\u001b[0m\n",
      "\u001b[0;32m~/.local/lib/python3.7/site-packages/pydotplus/graphviz.py\u001b[0m in \u001b[0;36mcreate\u001b[0;34m(self, prog, format)\u001b[0m\n\u001b[1;32m   2030\u001b[0m             raise InvocationException(\n\u001b[1;32m   2031\u001b[0m                 'Program terminated with status: %d. stderr follows: %s' % (\n\u001b[0;32m-> 2032\u001b[0;31m                     status, stderr_output))\n\u001b[0m\u001b[1;32m   2033\u001b[0m         \u001b[0;32melif\u001b[0m \u001b[0mstderr_output\u001b[0m\u001b[0;34m:\u001b[0m\u001b[0;34m\u001b[0m\u001b[0;34m\u001b[0m\u001b[0m\n\u001b[1;32m   2034\u001b[0m             \u001b[0mprint\u001b[0m\u001b[0;34m(\u001b[0m\u001b[0mstderr_output\u001b[0m\u001b[0;34m)\u001b[0m\u001b[0;34m\u001b[0m\u001b[0;34m\u001b[0m\u001b[0m\n",
      "\u001b[0;31mInvocationException\u001b[0m: Program terminated with status: 1. stderr follows: Warning: No such file or directory while opening /Users/xinyaoniu/Documents/InvertibleCE\\Explainers\\MNIST_layer3_15_[1, 2, 4, 8]\\explanations\\1\\feature_0.jpg\nError: No or improper image file=\"/Users/xinyaoniu/Documents/InvertibleCE\\Explainers\\MNIST_layer3_15_[1, 2, 4, 8]\\explanations\\1\\feature_0.jpg\"\nWarning: No such file or directory while opening /Users/xinyaoniu/Documents/InvertibleCE\\Explainers\\MNIST_layer3_15_[1, 2, 4, 8]\\feature_imgs\\0.jpg\nError: No or improper image file=\"/Users/xinyaoniu/Documents/InvertibleCE\\Explainers\\MNIST_layer3_15_[1, 2, 4, 8]\\feature_imgs\\0.jpg\"\nWarning: No such file or directory while opening /Users/xinyaoniu/Documents/InvertibleCE\\Explainers\\MNIST_layer3_15_[1, 2, 4, 8]\\explanations\\1\\feature_8.jpg\nError: No or improper image file=\"/Users/xinyaoniu/Documents/InvertibleCE\\Explainers\\MNIST_layer3_15_[1, 2, 4, 8]\\explanations\\1\\feature_8.jpg\"\nWarning: No such file or directory while opening /Users/xinyaoniu/Documents/InvertibleCE\\Explainers\\MNIST_layer3_15_[1, 2, 4, 8]\\feature_imgs\\8.jpg\nError: No or improper image file=\"/Users/xinyaoniu/Documents/InvertibleCE\\Explainers\\MNIST_layer3_15_[1, 2, 4, 8]\\feature_imgs\\8.jpg\"\nWarning: No such file or directory while opening /Users/xinyaoniu/Documents/InvertibleCE\\Explainers\\MNIST_layer3_15_[1, 2, 4, 8]\\explanations\\1\\feature_13.jpg\nError: No or improper image file=\"/Users/xinyaoniu/Documents/InvertibleCE\\Explainers\\MNIST_layer3_15_[1, 2, 4, 8]\\explanations\\1\\feature_13.jpg\"\nWarning: No such file or directory while opening /Users/xinyaoniu/Documents/InvertibleCE\\Explainers\\MNIST_layer3_15_[1, 2, 4, 8]\\feature_imgs\\13.jpg\nError: No or improper image file=\"/Users/xinyaoniu/Documents/InvertibleCE\\Explainers\\MNIST_layer3_15_[1, 2, 4, 8]\\feature_imgs\\13.jpg\"\nWarning: No such file or directory while opening /Users/xinyaoniu/Documents/InvertibleCE\\Explainers\\MNIST_layer3_15_[1, 2, 4, 8]\\explanations\\1\\feature_1.jpg\nError: No or improper image file=\"/Users/xinyaoniu/Documents/InvertibleCE\\Explainers\\MNIST_layer3_15_[1, 2, 4, 8]\\explanations\\1\\feature_1.jpg\"\nWarning: No such file or directory while opening /Users/xinyaoniu/Documents/InvertibleCE\\Explainers\\MNIST_layer3_15_[1, 2, 4, 8]\\feature_imgs\\1.jpg\nError: No or improper image file=\"/Users/xinyaoniu/Documents/InvertibleCE\\Explainers\\MNIST_layer3_15_[1, 2, 4, 8]\\feature_imgs\\1.jpg\"\nWarning: No such file or directory while opening /Users/xinyaoniu/Documents/InvertibleCE\\Explainers\\MNIST_layer3_15_[1, 2, 4, 8]\\explanations\\1\\feature_6.jpg\nError: No or improper image file=\"/Users/xinyaoniu/Documents/InvertibleCE\\Explainers\\MNIST_layer3_15_[1, 2, 4, 8]\\explanations\\1\\feature_6.jpg\"\nWarning: No such file or directory while opening /Users/xinyaoniu/Documents/InvertibleCE\\Explainers\\MNIST_layer3_15_[1, 2, 4, 8]\\feature_imgs\\6.jpg\nError: No or improper image file=\"/Users/xinyaoniu/Documents/InvertibleCE\\Explainers\\MNIST_layer3_15_[1, 2, 4, 8]\\feature_imgs\\6.jpg\"\nWarning: No such file or directory while opening /Users/xinyaoniu/Documents/InvertibleCE\\Explainers\\MNIST_layer3_15_[1, 2, 4, 8]\\explanations\\1\\feature_3.jpg\nError: No or improper image file=\"/Users/xinyaoniu/Documents/InvertibleCE\\Explainers\\MNIST_layer3_15_[1, 2, 4, 8]\\explanations\\1\\feature_3.jpg\"\nWarning: No such file or directory while opening /Users/xinyaoniu/Documents/InvertibleCE\\Explainers\\MNIST_layer3_15_[1, 2, 4, 8]\\feature_imgs\\3.jpg\nError: No or improper image file=\"/Users/xinyaoniu/Documents/InvertibleCE\\Explainers\\MNIST_layer3_15_[1, 2, 4, 8]\\feature_imgs\\3.jpg\"\nWarning: No such file or directory while opening /Users/xinyaoniu/Documents/InvertibleCE\\Explainers\\MNIST_layer3_15_[1, 2, 4, 8]\\explanations\\1\\feature_9.jpg\nError: No or improper image file=\"/Users/xinyaoniu/Documents/InvertibleCE\\Explainers\\MNIST_layer3_15_[1, 2, 4, 8]\\explanations\\1\\feature_9.jpg\"\nWarning: No such file or directory while opening /Users/xinyaoniu/Documents/InvertibleCE\\Explainers\\MNIST_layer3_15_[1, 2, 4, 8]\\feature_imgs\\9.jpg\nError: No or improper image file=\"/Users/xinyaoniu/Documents/InvertibleCE\\Explainers\\MNIST_layer3_15_[1, 2, 4, 8]\\feature_imgs\\9.jpg\"\nWarning: No such file or directory while opening /Users/xinyaoniu/Documents/InvertibleCE\\Explainers\\MNIST_layer3_15_[1, 2, 4, 8]\\explanations\\1\\feature_14.jpg\nError: No or improper image file=\"/Users/xinyaoniu/Documents/InvertibleCE\\Explainers\\MNIST_layer3_15_[1, 2, 4, 8]\\explanations\\1\\feature_14.jpg\"\nWarning: No such file or directory while opening /Users/xinyaoniu/Documents/InvertibleCE\\Explainers\\MNIST_layer3_15_[1, 2, 4, 8]\\feature_imgs\\14.jpg\nError: No or improper image file=\"/Users/xinyaoniu/Documents/InvertibleCE\\Explainers\\MNIST_layer3_15_[1, 2, 4, 8]\\feature_imgs\\14.jpg\"\nWarning: No such file or directory while opening /Users/xinyaoniu/Documents/InvertibleCE\\Explainers\\MNIST_layer3_15_[1, 2, 4, 8]\\explanations\\1\\feature_11.jpg\nError: No or improper image file=\"/Users/xinyaoniu/Documents/InvertibleCE\\Explainers\\MNIST_layer3_15_[1, 2, 4, 8]\\explanations\\1\\feature_11.jpg\"\nWarning: No such file or directory while opening /Users/xinyaoniu/Documents/InvertibleCE\\Explainers\\MNIST_layer3_15_[1, 2, 4, 8]\\feature_imgs\\11.jpg\nError: No or improper image file=\"/Users/xinyaoniu/Documents/InvertibleCE\\Explainers\\MNIST_layer3_15_[1, 2, 4, 8]\\feature_imgs\\11.jpg\"\nWarning: No such file or directory while opening /Users/xinyaoniu/Documents/InvertibleCE\\Explainers\\MNIST_layer3_15_[1, 2, 4, 8]\\explanations\\1\\feature_2.jpg\nError: No or improper image file=\"/Users/xinyaoniu/Documents/InvertibleCE\\Explainers\\MNIST_layer3_15_[1, 2, 4, 8]\\explanations\\1\\feature_2.jpg\"\nWarning: No such file or directory while opening /Users/xinyaoniu/Documents/InvertibleCE\\Explainers\\MNIST_layer3_15_[1, 2, 4, 8]\\feature_imgs\\2.jpg\nError: No or improper image file=\"/Users/xinyaoniu/Documents/InvertibleCE\\Explainers\\MNIST_layer3_15_[1, 2, 4, 8]\\feature_imgs\\2.jpg\"\nWarning: No such file or directory while opening /Users/xinyaoniu/Documents/InvertibleCE\\Explainers\\MNIST_layer3_15_[1, 2, 4, 8]\\explanations\\1\\feature_5.jpg\nError: No or improper image file=\"/Users/xinyaoniu/Documents/InvertibleCE\\Explainers\\MNIST_layer3_15_[1, 2, 4, 8]\\explanations\\1\\feature_5.jpg\"\nWarning: No such file or directory while opening /Users/xinyaoniu/Documents/InvertibleCE\\Explainers\\MNIST_layer3_15_[1, 2, 4, 8]\\feature_imgs\\5.jpg\nError: No or improper image file=\"/Users/xinyaoniu/Documents/InvertibleCE\\Explainers\\MNIST_layer3_15_[1, 2, 4, 8]\\feature_imgs\\5.jpg\"\nWarning: No such file or directory while opening /Users/xinyaoniu/Documents/InvertibleCE\\Explainers\\MNIST_layer3_15_[1, 2, 4, 8]\\explanations\\1\\feature_10.jpg\nError: No or improper image file=\"/Users/xinyaoniu/Documents/InvertibleCE\\Explainers\\MNIST_layer3_15_[1, 2, 4, 8]\\explanations\\1\\feature_10.jpg\"\nWarning: No such file or directory while opening /Users/xinyaoniu/Documents/InvertibleCE\\Explainers\\MNIST_layer3_15_[1, 2, 4, 8]\\feature_imgs\\10.jpg\nError: No or improper image file=\"/Users/xinyaoniu/Documents/InvertibleCE\\Explainers\\MNIST_layer3_15_[1, 2, 4, 8]\\feature_imgs\\10.jpg\"\nWarning: No such file or directory while opening /Users/xinyaoniu/Documents/InvertibleCE\\Explainers\\MNIST_layer3_15_[1, 2, 4, 8]\\explanations\\1\\feature_4.jpg\nError: No or improper image file=\"/Users/xinyaoniu/Documents/InvertibleCE\\Explainers\\MNIST_layer3_15_[1, 2, 4, 8]\\explanations\\1\\feature_4.jpg\"\nWarning: No such file or directory while opening /Users/xinyaoniu/Documents/InvertibleCE\\Explainers\\MNIST_layer3_15_[1, 2, 4, 8]\\feature_imgs\\4.jpg\nError: No or improper image file=\"/Users/xinyaoniu/Documents/InvertibleCE\\Explainers\\MNIST_layer3_15_[1, 2, 4, 8]\\feature_imgs\\4.jpg\"\nWarning: No such file or directory while opening /Users/xinyaoniu/Documents/InvertibleCE\\Explainers\\MNIST_layer3_15_[1, 2, 4, 8]\\explanations\\1\\feature_12.jpg\nError: No or improper image file=\"/Users/xinyaoniu/Documents/InvertibleCE\\Explainers\\MNIST_layer3_15_[1, 2, 4, 8]\\explanations\\1\\feature_12.jpg\"\nWarning: No such file or directory while opening /Users/xinyaoniu/Documents/InvertibleCE\\Explainers\\MNIST_layer3_15_[1, 2, 4, 8]\\feature_imgs\\12.jpg\nError: No or improper image file=\"/Users/xinyaoniu/Documents/InvertibleCE\\Explainers\\MNIST_layer3_15_[1, 2, 4, 8]\\feature_imgs\\12.jpg\"\nWarning: No such file or directory while opening /Users/xinyaoniu/Documents/InvertibleCE\\Explainers\\MNIST_layer3_15_[1, 2, 4, 8]\\explanations\\1\\feature_7.jpg\nError: No or improper image file=\"/Users/xinyaoniu/Documents/InvertibleCE\\Explainers\\MNIST_layer3_15_[1, 2, 4, 8]\\explanations\\1\\feature_7.jpg\"\nWarning: No such file or directory while opening /Users/xinyaoniu/Documents/InvertibleCE\\Explainers\\MNIST_layer3_15_[1, 2, 4, 8]\\feature_imgs\\7.jpg\nError: No or improper image file=\"/Users/xinyaoniu/Documents/InvertibleCE\\Explainers\\MNIST_layer3_15_[1, 2, 4, 8]\\feature_imgs\\7.jpg\"\nin label of node 1\n"
     ]
    }
   ],
   "source": [
    "(X,y),(tX,ty) = classes.load_all()\n",
    "x = tX[np.where(ty[:,1] == 1)][274]\n",
    "utils.utils(img_size = (28,28,1)).show_img([x])\n",
    "\n",
    "Exp.local_explanations(x,m1,classes)"
   ]
  },
  {
   "cell_type": "code",
   "execution_count": 11,
   "metadata": {},
   "outputs": [
    {
     "data": {
      "text/html": [
       "<table><tr><td><img src='Explainers/MNIST_layer3_15_[1, 2, 4, 8]/explanations/all/0_1.jpg'></td><td><img src='Explainers/MNIST_layer3_15_[1, 2, 4, 8]/explanations/all/0_2.jpg'></td><td><img src='Explainers/MNIST_layer3_15_[1, 2, 4, 8]/explanations/all/0_4.jpg'></td><td><img src='Explainers/MNIST_layer3_15_[1, 2, 4, 8]/explanations/all/0_8.jpg'></td></tr></table>"
      ],
      "text/plain": [
       "<IPython.core.display.HTML object>"
      ]
     },
     "metadata": {},
     "output_type": "display_data"
    }
   ],
   "source": [
    "from IPython.display import HTML, display\n",
    "display(HTML(\"\".join([\"<table><tr>\",\n",
    "                      \"<td><img src='Explainers/MNIST_layer3_15_[1, 2, 4, 8]/explanations/all/0_1.jpg'></td>\",\n",
    "                      \"<td><img src='Explainers/MNIST_layer3_15_[1, 2, 4, 8]/explanations/all/0_2.jpg'></td>\",\n",
    "                      \"<td><img src='Explainers/MNIST_layer3_15_[1, 2, 4, 8]/explanations/all/0_4.jpg'></td>\",\n",
    "                      \"<td><img src='Explainers/MNIST_layer3_15_[1, 2, 4, 8]/explanations/all/0_8.jpg'></td>\",\n",
    "                      \"</tr></table>\"])))"
   ]
  },
  {
   "cell_type": "markdown",
   "metadata": {},
   "source": [
    "Local explanation for a '2'"
   ]
  },
  {
   "cell_type": "code",
   "execution_count": 15,
   "metadata": {},
   "outputs": [
    {
     "data": {
      "image/png": "[encoded data removed]",
      "text/plain": [
       "<Figure size 360x360 with 1 Axes>"
      ]
     },
     "metadata": {
      "needs_background": "light"
     },
     "output_type": "display_data"
    }
   ],
   "source": [
    "(X,y),(tX,ty) = classes.load_all()\n",
    "x = tX[np.where(ty[:,2] == 1)][10]\n",
    "utils.utils(img_size = (28,28,1)).show_img([x])\n",
    "\n",
    "Exp.local_explanations(x,m1,classes)"
   ]
  },
  {
   "cell_type": "code",
   "execution_count": 16,
   "metadata": {},
   "outputs": [
    {
     "data": {
      "text/html": [
       "<table><tr><td><img src='Explainers/MNIST_layer3_15_[1, 2, 4, 8]/explanations/all/1_1.jpg'></td><td><img src='Explainers/MNIST_layer3_15_[1, 2, 4, 8]/explanations/all/1_2.jpg'></td><td><img src='Explainers/MNIST_layer3_15_[1, 2, 4, 8]/explanations/all/1_4.jpg'></td><td><img src='Explainers/MNIST_layer3_15_[1, 2, 4, 8]/explanations/all/1_8.jpg'></td></tr></table>"
      ],
      "text/plain": [
       "<IPython.core.display.HTML object>"
      ]
     },
     "metadata": {},
     "output_type": "display_data"
    }
   ],
   "source": [
    "from IPython.display import HTML, display\n",
    "display(HTML(\"\".join([\"<table><tr>\",\n",
    "                      \"<td><img src='Explainers/MNIST_layer3_15_[1, 2, 4, 8]/explanations/all/1_1.jpg'></td>\",\n",
    "                      \"<td><img src='Explainers/MNIST_layer3_15_[1, 2, 4, 8]/explanations/all/1_2.jpg'></td>\",\n",
    "                      \"<td><img src='Explainers/MNIST_layer3_15_[1, 2, 4, 8]/explanations/all/1_4.jpg'></td>\",\n",
    "                      \"<td><img src='Explainers/MNIST_layer3_15_[1, 2, 4, 8]/explanations/all/1_8.jpg'></td>\",\n",
    "                      \"</tr></table>\"])))"
   ]
  },
  {
   "cell_type": "code",
   "execution_count": null,
   "metadata": {},
   "outputs": [],
   "source": []
  },
  {
   "cell_type": "code",
   "execution_count": null,
   "metadata": {},
   "outputs": [],
   "source": []
  },
  {
   "cell_type": "code",
   "execution_count": null,
   "metadata": {},
   "outputs": [],
   "source": []
  }
 ],
 "metadata": {
  "kernelspec": {
   "display_name": "Python 3",
   "language": "python",
   "name": "python3"
  },
  "language_info": {
   "codemirror_mode": {
    "name": "ipython",
    "version": 3
   },
   "file_extension": ".py",
   "mimetype": "text/x-python",
   "name": "python",
   "nbconvert_exporter": "python",
   "pygments_lexer": "ipython3",
   "version": "3.7.3"
  }
 },
 "nbformat": 4,
 "nbformat_minor": 4
}
