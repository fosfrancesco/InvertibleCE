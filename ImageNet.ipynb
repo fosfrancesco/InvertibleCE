{
 "cells": [
  {
   "cell_type": "code",
   "execution_count": 1,
   "metadata": {},
   "outputs": [
    {
     "name": "stderr",
     "output_type": "stream",
     "text": [
      "C:\\Users\\home\\Anaconda3\\envs\\DL2\\lib\\site-packages\\sklearn\\utils\\deprecation.py:144: FutureWarning: The sklearn.decomposition.base module is  deprecated in version 0.22 and will be removed in version 0.24. The corresponding classes / functions should instead be imported from sklearn.decomposition. Anything that cannot be imported from sklearn.decomposition is now part of the private API.\n",
      "  warnings.warn(message, FutureWarning)\n"
     ]
    }
   ],
   "source": [
    "from Explainer import *\n",
    "import utils\n",
    "import shutil"
   ]
  },
  {
   "cell_type": "markdown",
   "metadata": {},
   "source": [
    "Explainer for torchvision pretrained modesl. ResNet50 is used here."
   ]
  },
  {
   "cell_type": "code",
   "execution_count": 2,
   "metadata": {},
   "outputs": [],
   "source": [
    "\n",
    "import torchvision.models as models\n",
    "import random\n",
    "\n",
    "m = models.resnet50(pretrained=True)\n",
    "m = m.cuda()\n",
    "m.eval()\n",
    "model = PytorchModelWrapper(m,batch_size=16)\n"
   ]
  },
  {
   "cell_type": "markdown",
   "metadata": {},
   "source": [
    "load classes, use path to define dataset, label_path for class name file"
   ]
  },
  {
   "cell_type": "code",
   "execution_count": 3,
   "metadata": {},
   "outputs": [],
   "source": [
    "\n",
    "from torchvision import transforms\n",
    "transform = transforms.Normalize([0.485, 0.456, 0.406], [0.229, 0.224, 0.225])\n",
    "classes = ImageNetClassesLoader(path = '/dataset/ILSVRC2012',label_path = \"synset_words.txt\",preprocess_input=transform)\n"
   ]
  },
  {
   "cell_type": "markdown",
   "metadata": {},
   "source": [
    "Target classes are No243 Bull mastiff and No282Tiger cat .\n",
    "\n",
    "Target layer is the last layer of \"layer4\" in ResNet50. This is the last layer before GolbalAveragePooling"
   ]
  },
  {
   "cell_type": "code",
   "execution_count": 4,
   "metadata": {},
   "outputs": [],
   "source": [
    "\n",
    "# set target classes\n",
    "target_class = [243,282]\n",
    "\n",
    "title = \"dogcat\"\n",
    "try:\n",
    "    shutil.rmtree('Explainers/'+title)\n",
    "except:\n",
    "    pass\n",
    "\n",
    "# target layer name\n",
    "layer_name = \"layer4\"\n",
    "# set predict layer and target classes\n",
    "model.target = (\"fc\",np.array(target_class))\n",
    "classes.set_target(target_class)\n"
   ]
  },
  {
   "cell_type": "code",
   "execution_count": 5,
   "metadata": {},
   "outputs": [
    {
     "name": "stderr",
     "output_type": "stream",
     "text": [
      "0it [00:00, ?it/s]"
     ]
    },
    {
     "name": "stdout",
     "output_type": "stream",
     "text": [
      "-------------------------------------------------------------------------------------------\n",
      "Training reducer:\n",
      "Loading data\n",
      "totally 2 classes\n"
     ]
    },
    {
     "name": "stderr",
     "output_type": "stream",
     "text": [
      "2it [00:27, 13.83s/it]\n"
     ]
    },
    {
     "name": "stdout",
     "output_type": "stream",
     "text": [
      "Dataset too big, train with 0.38 instances\n",
      "Loading complete, with size of (996, 7, 7, 2048)\n",
      "Training will take around a minute, please wait for a while...\n",
      "reducer trained, spent 29.25205135345459 s\n",
      "fidelity: [0.04590085 0.05337164]\n"
     ]
    },
    {
     "name": "stderr",
     "output_type": "stream",
     "text": [
      "0it [00:00, ?it/s]"
     ]
    },
    {
     "name": "stdout",
     "output_type": "stream",
     "text": [
      "loading data\n",
      "totally 2 classes\n"
     ]
    },
    {
     "name": "stderr",
     "output_type": "stream",
     "text": [
      "2it [00:26, 13.23s/it]\n",
      "  0%|                                                                                           | 0/15 [00:00<?, ?it/s]"
     ]
    },
    {
     "name": "stdout",
     "output_type": "stream",
     "text": [
      "estimating weight:\n"
     ]
    },
    {
     "name": "stderr",
     "output_type": "stream",
     "text": [
      "100%|██████████████████████████████████████████████████████████████████████████████████| 15/15 [04:03<00:00, 16.23s/it]\n",
      "0it [00:00, ?it/s]"
     ]
    },
    {
     "name": "stdout",
     "output_type": "stream",
     "text": [
      "generating features:\n",
      "[0, 1, 2, 3, 4, 5, 6, 7, 8, 9, 10, 11, 12, 13, 14]\n",
      "loading training data\n",
      "totally 2 classes\n"
     ]
    },
    {
     "name": "stderr",
     "output_type": "stream",
     "text": [
      "2it [00:32, 16.36s/it]\n",
      "100%|██████████████████████████████████████████████████████████████████████████████████| 15/15 [00:02<00:00,  5.05it/s]\n",
      "0it [00:00, ?it/s]"
     ]
    },
    {
     "name": "stdout",
     "output_type": "stream",
     "text": [
      "Generate explanations with fullset condition\n"
     ]
    },
    {
     "name": "stderr",
     "output_type": "stream",
     "text": [
      "2it [00:01,  1.66it/s]\n"
     ]
    }
   ],
   "source": [
    "\n",
    "print (\"-------------------------------------------------------------------------------------------\")\n",
    "\n",
    "# create an Explainer\n",
    "Exp = Explainer(title = title,\n",
    "                layer_name = layer_name,\n",
    "                classesNos = target_class,\n",
    "                utils = utils.utils(mode = \"torch\"),\n",
    "                n_components = 15,\n",
    "                reducer_type = \"NMF\"\n",
    "               )\n",
    "\n",
    "# train reducer based on target classes\n",
    "try:\n",
    "    Exp.train_model(model,classes)\n",
    "except:\n",
    "    Exp.reducer = None\n",
    "    Exp.train_model(model,classes) \n",
    "# generate features \n",
    "Exp.generate_features(model,classes)\n",
    "# save features with visualizations\n",
    "Exp.save_features()\n",
    "# generate global explanations\n",
    "Exp.generate_image_LR_file(classes)\n",
    "# save the explainer, use load to load it with the same title\n",
    "Exp.save()\n",
    "\n",
    "# generate local explanation for catdog.png\n",
    "from PIL import Image\n",
    "img_path = \"catdog.png\"\n",
    "img = Image.open(img_path).convert(\"RGB\")\n",
    "x = transforms.ToTensor()(transforms.Resize(classes.target_size)(img))\n",
    "x = classes.preprocess_input(x).numpy()\n",
    "x = np.transpose(x,(1,2,0)) #to channel_last\n",
    "Exp.local_explanations(x,model,classes)"
   ]
  },
  {
   "cell_type": "code",
   "execution_count": 6,
   "metadata": {},
   "outputs": [
    {
     "data": {
      "text/html": [
       "<table><tr><td><img src='Explainers/dogcat/GE/243.jpg'></td><td><img src='Explainers/dogcat/GE/282.jpg'></td></tr></table>"
      ],
      "text/plain": [
       "<IPython.core.display.HTML object>"
      ]
     },
     "metadata": {},
     "output_type": "display_data"
    }
   ],
   "source": [
    "from IPython.display import HTML, display\n",
    "display(HTML(\"\".join([\"<table><tr>\",\n",
    "                      \"<td><img src='Explainers/dogcat/GE/243.jpg'></td>\",\n",
    "                      \"<td><img src='Explainers/dogcat/GE/282.jpg'></td>\",\n",
    "                      \"</tr></table>\"])))"
   ]
  },
  {
   "cell_type": "code",
   "execution_count": 8,
   "metadata": {},
   "outputs": [
    {
     "data": {
      "text/html": [
       "<table><tr><td><img src='Explainers/dogcat/explanations/all/0_243.jpg'></td><td><img src='Explainers/dogcat/explanations/all/0_282.jpg'></td></tr></table>"
      ],
      "text/plain": [
       "<IPython.core.display.HTML object>"
      ]
     },
     "metadata": {},
     "output_type": "display_data"
    }
   ],
   "source": [
    "from IPython.display import HTML, display\n",
    "display(HTML(\"\".join([\"<table><tr>\",\n",
    "                      \"<td><img src='Explainers/dogcat/explanations/all/0_243.jpg'></td>\",\n",
    "                      \"<td><img src='Explainers/dogcat/explanations/all/0_282.jpg'></td>\",\n",
    "                      \"</tr></table>\"])))"
   ]
  },
  {
   "cell_type": "code",
   "execution_count": null,
   "metadata": {},
   "outputs": [],
   "source": []
  }
 ],
 "metadata": {
  "kernelspec": {
   "display_name": "Python 3",
   "language": "python",
   "name": "python3"
  },
  "language_info": {
   "codemirror_mode": {
    "name": "ipython",
    "version": 3
   },
   "file_extension": ".py",
   "mimetype": "text/x-python",
   "name": "python",
   "nbconvert_exporter": "python",
   "pygments_lexer": "ipython3",
   "version": "3.7.3"
  }
 },
 "nbformat": 4,
 "nbformat_minor": 4
}
